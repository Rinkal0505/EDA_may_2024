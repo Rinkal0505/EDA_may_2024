{
 "cells": [
  {
   "cell_type": "markdown",
   "id": "93e78bd6-b35f-4f4b-b5a6-b2f06485fd06",
   "metadata": {},
   "source": [
    "**Lambda Function**"
   ]
  },
  {
   "cell_type": "markdown",
   "id": "d4bda4b5-0f55-4898-bf74-9ce9cb3c1460",
   "metadata": {},
   "source": [
    "- Lambda functions represnts function concept\n",
    "- But we can write in a single line\n",
    "- Like list comprehension, lambda functions similar only\n",
    "- It will decrease the time complexity\n",
    "- always remember if we use many for loops or many conditions using multiple line ,\n",
    "- the time complexity will increase"
   ]
  },
  {
   "cell_type": "code",
   "execution_count": null,
   "id": "39f2d964-26b7-432b-bf87-4d66a09ccf3e",
   "metadata": {},
   "outputs": [],
   "source": [
    "**It will use a keyword lambda**\n",
    "# lambda <arguments>: <expression>"
   ]
  },
  {
   "cell_type": "code",
   "execution_count": null,
   "id": "d855ba74-ea5c-4ac8-8646-47dc012f5b72",
   "metadata": {},
   "outputs": [],
   "source": [
    "What is the interview process for a data science position with 3 years of experi\n",
    "1) coding+sql\n",
    "2) based on ML DL\n",
    "3) Techn: 2,3\n",
    "bond : 1.5 bonus\n",
    "ds2 === 2 2ppl\n",
    "ds3 ====\n",
    "do you know"
   ]
  },
  {
   "cell_type": "code",
   "execution_count": null,
   "id": "f4fac7ac-6bc6-4066-ac51-c2bd910c3ee7",
   "metadata": {},
   "outputs": [],
   "source": [
    "strings\n",
    "list\n",
    "tuple set\n",
    "dictionary\n",
    "landad\n",
    "file handling\n",
    "oops : kwargs\n",
    "Sir do we have right to break bond with company"
   ]
  },
  {
   "cell_type": "code",
   "execution_count": 1,
   "id": "7dcdc8b5-920a-4b2c-b21c-0644ce96b960",
   "metadata": {},
   "outputs": [
    {
     "data": {
      "text/plain": [
       "20"
      ]
     },
     "execution_count": 1,
     "metadata": {},
     "output_type": "execute_result"
    }
   ],
   "source": [
    "def summ(n):\n",
    " return(n+10)\n",
    "summ(10)"
   ]
  },
  {
   "cell_type": "markdown",
   "id": "dd836281-f2b4-4130-871e-578e0e70115b",
   "metadata": {},
   "source": [
    "$Pattern − 1$"
   ]
  },
  {
   "cell_type": "markdown",
   "id": "7c2bcea1-c31d-4366-891f-aaadda2d232f",
   "metadata": {},
   "source": [
    "**Function with only one argument**"
   ]
  },
  {
   "cell_type": "markdown",
   "id": "87273637-0567-4d3f-bffa-c7983b378539",
   "metadata": {},
   "source": [
    "- function name\n",
    "- argument name\n",
    "- return output"
   ]
  },
  {
   "cell_type": "code",
   "execution_count": null,
   "id": "dd6f2cfd-a7fa-4b0f-8d25-ec272e0bee7a",
   "metadata": {},
   "outputs": [],
   "source": [
    "# syntax: <function name>= lambda <argument name>: <return output>\n",
    "def summ(n):\n",
    " return(n+10)\n",
    "summ(10)\n",
    "# function name= summ\n",
    "# argument name = n\n",
    "# return output= n+10"
   ]
  },
  {
   "cell_type": "code",
   "execution_count": 2,
   "id": "d6b19404-7f45-4a8f-9470-fb8ab9f9af6f",
   "metadata": {},
   "outputs": [
    {
     "data": {
      "text/plain": [
       "110"
      ]
     },
     "execution_count": 2,
     "metadata": {},
     "output_type": "execute_result"
    }
   ],
   "source": [
    "summ= lambda n:n+10\n",
    "summ(100)"
   ]
  },
  {
   "cell_type": "code",
   "execution_count": 3,
   "id": "5982ebb2-44be-4385-8644-68a492db57b7",
   "metadata": {},
   "outputs": [
    {
     "data": {
      "text/plain": [
       "1000"
      ]
     },
     "execution_count": 3,
     "metadata": {},
     "output_type": "execute_result"
    }
   ],
   "source": [
    "def cube(n):\n",
    " return(n**3)\n",
    "cube(10)"
   ]
  },
  {
   "cell_type": "code",
   "execution_count": 4,
   "id": "4c7954e4-9d30-4502-b8b4-944280b09c74",
   "metadata": {},
   "outputs": [
    {
     "data": {
      "text/plain": [
       "1000"
      ]
     },
     "execution_count": 4,
     "metadata": {},
     "output_type": "execute_result"
    }
   ],
   "source": [
    "cube= lambda n:n**3\n",
    "cube(10)"
   ]
  },
  {
   "cell_type": "markdown",
   "id": "d904efa4-c0b2-48d7-9b73-2b81b63c2b7e",
   "metadata": {},
   "source": [
    "$Pattern-2$"
   ]
  },
  {
   "cell_type": "markdown",
   "id": "b2a56d6f-5ba1-45e3-b94a-267f8fd64ba6",
   "metadata": {},
   "source": [
    "**Two arguments**"
   ]
  },
  {
   "cell_type": "code",
   "execution_count": 5,
   "id": "e219ede0-d6ab-4419-a1f4-0d2cbda3b924",
   "metadata": {},
   "outputs": [
    {
     "data": {
      "text/plain": [
       "100"
      ]
     },
     "execution_count": 5,
     "metadata": {},
     "output_type": "execute_result"
    }
   ],
   "source": [
    "# syntax : <function name>= lambda <arg1>,<arg2>: <return output>\n",
    "def add(a,b):\n",
    " return(a+b)\n",
    "add(50,50)\n",
    "# Function name: add\n",
    "# arg1=a\n",
    "# arg2=b\n",
    "# return= a+b"
   ]
  },
  {
   "cell_type": "code",
   "execution_count": 6,
   "id": "fe52b212-73b9-494f-9973-66ce2b41b84e",
   "metadata": {},
   "outputs": [
    {
     "data": {
      "text/plain": [
       "110"
      ]
     },
     "execution_count": 6,
     "metadata": {},
     "output_type": "execute_result"
    }
   ],
   "source": [
    "add=lambda n1,n2: n1+n2\n",
    "add(60,50)"
   ]
  },
  {
   "cell_type": "code",
   "execution_count": 7,
   "id": "540a128c-34eb-45c6-a6ae-b14fe9d83e31",
   "metadata": {},
   "outputs": [
    {
     "data": {
      "text/plain": [
       "80.67"
      ]
     },
     "execution_count": 7,
     "metadata": {},
     "output_type": "execute_result"
    }
   ],
   "source": [
    "average=lambda a,b,c:round((a+b+c)/3,2)\n",
    "average(10,202,30)"
   ]
  },
  {
   "cell_type": "markdown",
   "id": "d718bab1-deb3-44bc-8a15-4aa5adf4dcf5",
   "metadata": {},
   "source": [
    "$Pattern-3$"
   ]
  },
  {
   "cell_type": "markdown",
   "id": "aac86132-c077-4b99-a538-f6e130aed787",
   "metadata": {},
   "source": [
    "**Default arguments**"
   ]
  },
  {
   "cell_type": "code",
   "execution_count": 8,
   "id": "248fd2c2-5941-42f3-8219-f5e66f2cd953",
   "metadata": {},
   "outputs": [
    {
     "data": {
      "text/plain": [
       "237.33"
      ]
     },
     "execution_count": 8,
     "metadata": {},
     "output_type": "execute_result"
    }
   ],
   "source": [
    "average=lambda a,b,c=500:round((a+b+c)/3,2)\n",
    "average(10,202)"
   ]
  },
  {
   "cell_type": "markdown",
   "id": "5d787ebc-05f7-4d26-93b3-77e36df24cae",
   "metadata": {},
   "source": [
    "$Pattern-4$"
   ]
  },
  {
   "cell_type": "markdown",
   "id": "235421e8-96dd-4f68-bc6e-323dc30aa43e",
   "metadata": {},
   "source": [
    "**if-else**"
   ]
  },
  {
   "cell_type": "code",
   "execution_count": 10,
   "id": "f1b97bd5-63c7-4934-b7fd-7b0f974196e6",
   "metadata": {},
   "outputs": [
    {
     "data": {
      "text/plain": [
       "20"
      ]
     },
     "execution_count": 10,
     "metadata": {},
     "output_type": "execute_result"
    }
   ],
   "source": [
    "def max(a,b):\n",
    "     if a>b:\n",
    "         return(a)\n",
    "     else:\n",
    "         return(b)\n",
    "max(10,20)"
   ]
  },
  {
   "cell_type": "code",
   "execution_count": 11,
   "id": "524c78c2-4765-4883-95bc-bd3102e92289",
   "metadata": {},
   "outputs": [
    {
     "data": {
      "text/plain": [
       "30"
      ]
     },
     "execution_count": 11,
     "metadata": {},
     "output_type": "execute_result"
    }
   ],
   "source": [
    "# syntax : function name = lambda <arg1>,<arg2>: <list comprehension>\n",
    "# syntax : function name = lambda <arg1>,<arg2>: <if_out><if_con><else><else_out\n",
    "maxx=lambda a,b: a if a>b else b\n",
    "maxx(30,20)\n"
   ]
  },
  {
   "cell_type": "markdown",
   "id": "1f84193c-83f6-4d68-bdf6-048a4a73a5ab",
   "metadata": {},
   "source": [
    "$Pattern-5$"
   ]
  },
  {
   "cell_type": "markdown",
   "id": "01b01875-7cee-45a6-aa82-655f283c6eb9",
   "metadata": {},
   "source": [
    "**using List**\n"
   ]
  },
  {
   "cell_type": "code",
   "execution_count": 12,
   "id": "a9d6eb7f-7ad0-4fe2-951b-8978fc008f93",
   "metadata": {},
   "outputs": [
    {
     "data": {
      "text/plain": [
       "['Hyd', 'Chennai', 'Mumbai']"
      ]
     },
     "execution_count": 12,
     "metadata": {},
     "output_type": "execute_result"
    }
   ],
   "source": [
    "l=['hyd','chennai','mumbai']\n",
    "# op=['Hyd','Chennai','Mumbai']\n",
    "op=[]\n",
    "for i in l:\n",
    " op.append(i.capitalize())\n",
    "op"
   ]
  },
  {
   "cell_type": "code",
   "execution_count": null,
   "id": "d69004a8-5781-46a7-a718-eafdac8000e7",
   "metadata": {},
   "outputs": [],
   "source": [
    "lambda <variable>:<op>\n",
    "# variable:i\n",
    "# op: i.capitalize()\n",
    "lambda <variable>:<op>,<iterator>\n",
    "# Qn: from where you are getting 'i'\n",
    "# <iterator>: list"
   ]
  },
  {
   "cell_type": "markdown",
   "id": "5d34d8fc-f2cf-46c2-a057-35ade9beabf7",
   "metadata": {},
   "source": [
    "**map**"
   ]
  },
  {
   "cell_type": "markdown",
   "id": "4c312d69-2745-4edd-b289-4c80cbfadcfc",
   "metadata": {},
   "source": [
    "- the function and iterator are available now\n",
    "- we need to map both"
   ]
  },
  {
   "cell_type": "code",
   "execution_count": 13,
   "id": "3d888b89-7c80-46f2-923c-a541113e4383",
   "metadata": {},
   "outputs": [
    {
     "data": {
      "text/plain": [
       "(<function __main__.<lambda>(i)>, ['hyd', 'chennai', 'mumbai'])"
      ]
     },
     "execution_count": 13,
     "metadata": {},
     "output_type": "execute_result"
    }
   ],
   "source": [
    "l=['hyd','chennai','mumbai']\n",
    "lambda i: i.capitalize(),l"
   ]
  },
  {
   "cell_type": "code",
   "execution_count": 14,
   "id": "aff0d178-2276-4593-b85e-dff07ced453a",
   "metadata": {},
   "outputs": [
    {
     "data": {
      "text/plain": [
       "<map at 0x2c521d37be0>"
      ]
     },
     "execution_count": 14,
     "metadata": {},
     "output_type": "execute_result"
    }
   ],
   "source": [
    "l=['hyd','chennai','mumbai']\n",
    "map(lambda i: i.capitalize(),l)"
   ]
  },
  {
   "cell_type": "code",
   "execution_count": 16,
   "id": "71556484-9d47-462f-a9b9-e2c1933c19fe",
   "metadata": {},
   "outputs": [
    {
     "data": {
      "text/plain": [
       "['Hyd', 'Chennai', 'Mumbai']"
      ]
     },
     "execution_count": 16,
     "metadata": {},
     "output_type": "execute_result"
    }
   ],
   "source": [
    "# apply the list to see the values\n",
    "l=['hyd','chennai','mumbai']\n",
    "list(map(lambda i: i.capitalize(),l))"
   ]
  },
  {
   "cell_type": "code",
   "execution_count": 17,
   "id": "1f18f263-4515-47f2-ad70-d86273cd14cb",
   "metadata": {},
   "outputs": [
    {
     "data": {
      "text/plain": [
       "('Hyd', 'Chennai', 'Mumbai')"
      ]
     },
     "execution_count": 17,
     "metadata": {},
     "output_type": "execute_result"
    }
   ],
   "source": [
    "l=['hyd','chennai','mumbai']\n",
    "tuple(map(lambda i: i.capitalize(),l))"
   ]
  },
  {
   "cell_type": "code",
   "execution_count": null,
   "id": "c77018e5-c468-4fd6-b1ad-5b3934de6f19",
   "metadata": {},
   "outputs": [],
   "source": [
    "# step1: Write your normal expression\n",
    "# ex: lambda <var>: <op>===>lambda i: i.capitalize()\n",
    "# step2: add the iterator\n",
    "# ex: lambda <var>: <op>,<list>===>lambda i: i.capitalize(),list1\n",
    "# Step-3: Map the both\n",
    "# ex: map(lambda <var>: <op>,<list>)===>map(lambda i: i.capitalize(),list\n",
    "# Step-4: save the values in a list,\n",
    "# ex: list(map(lambda <var>: <op>,<list>))===>list(map(lambda i: i.capital\n",
    "#Note: Those who are getting list object not callable use tuple"
   ]
  },
  {
   "cell_type": "code",
   "execution_count": null,
   "id": "c5851e8a-84e3-4001-a887-924c7b154022",
   "metadata": {},
   "outputs": [],
   "source": [
    "- Case 1 : function call with 1 argument\n",
    "      - lambda arguments : Expression\n",
    "      - lambda variables : return output  \n",
    "- Case 2 : function call with 2 argument\n",
    "      - lambda arg1,arg2 : Expression\n",
    "      - lambda var1,var2 : return output  \n",
    "- Case 3 : function call with default argument\n",
    "      - lambda arg1,arg2=500 : Expression\n",
    "      - lambda var1,var2=500 : return output  \n",
    "- Case 4 : function call with 2 argument and if else statement\n",
    "      - lambda arg1,arg2 : Expression\n",
    "      - lambda var1,var2 : if _output if _con else _output for loop\n",
    "- Case 5 : lambda operation with using list\n",
    "      - lambda arg : Expression,iterator\n",
    "      - map(lambda var : operation,list)\n",
    "      - list(map(lambda var : operation,list))"
   ]
  },
  {
   "cell_type": "code",
   "execution_count": 2,
   "id": "45245fdd-6336-484b-b752-1b0c530671d8",
   "metadata": {},
   "outputs": [
    {
     "data": {
      "text/plain": [
       "('HYD', 'CHENNAI', 'MUMBAI')"
      ]
     },
     "execution_count": 2,
     "metadata": {},
     "output_type": "execute_result"
    }
   ],
   "source": [
    "#l=['hyd','chennai','mumbai']\n",
    "# op=['HYD', 'CHENNAI', 'MUMBAI']\n",
    "l=['hyd','chennai','mumbai']\n",
    "tuple(map(lambda i: i.upper(),l))"
   ]
  },
  {
   "cell_type": "code",
   "execution_count": 3,
   "id": "103893b5-5e75-49f4-b1a7-93e499c821cf",
   "metadata": {},
   "outputs": [
    {
     "data": {
      "text/plain": [
       "(False, True, True, False)"
      ]
     },
     "execution_count": 3,
     "metadata": {},
     "output_type": "execute_result"
    }
   ],
   "source": [
    "#l=['hyd','che#nnai','mum#bai','blr']\n",
    "#op=['che#nnai','mum#bai']\n",
    "# mistake no 1 :tuple(map(lambda i:if '#' in i,l))- do not write if \n",
    "\n",
    "l=['hyd','che#nnai','mum#bai','blr']\n",
    "tuple(map(lambda i:'#' in i,l))"
   ]
  },
  {
   "cell_type": "markdown",
   "id": "fb46513b-e570-4b6b-bf74-76c392385c0b",
   "metadata": {},
   "source": [
    "**filter**\n",
    "\n",
    "- whenever if condition is there use the filter"
   ]
  },
  {
   "cell_type": "code",
   "execution_count": 4,
   "id": "4e0e78ba-c819-4741-ad07-4fabb5a3bafd",
   "metadata": {},
   "outputs": [
    {
     "data": {
      "text/plain": [
       "('che#nnai', 'mum#bai')"
      ]
     },
     "execution_count": 4,
     "metadata": {},
     "output_type": "execute_result"
    }
   ],
   "source": [
    "l=['hyd','che#nnai','mum#bai','blr']\n",
    "tuple(filter(lambda i:'#' in i,l))"
   ]
  },
  {
   "cell_type": "code",
   "execution_count": 8,
   "id": "bcdaf689-1bcc-441a-b95e-7454f4cdf90b",
   "metadata": {},
   "outputs": [
    {
     "data": {
      "text/plain": [
       "(2, 6)"
      ]
     },
     "execution_count": 8,
     "metadata": {},
     "output_type": "execute_result"
    }
   ],
   "source": [
    "# numbers = [1,3,2,7,6]\n",
    "# op=[2,6]\n",
    "\n",
    "l=[1,3,2,7,6]\n",
    "tuple(filter(lambda i:i%2==0,l))"
   ]
  },
  {
   "cell_type": "code",
   "execution_count": 10,
   "id": "00edd8d3-3a7a-4f75-8c95-954fb17622a8",
   "metadata": {},
   "outputs": [
    {
     "name": "stdout",
     "output_type": "stream",
     "text": [
      "15\n"
     ]
    }
   ],
   "source": [
    "l1=[1,2,3,4,5]\n",
    "# i want sum of the elements in the list\n",
    "# method 1 : sum\n",
    "sum(l1)\n",
    "# method 2 : with out sum\n",
    "summ=0\n",
    "for i in l1:\n",
    "    summ=summ+i\n",
    "print(summ)"
   ]
  },
  {
   "cell_type": "markdown",
   "id": "4c471e1b-cd5a-4579-a805-71c6c7418635",
   "metadata": {},
   "source": [
    "**Reduce**"
   ]
  },
  {
   "cell_type": "code",
   "execution_count": null,
   "id": "6558c4be-93b0-4cea-b24b-24277aae4667",
   "metadata": {},
   "outputs": [],
   "source": [
    "- All inbuilt fns can achieve by reduce \n",
    "- reduce is available from functools package\n",
    "- level 1 : reduce(lambda summ,i:summ+i,l1)\n",
    "- level 2 : reduce(lambda summ,i:summ+i,l1,initial_value)\n",
    "- for eg we want to initialize summ=o then we choose level 1 \n",
    "- for eg we want to start other than 0 we should use level 2 "
   ]
  },
  {
   "cell_type": "code",
   "execution_count": 22,
   "id": "7a47da6a-3e1a-40e1-9199-3bfd2d88b0af",
   "metadata": {},
   "outputs": [
    {
     "data": {
      "text/plain": [
       "15"
      ]
     },
     "execution_count": 22,
     "metadata": {},
     "output_type": "execute_result"
    }
   ],
   "source": [
    "import functools\n",
    "l1=[1,2,3,4,5]\n",
    "functools.reduce(lambda summ,i:summ+i,l1)"
   ]
  },
  {
   "cell_type": "code",
   "execution_count": 23,
   "id": "efed423a-6eb0-478a-aa95-c0a97e949ba3",
   "metadata": {},
   "outputs": [
    {
     "data": {
      "text/plain": [
       "15"
      ]
     },
     "execution_count": 23,
     "metadata": {},
     "output_type": "execute_result"
    }
   ],
   "source": [
    "from functools import reduce\n",
    "l1=[1,2,3,4,5]\n",
    "reduce(lambda summ,i:summ+i,l1)"
   ]
  },
  {
   "cell_type": "code",
   "execution_count": 24,
   "id": "ccb5963e-462d-48e0-921c-dacc0bf220a8",
   "metadata": {},
   "outputs": [
    {
     "data": {
      "text/plain": [
       "15"
      ]
     },
     "execution_count": 24,
     "metadata": {},
     "output_type": "execute_result"
    }
   ],
   "source": [
    "import functools as ft\n",
    "l1=[1,2,3,4,5]\n",
    "ft.reduce(lambda summ,i:summ+i,l1)"
   ]
  },
  {
   "cell_type": "code",
   "execution_count": 26,
   "id": "26556bd6-32e5-455f-b876-8b8b0e0c196e",
   "metadata": {},
   "outputs": [
    {
     "data": {
      "text/plain": [
       "25"
      ]
     },
     "execution_count": 26,
     "metadata": {},
     "output_type": "execute_result"
    }
   ],
   "source": [
    "import functools\n",
    "l1=[1,2,3,4,5]\n",
    "functools.reduce(lambda summ,i:summ+i,l1,10)"
   ]
  },
  {
   "cell_type": "code",
   "execution_count": 27,
   "id": "56a731ed-9301-408f-a98a-1671de6e6bd0",
   "metadata": {},
   "outputs": [
    {
     "data": {
      "text/plain": [
       "39"
      ]
     },
     "execution_count": 27,
     "metadata": {},
     "output_type": "execute_result"
    }
   ],
   "source": [
    "from functools import reduce\n",
    "l1=[1,2,3,4,5]\n",
    "reduce(lambda summ,i:summ+i,l1,24)"
   ]
  },
  {
   "cell_type": "code",
   "execution_count": 28,
   "id": "67a84207-15e6-42f2-8c4c-a259bfeda2f2",
   "metadata": {},
   "outputs": [
    {
     "data": {
      "text/plain": [
       "26"
      ]
     },
     "execution_count": 28,
     "metadata": {},
     "output_type": "execute_result"
    }
   ],
   "source": [
    "import functools as ft\n",
    "l1=[1,2,3,4,5]\n",
    "ft.reduce(lambda summ,i:summ+i,l1,11)"
   ]
  },
  {
   "cell_type": "code",
   "execution_count": 29,
   "id": "74df038d-df0a-46e7-bf63-6eb2687595d4",
   "metadata": {},
   "outputs": [
    {
     "data": {
      "text/plain": [
       "120"
      ]
     },
     "execution_count": 29,
     "metadata": {},
     "output_type": "execute_result"
    }
   ],
   "source": [
    "import functools\n",
    "l1=[1,2,3,4,5]\n",
    "functools.reduce(lambda mul,i:mul*i,l1)"
   ]
  },
  {
   "cell_type": "code",
   "execution_count": 30,
   "id": "99bf5e8f-f030-4de2-93c4-34878b0b220f",
   "metadata": {},
   "outputs": [
    {
     "data": {
      "text/plain": [
       "120"
      ]
     },
     "execution_count": 30,
     "metadata": {},
     "output_type": "execute_result"
    }
   ],
   "source": [
    "from functools import reduce\n",
    "l1=[1,2,3,4,5]\n",
    "reduce(lambda x,y:x*y,l1)"
   ]
  },
  {
   "cell_type": "code",
   "execution_count": 35,
   "id": "a3222d03-959d-4534-ad8d-be0b9540bf23",
   "metadata": {},
   "outputs": [
    {
     "data": {
      "text/plain": [
       "False"
      ]
     },
     "execution_count": 35,
     "metadata": {},
     "output_type": "execute_result"
    }
   ],
   "source": [
    "from functools import reduce\n",
    "l1=[1,2,3,4,5]\n",
    "reduce(lambda x,y:x>y,l1)"
   ]
  },
  {
   "cell_type": "code",
   "execution_count": 36,
   "id": "dd34d5cb-3ef2-4c4c-a179-a18782d7539a",
   "metadata": {},
   "outputs": [
    {
     "data": {
      "text/plain": [
       "15"
      ]
     },
     "execution_count": 36,
     "metadata": {},
     "output_type": "execute_result"
    }
   ],
   "source": [
    "from functools import reduce\n",
    "l1=[1,2,3,4,5]\n",
    "reduce(lambda x,y:x+y,l1)"
   ]
  },
  {
   "cell_type": "code",
   "execution_count": 37,
   "id": "5a33eeae-c6da-4862-ac84-c1aa760c2e4b",
   "metadata": {},
   "outputs": [],
   "source": [
    "import functools"
   ]
  },
  {
   "cell_type": "code",
   "execution_count": 38,
   "id": "2aac81f2-faaf-4044-9f86-1906ca5b8353",
   "metadata": {},
   "outputs": [
    {
     "data": {
      "text/plain": [
       "<module 'functools' from 'C:\\\\Users\\\\HP\\\\anaconda3\\\\Lib\\\\functools.py'>"
      ]
     },
     "execution_count": 38,
     "metadata": {},
     "output_type": "execute_result"
    }
   ],
   "source": [
    "functools"
   ]
  },
  {
   "cell_type": "code",
   "execution_count": null,
   "id": "a811dbc3-75bf-4f54-a9ed-19d9919736d2",
   "metadata": {},
   "outputs": [],
   "source": [
    "# max value using reduce\n",
    "# map : Direct attack\n",
    "# filter : if conditions\n",
    "# reduce : inbuilt functions some initialization\n",
    "\n",
    "# I want detailed word document with examples on each of the topic above which show the distinct difference about for loop and then using the above functions\n",
    "# In a single example first show how we can use the for loop to get the answer then with the same ex show how we can use above fn"
   ]
  }
 ],
 "metadata": {
  "kernelspec": {
   "display_name": "Python 3 (ipykernel)",
   "language": "python",
   "name": "python3"
  },
  "language_info": {
   "codemirror_mode": {
    "name": "ipython",
    "version": 3
   },
   "file_extension": ".py",
   "mimetype": "text/x-python",
   "name": "python",
   "nbconvert_exporter": "python",
   "pygments_lexer": "ipython3",
   "version": "3.11.7"
  }
 },
 "nbformat": 4,
 "nbformat_minor": 5
}
