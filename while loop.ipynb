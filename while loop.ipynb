{
 "cells": [
  {
   "cell_type": "markdown",
   "id": "2fb46718-7e1d-4d9f-9eef-bde0afb6b012",
   "metadata": {},
   "source": [
    "**Loops**\n",
    "\n",
    "- for loop\n",
    "- while loop : If you want to run an infinite iterations will choose while loop\n",
    "- Every loop we need 3 things\n",
    "     - Initial point (starting point)\n",
    "     - Increment or decrement\n",
    "     - condition (stop point)"
   ]
  },
  {
   "cell_type": "code",
   "execution_count": 2,
   "id": "0c8482bc-09ce-4442-9124-ed9ac57ae562",
   "metadata": {},
   "outputs": [
    {
     "name": "stdout",
     "output_type": "stream",
     "text": [
      "1 3 5 7 9 "
     ]
    }
   ],
   "source": [
    "for i in range(1,10,2):\n",
    "    print(i,end=' ')"
   ]
  },
  {
   "cell_type": "markdown",
   "id": "8ce74f3b-4b0c-409b-a568-5b8231553309",
   "metadata": {},
   "source": [
    "- In for loop all three things mentioned in a single line : range(start,stop,step)\n",
    "- In while loop we will use these three things,in as a three lines"
   ]
  },
  {
   "cell_type": "code",
   "execution_count": null,
   "id": "fe677226-cc92-48e3-aa4d-b2a53273446c",
   "metadata": {},
   "outputs": [],
   "source": [
    "#syntax\n",
    "<start point>\n",
    "while <how to stop>:\n",
    "    codeline 1\n",
    "    codeline 2\n",
    "    <increment or decrement>"
   ]
  },
  {
   "cell_type": "code",
   "execution_count": null,
   "id": "323c2f54-06e5-4ab1-bfc8-dd480d4a8d63",
   "metadata": {},
   "outputs": [],
   "source": [
    "if <condition>:\n",
    "    ############"
   ]
  },
  {
   "cell_type": "code",
   "execution_count": null,
   "id": "6e921984-0dc8-46fa-bc97-33eb83c38066",
   "metadata": {},
   "outputs": [],
   "source": [
    "for i in range(1,10,2):\n",
    "    print(i,end=' ')"
   ]
  },
  {
   "cell_type": "code",
   "execution_count": null,
   "id": "09c23460-c5e4-41db-a8cd-767f297a1c54",
   "metadata": {},
   "outputs": [],
   "source": [
    "# start pony i=1\n",
    "# while <condition to stop>\n",
    "        print(i,end=' ')\n",
    "        print('hello')\n",
    "# i = i + 1"
   ]
  },
  {
   "cell_type": "code",
   "execution_count": 3,
   "id": "650a6f08-5433-491a-9a0f-a54b097991e5",
   "metadata": {},
   "outputs": [
    {
     "name": "stdout",
     "output_type": "stream",
     "text": [
      "1 2 3 4 5 6 7 8 9 10 "
     ]
    }
   ],
   "source": [
    "i=1\n",
    "while i<11:\n",
    "     print(i,end=' ')\n",
    "     i=i+1\n",
    "\n",
    "# conditions i<11 (true)"
   ]
  },
  {
   "cell_type": "code",
   "execution_count": 9,
   "id": "298b7711-7a79-4924-8391-6acbc2b6ed88",
   "metadata": {},
   "outputs": [
    {
     "name": "stdout",
     "output_type": "stream",
     "text": [
      "1 0 -1 -2 -3 -4 -5 -6 -7 -8 -9 "
     ]
    }
   ],
   "source": [
    "i=1\n",
    "while i<11:\n",
    "     print(i,end=' ')\n",
    "     i=i-1\n",
    "     if i== -10:\n",
    "        break"
   ]
  },
  {
   "cell_type": "code",
   "execution_count": 13,
   "id": "edd954e4-8203-4015-8221-bc3746e4dddc",
   "metadata": {},
   "outputs": [
    {
     "name": "stdout",
     "output_type": "stream",
     "text": [
      "20 19 18 17 16 15 14 13 12 11 10 9 8 7 6 5 4 3 2 1 0 "
     ]
    }
   ],
   "source": [
    "#20 t0 1\n",
    "i=20\n",
    "while i>=0:\n",
    "     print(i,end=' ')\n",
    "     i=i-1"
   ]
  },
  {
   "cell_type": "code",
   "execution_count": 12,
   "id": "b01c233f-8fae-4aaa-9d42-2a5045c15aff",
   "metadata": {},
   "outputs": [
    {
     "name": "stdout",
     "output_type": "stream",
     "text": [
      "-20 -19 -18 -17 -16 -15 -14 -13 -12 -11 -10 -9 -8 -7 -6 -5 -4 -3 -2 -1 0 "
     ]
    }
   ],
   "source": [
    "#-20 to 0\n",
    "i=-20\n",
    "while i<=0:\n",
    "     print(i,end=' ')\n",
    "     i=i+1"
   ]
  },
  {
   "cell_type": "markdown",
   "id": "e1631c8e-31d3-4ca7-9990-a3764f69f4bd",
   "metadata": {},
   "source": [
    "**True**\n",
    "\n",
    "- if you dont know about valid condition to enter inside while loop\n",
    "- Then use **True**\n",
    "- True will give entry pass irrespective of the condition\n",
    "- But if you want to come out we need to apply if condition and break inside the while loop\n",
    "- If you dont apply the break inside,then it becomes infinite loop"
   ]
  },
  {
   "cell_type": "code",
   "execution_count": 4,
   "id": "8e363675-0229-43b2-84ea-0a7fb3e15e39",
   "metadata": {},
   "outputs": [
    {
     "name": "stdout",
     "output_type": "stream",
     "text": [
      "1 2 3 4 5 6 7 8 9 "
     ]
    }
   ],
   "source": [
    "i=1\n",
    "while True:\n",
    "     print(i,end=' ')\n",
    "     i=i+1\n",
    "     if i==10:\n",
    "        break\n"
   ]
  },
  {
   "cell_type": "code",
   "execution_count": 1,
   "id": "7f75b074-8381-4ea2-8bd1-694786d50d56",
   "metadata": {},
   "outputs": [
    {
     "name": "stdout",
     "output_type": "stream",
     "text": [
      "1 0 -1 -2 -3 -4 -5 -6 -7 -8 -9 "
     ]
    }
   ],
   "source": [
    "i=1\n",
    "while True:\n",
    "     print(i,end=' ')\n",
    "     i=i-1\n",
    "     if i==-10:\n",
    "        break"
   ]
  },
  {
   "cell_type": "code",
   "execution_count": 2,
   "id": "bae272a2-84a9-4f1a-8fc6-43d2eee8a91d",
   "metadata": {},
   "outputs": [
    {
     "name": "stdout",
     "output_type": "stream",
     "text": [
      "20 19 18 17 16 15 14 13 12 11 10 9 8 7 6 5 4 3 2 1 "
     ]
    }
   ],
   "source": [
    "i=20\n",
    "while True:\n",
    "     print(i,end=' ')\n",
    "     i=i-1\n",
    "     if i==0:\n",
    "         break"
   ]
  },
  {
   "cell_type": "code",
   "execution_count": 3,
   "id": "90356cf5-83b0-4c92-a592-b93826ae258c",
   "metadata": {},
   "outputs": [
    {
     "name": "stdout",
     "output_type": "stream",
     "text": [
      "-20 -19 -18 -17 -16 -15 -14 -13 -12 -11 -10 -9 -8 -7 -6 -5 -4 -3 -2 -1 "
     ]
    }
   ],
   "source": [
    "i=-20\n",
    "while True:\n",
    "     print(i,end=' ')\n",
    "     i=i+1\n",
    "     if i==0:\n",
    "         break"
   ]
  },
  {
   "cell_type": "code",
   "execution_count": 5,
   "id": "93547037-c2ec-4301-bd31-6b9736e00d2c",
   "metadata": {},
   "outputs": [
    {
     "name": "stdout",
     "output_type": "stream",
     "text": [
      "The 62 is Even\n",
      "The 80 is Even\n",
      "The 66 is Even\n"
     ]
    }
   ],
   "source": [
    "#for loop\n",
    "\n",
    "import random\n",
    "i=0\n",
    "while i<3:\n",
    "    num=random.randint(1,100)\n",
    "    if num%2==0:\n",
    "        print(f\"The {num} is Even\")\n",
    "    else:\n",
    "        print(f\"The {num} is odd\")\n",
    "    i=i+1"
   ]
  },
  {
   "cell_type": "code",
   "execution_count": null,
   "id": "08da05e1-c211-4c09-ad75-4dd3acf6185c",
   "metadata": {},
   "outputs": [],
   "source": []
  }
 ],
 "metadata": {
  "kernelspec": {
   "display_name": "Python 3 (ipykernel)",
   "language": "python",
   "name": "python3"
  },
  "language_info": {
   "codemirror_mode": {
    "name": "ipython",
    "version": 3
   },
   "file_extension": ".py",
   "mimetype": "text/x-python",
   "name": "python",
   "nbconvert_exporter": "python",
   "pygments_lexer": "ipython3",
   "version": "3.11.7"
  }
 },
 "nbformat": 4,
 "nbformat_minor": 5
}
