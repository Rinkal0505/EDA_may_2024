{
 "cells": [
  {
   "cell_type": "code",
   "execution_count": 1,
   "id": "4a5181c8-e0f4-43b7-a820-855536644d00",
   "metadata": {},
   "outputs": [
    {
     "name": "stdout",
     "output_type": "stream",
     "text": [
      "30\n"
     ]
    }
   ],
   "source": [
    "a=10\n",
    "b=20\n",
    "c=a+b\n",
    "print(c)"
   ]
  },
  {
   "cell_type": "code",
   "execution_count": 3,
   "id": "ff875d71-f163-42a2-9881-81040cbb57a9",
   "metadata": {},
   "outputs": [
    {
     "name": "stdout",
     "output_type": "stream",
     "text": [
      "The 89 is odd no\n"
     ]
    }
   ],
   "source": [
    "# wap ask the user enter a number\n",
    "# find it is a even number or odd number\n",
    "# idea: any number divide by 2 , the remiander=0\n",
    "#       it is called as even number\n",
    "\n",
    "import random\n",
    "num=random.randint(1,100)\n",
    "if num%2==0:\n",
    "    print(f\"The {num} is even no\")\n",
    "else:\n",
    "    print(f\"The {num} is odd no\")"
   ]
  },
  {
   "cell_type": "code",
   "execution_count": 1,
   "id": "0f3c5e98-f0a6-4e8a-99ad-eb54bb91c315",
   "metadata": {},
   "outputs": [
    {
     "name": "stdout",
     "output_type": "stream",
     "text": [
      "30\n"
     ]
    }
   ],
   "source": [
    "a=10\n",
    "b=20\n",
    "c=a+b\n",
    "print(c)"
   ]
  },
  {
   "cell_type": "code",
   "execution_count": 5,
   "id": "55967d36-e1a3-4319-a63d-d88d85ae2c10",
   "metadata": {},
   "outputs": [
    {
     "name": "stdin",
     "output_type": "stream",
     "text": [
      "Enter the distance 90\n",
      "Enter the charge 89\n"
     ]
    },
    {
     "name": "stdout",
     "output_type": "stream",
     "text": [
      "Total cost is 8010\n"
     ]
    }
   ],
   "source": [
    "# wap ask the user enter the distance\n",
    "# if distance greater than 25km\n",
    "#      then enter the charge\n",
    "#      print the total cost\n",
    "#otherwise\n",
    "#      print free ride\n",
    "\n",
    "\n",
    "distance=eval(input(\"Enter the distance\"))\n",
    "if distance>=25:\n",
    "    charge=eval(input(\"Enter the charge\"))\n",
    "    total_cost=distance*charge\n",
    "    print(\"Total cost is {}\".format(total_cost))\n",
    "else:\n",
    "    print(\"Free ride\")"
   ]
  },
  {
   "cell_type": "code",
   "execution_count": 6,
   "id": "845199be-6673-40cd-a37e-7bc3e0641b0b",
   "metadata": {},
   "outputs": [
    {
     "name": "stdin",
     "output_type": "stream",
     "text": [
      "Enter the distance 67\n"
     ]
    },
    {
     "name": "stdout",
     "output_type": "stream",
     "text": [
      "Good news your charge is applicable for only remaining of 25\n",
      "The remaining distance is 42\n"
     ]
    },
    {
     "name": "stdin",
     "output_type": "stream",
     "text": [
      "Enter the charge 45\n"
     ]
    },
    {
     "name": "stdout",
     "output_type": "stream",
     "text": [
      "The total cost is 1890\n"
     ]
    }
   ],
   "source": [
    "# wap ask the user enter the distance\n",
    "# cutoff distance enter 25\n",
    "# if distance greater than 25km\n",
    "#      print(\"good news your charge is aplicable for only remaining of 25\")\n",
    "#      chargeble distance= distance-cutoff\n",
    "#      then enter the charge\n",
    "#      print the total cost\n",
    "#otherwise\n",
    "#      print free ride\n",
    "\n",
    "distance=eval(input(\"Enter the distance\"))\n",
    "cutoff_distance=25\n",
    "if distance>=25:\n",
    "    print(\"Good news your charge is applicable for only remaining of 25\")\n",
    "    chargeable_distance= distance - cutoff_distance\n",
    "    print(\"The remaining distance is {}\".format(chargeable_distance))\n",
    "    charge=eval(input(\"Enter the charge\"))\n",
    "    total_cost=charge*chargeable_distance\n",
    "    print(\"The total cost is {}\".format(total_cost))\n",
    "else:\n",
    "    print(\"Free ride\")"
   ]
  },
  {
   "cell_type": "code",
   "execution_count": 7,
   "id": "d257979a-d81d-48a2-8d88-1ebb34b3342d",
   "metadata": {},
   "outputs": [
    {
     "name": "stdin",
     "output_type": "stream",
     "text": [
      "Enter the course: data science\n",
      "Enter the institute name naresh IT\n"
     ]
    },
    {
     "name": "stdout",
     "output_type": "stream",
     "text": [
      "You are a good student\n"
     ]
    }
   ],
   "source": [
    "# wap ask the user enter the course\n",
    "# ask the user enter the Institute\n",
    "# if the course equal to data science and institute equal to naresh it\n",
    "#     then you are good\n",
    "# otherwise\n",
    "#     you are bad\n",
    "\n",
    "\n",
    "course=input(\"Enter the course:\")\n",
    "institute=input(\"Enter the institute name\")\n",
    "if course=='data science' and institute=='naresh IT':\n",
    "    print(\"You are a good student\")\n",
    "else:\n",
    "    print(\"You are a bad student\")"
   ]
  },
  {
   "cell_type": "code",
   "execution_count": 8,
   "id": "f8b7dd94-69c1-428a-b93c-52ba2f720d17",
   "metadata": {},
   "outputs": [
    {
     "name": "stdin",
     "output_type": "stream",
     "text": [
      "Enter the number 2: 5\n"
     ]
    },
    {
     "name": "stdout",
     "output_type": "stream",
     "text": [
      "So sad 4 and 5 does not matched\n",
      "YOU LOST\n"
     ]
    }
   ],
   "source": [
    "# wap ask the user enter a random number between 1 to 10, treat this as number1\n",
    "# ask the user enter another number from keyboard, treat this as number2\n",
    "# if number1 equal to number2\n",
    "#     print you won\n",
    "# otherwise\n",
    "#     print you lost\n",
    "\n",
    "import random\n",
    "num1=random.randint(1,10)\n",
    "num2=eval(input(\"Enter the number 2:\"))\n",
    "if num1==num2:\n",
    "    print(f\"Congratulation {num1} and {num2} matched\")\n",
    "    print(\"YOU WON\")\n",
    "else:\n",
    "    print(f\"So sad {num1} and {num2} does not matched\")\n",
    "    print(\"YOU LOST\")"
   ]
  },
  {
   "cell_type": "code",
   "execution_count": 9,
   "id": "dc318e61-7caf-4860-8171-6ae20f4fc5e1",
   "metadata": {},
   "outputs": [
    {
     "name": "stdin",
     "output_type": "stream",
     "text": [
      "Enter a number: 6\n"
     ]
    },
    {
     "name": "stdout",
     "output_type": "stream",
     "text": [
      "Enter a valid no\n"
     ]
    }
   ],
   "source": [
    "# wap ask the user enter number\n",
    "# if number equal to 1 then print one\n",
    "# if number equal to 2 then print two\n",
    "# if number equal to 3 then print three\n",
    "# otherwise  print enter a valid number\n",
    "\n",
    "num=eval(input(\"Enter a number:\"))\n",
    "if num==1:\n",
    "    print(\"One\")\n",
    "elif num==2:\n",
    "    print(\"Two\")\n",
    "elif num==3:\n",
    "    print(\"Three\")\n",
    "else:\n",
    "    print(\"Enter a valid no\")"
   ]
  },
  {
   "cell_type": "code",
   "execution_count": 10,
   "id": "4fe313fe-7fe4-41f6-a08e-9053a7d843ea",
   "metadata": {},
   "outputs": [
    {
     "name": "stdin",
     "output_type": "stream",
     "text": [
      "Enter the number 8\n"
     ]
    },
    {
     "name": "stdout",
     "output_type": "stream",
     "text": [
      "Positive number\n"
     ]
    }
   ],
   "source": [
    "# wap ask the user enter a number\n",
    "# if that number greater than zero print postive\n",
    "# if that number less than zero print negative\n",
    "# otherwise print zero\n",
    "\n",
    "num=eval(input(\"Enter the number\"))\n",
    "if num>=0:\n",
    "    print(\"Positive number\")\n",
    "elif num<=0:\n",
    "    print(\"Negative number\")\n",
    "else:\n",
    "    print(\"The no is neither positive nor negative it is 0\")"
   ]
  },
  {
   "cell_type": "code",
   "execution_count": 11,
   "id": "b2c081f1-6edb-4b8c-a92d-7772fbce6b29",
   "metadata": {},
   "outputs": [
    {
     "name": "stdin",
     "output_type": "stream",
     "text": [
      "Enter the percentage 76\n"
     ]
    },
    {
     "name": "stdout",
     "output_type": "stream",
     "text": [
      "You have scored B grade\n"
     ]
    }
   ],
   "source": [
    "# WAP ask the user enter the percentage of marks 0 to 100\n",
    "# if percentagw gretaer than 90  print A garde\n",
    "# if percentage between 75 to 90 print B garde\n",
    "# if percentage between 50 to 75 print C grade\n",
    "# if percentage between 35 to 50 print D grade\n",
    "# if percentage less than 35 print Fail\n",
    "\n",
    "percentage=eval(input(\"Enter the percentage\"))\n",
    "if percentage>=90:\n",
    "    print(\"You have scored A grade\")\n",
    "elif percentage>=75:\n",
    "    print(\"You have scored B grade\")\n",
    "elif percentage>=50:\n",
    "    print(\"You have scored C grade\")\n",
    "elif percentage>=35:\n",
    "    print(\"You have scored D grade\")\n",
    "else:\n",
    "    print(\"FAIL\")"
   ]
  },
  {
   "cell_type": "code",
   "execution_count": 12,
   "id": "652bd4d5-5cfa-44b3-9d1d-80d8f21c031f",
   "metadata": {},
   "outputs": [
    {
     "name": "stdin",
     "output_type": "stream",
     "text": [
      "Enter the age 56\n"
     ]
    },
    {
     "name": "stdout",
     "output_type": "stream",
     "text": [
      "Senior citizen\n"
     ]
    }
   ],
   "source": [
    "# WAP ask the user enter the age\n",
    "# if the age greater tahn 100 print you are lucky\n",
    "# if the age gretaer than 75 print old age\n",
    "# if the age  between 50 to 75 print ss\n",
    "# if the age between  30 tp 50 print MA\n",
    "# if the age between  15 to 30 print young age\n",
    "# if the afe between less than 15 print kid\n",
    "\n",
    "age=eval(input(\"Enter the age\"))\n",
    "if age>=100:\n",
    "    print(\"You are lucky\")\n",
    "elif age>=75:\n",
    "    print(\"Old age\")\n",
    "elif age>=50:\n",
    "    print(\"Senior citizen\")\n",
    "elif age>=30:\n",
    "    print(\"middle age\")\n",
    "elif age>=15:\n",
    "    print(\"young age\")\n",
    "else:\n",
    "    print(\"kid\")"
   ]
  },
  {
   "cell_type": "code",
   "execution_count": null,
   "id": "689e3a6d-9a0c-4531-93b8-5bc916a9733a",
   "metadata": {},
   "outputs": [],
   "source": []
  }
 ],
 "metadata": {
  "kernelspec": {
   "display_name": "Python 3 (ipykernel)",
   "language": "python",
   "name": "python3"
  },
  "language_info": {
   "codemirror_mode": {
    "name": "ipython",
    "version": 3
   },
   "file_extension": ".py",
   "mimetype": "text/x-python",
   "name": "python",
   "nbconvert_exporter": "python",
   "pygments_lexer": "ipython3",
   "version": "3.11.7"
  }
 },
 "nbformat": 4,
 "nbformat_minor": 5
}
