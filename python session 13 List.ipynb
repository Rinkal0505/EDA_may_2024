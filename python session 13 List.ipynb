{
 "cells": [
  {
   "cell_type": "markdown",
   "id": "2753ee55-ded3-45cd-86c1-e66c96183564",
   "metadata": {},
   "source": [
    "- Representation\n",
    "- type\n",
    "- len \n",
    "- max\n",
    "- min \n",
    "- sorted\n",
    "- reversed \n",
    "- in\n",
    "- for loop in\n",
    "- index\n",
    "- for loop in index\n",
    "- mutable\n",
    "- concatenation\n",
    "- slicing\n",
    "- method"
   ]
  },
  {
   "cell_type": "markdown",
   "id": "a3760c4b-e7a5-4e69-873b-e674fda548b0",
   "metadata": {},
   "source": [
    "**Representation**"
   ]
  },
  {
   "cell_type": "markdown",
   "id": "50e029c6-4181-4d70-a686-bf2a34831a85",
   "metadata": {},
   "source": [
    "- string representation with quotes\n",
    "- list represent with square brackets[]"
   ]
  },
  {
   "cell_type": "code",
   "execution_count": 1,
   "id": "888bb679-e1f9-4778-963f-84a67a8a30df",
   "metadata": {},
   "outputs": [
    {
     "data": {
      "text/plain": [
       "[1, 2, 3, 4]"
      ]
     },
     "execution_count": 1,
     "metadata": {},
     "output_type": "execute_result"
    }
   ],
   "source": [
    "l1=[1,2,3,4]\n",
    "l1"
   ]
  },
  {
   "cell_type": "code",
   "execution_count": 2,
   "id": "c2351f2e-e26c-4ec2-affe-19bea1454a84",
   "metadata": {},
   "outputs": [
    {
     "data": {
      "text/plain": [
       "list"
      ]
     },
     "execution_count": 2,
     "metadata": {},
     "output_type": "execute_result"
    }
   ],
   "source": [
    "type(l1)"
   ]
  },
  {
   "cell_type": "code",
   "execution_count": 3,
   "id": "ca60665c-a248-4516-a12e-10296d760be1",
   "metadata": {},
   "outputs": [
    {
     "data": {
      "text/plain": [
       "['A', 'B', 'C']"
      ]
     },
     "execution_count": 3,
     "metadata": {},
     "output_type": "execute_result"
    }
   ],
   "source": [
    "l2=['A','B','C']\n",
    "l2"
   ]
  },
  {
   "cell_type": "code",
   "execution_count": 6,
   "id": "0fa5f97a-f061-4b0f-a877-ead08e9cfb6b",
   "metadata": {},
   "outputs": [
    {
     "data": {
      "text/plain": [
       "[1, 2, 3, 4, 'A', 'B', 'C', 'D']"
      ]
     },
     "execution_count": 6,
     "metadata": {},
     "output_type": "execute_result"
    }
   ],
   "source": [
    "l3=[1,2,3,4,'A','B','C','D']\n",
    "l3"
   ]
  },
  {
   "cell_type": "code",
   "execution_count": 7,
   "id": "f6df937c-845f-41b5-a8fe-62aedd801897",
   "metadata": {},
   "outputs": [
    {
     "data": {
      "text/plain": [
       "[1, 2, 3, 'Apple', 'True']"
      ]
     },
     "execution_count": 7,
     "metadata": {},
     "output_type": "execute_result"
    }
   ],
   "source": [
    "l4=[1,2,3,'Apple','True']\n",
    "l4"
   ]
  },
  {
   "cell_type": "code",
   "execution_count": 9,
   "id": "6a0a40d1-ae6a-4d98-9251-95f07ef3f532",
   "metadata": {},
   "outputs": [
    {
     "data": {
      "text/plain": [
       "['naresh it']"
      ]
     },
     "execution_count": 9,
     "metadata": {},
     "output_type": "execute_result"
    }
   ],
   "source": [
    "name='naresh it'\n",
    "l5=[name]\n",
    "l5"
   ]
  },
  {
   "cell_type": "code",
   "execution_count": 10,
   "id": "06ed6c60-9c05-4e19-806d-c5d65d650aa8",
   "metadata": {},
   "outputs": [
    {
     "data": {
      "text/plain": [
       "[100, 100, 100]"
      ]
     },
     "execution_count": 10,
     "metadata": {},
     "output_type": "execute_result"
    }
   ],
   "source": [
    "l6=[100,100,100]\n",
    "l6"
   ]
  },
  {
   "cell_type": "code",
   "execution_count": 11,
   "id": "51af8584-11b4-4ed0-9e0d-63aa92ae6615",
   "metadata": {},
   "outputs": [
    {
     "data": {
      "text/plain": [
       "[100, 'Apple', ['A', 2]]"
      ]
     },
     "execution_count": 11,
     "metadata": {},
     "output_type": "execute_result"
    }
   ],
   "source": [
    "l7=[100,'Apple',['A',2]]\n",
    "l7"
   ]
  },
  {
   "cell_type": "code",
   "execution_count": null,
   "id": "84f46564-b580-4e02-9e6f-5f778f909d6c",
   "metadata": {},
   "outputs": [],
   "source": [
    "l1=[1,2,3,4]\n",
    "l2=['A','B','C']\n",
    "l3=[1,2,3,4,'A','B','C','D']\n",
    "l4=[1,2,3,'Apple','True']\n",
    "name='naresh it'\n",
    "l5=[name]\n",
    "l6=[100,100,100]\n",
    "l7=[100,'Apple',['A',2]]"
   ]
  },
  {
   "cell_type": "markdown",
   "id": "b088ab02-3f16-43eb-b4a0-22d566a3ac60",
   "metadata": {},
   "source": [
    "- List are array of elements \n",
    "- List elements are heterogeneous all the datatype we can represent in a list\n",
    "- List elements are allowed duplicates\n",
    "- List in list is possible\n",
    "- variable assignment also possible in the list"
   ]
  },
  {
   "cell_type": "code",
   "execution_count": null,
   "id": "c2d8f6a8-63ca-4154-9030-52985901d740",
   "metadata": {},
   "outputs": [],
   "source": [
    "- len\n",
    "- min\n",
    "- max \n",
    "- sorted\n",
    "- reversed"
   ]
  },
  {
   "cell_type": "code",
   "execution_count": 12,
   "id": "2f65ff05-d941-4cfa-b0fc-34419a000ee1",
   "metadata": {},
   "outputs": [
    {
     "data": {
      "text/plain": [
       "1"
      ]
     },
     "execution_count": 12,
     "metadata": {},
     "output_type": "execute_result"
    }
   ],
   "source": [
    "l1=['python']\n",
    "len(l1)"
   ]
  },
  {
   "cell_type": "code",
   "execution_count": 20,
   "id": "9ef191a9-6508-4919-9ef1-837dbb08d9ce",
   "metadata": {},
   "outputs": [
    {
     "data": {
      "text/plain": [
       "'Sibani'"
      ]
     },
     "execution_count": 20,
     "metadata": {},
     "output_type": "execute_result"
    }
   ],
   "source": [
    "l2=['Rinkal','Renuka','Sibani']\n",
    "max(l2)"
   ]
  },
  {
   "cell_type": "code",
   "execution_count": 21,
   "id": "211ee250-28ad-4b3c-895e-fddac1aa8e6b",
   "metadata": {},
   "outputs": [
    {
     "data": {
      "text/plain": [
       "'Rinkal'"
      ]
     },
     "execution_count": 21,
     "metadata": {},
     "output_type": "execute_result"
    }
   ],
   "source": [
    "l3=['Rinkal','python','nareshit']\n",
    "min(l3)"
   ]
  },
  {
   "cell_type": "code",
   "execution_count": 22,
   "id": "edc9513d-f044-43fe-b69b-02f0e1ecaa9f",
   "metadata": {},
   "outputs": [
    {
     "data": {
      "text/plain": [
       "['nareshit', 'python']"
      ]
     },
     "execution_count": 22,
     "metadata": {},
     "output_type": "execute_result"
    }
   ],
   "source": [
    "l4=['python','nareshit']\n",
    "sorted(l4)"
   ]
  },
  {
   "cell_type": "code",
   "execution_count": 19,
   "id": "ec1d39d0-1e9a-4167-816f-0323657ec83d",
   "metadata": {},
   "outputs": [
    {
     "name": "stdout",
     "output_type": "stream",
     "text": [
      "python\n",
      "Rinkal\n",
      "naresh\n"
     ]
    }
   ],
   "source": [
    "l5=['naresh','Rinkal','python']\n",
    "for i in reversed(l5):\n",
    "    print(i)"
   ]
  },
  {
   "cell_type": "code",
   "execution_count": 23,
   "id": "882165a8-c1b1-4f72-8080-5f8724a21ce6",
   "metadata": {},
   "outputs": [
    {
     "data": {
      "text/plain": [
       "['True', 'Apple', 3, 2, 1]"
      ]
     },
     "execution_count": 23,
     "metadata": {},
     "output_type": "execute_result"
    }
   ],
   "source": [
    "l4=[1,2,3,'Apple','True']\n",
    "list(reversed(l4))"
   ]
  },
  {
   "cell_type": "code",
   "execution_count": 24,
   "id": "aea4f633-8ef9-4bfe-8389-32a28dff3b01",
   "metadata": {},
   "outputs": [
    {
     "data": {
      "text/plain": [
       "'Adithya'"
      ]
     },
     "execution_count": 24,
     "metadata": {},
     "output_type": "execute_result"
    }
   ],
   "source": [
    "name=['adithya','Adithya']\n",
    "min(name)\n",
    "\n",
    "# first compare all first letters\n",
    "# if all first letters ascii value same\n",
    "# then compare with the second letter\n",
    "# then continue the process........"
   ]
  },
  {
   "cell_type": "code",
   "execution_count": 26,
   "id": "734087ae-59b3-42cd-adcc-491d373c7fc0",
   "metadata": {},
   "outputs": [
    {
     "data": {
      "text/plain": [
       "3"
      ]
     },
     "execution_count": 26,
     "metadata": {},
     "output_type": "execute_result"
    }
   ],
   "source": [
    "list1=['Apple',1,['cherry','Banana']]\n",
    "len(list1)"
   ]
  },
  {
   "cell_type": "markdown",
   "id": "ac595765-43f3-464a-99d4-8836e9b8f3a3",
   "metadata": {},
   "source": [
    "- same datatype only comparable "
   ]
  },
  {
   "cell_type": "markdown",
   "id": "fedb04a6-9b23-4831-ae01-06801f8c1bd2",
   "metadata": {},
   "source": [
    "**Indexing**"
   ]
  },
  {
   "cell_type": "code",
   "execution_count": 27,
   "id": "3ffa3cdc-0c35-4239-abba-cbf2dc269e08",
   "metadata": {},
   "outputs": [],
   "source": [
    "l4=[1,2,3,'Apple','Ball','Cat',True,False]\n",
    "\n",
    "#-8  -7  -6  -5    -4   -3  -2   -1  \n",
    "# 1   2   3  apple ball cat true false\n",
    "# 0   1   2   3     4    5   6    7"
   ]
  },
  {
   "cell_type": "code",
   "execution_count": 28,
   "id": "4106b652-eba2-4fbd-9126-394b40c73c46",
   "metadata": {},
   "outputs": [
    {
     "data": {
      "text/plain": [
       "1"
      ]
     },
     "execution_count": 28,
     "metadata": {},
     "output_type": "execute_result"
    }
   ],
   "source": [
    "l4[-8]"
   ]
  },
  {
   "cell_type": "code",
   "execution_count": 29,
   "id": "3108bc9f-ce37-4b90-baa4-ba0602903714",
   "metadata": {},
   "outputs": [
    {
     "data": {
      "text/plain": [
       "[1, 2, 3, 'Apple', 'Ball']"
      ]
     },
     "execution_count": 29,
     "metadata": {},
     "output_type": "execute_result"
    }
   ],
   "source": [
    "l4[-8:-3]"
   ]
  },
  {
   "cell_type": "code",
   "execution_count": 30,
   "id": "87def307-c0c4-4e56-b611-944a0d3217f9",
   "metadata": {},
   "outputs": [
    {
     "data": {
      "text/plain": [
       "1"
      ]
     },
     "execution_count": 30,
     "metadata": {},
     "output_type": "execute_result"
    }
   ],
   "source": [
    "l1=[1,[2]]\n",
    "l1[0]"
   ]
  },
  {
   "cell_type": "code",
   "execution_count": 32,
   "id": "0f0c3970-10ad-4a26-96fe-1f351b9e0a57",
   "metadata": {},
   "outputs": [
    {
     "data": {
      "text/plain": [
       "[2]"
      ]
     },
     "execution_count": 32,
     "metadata": {},
     "output_type": "execute_result"
    }
   ],
   "source": [
    "l1[1]"
   ]
  },
  {
   "cell_type": "code",
   "execution_count": 33,
   "id": "4e930d38-9193-4a82-a2dc-4935c8e715c5",
   "metadata": {},
   "outputs": [
    {
     "data": {
      "text/plain": [
       "2"
      ]
     },
     "execution_count": 33,
     "metadata": {},
     "output_type": "execute_result"
    }
   ],
   "source": [
    "new=l1[1]\n",
    "new[0]"
   ]
  },
  {
   "cell_type": "code",
   "execution_count": 34,
   "id": "368187ea-3122-4b95-94fd-11a3876316b0",
   "metadata": {},
   "outputs": [
    {
     "data": {
      "text/plain": [
       "2"
      ]
     },
     "execution_count": 34,
     "metadata": {},
     "output_type": "execute_result"
    }
   ],
   "source": [
    "l1[1][0]"
   ]
  },
  {
   "cell_type": "code",
   "execution_count": 35,
   "id": "546b49b8-d66f-46e9-a2b4-414aef497332",
   "metadata": {},
   "outputs": [
    {
     "data": {
      "text/plain": [
       "'A'"
      ]
     },
     "execution_count": 35,
     "metadata": {},
     "output_type": "execute_result"
    }
   ],
   "source": [
    "l1=[1,[2,'A']]\n",
    "l1[1][1]\n",
    "\n",
    "# A is present at index 1\n",
    "# so we given l1[1]\n",
    "# o/p is [2,'A'] it is also a lsit\n",
    "# 'A' at first index\n",
    "# l1[1][1]"
   ]
  },
  {
   "cell_type": "code",
   "execution_count": 36,
   "id": "061b795a-fe52-4a33-9b2f-c7d9e6e87cd1",
   "metadata": {},
   "outputs": [
    {
     "data": {
      "text/plain": [
       "'B'"
      ]
     },
     "execution_count": 36,
     "metadata": {},
     "output_type": "execute_result"
    }
   ],
   "source": [
    "l1=[1,[2,['A','B']]]\n",
    "l1[1][1][1]"
   ]
  },
  {
   "cell_type": "code",
   "execution_count": 46,
   "id": "6d5b8d2a-d547-483b-a83a-f0c79a52f7a5",
   "metadata": {},
   "outputs": [
    {
     "data": {
      "text/plain": [
       "['Apple']"
      ]
     },
     "execution_count": 46,
     "metadata": {},
     "output_type": "execute_result"
    }
   ],
   "source": [
    "l1=[1,2,[3,[4,[5,['Apple']]]]]\n",
    "l1[2][1][1][1]"
   ]
  },
  {
   "cell_type": "code",
   "execution_count": 53,
   "id": "f09ba044-1c3f-42fd-81e6-5608265c9ff9",
   "metadata": {},
   "outputs": [
    {
     "data": {
      "text/plain": [
       "'Banana'"
      ]
     },
     "execution_count": 53,
     "metadata": {},
     "output_type": "execute_result"
    }
   ],
   "source": [
    "l1=['Apple',1,'Solapur',['cherry','papaya',70,[123,'Banana'],'tomato'],'python']\n",
    "l1[3][3][1]"
   ]
  },
  {
   "cell_type": "code",
   "execution_count": 50,
   "id": "22b375b9-a77d-474f-9d96-97629cb35b14",
   "metadata": {},
   "outputs": [
    {
     "data": {
      "text/plain": [
       "'Cherry'"
      ]
     },
     "execution_count": 50,
     "metadata": {},
     "output_type": "execute_result"
    }
   ],
   "source": [
    "l1=[[[[[[[1,'Cherry']]]]]]]\n",
    "l1[0][0][0][0][0][0][1]"
   ]
  },
  {
   "cell_type": "code",
   "execution_count": 65,
   "id": "1070f39a-f80b-4d3b-b42f-f720c51a7841",
   "metadata": {},
   "outputs": [
    {
     "data": {
      "text/plain": [
       "'Sambaji'"
      ]
     },
     "execution_count": 65,
     "metadata": {},
     "output_type": "execute_result"
    }
   ],
   "source": [
    "l1=['MH',['Nagpur',['Orange',['likes',['king'],['shivaji',['son','Sambaji']]]]]]\n",
    "l1[1][1][1][2][1][1]"
   ]
  },
  {
   "cell_type": "code",
   "execution_count": 1,
   "id": "e204c90b-3cd4-4d2a-b338-b33794a0cba0",
   "metadata": {},
   "outputs": [],
   "source": [
    "l=[1,2,3,4,5,6,'A','B','C','D','E','F','G']"
   ]
  },
  {
   "cell_type": "code",
   "execution_count": 2,
   "id": "2511cf48-a101-4e0c-9874-a34a809566b3",
   "metadata": {},
   "outputs": [
    {
     "data": {
      "text/plain": [
       "[4, 6, 'B']"
      ]
     },
     "execution_count": 2,
     "metadata": {},
     "output_type": "execute_result"
    }
   ],
   "source": [
    "l[3:9:2]"
   ]
  },
  {
   "cell_type": "code",
   "execution_count": 3,
   "id": "f05f4f0d-de9f-43ed-a203-30687e79dd5d",
   "metadata": {},
   "outputs": [
    {
     "data": {
      "text/plain": [
       "[]"
      ]
     },
     "execution_count": 3,
     "metadata": {},
     "output_type": "execute_result"
    }
   ],
   "source": [
    "l[3:9:-2]"
   ]
  },
  {
   "cell_type": "code",
   "execution_count": 4,
   "id": "a03b7a0f-758e-4f18-906e-e60a9a3b0ba7",
   "metadata": {},
   "outputs": [
    {
     "data": {
      "text/plain": [
       "[4]"
      ]
     },
     "execution_count": 4,
     "metadata": {},
     "output_type": "execute_result"
    }
   ],
   "source": [
    "l[3:-9:2]"
   ]
  },
  {
   "cell_type": "code",
   "execution_count": 5,
   "id": "d081d50c-e683-4e05-bde4-a0056fccd1e6",
   "metadata": {},
   "outputs": [
    {
     "data": {
      "text/plain": [
       "[]"
      ]
     },
     "execution_count": 5,
     "metadata": {},
     "output_type": "execute_result"
    }
   ],
   "source": [
    "l[3:-9:-2]"
   ]
  },
  {
   "cell_type": "code",
   "execution_count": 6,
   "id": "0602a865-9bc5-441f-89f1-20248ad45521",
   "metadata": {},
   "outputs": [
    {
     "data": {
      "text/plain": [
       "[]"
      ]
     },
     "execution_count": 6,
     "metadata": {},
     "output_type": "execute_result"
    }
   ],
   "source": [
    "l[-3:9:2]"
   ]
  },
  {
   "cell_type": "code",
   "execution_count": 7,
   "id": "67d0fcea-80c6-493e-bc8d-ce8c1068b59d",
   "metadata": {},
   "outputs": [
    {
     "data": {
      "text/plain": [
       "['E', 'C', 'A']"
      ]
     },
     "execution_count": 7,
     "metadata": {},
     "output_type": "execute_result"
    }
   ],
   "source": [
    "l[-3:-9:-2]"
   ]
  },
  {
   "cell_type": "code",
   "execution_count": 9,
   "id": "bd767731-0901-4d69-926f-bdb191cba015",
   "metadata": {},
   "outputs": [
    {
     "data": {
      "text/plain": [
       "['E']"
      ]
     },
     "execution_count": 9,
     "metadata": {},
     "output_type": "execute_result"
    }
   ],
   "source": [
    "l[-3:9:-2]"
   ]
  },
  {
   "cell_type": "markdown",
   "id": "62fb95ef-5e95-4c36-948b-77f5803ee7ff",
   "metadata": {},
   "source": [
    "**List Methods**"
   ]
  },
  {
   "cell_type": "code",
   "execution_count": 10,
   "id": "b99037f7-b952-42d6-8286-11354da56417",
   "metadata": {},
   "outputs": [
    {
     "data": {
      "text/plain": [
       "['__add__',\n",
       " '__class__',\n",
       " '__class_getitem__',\n",
       " '__contains__',\n",
       " '__delattr__',\n",
       " '__delitem__',\n",
       " '__dir__',\n",
       " '__doc__',\n",
       " '__eq__',\n",
       " '__format__',\n",
       " '__ge__',\n",
       " '__getattribute__',\n",
       " '__getitem__',\n",
       " '__getstate__',\n",
       " '__gt__',\n",
       " '__hash__',\n",
       " '__iadd__',\n",
       " '__imul__',\n",
       " '__init__',\n",
       " '__init_subclass__',\n",
       " '__iter__',\n",
       " '__le__',\n",
       " '__len__',\n",
       " '__lt__',\n",
       " '__mul__',\n",
       " '__ne__',\n",
       " '__new__',\n",
       " '__reduce__',\n",
       " '__reduce_ex__',\n",
       " '__repr__',\n",
       " '__reversed__',\n",
       " '__rmul__',\n",
       " '__setattr__',\n",
       " '__setitem__',\n",
       " '__sizeof__',\n",
       " '__str__',\n",
       " '__subclasshook__',\n",
       " 'append',\n",
       " 'clear',\n",
       " 'copy',\n",
       " 'count',\n",
       " 'extend',\n",
       " 'index',\n",
       " 'insert',\n",
       " 'pop',\n",
       " 'remove',\n",
       " 'reverse',\n",
       " 'sort']"
      ]
     },
     "execution_count": 10,
     "metadata": {},
     "output_type": "execute_result"
    }
   ],
   "source": [
    "# strings dir('')\n",
    "\n",
    "dir([])"
   ]
  },
  {
   "cell_type": "code",
   "execution_count": null,
   "id": "f16b5ef6-5da6-4699-8a95-738101e8e0e7",
   "metadata": {},
   "outputs": [],
   "source": [
    "'append',\n",
    " 'clear',\n",
    " 'copy',\n",
    " 'count',\n",
    " 'extend',\n",
    " 'index',\n",
    " 'insert',\n",
    " 'pop',\n",
    " 'remove',\n",
    " 'reverse',\n",
    " 'sort'"
   ]
  },
  {
   "cell_type": "markdown",
   "id": "f5ca5d16-29ed-4273-8ad5-c1fb68568c2a",
   "metadata": {},
   "source": [
    "**append**"
   ]
  },
  {
   "cell_type": "code",
   "execution_count": null,
   "id": "88aa996b-41ee-4e0e-861c-51aa54720d54",
   "metadata": {},
   "outputs": [],
   "source": [
    "- adding elements in a list at last index\n",
    "- append method is very important\n",
    "- most of the time we will use append in our projects in the real time\n",
    "- when u append then the original value will be overwrite\n",
    "- No mutability - using index operations only we can do mutability check "
   ]
  },
  {
   "cell_type": "code",
   "execution_count": 11,
   "id": "f3b4d74a-5611-4b35-8b28-98636bc7cdc3",
   "metadata": {},
   "outputs": [
    {
     "data": {
      "text/plain": [
       "['Apple', 'Ball', 'Cat']"
      ]
     },
     "execution_count": 11,
     "metadata": {},
     "output_type": "execute_result"
    }
   ],
   "source": [
    "l=['Apple','Ball','Cat']\n",
    "l"
   ]
  },
  {
   "cell_type": "code",
   "execution_count": 17,
   "id": "8b879829-ad4a-4a8f-b31a-c3811b4509a5",
   "metadata": {},
   "outputs": [
    {
     "data": {
      "text/plain": [
       "['Apple', 'Ball', 'Cat', 'Doll', 'Doll', 'Doll', 'Doll', 'Doll']"
      ]
     },
     "execution_count": 17,
     "metadata": {},
     "output_type": "execute_result"
    }
   ],
   "source": [
    "l.append('Doll')\n",
    "l"
   ]
  },
  {
   "cell_type": "code",
   "execution_count": null,
   "id": "9581f4c1-b026-486a-b958-345a4e27ba9d",
   "metadata": {},
   "outputs": [],
   "source": [
    "# you want to add doll in a given list \n",
    "# keywords   vs  Methods\n",
    "len()\n",
    "max()\n",
    "min()\n",
    "reversed()\n",
    "sorted()\n",
    "\n",
    "\n",
    "# Methods\n",
    "<package>.<method>()\n"
   ]
  },
  {
   "cell_type": "code",
   "execution_count": 16,
   "id": "533dfe5a-5aac-42a9-bb69-a71664f78c9d",
   "metadata": {},
   "outputs": [
    {
     "data": {
      "text/plain": [
       "['Apple', 'Ball', 'Cat', 'Doll', 'Doll', 'Doll', 'Doll']"
      ]
     },
     "execution_count": 16,
     "metadata": {},
     "output_type": "execute_result"
    }
   ],
   "source": [
    "l.append('Doll')\n",
    "l"
   ]
  },
  {
   "cell_type": "code",
   "execution_count": 18,
   "id": "38fe5a67-a869-4ea9-9ded-35bf258b3915",
   "metadata": {},
   "outputs": [
    {
     "data": {
      "text/plain": [
       "[1, 2, 3, 4, 100]"
      ]
     },
     "execution_count": 18,
     "metadata": {},
     "output_type": "execute_result"
    }
   ],
   "source": [
    "l1=[1,2,3,4]\n",
    "l1.append(100)\n",
    "l1"
   ]
  },
  {
   "cell_type": "code",
   "execution_count": 19,
   "id": "6be47755-593b-41bf-a310-1125bc9b92b9",
   "metadata": {},
   "outputs": [
    {
     "data": {
      "text/plain": [
       "[1, 2, 3, 4, 100]"
      ]
     },
     "execution_count": 19,
     "metadata": {},
     "output_type": "execute_result"
    }
   ],
   "source": [
    "l1"
   ]
  },
  {
   "cell_type": "code",
   "execution_count": 20,
   "id": "95d4931e-a721-4433-8040-de4d9f105734",
   "metadata": {},
   "outputs": [
    {
     "data": {
      "text/plain": [
       "[10, 20, 'apple', ['A', 1], True]"
      ]
     },
     "execution_count": 20,
     "metadata": {},
     "output_type": "execute_result"
    }
   ],
   "source": [
    "l2=[]\n",
    "l2.append(10)\n",
    "l2.append(20)\n",
    "l2.append('apple')\n",
    "l2.append(['A',1])\n",
    "l2.append(True)\n",
    "l2"
   ]
  },
  {
   "cell_type": "code",
   "execution_count": 21,
   "id": "5a82c545-d4ae-4e6d-9bf0-1e81430b6efd",
   "metadata": {},
   "outputs": [
    {
     "data": {
      "text/plain": [
       "['The', 'DuKiE', 'is', 'always', 'together']"
      ]
     },
     "execution_count": 21,
     "metadata": {},
     "output_type": "execute_result"
    }
   ],
   "source": [
    "l2=[]\n",
    "l2.append('20')\n",
    "l2.append('DuKiE')\n",
    "l2.append('is')\n",
    "l2.append('always')\n",
    "l2.append('together')\n",
    "l2"
   ]
  },
  {
   "cell_type": "code",
   "execution_count": 22,
   "id": "f3b81f75-5577-4010-b1c0-912c8b8db8e1",
   "metadata": {},
   "outputs": [
    {
     "name": "stdout",
     "output_type": "stream",
     "text": [
      "1\n",
      "4\n",
      "9\n",
      "16\n",
      "25\n"
     ]
    }
   ],
   "source": [
    "for i in range(1,6):\n",
    "    print(i*i)"
   ]
  },
  {
   "cell_type": "code",
   "execution_count": 25,
   "id": "57ddb7b6-c081-4a20-b1ea-63bf760eaac3",
   "metadata": {},
   "outputs": [
    {
     "name": "stdout",
     "output_type": "stream",
     "text": [
      "1\n",
      "4\n",
      "9\n",
      "16\n",
      "25\n"
     ]
    },
    {
     "data": {
      "text/plain": [
       "[1, 4, 9, 16, 25]"
      ]
     },
     "execution_count": 25,
     "metadata": {},
     "output_type": "execute_result"
    }
   ],
   "source": [
    "square_list=[]\n",
    "for i in range(1,6):\n",
    "    print(i*i)\n",
    "    square_list.append(i*i)\n",
    "# print ===== list.append\n",
    "square_list"
   ]
  },
  {
   "cell_type": "code",
   "execution_count": 26,
   "id": "4d49fb57-0d4f-48f5-860c-c5fb76deeb76",
   "metadata": {},
   "outputs": [
    {
     "data": {
      "text/plain": [
       "[1, 4, 9, 16, 25]"
      ]
     },
     "execution_count": 26,
     "metadata": {},
     "output_type": "execute_result"
    }
   ],
   "source": [
    "square_list=[]\n",
    "for i in range(1,6):\n",
    "    square_list.append(i*i)\n",
    "# print ===== list.append\n",
    "square_list"
   ]
  },
  {
   "cell_type": "code",
   "execution_count": 32,
   "id": "c9535323-0e1f-4daa-a865-863f3a46f989",
   "metadata": {},
   "outputs": [
    {
     "data": {
      "text/plain": [
       "([1, 5, 9], 15)"
      ]
     },
     "execution_count": 32,
     "metadata": {},
     "output_type": "execute_result"
    }
   ],
   "source": [
    "# str='hai hai hai'\n",
    "# what are ids of 'a'\n",
    "# now save the ids in the list\n",
    "\n",
    "ids_list=[]\n",
    "str1='hai hai hai'\n",
    "for i in range(len(str1)):\n",
    " if str1[i]=='a':\n",
    "     ids_list.append(i)\n",
    "\n",
    "ids_list,sum(ids_list)"
   ]
  },
  {
   "cell_type": "code",
   "execution_count": 30,
   "id": "897233df-e096-4704-8b92-4fd5f5ebbcd3",
   "metadata": {},
   "outputs": [
    {
     "data": {
      "text/plain": [
       "15"
      ]
     },
     "execution_count": 30,
     "metadata": {},
     "output_type": "execute_result"
    }
   ],
   "source": [
    "# summation \n",
    "\n",
    "summ=0\n",
    "str1='hai hai hai'\n",
    "for i in range(len(str1)):\n",
    " if str1[i]=='a':\n",
    "     summ=summ+i\n",
    "\n",
    "summ"
   ]
  },
  {
   "cell_type": "code",
   "execution_count": 1,
   "id": "e4fea24e-05d6-4be5-ba35-8ef19a3d3ac3",
   "metadata": {},
   "outputs": [
    {
     "name": "stdout",
     "output_type": "stream",
     "text": [
      "The postive index of 1 is 0\n",
      "The postive index of 2 is 1\n",
      "The postive index of 3 is 2\n",
      "The postive index of A is 3\n",
      "The postive index of B is 4\n",
      "The postive index of C is 5\n",
      "The postive index of True is 6\n",
      "The postive index of False is 7\n",
      "The postive index of w is 0\n",
      "The postive index of e is 1\n",
      "The postive index of l is 2\n",
      "The postive index of c is 3\n",
      "The postive index of o is 4\n",
      "The postive index of m is 5\n",
      "The postive index of e is 6\n"
     ]
    }
   ],
   "source": [
    "l4=[1,2,3,'A','B','C',True,False]\n",
    "for i in range(len(l4)):\n",
    " print(f\"The postive index of {l4[i]} is {i}\")\n",
    "s='welcome'\n",
    "for i in range(len(s)):\n",
    " print(f\"The postive index of {s[i]} is {i}\")"
   ]
  },
  {
   "cell_type": "code",
   "execution_count": 2,
   "id": "c7f0b881-b347-47a1-9b41-40c766677b3a",
   "metadata": {},
   "outputs": [
    {
     "data": {
      "text/plain": [
       "['Mumbai', 'Chennai']"
      ]
     },
     "execution_count": 2,
     "metadata": {},
     "output_type": "execute_result"
    }
   ],
   "source": [
    "# Q2)l1=['Hyd','Mumbai','Chennai','blr']\n",
    "# ans=['Mumbai','Chennai']\n",
    "# we want lements which are len of element >4\n",
    "l1=['Hyd','Mumbai','Chennai','blr']\n",
    "ans=[]\n",
    "for i in l1:\n",
    " if len(i)>4:\n",
    "     ans.append(i)\n",
    "ans"
   ]
  },
  {
   "cell_type": "code",
   "execution_count": 4,
   "id": "c83b05e5-16a3-4f84-af27-30ae7f60738d",
   "metadata": {},
   "outputs": [
    {
     "data": {
      "text/plain": [
       "['Mumb#ai', 'Chen#nai']"
      ]
     },
     "execution_count": 4,
     "metadata": {},
     "output_type": "execute_result"
    }
   ],
   "source": [
    "# Q3)l1=['Hyd','Mum#bai','Chen#nai','blr']\n",
    "# ans=['Mum#bai'',Chen#nai']\n",
    "# we want lements which are having '#'\n",
    "l1=['Hyd','Mumb#ai','Chen#nai','blr']\n",
    "ans=[]\n",
    "for i in l1:\n",
    " if '#' in i:\n",
    "     ans.append(i)\n",
    "ans"
   ]
  },
  {
   "cell_type": "code",
   "execution_count": null,
   "id": "5e89090e-158b-4c73-be80-898e23e10e84",
   "metadata": {},
   "outputs": [],
   "source": [
    "l1=['Hyd','Mumb#ai','Chen#nai','blr']\n",
    "for i in l1:\n",
    " if i in '#'"
   ]
  },
  {
   "cell_type": "code",
   "execution_count": 5,
   "id": "1865eb1a-fe8b-40ca-95a2-8109ce5192e8",
   "metadata": {},
   "outputs": [
    {
     "data": {
      "text/plain": [
       "True"
      ]
     },
     "execution_count": 5,
     "metadata": {},
     "output_type": "execute_result"
    }
   ],
   "source": [
    "'nadeem' in '#' # 'nadeem' is avialable in '#'\n",
    "'#' in 'nadeem' # is '#' available in 'nadeem'\n",
    "'nad##m' in '#' # is 'nad##m' avaialabe in '#'\n",
    "'#' in 'nad##m' # is '#' avaialabe in 'nad##m'"
   ]
  },
  {
   "cell_type": "code",
   "execution_count": 6,
   "id": "caabd170-09c2-4424-a869-c80466b33f6d",
   "metadata": {},
   "outputs": [
    {
     "data": {
      "text/plain": [
       "['Hyd', 'Mumbai', 'Chennai', 'Blr']"
      ]
     },
     "execution_count": 6,
     "metadata": {},
     "output_type": "execute_result"
    }
   ],
   "source": [
    "# Q5)l1=['Hyd','Mumbai','chennai','blr']\n",
    "# ans= ['Hyd','Mumbai']\n",
    "# we want lements which are having first letter capital\n",
    "l1=['Hyd','Mumbai','Chennai','blr']\n",
    "ans=[]\n",
    "for i in l1:\n",
    " ans.append(i.capitalize())\n",
    "ans\n",
    "# what is the difference betweeb capitalize and title"
   ]
  },
  {
   "cell_type": "code",
   "execution_count": 7,
   "id": "925d20e0-66db-4a25-aa87-5521795534c0",
   "metadata": {},
   "outputs": [
    {
     "data": {
      "text/plain": [
       "'Hello Im Learning Python'"
      ]
     },
     "execution_count": 7,
     "metadata": {},
     "output_type": "execute_result"
    }
   ],
   "source": [
    "str1='hello im learning python'\n",
    "# Make everyword capitalize\n",
    "str1.title()"
   ]
  },
  {
   "cell_type": "code",
   "execution_count": null,
   "id": "a11ecbe6-d15f-4104-a107-0186f595741a",
   "metadata": {},
   "outputs": [],
   "source": [
    "# Do the same using capitalize method\n",
    "# step-1: split the string\n",
    "# step-2: take empty list\n",
    "# step-3: iterate the each letter apply capitlize and append it\n",
    "# step-4: join the list"
   ]
  },
  {
   "cell_type": "markdown",
   "id": "7661c2f0-5f51-4e4b-a624-2fb9647fc4c9",
   "metadata": {},
   "source": [
    "# **split-join**\n",
    "\n",
    "- split will apply for strings , to divide the words or characters\n",
    "- when we split the elements will be stored in a list format\n",
    "- Join is used to combine the elements of a list in a string format\n",
    "- **split-strings**\n",
    "- **join-list** "
   ]
  },
  {
   "cell_type": "code",
   "execution_count": 8,
   "id": "f2dc47b5-1984-4968-86a0-04514175c276",
   "metadata": {},
   "outputs": [
    {
     "data": {
      "text/plain": [
       "'Hello Im Learning Python'"
      ]
     },
     "execution_count": 8,
     "metadata": {},
     "output_type": "execute_result"
    }
   ],
   "source": [
    "str1='hello im learning python'\n",
    "words=str1.split()\n",
    "new_words=[]\n",
    "for i in words:\n",
    " new_words.append(i.capitalize())\n",
    "' '.join(new_words)"
   ]
  },
  {
   "cell_type": "code",
   "execution_count": 9,
   "id": "e754cf5f-3708-401e-bf84-39cc42b2e6a8",
   "metadata": {},
   "outputs": [
    {
     "name": "stdout",
     "output_type": "stream",
     "text": [
      "4.123105625617661\n"
     ]
    }
   ],
   "source": [
    "# Calculate the distance between two points\n",
    "# a=[1,2]\n",
    "# b=[4,5]\n",
    "# a=[x1,x2]\n",
    "# b=[y1,y2]\n",
    "# step-0: Import math\n",
    "# step-1:v1= x2-x1=a[2]-a[1] === index\n",
    "# step-2:v2= y2-y1=b[2]-b[1] === index\n",
    "# step-3: v11=v1**2\n",
    "# step-4: v22=v2**2\n",
    "# step-5: ans=math.sqrt(v11+v22)\n",
    "import math\n",
    "a= [1,2]\n",
    "b = [1,5]\n",
    "v1 = a[1]-a[0]\n",
    "v2 = b[1]-b[0]\n",
    "v11 = v1**2\n",
    "v22 = v2**2\n",
    "print(math.sqrt(v11+v22))"
   ]
  },
  {
   "cell_type": "code",
   "execution_count": 10,
   "id": "27d3213c-8cba-4f38-b4ce-e5c54d32bd74",
   "metadata": {},
   "outputs": [
    {
     "name": "stdout",
     "output_type": "stream",
     "text": [
      "4.123105625617661\n"
     ]
    }
   ],
   "source": [
    "import math\n",
    "a= [1,2]\n",
    "b = [1,5]\n",
    "print(math.sqrt(math.pow((a[1]-a[0]),2)+math.pow((b[1]-b[0]),2)))"
   ]
  },
  {
   "cell_type": "code",
   "execution_count": null,
   "id": "573cf5d5-2bbc-4506-89ad-9eb3743a0378",
   "metadata": {},
   "outputs": [],
   "source": [
    "[1,2,3,4,5,4,3,2,1]\n",
    "[100,500,600,700,400,300,50]"
   ]
  },
  {
   "cell_type": "code",
   "execution_count": 11,
   "id": "5e872f43-8e23-44ea-98ea-a914ddc0fa07",
   "metadata": {},
   "outputs": [
    {
     "name": "stdout",
     "output_type": "stream",
     "text": [
      "3.0\n"
     ]
    }
   ],
   "source": [
    "pints=[[1,2],[2,3],[3,4]]\n",
    "val=[2,3]\n",
    "# calculate the distance between val [2,3] to each and every point\n",
    "# and find the maximum distance\n",
    "import math\n",
    "a= [1,2] # [x1,y1]\n",
    "b = [1,5] # [x2,y2]\n",
    "# for loop\n",
    "v1 = b[0]-a[0] # x2-x1\n",
    "v2 = b[1]-a[1] # y2-y1\n",
    "v11 = v1**2\n",
    "v22 = v2**2\n",
    "print(math.sqrt(v11+v22))"
   ]
  },
  {
   "cell_type": "code",
   "execution_count": 12,
   "id": "36d62881-8d50-4de5-8089-b9bcd4f91dc7",
   "metadata": {},
   "outputs": [
    {
     "name": "stdout",
     "output_type": "stream",
     "text": [
      "1 2\n",
      "2 3\n",
      "====================\n",
      "2 3\n",
      "2 3\n",
      "====================\n",
      "3 4\n",
      "2 3\n",
      "====================\n"
     ]
    }
   ],
   "source": [
    "points=[[1,2],[2,3],[3,4]]\n",
    "val=[2,3]\n",
    "# [1,2] vs [2,3]\n",
    "# [2,3] vs [2,3]\n",
    "# [3,4] vs [2,3]\n",
    "for i in points:\n",
    " print(i[0],i[1]) # x1,y1\n",
    " print(val[0],val[1]) # x2,y2\n",
    " print('====================')"
   ]
  },
  {
   "cell_type": "code",
   "execution_count": 13,
   "id": "88e80ce6-2c50-4d85-b746-7de3e38375b4",
   "metadata": {},
   "outputs": [
    {
     "name": "stdout",
     "output_type": "stream",
     "text": [
      "1 2\n",
      "2 3\n",
      "3-2=1,2-1=1\n",
      "1.4142135623730951\n",
      "=======================\n",
      "2 3\n",
      "2 3\n",
      "3-2=0,2-2=0\n",
      "0.0\n",
      "=======================\n",
      "5 6\n",
      "2 3\n",
      "3-2=-3,2-5=-3\n",
      "4.242640687119285\n",
      "=======================\n"
     ]
    }
   ],
   "source": [
    "points=[[1,2],[2,3],[5,6]]\n",
    "val=[2,3]\n",
    "ans=[]\n",
    "for i in points:\n",
    " print(i[0],i[1])\n",
    " print(val[0],val[1])\n",
    " o1=val[0]-i[0]\n",
    " o2=val[1]-i[1]\n",
    " print(f\"{val[1]}-{val[0]}={o1},{val[0]}-{i[0]}={o2}\")\n",
    " v11 = o1**2\n",
    " v22 = o2**2\n",
    " print(math.sqrt(v11+v22))\n",
    " ans.append(math.sqrt(v11+v22))\n",
    " print('=======================')"
   ]
  },
  {
   "cell_type": "code",
   "execution_count": 14,
   "id": "613a8574-9d7a-44ca-85be-3e8b800b25b4",
   "metadata": {},
   "outputs": [
    {
     "data": {
      "text/plain": [
       "4.242640687119285"
      ]
     },
     "execution_count": 14,
     "metadata": {},
     "output_type": "execute_result"
    }
   ],
   "source": [
    "max(ans)"
   ]
  },
  {
   "cell_type": "code",
   "execution_count": 18,
   "id": "46fa5f2d-a831-4611-937c-645dce969061",
   "metadata": {},
   "outputs": [
    {
     "data": {
      "text/plain": [
       "[5, 3, 3, 3, 3]"
      ]
     },
     "execution_count": 18,
     "metadata": {},
     "output_type": "execute_result"
    }
   ],
   "source": [
    "# Q8) str='hello hai how are you'\n",
    "# Maximum len of word using split and max method\n",
    "# sum of all the indexes of the maximum len of word using append\n",
    "str1='hello hai how are you'\n",
    "words=str1.split()\n",
    "str2=[]\n",
    "for i in words:\n",
    "    x=len(i)\n",
    "    str2.append(x)\n",
    "str2"
   ]
  },
  {
   "cell_type": "code",
   "execution_count": 23,
   "id": "c996b9a0-806d-4a75-bd60-5983bc6e8c1b",
   "metadata": {},
   "outputs": [
    {
     "name": "stdout",
     "output_type": "stream",
     "text": [
      "hello\n"
     ]
    }
   ],
   "source": [
    "str1='hello hai how are you'\n",
    "words=str1.split()\n",
    "len_words=[]\n",
    "for i in words:\n",
    "     x=len(i)\n",
    "     len_words.append(x)\n",
    "max_len=max(len_words)\n",
    "for i in words:\n",
    "     if len(i)==max_len:\n",
    "         print(i)\n",
    "# First we are splitting\n",
    "# the we are calculating each and every len of words and append in a list\n",
    "# we are taking the max value from the list\n",
    "# again we are itertating words list\n",
    "# calculating len of each word\n",
    "# if that word length equal to max value\n",
    "# then that is our answer\n",
    "#hello == 0\n",
    "#0o1234"
   ]
  },
  {
   "cell_type": "code",
   "execution_count": 24,
   "id": "7b1d1b65-5157-483e-a604-3861cc72c88d",
   "metadata": {},
   "outputs": [
    {
     "data": {
      "text/plain": [
       "5"
      ]
     },
     "execution_count": 24,
     "metadata": {},
     "output_type": "execute_result"
    }
   ],
   "source": [
    "str1='hello hai how are you'\n",
    "words=str1.split()\n",
    "max(words)\n",
    "len_words=[5,3,3,3,3]\n",
    "max(len_words)"
   ]
  },
  {
   "cell_type": "code",
   "execution_count": null,
   "id": "4ea252f7-e57d-4d36-b04d-3215deb8b662",
   "metadata": {},
   "outputs": [],
   "source": [
    "# 10 )\n",
    "# You have two lists\n",
    "# qns=['What is capital of India',\n",
    " 'Who is PM of india',\n",
    " 'Who is ICT ODI captian']\n",
    "# ans = ['Delhi','Modi','Rohit']\n",
    "# For i in qns:\n",
    "# print(i)\n",
    "# ans= delhi\n",
    "# index should match\n",
    "# delhi modi \n",
    "# marks= marks+1\n",
    "# print the total marks"
   ]
  },
  {
   "cell_type": "code",
   "execution_count": 2,
   "id": "46aed6f3-f853-4bd0-8147-643e9f65437e",
   "metadata": {},
   "outputs": [
    {
     "name": "stdin",
     "output_type": "stream",
     "text": [
      "What is capital of India delhi\n",
      "Who is PM of india modi\n",
      "Who is ICT ODI captian rohit\n"
     ]
    },
    {
     "name": "stdout",
     "output_type": "stream",
     "text": [
      "The total marks are: 3\n"
     ]
    }
   ],
   "source": [
    "qns_list=['What is capital of India',\n",
    " 'Who is PM of india',\n",
    " 'Who is ICT ODI captian']\n",
    "ans_list = ['Delhi','Modi','Rohit']\n",
    "marks=0\n",
    "for i in range(len(qns_list)):\n",
    " ans=input(qns_list[i])\n",
    " if ans.lower()==ans_list[i].lower():\n",
    "     marks=marks+1 # marks=+1 (best practice)\n",
    "\n",
    "print(\"The total marks are:\",marks)\n",
    "\n",
    "# Step-1: We are iterating throuh qns list\n",
    "# step-2: We are taking each qns and we are providing the answer\n",
    "# Step-3: That answer == anslist"
   ]
  },
  {
   "cell_type": "code",
   "execution_count": 3,
   "id": "86ede4ee-acca-48bb-84d7-67bbcad1d279",
   "metadata": {},
   "outputs": [
    {
     "data": {
      "text/plain": [
       "['__add__',\n",
       " '__class__',\n",
       " '__class_getitem__',\n",
       " '__contains__',\n",
       " '__delattr__',\n",
       " '__delitem__',\n",
       " '__dir__',\n",
       " '__doc__',\n",
       " '__eq__',\n",
       " '__format__',\n",
       " '__ge__',\n",
       " '__getattribute__',\n",
       " '__getitem__',\n",
       " '__getstate__',\n",
       " '__gt__',\n",
       " '__hash__',\n",
       " '__iadd__',\n",
       " '__imul__',\n",
       " '__init__',\n",
       " '__init_subclass__',\n",
       " '__iter__',\n",
       " '__le__',\n",
       " '__len__',\n",
       " '__lt__',\n",
       " '__mul__',\n",
       " '__ne__',\n",
       " '__new__',\n",
       " '__reduce__',\n",
       " '__reduce_ex__',\n",
       " '__repr__',\n",
       " '__reversed__',\n",
       " '__rmul__',\n",
       " '__setattr__',\n",
       " '__setitem__',\n",
       " '__sizeof__',\n",
       " '__str__',\n",
       " '__subclasshook__',\n",
       " 'append',\n",
       " 'clear',\n",
       " 'copy',\n",
       " 'count',\n",
       " 'extend',\n",
       " 'index',\n",
       " 'insert',\n",
       " 'pop',\n",
       " 'remove',\n",
       " 'reverse',\n",
       " 'sort']"
      ]
     },
     "execution_count": 3,
     "metadata": {},
     "output_type": "execute_result"
    }
   ],
   "source": [
    "dir([])"
   ]
  },
  {
   "cell_type": "code",
   "execution_count": null,
   "id": "17a6fcab-3868-4525-b3bb-126506e612de",
   "metadata": {},
   "outputs": [],
   "source": [
    "# Append vs extend vs concatenation vs insert\n",
    "# pop vs remove\n",
    "# reverse vs reversed\n",
    "# sort vs sorted\n",
    "# index\n",
    "# count\n",
    "# clear and copy\n",
    "# Methods vs keywords\n",
    "# keywords : inbuilt functions\n",
    "# print() max() min() len(<) sorted(<>) reversed(<l>)\n",
    "# l.copy()\n",
    "# l.clear()"
   ]
  },
  {
   "cell_type": "markdown",
   "id": "40f055c2-63e7-42d9-989a-e0a35334a92f",
   "metadata": {},
   "source": [
    "**copy**"
   ]
  },
  {
   "cell_type": "code",
   "execution_count": 4,
   "id": "5ab9bcaa-b7bd-493e-aa54-acbfa7960f1d",
   "metadata": {},
   "outputs": [
    {
     "data": {
      "text/plain": [
       "[1, 2, 3, 100, 200, 80, 70, 60]"
      ]
     },
     "execution_count": 4,
     "metadata": {},
     "output_type": "execute_result"
    }
   ],
   "source": [
    "l1=[1,2,3,100,200,80,70,60]\n",
    "l2=l1.copy()\n",
    "l2"
   ]
  },
  {
   "cell_type": "code",
   "execution_count": 5,
   "id": "9138990b-11af-4618-9694-750204097d17",
   "metadata": {},
   "outputs": [
    {
     "data": {
      "text/plain": [
       "([1, 2, 3, 100, 200, 80, 70, 60], [1, 2, 3, 100, 200, 80, 70, 60])"
      ]
     },
     "execution_count": 5,
     "metadata": {},
     "output_type": "execute_result"
    }
   ],
   "source": [
    "l1,l2"
   ]
  },
  {
   "cell_type": "markdown",
   "id": "230b58a2-fb51-452c-9428-0aac0dcc881d",
   "metadata": {},
   "source": [
    "**clear**"
   ]
  },
  {
   "cell_type": "code",
   "execution_count": 6,
   "id": "91f0faa8-5c83-4430-994d-682c6b484988",
   "metadata": {},
   "outputs": [
    {
     "data": {
      "text/plain": [
       "[]"
      ]
     },
     "execution_count": 6,
     "metadata": {},
     "output_type": "execute_result"
    }
   ],
   "source": [
    "l1.clear()\n",
    "l1"
   ]
  },
  {
   "cell_type": "code",
   "execution_count": 7,
   "id": "70377cd9-d388-4030-816f-4dd4ee4a28fa",
   "metadata": {},
   "outputs": [
    {
     "data": {
      "text/plain": [
       "[1, 2, 3, 100, 200, 80, 70, 60]"
      ]
     },
     "execution_count": 7,
     "metadata": {},
     "output_type": "execute_result"
    }
   ],
   "source": [
    "l2"
   ]
  },
  {
   "cell_type": "code",
   "execution_count": 8,
   "id": "76a5a97f-0351-463e-84ea-567da5334c05",
   "metadata": {},
   "outputs": [
    {
     "name": "stdout",
     "output_type": "stream",
     "text": [
      "<class 'list'>\n"
     ]
    }
   ],
   "source": [
    "print(type([]))"
   ]
  },
  {
   "cell_type": "markdown",
   "id": "c1312925-58d0-440c-9396-2b04eb6f9ab8",
   "metadata": {},
   "source": [
    "**append-extend-concatenation-insert**"
   ]
  },
  {
   "cell_type": "code",
   "execution_count": 9,
   "id": "4bcf5d7f-4ecd-4971-a834-fdd700621409",
   "metadata": {},
   "outputs": [
    {
     "name": "stdout",
     "output_type": "stream",
     "text": [
      "[1, 2, 3, 4, ['A', 'B', 'C', 'D']]\n",
      "['A', 'B', 'C', 'D']\n"
     ]
    }
   ],
   "source": [
    "l1=[1,2,3,4]\n",
    "l2=['A','B','C','D']\n",
    "l1.append(l2)\n",
    "print(l1)\n",
    "print(l2)\n",
    "# l1 list is overwrire with l2 values"
   ]
  },
  {
   "cell_type": "code",
   "execution_count": 10,
   "id": "1fbacee9-0270-44fd-a1b0-3f02d6154d45",
   "metadata": {},
   "outputs": [
    {
     "name": "stdout",
     "output_type": "stream",
     "text": [
      "[1, 2, 3, 4, 'A', 'B', 'C', 'D']\n",
      "['A', 'B', 'C', 'D']\n"
     ]
    }
   ],
   "source": [
    "l1=[1,2,3,4]\n",
    "l2=['A','B','C','D']\n",
    "l1.extend(l2)\n",
    "print(l1)\n",
    "print(l2)"
   ]
  },
  {
   "cell_type": "code",
   "execution_count": 11,
   "id": "c6ebca32-01bb-409d-902e-1336f58f06fc",
   "metadata": {},
   "outputs": [
    {
     "name": "stdout",
     "output_type": "stream",
     "text": [
      "[1, 2, 3, 4]\n",
      "['A', 'B', 'C', 'D', 1, 2, 3, 4]\n"
     ]
    }
   ],
   "source": [
    "l1=[1,2,3,4]\n",
    "l2=['A','B','C','D']\n",
    "l2.extend(l1)\n",
    "print(l1)\n",
    "print(l2)"
   ]
  },
  {
   "cell_type": "code",
   "execution_count": 12,
   "id": "fff14909-0de9-46f1-9e17-34b086595f2f",
   "metadata": {},
   "outputs": [
    {
     "name": "stdout",
     "output_type": "stream",
     "text": [
      "[1, 2, 3, 4, 'A', 'B', 'C', 'D']\n",
      "['A', 'B', 'C', 'D', 1, 2, 3, 4]\n",
      "[1, 2, 3, 4]\n",
      "['A', 'B', 'C', 'D']\n"
     ]
    }
   ],
   "source": [
    "l1=[1,2,3,4]\n",
    "l2=['A','B','C','D']\n",
    "print(l1+l2)\n",
    "print(l2+l1)\n",
    "print(l1)\n",
    "print(l2)"
   ]
  },
  {
   "cell_type": "code",
   "execution_count": 13,
   "id": "d91098f6-29c0-4fba-aaa8-e50794ffc24b",
   "metadata": {},
   "outputs": [
    {
     "data": {
      "text/plain": [
       "[1, 2, 3, 4, 'a', 'p', 'p', 'l', 'e']"
      ]
     },
     "execution_count": 13,
     "metadata": {},
     "output_type": "execute_result"
    }
   ],
   "source": [
    "l1=[1,2,3,4]\n",
    "l1.extend('apple')\n",
    "l1\n",
    "#[1,2,3,4,'a','p','p','l','e']"
   ]
  },
  {
   "cell_type": "code",
   "execution_count": 14,
   "id": "b4f9e870-33e1-44ef-af67-db35cae67ef2",
   "metadata": {},
   "outputs": [
    {
     "data": {
      "text/plain": [
       "[1, 2, 3, 4, 10, 20, 30, 40]"
      ]
     },
     "execution_count": 14,
     "metadata": {},
     "output_type": "execute_result"
    }
   ],
   "source": [
    "l1=[1,2,3,4]\n",
    "l1.extend((10,20,30,40))\n",
    "l1"
   ]
  },
  {
   "cell_type": "markdown",
   "id": "435c0bd8-55ce-401d-a21a-d18df4265299",
   "metadata": {},
   "source": [
    "- append just append the value with base data type\n",
    "- extend is concatenate the value, and the list will be overwrite with new values\n",
    "- extend can take any iterable format type i.e. string,list,tuple\n",
    "- extend and concatenation both are same\n",
    "- the list will not overwrite in concatenation"
   ]
  },
  {
   "cell_type": "markdown",
   "id": "8ccc9205-4529-44da-b9c7-6014eeb7a46c",
   "metadata": {},
   "source": [
    "**index**"
   ]
  },
  {
   "cell_type": "markdown",
   "id": "24db0d70-b056-431f-9239-d1425b4d8325",
   "metadata": {},
   "source": [
    "- same like string only"
   ]
  },
  {
   "cell_type": "code",
   "execution_count": 15,
   "id": "4b823e20-ae5e-4e6f-abd2-7fea964a7fbc",
   "metadata": {},
   "outputs": [
    {
     "data": {
      "text/plain": [
       "(3, 6)"
      ]
     },
     "execution_count": 15,
     "metadata": {},
     "output_type": "execute_result"
    }
   ],
   "source": [
    "l1=[1, 2, 3,'Apple', 10, 20, 'Apple', 40]\n",
    "l1.index(2)\n",
    "i1=l1.index('Apple')\n",
    "i2=l1.index('Apple',i1+1)\n",
    "i1,i2\n"
   ]
  },
  {
   "cell_type": "code",
   "execution_count": 16,
   "id": "3f426158-011a-4626-95f5-4d4c633b85fb",
   "metadata": {},
   "outputs": [
    {
     "data": {
      "text/plain": [
       "6"
      ]
     },
     "execution_count": 16,
     "metadata": {},
     "output_type": "execute_result"
    }
   ],
   "source": [
    "l1.index('Apple',l1.index('Apple')+1)"
   ]
  },
  {
   "cell_type": "code",
   "execution_count": 17,
   "id": "547bb7a1-346b-4cbf-89dd-343de60dff7a",
   "metadata": {},
   "outputs": [
    {
     "name": "stdout",
     "output_type": "stream",
     "text": [
      "3\n"
     ]
    }
   ],
   "source": [
    "l1=[1, 2, 3,'Apple', 10, 20, 'Apple', 40]\n",
    "# 0 1 2 3 4 5 6 7\n",
    "i1=l1.index('Apple') # Case-1\n",
    "i2=l1.index('Apple',i1+1) # Case-2\n",
    "i3=l1.index('Apple',2,5) # Case-3\n",
    "print(i3)\n",
    "# If i want second 'Apple'\n",
    "# from which index my eyes will start"
   ]
  },
  {
   "cell_type": "markdown",
   "id": "263d99cf-fbca-4658-8932-b3b67620afed",
   "metadata": {},
   "source": [
    "- case-1: Directly get the index\n",
    "- case-2: Next value index, by providing start\n",
    "- case-3: Between the values"
   ]
  },
  {
   "cell_type": "markdown",
   "id": "2d89f045-6207-42e8-90be-fa8fd18d34c4",
   "metadata": {},
   "source": [
    "- Copy/clear\n",
    "- Append/Extend/Concatenation\n",
    "- Index\n",
    "- There is no find in list\n",
    "- count is exactly same as strings\n"
   ]
  },
  {
   "cell_type": "markdown",
   "id": "f05641e5-a181-4deb-a18a-c34a552370a9",
   "metadata": {},
   "source": [
    "**insert**"
   ]
  },
  {
   "cell_type": "markdown",
   "id": "8a476bd3-0a64-49eb-a223-ff9a372d902c",
   "metadata": {},
   "source": [
    "- will insert the element based on index\n",
    "- append will add the element at last only"
   ]
  },
  {
   "cell_type": "code",
   "execution_count": 1,
   "id": "9b57fc2e-3c89-4b9f-92f0-52ec120e748c",
   "metadata": {},
   "outputs": [
    {
     "data": {
      "text/plain": [
       "[1, 2, 3, 'Banana', 'Apple', 10, 20, 'Apple', 40]"
      ]
     },
     "execution_count": 1,
     "metadata": {},
     "output_type": "execute_result"
    }
   ],
   "source": [
    "l1=[1, 2, 3,'Apple', 10, 20, 'Apple', 40]\n",
    "# 0 1 2 3 4 5 6 7\n",
    "i1=l1.index('Apple') # Apple index = 3\n",
    "l1.insert(i1,'Banana') # insert banana before index i1(3)\n",
    "l1"
   ]
  },
  {
   "cell_type": "code",
   "execution_count": 2,
   "id": "2a66621e-c3e0-405b-a4db-40c18c5d2d19",
   "metadata": {},
   "outputs": [
    {
     "data": {
      "text/plain": [
       "[1, 2, 3, 'Apple', 10, 20, 'Apple', 'Cherry', 40]"
      ]
     },
     "execution_count": 2,
     "metadata": {},
     "output_type": "execute_result"
    }
   ],
   "source": [
    "l1=[1, 2, 3,'Apple', 10, 20, 'Apple', 40]\n",
    "# Insert 'Cherry' before 40\n",
    "# You need to find index of the 40\n",
    "i1=l1.index(40)\n",
    "l1.insert(i1,'Cherry')\n",
    "l1"
   ]
  },
  {
   "cell_type": "code",
   "execution_count": 3,
   "id": "1d3ab0a3-9881-437d-8728-ee56da0a055c",
   "metadata": {},
   "outputs": [
    {
     "data": {
      "text/plain": [
       "[1, 2, 3, 'Apple', 10, 20, 'Cherry', 'Apple', 40]"
      ]
     },
     "execution_count": 3,
     "metadata": {},
     "output_type": "execute_result"
    }
   ],
   "source": [
    "#If we want to add cherry before 2nd apple then how ?\n",
    "l1=[1, 2, 3,'Apple', 10, 20, 'Apple', 40]\n",
    "# step-1: we want to find the index of 2nd 'APPLE'\n",
    "# Step-2: How to find the second 'Apple' index\n",
    "i1=l1.index('Apple')\n",
    "i2=l1.index('Apple',i1+1)\n",
    "l1.insert(6,'Cherry')\n",
    "l1"
   ]
  },
  {
   "cell_type": "markdown",
   "id": "136eb25c-3067-45d1-b3b7-84f9ebe74ecb",
   "metadata": {},
   "source": [
    "**pop-remove-del**"
   ]
  },
  {
   "cell_type": "markdown",
   "id": "58feeac3-22b6-4a59-b517-2d7bc8b2a75f",
   "metadata": {},
   "source": [
    "- pop will remove the item\n",
    "- pop also display the item which is removing\n",
    "- pop will take one argument:index\n",
    "- pop will remove the item based on index\n",
    "- if you dont provide any index, by default it will remove last value\n",
    "- because the default index value is -1"
   ]
  },
  {
   "cell_type": "code",
   "execution_count": 4,
   "id": "d3f81870-67fa-4f37-81b2-5bd7ed159d7c",
   "metadata": {},
   "outputs": [
    {
     "data": {
      "text/plain": [
       "[1, 2, 3, 'Apple', 10, 20, 'Apple']"
      ]
     },
     "execution_count": 4,
     "metadata": {},
     "output_type": "execute_result"
    }
   ],
   "source": [
    "l1=[1, 2, 3,'Apple', 10, 20, 'Apple', 40]\n",
    "l1.pop()\n",
    "l1"
   ]
  },
  {
   "cell_type": "code",
   "execution_count": 6,
   "id": "bc2add84-0bf4-40a9-9c85-4adba9c57414",
   "metadata": {},
   "outputs": [
    {
     "data": {
      "text/plain": [
       "[1, 2, 3, 'Apple', 10, 20, 'Apple', 40]"
      ]
     },
     "execution_count": 6,
     "metadata": {},
     "output_type": "execute_result"
    }
   ],
   "source": [
    "# We are concentarting only on first Apple\n",
    "l1=[1, 2, 3,'Apple', 10, 20, 'Apple', 40]\n",
    "i1=l1.index('Apple')\n",
    "l1"
   ]
  },
  {
   "cell_type": "code",
   "execution_count": 7,
   "id": "84962909-db78-4847-bbda-e2a96818bea5",
   "metadata": {},
   "outputs": [
    {
     "data": {
      "text/plain": [
       "[1, 2, 3, 'Apple', 10, 20, 40]"
      ]
     },
     "execution_count": 7,
     "metadata": {},
     "output_type": "execute_result"
    }
   ],
   "source": [
    "# We are concentarting only on Second apple\n",
    "l1=[1, 2, 3,'Apple', 10, 20, 'Apple', 40]\n",
    "i1=l1.index('Apple')\n",
    "i2=l1.index('Apple',i1+1)\n",
    "l1.pop(i2)\n",
    "l1"
   ]
  },
  {
   "cell_type": "code",
   "execution_count": 8,
   "id": "00eadfa5-1fd9-49cd-b17f-5ed1accbb9cf",
   "metadata": {},
   "outputs": [
    {
     "data": {
      "text/plain": [
       "[1, 2, 3, 10, 20, 40]"
      ]
     },
     "execution_count": 8,
     "metadata": {},
     "output_type": "execute_result"
    }
   ],
   "source": [
    "l1=[1, 2, 3,'Apple', 10, 20, 'Apple', 40]\n",
    "i1=l1.index('Apple') #3\n",
    "l1.pop(i1) # l1=[1, 2, 3,10, 20, 'Apple', 40]\n",
    "###############################################################\n",
    "i1=l1.index('Apple')\n",
    "l1.pop(i1)\n",
    "l1"
   ]
  },
  {
   "cell_type": "code",
   "execution_count": 9,
   "id": "c7d4e3cf-be75-47c5-82af-e665e2199d2a",
   "metadata": {},
   "outputs": [
    {
     "data": {
      "text/plain": [
       "'hai how are you im good thank you'"
      ]
     },
     "execution_count": 9,
     "metadata": {},
     "output_type": "execute_result"
    }
   ],
   "source": [
    "str='hai apple how are you apple im good apple thank you apple'\n",
    "# o/p='hai how are you im goof thank you'\n",
    "# Idea:\n",
    "# step-1: split\n",
    "# itearte it\n",
    "# pop it\n",
    "# join it\n",
    "list1=str.split()\n",
    "count=list1.count('apple')\n",
    "for i in range(count):\n",
    " i1=list1.index('apple')\n",
    " list1.pop(i1)\n",
    "' '.join(list1)"
   ]
  },
  {
   "cell_type": "markdown",
   "id": "2492e40e-75ad-49ba-a1ac-0665d80903f9",
   "metadata": {},
   "source": [
    "- pop will take the index\n",
    "- remove will take the value\n",
    "- remove will delete the first occurence of element"
   ]
  },
  {
   "cell_type": "code",
   "execution_count": 10,
   "id": "e4ed0579-a28f-4ace-9676-f437220e527c",
   "metadata": {},
   "outputs": [
    {
     "data": {
      "text/plain": [
       "[1, 2, 3, 10, 20, 'Apple', 40]"
      ]
     },
     "execution_count": 10,
     "metadata": {},
     "output_type": "execute_result"
    }
   ],
   "source": [
    "l1=[1, 2, 3,'Apple', 10, 20, 'Apple', 40]\n",
    "l1.remove('Apple')\n",
    "l1"
   ]
  },
  {
   "cell_type": "code",
   "execution_count": 11,
   "id": "0389d76e-8940-41df-9e97-5947161a9eda",
   "metadata": {},
   "outputs": [
    {
     "data": {
      "text/plain": [
       "'hai how are you im good thank you'"
      ]
     },
     "execution_count": 11,
     "metadata": {},
     "output_type": "execute_result"
    }
   ],
   "source": [
    "str='hai apple how are you apple im good apple thank you apple'\n",
    "list1=str.split()\n",
    "count=list1.count('apple')\n",
    "for i in range(count):\n",
    " list1.remove('apple')\n",
    "' '.join(list1)"
   ]
  },
  {
   "cell_type": "markdown",
   "id": "67f674d7-31c5-444b-a83b-b1d1f0b511ca",
   "metadata": {},
   "source": [
    "**del**"
   ]
  },
  {
   "cell_type": "code",
   "execution_count": 12,
   "id": "2bdbaf9c-8d77-4ddc-af69-db17d5fd90f3",
   "metadata": {},
   "outputs": [
    {
     "data": {
      "text/plain": [
       "[1, 2, 3, 10, 20, 'Apple', 40]"
      ]
     },
     "execution_count": 12,
     "metadata": {},
     "output_type": "execute_result"
    }
   ],
   "source": [
    "l1=[1, 2, 3,'Apple', 10, 20, 'Apple', 40]\n",
    "del(l1[3])\n",
    "l1"
   ]
  },
  {
   "cell_type": "markdown",
   "id": "b75de58c-f22b-4407-96e2-01594a470700",
   "metadata": {},
   "source": [
    "- append / extend/ insert/concatenation\n",
    "- pop/remove/del\n",
    "- sort/sorted\n",
    "- reverse/reveresd\n",
    "- count and index"
   ]
  },
  {
   "cell_type": "code",
   "execution_count": 13,
   "id": "ef95b946-0cdd-4d64-9fec-27c7ee8370b3",
   "metadata": {},
   "outputs": [
    {
     "data": {
      "text/plain": [
       "['__add__',\n",
       " '__class__',\n",
       " '__class_getitem__',\n",
       " '__contains__',\n",
       " '__delattr__',\n",
       " '__dir__',\n",
       " '__doc__',\n",
       " '__eq__',\n",
       " '__format__',\n",
       " '__ge__',\n",
       " '__getattribute__',\n",
       " '__getitem__',\n",
       " '__getnewargs__',\n",
       " '__getstate__',\n",
       " '__gt__',\n",
       " '__hash__',\n",
       " '__init__',\n",
       " '__init_subclass__',\n",
       " '__iter__',\n",
       " '__le__',\n",
       " '__len__',\n",
       " '__lt__',\n",
       " '__mul__',\n",
       " '__ne__',\n",
       " '__new__',\n",
       " '__reduce__',\n",
       " '__reduce_ex__',\n",
       " '__repr__',\n",
       " '__rmul__',\n",
       " '__setattr__',\n",
       " '__sizeof__',\n",
       " '__str__',\n",
       " '__subclasshook__',\n",
       " 'count',\n",
       " 'index']"
      ]
     },
     "execution_count": 13,
     "metadata": {},
     "output_type": "execute_result"
    }
   ],
   "source": [
    "dir(())"
   ]
  },
  {
   "cell_type": "code",
   "execution_count": null,
   "id": "b316d4ca-35e2-47a5-b46e-9976e5af9f4b",
   "metadata": {},
   "outputs": [],
   "source": []
  }
 ],
 "metadata": {
  "kernelspec": {
   "display_name": "Python 3 (ipykernel)",
   "language": "python",
   "name": "python3"
  },
  "language_info": {
   "codemirror_mode": {
    "name": "ipython",
    "version": 3
   },
   "file_extension": ".py",
   "mimetype": "text/x-python",
   "name": "python",
   "nbconvert_exporter": "python",
   "pygments_lexer": "ipython3",
   "version": "3.11.7"
  }
 },
 "nbformat": 4,
 "nbformat_minor": 5
}
