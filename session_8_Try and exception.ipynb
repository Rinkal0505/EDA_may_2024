{
 "cells": [
  {
   "cell_type": "markdown",
   "id": "5afc2e4b-64c7-4a9b-8248-fa04493ebc0a",
   "metadata": {},
   "source": [
    "**try-except**\n",
    "\n",
    "- generally in real time we will write n no of python lines\n",
    "- There the situation we might get an error,that error might be unknown\n",
    "- This unknown errors doesn't cause an harm\n",
    "- even though you are getting the error we need to proceed further\n",
    "- also we need to catch that error \n",
    "- because we already know python is a sequential process\n",
    "- means the lines will execute step by step\n",
    "- suppose you have an error at particular line ,the code execution will stop at that line only\n",
    "- but you know that error is not harmful \n",
    "- so you want to continue the execution\n",
    "- then we required try-except"
   ]
  },
  {
   "cell_type": "markdown",
   "id": "8ae1b0d1-5cec-49e7-890e-972b3b7b5612",
   "metadata": {},
   "source": [
    "- try-except has 2 blocks\n",
    "\n",
    "- try block as actual code\n",
    "\n",
    "- except block will catch the error"
   ]
  },
  {
   "cell_type": "code",
   "execution_count": 1,
   "id": "6fbd8d2e-e6b1-4fe4-bb4b-35feffafef4b",
   "metadata": {},
   "outputs": [
    {
     "name": "stdin",
     "output_type": "stream",
     "text": [
      "Enter the number 1 30\n",
      "Enter the number 2 45\n"
     ]
    },
    {
     "name": "stdout",
     "output_type": "stream",
     "text": [
      "75\n"
     ]
    }
   ],
   "source": [
    "n1=eval(input(\"Enter the number 1\"))\n",
    "n2=eval(input(\"Enter the number 2\"))\n",
    "add= n1+n2\n",
    "print(add)\n"
   ]
  },
  {
   "cell_type": "code",
   "execution_count": 3,
   "id": "f2e4d8de-19a8-40e4-b71f-84bf349ca6fd",
   "metadata": {},
   "outputs": [
    {
     "name": "stdin",
     "output_type": "stream",
     "text": [
      "Enter the number 1 78\n",
      "Enter the number 2 88\n"
     ]
    },
    {
     "name": "stdout",
     "output_type": "stream",
     "text": [
      "166\n"
     ]
    }
   ],
   "source": [
    "try:\n",
    "    n1=eval(input(\"Enter the number 1\"))\n",
    "    n2=eval(input(\"Enter the number 2\"))\n",
    "    add= n1+n2\n",
    "    print(add)\n",
    "except:\n",
    "    print('hello')\n",
    "    print('You are getting error')\n",
    "    print(\"Check the code properly\")\n"
   ]
  },
  {
   "cell_type": "markdown",
   "id": "c7593c36-bb68-4e64-96fb-455a28454cd9",
   "metadata": {},
   "source": [
    "**NOTE**\n",
    "\n",
    "Generally try except block will use to catch the errors"
   ]
  },
  {
   "cell_type": "code",
   "execution_count": 9,
   "id": "4ac8755d-ea25-43ee-afc3-3eeff40157d4",
   "metadata": {},
   "outputs": [
    {
     "name": "stdin",
     "output_type": "stream",
     "text": [
      "Enter the number 1 80\n",
      "Enter the number 2 0\n"
     ]
    },
    {
     "name": "stdout",
     "output_type": "stream",
     "text": [
      "The error is division by zero\n"
     ]
    }
   ],
   "source": [
    "try:\n",
    "    n1=eval(input(\"Enter the number 1\"))\n",
    "    n2=eval(input(\"Enter the number 2\"))\n",
    "    add= n1+n2\n",
    "    div=n1/n2\n",
    "    print(add)\n",
    "except Exception as e:\n",
    "    print(f\"The error is {e}\")"
   ]
  },
  {
   "cell_type": "code",
   "execution_count": null,
   "id": "6265b37e-f407-4bb7-9d7a-801b0fb01e27",
   "metadata": {},
   "outputs": [],
   "source": [
    "# name error\n",
    "# type error\n",
    "# zero division error"
   ]
  },
  {
   "cell_type": "code",
   "execution_count": null,
   "id": "a6e5824e-ef74-4c98-8590-b3e5507f342d",
   "metadata": {},
   "outputs": [],
   "source": []
  },
  {
   "cell_type": "code",
   "execution_count": null,
   "id": "498096a5-8711-43c8-8bea-b7257a1445c7",
   "metadata": {},
   "outputs": [],
   "source": []
  },
  {
   "cell_type": "code",
   "execution_count": null,
   "id": "aa92f244-a15d-4010-8af0-1222174c5f75",
   "metadata": {},
   "outputs": [],
   "source": []
  },
  {
   "cell_type": "code",
   "execution_count": null,
   "id": "0f9b4e12-2ad3-48f2-b4ca-8b7d86bc9156",
   "metadata": {},
   "outputs": [],
   "source": []
  },
  {
   "cell_type": "code",
   "execution_count": null,
   "id": "a45b3834-5f92-4edc-b7b6-d5721a933da0",
   "metadata": {},
   "outputs": [],
   "source": []
  },
  {
   "cell_type": "code",
   "execution_count": null,
   "id": "3136587d-e379-4a36-8e23-87a9229fb3be",
   "metadata": {},
   "outputs": [],
   "source": []
  },
  {
   "cell_type": "code",
   "execution_count": null,
   "id": "92949923-4feb-43fe-80bc-44a6be264176",
   "metadata": {},
   "outputs": [],
   "source": []
  }
 ],
 "metadata": {
  "kernelspec": {
   "display_name": "Python 3 (ipykernel)",
   "language": "python",
   "name": "python3"
  },
  "language_info": {
   "codemirror_mode": {
    "name": "ipython",
    "version": 3
   },
   "file_extension": ".py",
   "mimetype": "text/x-python",
   "name": "python",
   "nbconvert_exporter": "python",
   "pygments_lexer": "ipython3",
   "version": "3.11.7"
  }
 },
 "nbformat": 4,
 "nbformat_minor": 5
}
