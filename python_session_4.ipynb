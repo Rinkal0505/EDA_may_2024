{
 "cells": [
  {
   "cell_type": "code",
   "execution_count": 2,
   "id": "bba50b20-7a36-4cbc-80c5-fe6d740664d8",
   "metadata": {},
   "outputs": [
    {
     "name": "stdout",
     "output_type": "stream",
     "text": [
      "the area of the triangle is:65.625\n",
      "the area of the triangle is:{area}\n"
     ]
    }
   ],
   "source": [
    "# take the breadth of the triangle\n",
    "# take the height of the triangle\n",
    "# area of the triangle\n",
    "\n",
    "base=10.5\n",
    "height=12.5\n",
    "area=1/2*base*height\n",
    "print(\"the area of the triangle is:{}\".format(area))\n",
    "print(\"the area of the triangle is:{area}\")"
   ]
  },
  {
   "cell_type": "code",
   "execution_count": 7,
   "id": "c509e5c5-9878-4320-9291-7cbe8a3d77d7",
   "metadata": {},
   "outputs": [
    {
     "name": "stdout",
     "output_type": "stream",
     "text": [
      "the tip amount is :100.0\n",
      "the total bill is:1100.0\n"
     ]
    }
   ],
   "source": [
    "# take the bill_amount\n",
    "# take the tip_percentage\n",
    "# calculate tip_amount\n",
    "# calculate the total_bill\n",
    "# print the total bill\n",
    "\n",
    "bill_amount = 1000\n",
    "tip_percentage=10\n",
    "tip_amount=(tip_percentage*bill_amount)/100\n",
    "total_bill=tip_amount+bill_amount\n",
    "print(\"the tip amount is :{}\".format(tip_amount))\n",
    "print(\"the total bill is:{}\".format(total_bill))"
   ]
  },
  {
   "cell_type": "code",
   "execution_count": 8,
   "id": "8942330c-f4d2-4541-bb93-4b04073bbc62",
   "metadata": {},
   "outputs": [
    {
     "name": "stdout",
     "output_type": "stream",
     "text": [
      "10\n",
      "20\n"
     ]
    }
   ],
   "source": [
    "print(10)\n",
    "print(20)"
   ]
  },
  {
   "cell_type": "code",
   "execution_count": 9,
   "id": "f6427280-2b1d-45f6-a25d-0982810c350f",
   "metadata": {},
   "outputs": [
    {
     "name": "stdout",
     "output_type": "stream",
     "text": [
      "10 20\n"
     ]
    }
   ],
   "source": [
    "print(10,20)"
   ]
  },
  {
   "cell_type": "markdown",
   "id": "c97b3b8f-9fb5-40a0-80c5-3a89547f9e63",
   "metadata": {},
   "source": [
    "## END OPERATOR"
   ]
  },
  {
   "cell_type": "markdown",
   "id": "e3afb433-7e31-49d5-a926-52513644b205",
   "metadata": {},
   "source": [
    "- combining 2 or more print statements in a single line"
   ]
  },
  {
   "cell_type": "code",
   "execution_count": 11,
   "id": "f071c62c-8450-42c8-8ddb-eca2fd034663",
   "metadata": {},
   "outputs": [
    {
     "name": "stdout",
     "output_type": "stream",
     "text": [
      "1020\n"
     ]
    }
   ],
   "source": [
    "print(10,end='')\n",
    "print(20)"
   ]
  },
  {
   "cell_type": "code",
   "execution_count": 12,
   "id": "542602cf-33ea-4de7-b187-76480334223e",
   "metadata": {},
   "outputs": [
    {
     "name": "stdout",
     "output_type": "stream",
     "text": [
      "20    40\n"
     ]
    }
   ],
   "source": [
    "print(20,end='    ')\n",
    "print(40)"
   ]
  },
  {
   "cell_type": "code",
   "execution_count": 13,
   "id": "3472f463-61ce-4585-810c-5fbacdda6c7c",
   "metadata": {},
   "outputs": [
    {
     "name": "stdout",
     "output_type": "stream",
     "text": [
      "10  20  30\n"
     ]
    }
   ],
   "source": [
    "print(10,end='  ')\n",
    "print(20,end='  ')\n",
    "print(30)"
   ]
  },
  {
   "cell_type": "markdown",
   "id": "7f0afb64-e755-4c83-a903-b8b079686af5",
   "metadata": {},
   "source": [
    "## SEPERATOR OPERATOR"
   ]
  },
  {
   "cell_type": "markdown",
   "id": "dae4391c-6e71-48fa-a111-6038a1bfa163",
   "metadata": {},
   "source": [
    "- Seperate the multiple values in a single print statement"
   ]
  },
  {
   "cell_type": "code",
   "execution_count": 16,
   "id": "86522546-b20a-4f75-803f-43a0e3835a81",
   "metadata": {},
   "outputs": [
    {
     "name": "stdout",
     "output_type": "stream",
     "text": [
      "10----->20----->30\n"
     ]
    }
   ],
   "source": [
    "print(10,20,30,sep='----->')\n",
    "# 10 & 20 & 30"
   ]
  },
  {
   "cell_type": "code",
   "execution_count": 17,
   "id": "7ce2285f-89f6-4dd6-aa86-60c2a5e785e3",
   "metadata": {},
   "outputs": [
    {
     "name": "stdout",
     "output_type": "stream",
     "text": [
      "10 & 20 & 30\n"
     ]
    }
   ],
   "source": [
    "print(10,20,30,sep=' & ')"
   ]
  },
  {
   "cell_type": "code",
   "execution_count": 18,
   "id": "ffafa959-1154-4505-bbf1-2398ecb1e20d",
   "metadata": {},
   "outputs": [
    {
     "name": "stdout",
     "output_type": "stream",
     "text": [
      "The addition of 5 and 3 is 8.\n"
     ]
    }
   ],
   "source": [
    "print(f\"The addition of {5} and {3} is {5+3}.\")"
   ]
  },
  {
   "cell_type": "code",
   "execution_count": 20,
   "id": "310cf864-e8a2-4e0c-8e8d-d33166a62171",
   "metadata": {},
   "outputs": [
    {
     "name": "stdout",
     "output_type": "stream",
     "text": [
      "The addition of 5 and 3 is 8.\n"
     ]
    }
   ],
   "source": [
    "print(\"The addition of {} and {} is {}.\".format(5,3,5+3))"
   ]
  },
  {
   "cell_type": "code",
   "execution_count": 21,
   "id": "5330bbcd-05fb-49ae-ae5e-f68d4649d640",
   "metadata": {},
   "outputs": [
    {
     "name": "stdout",
     "output_type": "stream",
     "text": [
      "the addition of 5 and 3 is 8.\n"
     ]
    }
   ],
   "source": [
    "print('the addition of 5 and 3 is 8','.',sep='')"
   ]
  },
  {
   "cell_type": "code",
   "execution_count": 1,
   "id": "6667adfe-d705-46c4-8039-f74de7b76911",
   "metadata": {},
   "outputs": [
    {
     "ename": "SyntaxError",
     "evalue": "invalid syntax (635472885.py, line 1)",
     "output_type": "error",
     "traceback": [
      "\u001b[1;36m  Cell \u001b[1;32mIn[1], line 1\u001b[1;36m\u001b[0m\n\u001b[1;33m    word = &quot;Python&quot;\u001b[0m\n\u001b[1;37m           ^\u001b[0m\n\u001b[1;31mSyntaxError\u001b[0m\u001b[1;31m:\u001b[0m invalid syntax\n"
     ]
    }
   ],
   "source": [
    "word = &quot;Python&quot;\n",
    "print(word[0])"
   ]
  },
  {
   "cell_type": "code",
   "execution_count": 2,
   "id": "d9bf817d-2639-4eb9-b9d0-e72d641a5322",
   "metadata": {},
   "outputs": [
    {
     "ename": "SyntaxError",
     "evalue": "invalid character '‘' (U+2018) (3210599594.py, line 3)",
     "output_type": "error",
     "traceback": [
      "\u001b[1;36m  Cell \u001b[1;32mIn[2], line 3\u001b[1;36m\u001b[0m\n\u001b[1;33m    c = ‘Hello’\u001b[0m\n\u001b[1;37m        ^\u001b[0m\n\u001b[1;31mSyntaxError\u001b[0m\u001b[1;31m:\u001b[0m invalid character '‘' (U+2018)\n"
     ]
    }
   ],
   "source": [
    "a = 5\n",
    "b = 2.5\n",
    "c = ‘Hello’\n",
    "result = a * b\n",
    "print(c + str(result))"
   ]
  },
  {
   "cell_type": "code",
   "execution_count": 3,
   "id": "7b66852b-9e67-42aa-8ad3-f52633d6945e",
   "metadata": {},
   "outputs": [
    {
     "ename": "SyntaxError",
     "evalue": "invalid character '‘' (U+2018) (1889415240.py, line 1)",
     "output_type": "error",
     "traceback": [
      "\u001b[1;36m  Cell \u001b[1;32mIn[3], line 1\u001b[1;36m\u001b[0m\n\u001b[1;33m    S1 = ‘Python’\u001b[0m\n\u001b[1;37m         ^\u001b[0m\n\u001b[1;31mSyntaxError\u001b[0m\u001b[1;31m:\u001b[0m invalid character '‘' (U+2018)\n"
     ]
    }
   ],
   "source": [
    "S1 = ‘Python’\n",
    "S2 = ‘ is amazing!’\n",
    "result = S1*3 + S2\n",
    "print(result)"
   ]
  },
  {
   "cell_type": "code",
   "execution_count": 4,
   "id": "331e3441-3a55-40ac-a084-dfba50fee2b3",
   "metadata": {},
   "outputs": [
    {
     "name": "stdout",
     "output_type": "stream",
     "text": [
      "8\n"
     ]
    }
   ],
   "source": [
    "x = 5\n",
    "y = 2\n",
    "result = x ** y // 3\n",
    "print(result)"
   ]
  },
  {
   "cell_type": "code",
   "execution_count": 5,
   "id": "2c0beb23-72a1-49e7-b766-545ceb77cb56",
   "metadata": {},
   "outputs": [
    {
     "data": {
      "text/plain": [
       "3"
      ]
     },
     "execution_count": 5,
     "metadata": {},
     "output_type": "execute_result"
    }
   ],
   "source": [
    "n = [1,2,3,4,5]\n",
    "n.pop(2)"
   ]
  },
  {
   "cell_type": "code",
   "execution_count": 6,
   "id": "3bb0bdb1-aa35-4047-acac-6452bb19d4b8",
   "metadata": {},
   "outputs": [
    {
     "ename": "SyntaxError",
     "evalue": "invalid character '‘' (U+2018) (501482572.py, line 1)",
     "output_type": "error",
     "traceback": [
      "\u001b[1;36m  Cell \u001b[1;32mIn[6], line 1\u001b[1;36m\u001b[0m\n\u001b[1;33m    person = [‘name’:’John’,’age’:30,’city’:’NewYork’]\u001b[0m\n\u001b[1;37m              ^\u001b[0m\n\u001b[1;31mSyntaxError\u001b[0m\u001b[1;31m:\u001b[0m invalid character '‘' (U+2018)\n"
     ]
    }
   ],
   "source": [
    "person = [‘name’:’John’,’age’:30,’city’:’NewYork’]\n",
    "print(person[‘age’])"
   ]
  },
  {
   "cell_type": "code",
   "execution_count": 9,
   "id": "619a5621-5a69-49bd-a363-5f9d3a711f4a",
   "metadata": {},
   "outputs": [
    {
     "ename": "SyntaxError",
     "evalue": "invalid syntax (434609890.py, line 6)",
     "output_type": "error",
     "traceback": [
      "\u001b[1;36m  Cell \u001b[1;32mIn[9], line 6\u001b[1;36m\u001b[0m\n\u001b[1;33m    i + = 1\u001b[0m\n\u001b[1;37m        ^\u001b[0m\n\u001b[1;31mSyntaxError\u001b[0m\u001b[1;31m:\u001b[0m invalid syntax\n"
     ]
    }
   ],
   "source": [
    "i = 1\n",
    "while True:\n",
    "    if i%3 == 0:\n",
    "        break\n",
    "        print(i)\n",
    "        i + = 1"
   ]
  },
  {
   "cell_type": "code",
   "execution_count": 10,
   "id": "c5226d51-6ef6-4a7e-a475-a601c25b9fb7",
   "metadata": {},
   "outputs": [
    {
     "ename": "SyntaxError",
     "evalue": "invalid syntax (2129262131.py, line 1)",
     "output_type": "error",
     "traceback": [
      "\u001b[1;36m  Cell \u001b[1;32mIn[10], line 1\u001b[1;36m\u001b[0m\n\u001b[1;33m    fruits = [&quot;apple&quot;, &quot;banana&quot;, &quot;cherry&quot;]\u001b[0m\n\u001b[1;37m              ^\u001b[0m\n\u001b[1;31mSyntaxError\u001b[0m\u001b[1;31m:\u001b[0m invalid syntax\n"
     ]
    }
   ],
   "source": [
    "fruits = [&quot;apple&quot;, &quot;banana&quot;, &quot;cherry&quot;]\n",
    "for fruit in fruits:\n",
    "print(fruit)"
   ]
  },
  {
   "cell_type": "code",
   "execution_count": null,
   "id": "5d1c7f37-3b1d-45ba-bf4d-5bb5c00629a9",
   "metadata": {},
   "outputs": [],
   "source": [
    "def greet(name):\n",
    "    print (&quot;Hello, &quot; + name + &quot;!&quot;)\n",
    "greet(&quot;Alice&quot;)"
   ]
  },
  {
   "cell_type": "code",
   "execution_count": 11,
   "id": "058b1919-c182-49e7-a97a-9cb0f96fdbce",
   "metadata": {},
   "outputs": [],
   "source": [
    "def greet(name):\n",
    " print (\"Hello, \" + name + \"!\")\n",
    " greet(\"Alice\")"
   ]
  },
  {
   "cell_type": "code",
   "execution_count": 13,
   "id": "8f3a97e6-2d22-4662-8228-efab5f39093d",
   "metadata": {},
   "outputs": [
    {
     "name": "stdout",
     "output_type": "stream",
     "text": [
      "3\n",
      "2\n",
      "1\n",
      "Done!\n"
     ]
    }
   ],
   "source": [
    "def countdown(n):\n",
    "    if n<= 0:\n",
    "        print(\"Done!\")\n",
    "    else:\n",
    "        print(n)\n",
    "        countdown (n - 1)\n",
    "countdown (3)"
   ]
  },
  {
   "cell_type": "code",
   "execution_count": 14,
   "id": "1f5e742a-6955-48f6-ab12-eacb4a7ec5b7",
   "metadata": {},
   "outputs": [
    {
     "name": "stdout",
     "output_type": "stream",
     "text": [
      "3 3\n"
     ]
    }
   ],
   "source": [
    "def func(x=1,y=2):\n",
    "    x=x+y\n",
    "    y +=1\n",
    "    print(x,y)\n",
    "func(y=2,x=1)"
   ]
  },
  {
   "cell_type": "code",
   "execution_count": 15,
   "id": "3fcb780a-3608-4e22-a5f5-d709843c8e31",
   "metadata": {},
   "outputs": [
    {
     "name": "stdout",
     "output_type": "stream",
     "text": [
      "This function adds two numbers.\n"
     ]
    }
   ],
   "source": [
    "def add (a, b):\n",
    " \"\"\"This function adds two numbers.\"\"\"\n",
    " return a + b\n",
    "print(add.__doc__)"
   ]
  },
  {
   "cell_type": "code",
   "execution_count": null,
   "id": "9bce58b6-4d78-43ec-8d71-00a9dfa353fe",
   "metadata": {},
   "outputs": [],
   "source": []
  }
 ],
 "metadata": {
  "kernelspec": {
   "display_name": "Python 3 (ipykernel)",
   "language": "python",
   "name": "python3"
  },
  "language_info": {
   "codemirror_mode": {
    "name": "ipython",
    "version": 3
   },
   "file_extension": ".py",
   "mimetype": "text/x-python",
   "name": "python",
   "nbconvert_exporter": "python",
   "pygments_lexer": "ipython3",
   "version": "3.11.7"
  }
 },
 "nbformat": 4,
 "nbformat_minor": 5
}
