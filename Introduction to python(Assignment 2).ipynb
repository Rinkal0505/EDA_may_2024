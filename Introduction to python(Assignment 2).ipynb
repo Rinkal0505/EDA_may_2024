{
 "cells": [
  {
   "cell_type": "code",
   "execution_count": 1,
   "id": "7c820a41-3991-4422-a4f5-1d8d80d946ae",
   "metadata": {},
   "outputs": [
    {
     "name": "stdin",
     "output_type": "stream",
     "text": [
      "Enter the Ramesh's Salary: 20000\n"
     ]
    },
    {
     "name": "stdout",
     "output_type": "stream",
     "text": [
      "The gross salary of Ramesh is 32000.0\n"
     ]
    }
   ],
   "source": [
    "#Ramesh’s basic salary is input through the keyboard. \n",
    "#His dearness allowance is 40% of basic salary, and\n",
    "#house rent allowance is 20% of basic salary.\n",
    "#Write a program to calculate his gross salary.\n",
    "\n",
    "salary=eval(input(\"Enter the Ramesh's Salary:\"))\n",
    "allowance=(40/100)*salary\n",
    "rent_allowance=(20/100)*salary\n",
    "gross_salary=salary + allowance + rent_allowance\n",
    "print(\"The gross salary of Ramesh is {}\".format(gross_salary))"
   ]
  },
  {
   "cell_type": "code",
   "execution_count": 3,
   "id": "f37112c8-c51d-46bf-8e6d-a0a80fee78e7",
   "metadata": {},
   "outputs": [
    {
     "name": "stdin",
     "output_type": "stream",
     "text": [
      "Enter the distance between 2 cities in km: 78\n"
     ]
    },
    {
     "name": "stdout",
     "output_type": "stream",
     "text": [
      "The distance in meters is 78000\n",
      "The distance in feet is 255905.52000000002\n",
      "The distance in inches is 3070867.8\n",
      "The distance in centimeters is 7800000\n"
     ]
    }
   ],
   "source": [
    "#The distance between two cities (in km.) is input through the keyboard. \n",
    "#Write a program to convert and\n",
    "#print this distance in meters, feet, inches and centimeters\n",
    "\n",
    "distance=eval(input(\"Enter the distance between 2 cities in km:\"))\n",
    "meter = distance * 1000 \n",
    "feet = distance * 3280.84  \n",
    "inche = distance * 39370.1  \n",
    "centimeter = distance * 100000 \n",
    "print(\"The distance in meters is {}\".format(meter))\n",
    "print(\"The distance in feet is {}\".format(feet))\n",
    "print(\"The distance in inches is {}\".format (inche))\n",
    "print(\"The distance in centimeters is {}\".format (centimeter))"
   ]
  },
  {
   "cell_type": "code",
   "execution_count": 6,
   "id": "3f28718b-2f39-4732-910c-0a9f0ef70afe",
   "metadata": {},
   "outputs": [
    {
     "name": "stdin",
     "output_type": "stream",
     "text": [
      "Subject 1:  89\n",
      "Subject 2:  89\n",
      "Subject 3:  78\n",
      "Subject 4:  67\n",
      "Subject 5:  77\n"
     ]
    },
    {
     "name": "stdout",
     "output_type": "stream",
     "text": [
      "The aggregate marks is 400\n",
      "The percentage mark is 80.0\n"
     ]
    }
   ],
   "source": [
    "#If the marks obtained by a student in five different subjects are input through the keyboard,\n",
    "#find out the aggregate marks and percentage marks obtained by the student. \n",
    "#Assume that the maximum marks that can be obtained by a student in each subject is 100.\n",
    "\n",
    "marks_sub1 = eval(input(\"Subject 1: \"))\n",
    "marks_sub2 = eval(input(\"Subject 2: \"))\n",
    "marks_sub3 = eval(input(\"Subject 3: \"))\n",
    "marks_sub4 = eval(input(\"Subject 4: \"))\n",
    "marks_sub5 = eval(input(\"Subject 5: \"))\n",
    "aggregate_marks = marks_sub1 + marks_sub2 + marks_sub3 + marks_sub4 + marks_sub5\n",
    "max_marks=100\n",
    "total_sub=5\n",
    "total_marks=max_marks*total_sub\n",
    "percentage=(aggregate_marks / total_marks) * 100\n",
    "print(\"The aggregate marks is {}\".format(aggregate_marks))\n",
    "print(\"The percentage mark is {}\".format(percentage))\n",
    "\n"
   ]
  },
  {
   "cell_type": "code",
   "execution_count": 8,
   "id": "aba7f1fd-f7d1-41b0-bc73-5be470d8a1a8",
   "metadata": {},
   "outputs": [
    {
     "name": "stdin",
     "output_type": "stream",
     "text": [
      "Enter the temperature in Fahrenheit:  273\n"
     ]
    },
    {
     "name": "stdout",
     "output_type": "stream",
     "text": [
      "The temperature in Celsius is: 133.88888888888889 degrees celsius\n"
     ]
    }
   ],
   "source": [
    "#Temperature of a city in Fahrenheit degrees is input through the keyboard.\n",
    "#Write a program to convert this temperature into Centigrade degrees.\n",
    "\n",
    "Fahrenheit = eval(input(\"Enter the temperature in Fahrenheit: \"))\n",
    "celsius = (Fahrenheit - 32) * 5/9\n",
    "print(f\"The temperature in Celsius is: {celsius} degrees celsius\")"
   ]
  },
  {
   "cell_type": "code",
   "execution_count": 11,
   "id": "61925385-4d09-4c02-b163-91cd3949618e",
   "metadata": {},
   "outputs": [
    {
     "name": "stdin",
     "output_type": "stream",
     "text": [
      "Enter the length of the rectangle:  56\n",
      "Enter the breadth of the rectangle:  77\n",
      "Enter the radius of the circle:  9\n"
     ]
    },
    {
     "name": "stdout",
     "output_type": "stream",
     "text": [
      "Rectangle:\n",
      "  Area: 4312 square units\n",
      "  Perimeter: 266 units\n",
      "\n",
      "Circle:\n",
      "  Area: 254.34 square units\n",
      "  Circumference: 56.52 units\n"
     ]
    }
   ],
   "source": [
    "# The length & breadth of a rectangle and radius of a circle are input through the keyboard. \n",
    "# Write a program to calculate the area & perimeter of the rectangle, \n",
    "# and the area & circumference of the circle.\n",
    "import time\n",
    "length = eval(input(\"Enter the length of the rectangle: \"))\n",
    "breadth = eval(input(\"Enter the breadth of the rectangle: \"))\n",
    "radius = eval(input(\"Enter the radius of the circle: \"))\n",
    "pi_value=3.14\n",
    "rectangle_area = length * breadth\n",
    "rectangle_perimeter = 2 * (length + breadth)\n",
    "circle_area = pi_value * (radius ** 2)\n",
    "circle_circumference = 2 * pi_value * radius\n",
    "print(f\"Rectangle:\")\n",
    "time.sleep(2)\n",
    "print(f\"  Area: {rectangle_area} square units\")\n",
    "print(f\"  Perimeter: {rectangle_perimeter} units\")\n",
    "print(f\"\\nCircle:\")\n",
    "time.sleep(2)\n",
    "print(f\"  Area: {circle_area} square units\")\n",
    "print(f\"  Circumference: {circle_circumference} units\")\n"
   ]
  },
  {
   "cell_type": "code",
   "execution_count": 15,
   "id": "af4ded8e-5fe4-4766-aaa7-333fea2fcc64",
   "metadata": {},
   "outputs": [
    {
     "name": "stdin",
     "output_type": "stream",
     "text": [
      "Enter the first number (C):  89\n",
      "Enter the second number (D):  78\n"
     ]
    },
    {
     "name": "stdout",
     "output_type": "stream",
     "text": [
      "Before swapping:\n",
      "C = 89\n",
      "D = 78\n",
      "After swapping:\n",
      "C = 78\n",
      "D = 89\n"
     ]
    }
   ],
   "source": [
    "#Two numbers are input through the keyboard into two locations C and D. \n",
    "#Write a program to interchange the contents of C and D.\n",
    "\n",
    "C = input(\"Enter the first number (C): \")\n",
    "D = input(\"Enter the second number (D): \")\n",
    "print(f\"Before swapping:\")\n",
    "print(f\"C = {C}\")\n",
    "print(f\"D = {D}\")\n",
    "C, D = D, C\n",
    "print(f\"After swapping:\")\n",
    "print(f\"C = {C}\")\n",
    "print(f\"D = {D}\")"
   ]
  },
  {
   "cell_type": "code",
   "execution_count": 30,
   "id": "8f81e7fa-f882-4a6d-8528-89d36f2ae1ff",
   "metadata": {},
   "outputs": [
    {
     "name": "stdin",
     "output_type": "stream",
     "text": [
      "Enter a five-digit number:  78906\n"
     ]
    },
    {
     "name": "stdout",
     "output_type": "stream",
     "text": [
      "The reversed number of 78906 is: 60987\n"
     ]
    }
   ],
   "source": [
    "#If a five-digit number is input through the keyboard, \n",
    "#write a program to reverse the number.\n",
    "\n",
    "\n",
    "num = int(input(\"Enter a five-digit number: \"))\n",
    "reversed_num = 0\n",
    "original_num = num\n",
    "while num > 0:\n",
    "    digit = num % 10\n",
    "    reversed_num = reversed_num * 10 + digit\n",
    "    num = num // 10\n",
    "print(f\"The reversed number of {original_num} is: {reversed_num}\")\n"
   ]
  },
  {
   "cell_type": "code",
   "execution_count": 29,
   "id": "86c4e13d-dcee-43f2-8ca4-e6615a260d5d",
   "metadata": {},
   "outputs": [
    {
     "name": "stdin",
     "output_type": "stream",
     "text": [
      "Enter a four-digit number:  5678\n"
     ]
    },
    {
     "name": "stdout",
     "output_type": "stream",
     "text": [
      "The sum of the 5 and 8 of 5678 is: 13\n"
     ]
    }
   ],
   "source": [
    "#If a four-digit number is input through the keyboard, \n",
    "#write a program to obtain the sum of the first and last digit of this number.\n",
    "\n",
    "num = int(input(\"Enter a four-digit number: \"))\n",
    "first_digit = num // 1000\n",
    "last_digit = num % 10\n",
    "sum = first_digit + last_digit\n",
    "print(f\"The sum of the {first_digit} and {last_digit} of {num} is: {sum}\")\n"
   ]
  },
  {
   "cell_type": "code",
   "execution_count": 25,
   "id": "b0c3ed4d-186f-4c0c-b51c-48db807d3e8c",
   "metadata": {},
   "outputs": [
    {
     "name": "stdout",
     "output_type": "stream",
     "text": [
      "Number of illiterate men: 13600.0\n",
      "Number of illiterate women: 28000.0\n",
      "Total number of illiterate men and women are 41600.0\n"
     ]
    }
   ],
   "source": [
    "#In a town, the percentage of men is 52. The percentage of total literacy is 48. \n",
    "#If total percentage of literate men is 35 of the total population, \n",
    "# write a program to find the total number of illiterate men and women if \n",
    "#the population of the town is 80,000.\n",
    "\n",
    "total_population = 80000\n",
    "percent_men = 52\n",
    "total_literacy = 48\n",
    "literate_men = 35\n",
    "num_men = (percent_men / 100) * total_population\n",
    "num_women = total_population - num_men\n",
    "num_literate_men = (literate_men / 100) * total_population\n",
    "num_literate_total = (total_literacy / 100) * total_population\n",
    "num_illiterate_men = num_men - num_literate_men\n",
    "num_illiterate_women = num_women - (num_literate_total - num_literate_men)\n",
    "total_illiterate = num_illiterate_men + num_illiterate_women\n",
    "print(f\"Number of illiterate men: {num_illiterate_men}\")\n",
    "print(f\"Number of illiterate women: {num_illiterate_women}\")\n",
    "print(f\"Total number of illiterate men and women are {total_illiterate}\")"
   ]
  },
  {
   "cell_type": "code",
   "execution_count": 28,
   "id": "1f2b4477-bbab-44ee-bbc7-c00596a4fc79",
   "metadata": {},
   "outputs": [
    {
     "name": "stdin",
     "output_type": "stream",
     "text": [
      "Enter the amount to be withdrawn in hundreds:  23\n"
     ]
    },
    {
     "name": "stdout",
     "output_type": "stream",
     "text": [
      "Number of 100 Rs notes: 23\n",
      "Number of 50 Rs notes: 0\n",
      "Number of 10 Rs notes: 0\n",
      "Total amount to be given: 2300 Rs\n"
     ]
    }
   ],
   "source": [
    "#A cashier has currency notes of denominations 10, 50 and 100. \n",
    "#If the amount to be withdrawn is input through the keyboard in hundreds, \n",
    "#find the total number of currency notes of each denomination the\n",
    "#cashier will have to give to the withdrawer.\n",
    "\n",
    "amount_in_hundreds = int(input(\"Enter the amount to be withdrawn in hundreds: \"))\n",
    "total_amount = amount_in_hundreds * 100\n",
    "note_100 = 0\n",
    "note_50 = 0\n",
    "note_10 = 0\n",
    "if total_amount>= 100:\n",
    "    note_100 = total_amount // 100\n",
    "    total_amount = total_amount % 100\n",
    "if total_amount>= 50:\n",
    "    note_50 =total_amount// 50\n",
    "    total_amount = total_amount % 50\n",
    "if total_amount >= 10:\n",
    "    note_10 = total_amount // 10\n",
    "total_amount = (note_100 * 100) + (note_50 * 50) + (note_10 * 10)\n",
    "print(f\"Number of 100 Rs notes: {note_100}\")\n",
    "print(f\"Number of 50 Rs notes: {note_50}\")\n",
    "print(f\"Number of 10 Rs notes: {note_10}\")\n",
    "print(f\"Total amount to be given: {total_amount} Rs\")\n"
   ]
  },
  {
   "cell_type": "code",
   "execution_count": null,
   "id": "ab5778d0-87b4-4a6a-b3f9-8a3180d26d33",
   "metadata": {},
   "outputs": [],
   "source": []
  }
 ],
 "metadata": {
  "kernelspec": {
   "display_name": "Python 3 (ipykernel)",
   "language": "python",
   "name": "python3"
  },
  "language_info": {
   "codemirror_mode": {
    "name": "ipython",
    "version": 3
   },
   "file_extension": ".py",
   "mimetype": "text/x-python",
   "name": "python",
   "nbconvert_exporter": "python",
   "pygments_lexer": "ipython3",
   "version": "3.11.7"
  }
 },
 "nbformat": 4,
 "nbformat_minor": 5
}
