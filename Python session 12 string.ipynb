{
 "cells": [
  {
   "cell_type": "code",
   "execution_count": null,
   "id": "de6ab297-346d-4fa7-9cae-f71773b7283a",
   "metadata": {},
   "outputs": [],
   "source": [
    "# ============== Part 1 ===================\n",
    "- Initialization\n",
    "- type\n",
    "- len\n",
    "- max\n",
    "- min\n",
    "- sorted\n",
    "- reversed\n",
    "- in\n",
    "- for loop\n",
    "- indexing\n",
    "- for loop using in\n",
    "- mutable\n",
    "- concatenation\n",
    "\n",
    "# =============== Part 2 =====================\n",
    "- Method"
   ]
  },
  {
   "cell_type": "markdown",
   "id": "902f74a4-1e4e-40fb-b4f8-0b2c23bd0a1f",
   "metadata": {},
   "source": [
    "**Initialization**"
   ]
  },
  {
   "cell_type": "code",
   "execution_count": 1,
   "id": "ecd4f509-b667-4b65-9be7-0c53c8305b2c",
   "metadata": {},
   "outputs": [
    {
     "data": {
      "text/plain": [
       "'python'"
      ]
     },
     "execution_count": 1,
     "metadata": {},
     "output_type": "execute_result"
    }
   ],
   "source": [
    "str1='python'\n",
    "str1"
   ]
  },
  {
   "cell_type": "code",
   "execution_count": 2,
   "id": "49a6835c-c49f-49e0-a9c9-43b5a2d651ea",
   "metadata": {},
   "outputs": [
    {
     "data": {
      "text/plain": [
       "'python'"
      ]
     },
     "execution_count": 2,
     "metadata": {},
     "output_type": "execute_result"
    }
   ],
   "source": [
    "str2=\"python\"\n",
    "str2"
   ]
  },
  {
   "cell_type": "code",
   "execution_count": 3,
   "id": "5920f016-40c9-4502-a996-aa30d0810e8a",
   "metadata": {},
   "outputs": [
    {
     "name": "stdout",
     "output_type": "stream",
     "text": [
      "python\n"
     ]
    }
   ],
   "source": [
    "print(str1) # do not confuse i am not seeing the quote"
   ]
  },
  {
   "cell_type": "code",
   "execution_count": null,
   "id": "9e5e9778-65e7-4152-9a0a-4f8f131b6272",
   "metadata": {},
   "outputs": [],
   "source": [
    "**Note**\n",
    "  \n",
    "- If we mentioned single quote or double quote by default python provides in single quotes only\n",
    "- If we print the strings, we will see answer without quotes\n",
    "- Triple quotes are using for doc string\n",
    "- In order to convey the information about coding part we will use doc string\n",
    "- anything inside the single or double quote"
   ]
  },
  {
   "cell_type": "markdown",
   "id": "5d3f7126-04ef-415e-8308-a38afdb89e5f",
   "metadata": {},
   "source": [
    "**Triple quotes**"
   ]
  },
  {
   "cell_type": "code",
   "execution_count": 5,
   "id": "8af494e9-0df6-46d2-ae2d-e0ed82f982be",
   "metadata": {},
   "outputs": [
    {
     "data": {
      "text/plain": [
       "'hi how are you\\n        im good'"
      ]
     },
     "execution_count": 5,
     "metadata": {},
     "output_type": "execute_result"
    }
   ],
   "source": [
    "str3=\"\"\"hi how are you\n",
    "        im good\"\"\"\n",
    "str3"
   ]
  },
  {
   "cell_type": "code",
   "execution_count": 6,
   "id": "90aca35e-80db-43ab-90d1-6b7f26e2a69d",
   "metadata": {},
   "outputs": [
    {
     "name": "stdout",
     "output_type": "stream",
     "text": [
      "hi how are you\n",
      "        im good\n"
     ]
    }
   ],
   "source": [
    "print(str3)"
   ]
  },
  {
   "cell_type": "markdown",
   "id": "5420212e-25e0-4d27-86d5-6fa152767d6d",
   "metadata": {},
   "source": [
    "**type**"
   ]
  },
  {
   "cell_type": "code",
   "execution_count": 7,
   "id": "a19495a3-9cc8-4e8c-81d4-b98e2661e856",
   "metadata": {},
   "outputs": [
    {
     "data": {
      "text/plain": [
       "str"
      ]
     },
     "execution_count": 7,
     "metadata": {},
     "output_type": "execute_result"
    }
   ],
   "source": [
    "type(str1) # type is string time"
   ]
  },
  {
   "cell_type": "code",
   "execution_count": null,
   "id": "6da02b4c-3881-46f8-9bec-c0de7cf0a7fd",
   "metadata": {},
   "outputs": [],
   "source": [
    "str4='10' # integer value in form of string\n",
    "str5='10.5' # float in the form of string\n",
    "str6='123abc' #alphanumeric to string\n",
    "str7='True' #Boolean value in string\n",
    "str8='sinx'\n"
   ]
  },
  {
   "cell_type": "markdown",
   "id": "9f6236a7-8e2d-431a-831e-b5f000020caa",
   "metadata": {},
   "source": [
    "**len**"
   ]
  },
  {
   "cell_type": "code",
   "execution_count": 8,
   "id": "fe62efd2-b996-4026-af61-a75fd119ce46",
   "metadata": {},
   "outputs": [
    {
     "data": {
      "text/plain": [
       "6"
      ]
     },
     "execution_count": 8,
     "metadata": {},
     "output_type": "execute_result"
    }
   ],
   "source": [
    "str1='python'\n",
    "len(str1)"
   ]
  },
  {
   "cell_type": "markdown",
   "id": "573e2659-4b15-4b79-a5de-aec07800e5ba",
   "metadata": {},
   "source": [
    "**max and min**"
   ]
  },
  {
   "cell_type": "code",
   "execution_count": 9,
   "id": "f4348192-8fed-4a91-8dcd-b3659c8428b8",
   "metadata": {},
   "outputs": [
    {
     "data": {
      "text/plain": [
       "'n'"
      ]
     },
     "execution_count": 9,
     "metadata": {},
     "output_type": "execute_result"
    }
   ],
   "source": [
    "str2='Rinkal'\n",
    "max(str2)"
   ]
  },
  {
   "cell_type": "code",
   "execution_count": 10,
   "id": "0381ac71-3be0-4d6e-b442-5e78784b2d31",
   "metadata": {},
   "outputs": [
    {
     "data": {
      "text/plain": [
       "'R'"
      ]
     },
     "execution_count": 10,
     "metadata": {},
     "output_type": "execute_result"
    }
   ],
   "source": [
    "str2='Rinkal'\n",
    "min(str2)"
   ]
  },
  {
   "cell_type": "markdown",
   "id": "9cc01470-e5b9-4025-aba7-f2491648e5c9",
   "metadata": {},
   "source": [
    "**keywords vs Methods**"
   ]
  },
  {
   "cell_type": "code",
   "execution_count": null,
   "id": "de780d8d-2603-464f-8dd6-c0bb2c84bb5f",
   "metadata": {},
   "outputs": [],
   "source": [
    "#keywords\n",
    "type(<>)\n",
    "print(<>)\n",
    "len(<>)\n",
    "max(<>)\n",
    "min(<>)\n",
    "eval(<>)\n",
    "input(<>)"
   ]
  },
  {
   "cell_type": "code",
   "execution_count": null,
   "id": "d254d5f0-b9c4-4d06-85e4-50a56971f62c",
   "metadata": {},
   "outputs": [],
   "source": [
    "- in order to use method we need to call package\n",
    "\n",
    "import random\n",
    "random.randint()\n",
    "\n",
    "import math\n",
    "math.sqrt()\n",
    "\n",
    "import time\n",
    "time.sleep()"
   ]
  },
  {
   "cell_type": "code",
   "execution_count": 12,
   "id": "e30d6109-4036-4083-a90a-6807ca221882",
   "metadata": {},
   "outputs": [
    {
     "data": {
      "text/plain": [
       "'y'"
      ]
     },
     "execution_count": 12,
     "metadata": {},
     "output_type": "execute_result"
    }
   ],
   "source": [
    "str1='python123'\n",
    "max(str1)"
   ]
  },
  {
   "cell_type": "markdown",
   "id": "049cb9be-38e1-408f-916e-3a330a9fee55",
   "metadata": {},
   "source": [
    "**sum**"
   ]
  },
  {
   "cell_type": "code",
   "execution_count": 13,
   "id": "26b5bfaa-1b02-4661-af41-f8daf8e6e26d",
   "metadata": {},
   "outputs": [
    {
     "ename": "TypeError",
     "evalue": "unsupported operand type(s) for +: 'int' and 'str'",
     "output_type": "error",
     "traceback": [
      "\u001b[1;31m---------------------------------------------------------------------------\u001b[0m",
      "\u001b[1;31mTypeError\u001b[0m                                 Traceback (most recent call last)",
      "Cell \u001b[1;32mIn[13], line 2\u001b[0m\n\u001b[0;32m      1\u001b[0m str1\u001b[38;5;241m=\u001b[39m\u001b[38;5;124m'\u001b[39m\u001b[38;5;124mpython\u001b[39m\u001b[38;5;124m'\u001b[39m\n\u001b[1;32m----> 2\u001b[0m \u001b[38;5;28msum\u001b[39m(str1)\n",
      "\u001b[1;31mTypeError\u001b[0m: unsupported operand type(s) for +: 'int' and 'str'"
     ]
    }
   ],
   "source": [
    "str1='python'\n",
    "sum(str1)"
   ]
  },
  {
   "cell_type": "code",
   "execution_count": 14,
   "id": "b0fa6b74-05a6-43de-b8fd-c97dd43eecaa",
   "metadata": {},
   "outputs": [
    {
     "data": {
      "text/plain": [
       "'py'"
      ]
     },
     "execution_count": 14,
     "metadata": {},
     "output_type": "execute_result"
    }
   ],
   "source": [
    "'p'+'y'"
   ]
  },
  {
   "cell_type": "markdown",
   "id": "9b014a9b-9875-4544-9850-d6eb5e6f3923",
   "metadata": {},
   "source": [
    "**sorted**"
   ]
  },
  {
   "cell_type": "code",
   "execution_count": null,
   "id": "00f812e5-4746-474a-97bc-009093fc5eba",
   "metadata": {},
   "outputs": [],
   "source": [
    "len('python')\n",
    "max('python')\n",
    "print('python')\n",
    "min('python')\n",
    "max('python')"
   ]
  },
  {
   "cell_type": "code",
   "execution_count": 15,
   "id": "461e05f5-1bd8-4be7-8b43-03bf96cf173c",
   "metadata": {},
   "outputs": [
    {
     "data": {
      "text/plain": [
       "['h', 'n', 'o', 'p', 't', 'y']"
      ]
     },
     "execution_count": 15,
     "metadata": {},
     "output_type": "execute_result"
    }
   ],
   "source": [
    "sorted('python')"
   ]
  },
  {
   "cell_type": "markdown",
   "id": "dd7db4f4-fc7e-43e4-a039-a9a18d6e242b",
   "metadata": {},
   "source": [
    "- sorted gives ascending order based on ascii numbers\n",
    "- sorted is kind of a function\n",
    "- every function we have arguments\n",
    "- In that one default argument is **reverse=False**\n",
    "- by default sorted o/p gives **ascending order**\n",
    "- We can change the order by providing **reverse=True**\n",
    "- If we do not mention it will give the default answer"
   ]
  },
  {
   "cell_type": "code",
   "execution_count": 17,
   "id": "d2d2e5f6-089f-492e-a458-2f50f89ce56e",
   "metadata": {},
   "outputs": [
    {
     "data": {
      "text/plain": [
       "['y', 't', 'p', 'o', 'n', 'h']"
      ]
     },
     "execution_count": 17,
     "metadata": {},
     "output_type": "execute_result"
    }
   ],
   "source": [
    "sorted(str1,reverse=True)"
   ]
  },
  {
   "cell_type": "code",
   "execution_count": 19,
   "id": "5e6fe71e-5728-498a-8f85-dcba311c848e",
   "metadata": {},
   "outputs": [
    {
     "data": {
      "text/plain": [
       "(10+20j)"
      ]
     },
     "execution_count": 19,
     "metadata": {},
     "output_type": "execute_result"
    }
   ],
   "source": [
    "complex(10,20)"
   ]
  },
  {
   "cell_type": "code",
   "execution_count": 21,
   "id": "0efb505f-c49c-4b9f-bff2-7b4f4fe5282e",
   "metadata": {},
   "outputs": [
    {
     "ename": "TypeError",
     "evalue": "Random.randint() missing 2 required positional arguments: 'a' and 'b'",
     "output_type": "error",
     "traceback": [
      "\u001b[1;31m---------------------------------------------------------------------------\u001b[0m",
      "\u001b[1;31mTypeError\u001b[0m                                 Traceback (most recent call last)",
      "Cell \u001b[1;32mIn[21], line 2\u001b[0m\n\u001b[0;32m      1\u001b[0m \u001b[38;5;28;01mimport\u001b[39;00m \u001b[38;5;21;01mrandom\u001b[39;00m\n\u001b[1;32m----> 2\u001b[0m random\u001b[38;5;241m.\u001b[39mrandint()\n",
      "\u001b[1;31mTypeError\u001b[0m: Random.randint() missing 2 required positional arguments: 'a' and 'b'"
     ]
    }
   ],
   "source": [
    "import random\n",
    "random.randint()"
   ]
  },
  {
   "cell_type": "code",
   "execution_count": null,
   "id": "f9aab6fe-b55d-4a89-bc78-f5b5938daa6b",
   "metadata": {},
   "outputs": [],
   "source": [
    "function()# answer\n",
    "function(a,b)#error if not given value\n",
    "function(a=10,b=20)# answer"
   ]
  },
  {
   "cell_type": "code",
   "execution_count": null,
   "id": "a42c56d4-3d42-43eb-9d9f-6c681990fb49",
   "metadata": {},
   "outputs": [],
   "source": [
    "function()# answer\n",
    "function(a,b)#error if not given value\n",
    "function(a=10,b=20)# answer"
   ]
  },
  {
   "cell_type": "code",
   "execution_count": 22,
   "id": "02926ac3-8fdf-4091-ab46-53abaaddc02f",
   "metadata": {},
   "outputs": [
    {
     "ename": "TypeError",
     "evalue": "sorted expected 1 argument, got 0",
     "output_type": "error",
     "traceback": [
      "\u001b[1;31m---------------------------------------------------------------------------\u001b[0m",
      "\u001b[1;31mTypeError\u001b[0m                                 Traceback (most recent call last)",
      "Cell \u001b[1;32mIn[22], line 1\u001b[0m\n\u001b[1;32m----> 1\u001b[0m \u001b[38;5;28msorted\u001b[39m(iterable\u001b[38;5;241m=\u001b[39m\u001b[38;5;124m'\u001b[39m\u001b[38;5;124mpython\u001b[39m\u001b[38;5;124m'\u001b[39m)\n",
      "\u001b[1;31mTypeError\u001b[0m: sorted expected 1 argument, got 0"
     ]
    }
   ],
   "source": [
    "sorted(iterable='python')\n"
   ]
  },
  {
   "cell_type": "code",
   "execution_count": 23,
   "id": "961118b6-4462-499f-b014-6eee18ee71f8",
   "metadata": {},
   "outputs": [
    {
     "data": {
      "text/plain": [
       "11"
      ]
     },
     "execution_count": 23,
     "metadata": {},
     "output_type": "execute_result"
    }
   ],
   "source": [
    "random.randint(a=10,b=30)"
   ]
  },
  {
   "cell_type": "code",
   "execution_count": 24,
   "id": "15c340d8-27d6-4da2-98f0-56bcfaac7b7c",
   "metadata": {},
   "outputs": [
    {
     "data": {
      "text/plain": [
       "['h', 'n', 'o', 'p', 't', 'y']"
      ]
     },
     "execution_count": 24,
     "metadata": {},
     "output_type": "execute_result"
    }
   ],
   "source": [
    "sorted('python')"
   ]
  },
  {
   "cell_type": "markdown",
   "id": "db52295b-465d-431f-8e4d-64908afc3127",
   "metadata": {},
   "source": [
    "**Note**\n",
    "\n",
    "- we have arguments before/ and after slash\n",
    "- we can use the argument names after / only\n",
    "- for eg sorted has 2 arguments one is iterable and another one is reverse\n",
    "- iterable is mentioned before slash symbol\n",
    "- reverse is mentioned after slash symbol\n",
    "- so we can use only reverse argument name while we are doing the work \n",
    "- we cannot use iterable argument name\n",
    "- instead of argument name we can give direct value at that position"
   ]
  },
  {
   "cell_type": "markdown",
   "id": "d599636e-10be-4b3a-95b4-8844eae30113",
   "metadata": {},
   "source": [
    "**reversed**"
   ]
  },
  {
   "cell_type": "code",
   "execution_count": null,
   "id": "f34497b4-d047-4e46-8c42-e4fd7659fbba",
   "metadata": {},
   "outputs": [],
   "source": [
    "type()\n",
    "print()\n",
    "len()\n",
    "max()\n",
    "min()\n",
    "sorted()"
   ]
  },
  {
   "cell_type": "code",
   "execution_count": 25,
   "id": "7515bea5-b786-4e64-b289-2f0d9d03b776",
   "metadata": {},
   "outputs": [
    {
     "data": {
      "text/plain": [
       "<reversed at 0x1c83140bd60>"
      ]
     },
     "execution_count": 25,
     "metadata": {},
     "output_type": "execute_result"
    }
   ],
   "source": [
    "reversed('python')"
   ]
  },
  {
   "cell_type": "markdown",
   "id": "d4b11043-bf7c-467d-be3d-ebecf5f6af36",
   "metadata": {},
   "source": [
    "- I already done my work\n",
    "- Your o/p is stored in that memory location\n",
    "- whenever u see this kinf=d of answer with less than and greater than symbol or memory\n",
    "- use for loop to see the answer"
   ]
  },
  {
   "cell_type": "code",
   "execution_count": 26,
   "id": "593fb103-25c4-4e45-b8c0-946a25d97f9e",
   "metadata": {},
   "outputs": [
    {
     "name": "stdout",
     "output_type": "stream",
     "text": [
      "n\n",
      "o\n",
      "h\n",
      "t\n",
      "y\n",
      "p\n"
     ]
    }
   ],
   "source": [
    "str1='python'\n",
    "output=reversed(str1)\n",
    "for i in output:\n",
    "    print(i)"
   ]
  },
  {
   "cell_type": "code",
   "execution_count": 6,
   "id": "edefb8ec-930d-4fd9-9a45-e6cc003a9915",
   "metadata": {},
   "outputs": [
    {
     "data": {
      "text/plain": [
       "['s', 'r', 'n', 'h', 'e', 'a']"
      ]
     },
     "execution_count": 6,
     "metadata": {},
     "output_type": "execute_result"
    }
   ],
   "source": [
    "sorted('naresh',reverse=True)"
   ]
  },
  {
   "cell_type": "code",
   "execution_count": 7,
   "id": "8a150d21-dde6-47a3-b7e2-be83b021c855",
   "metadata": {},
   "outputs": [
    {
     "name": "stdout",
     "output_type": "stream",
     "text": [
      "h\n",
      "s\n",
      "e\n",
      "r\n",
      "a\n",
      "n\n"
     ]
    }
   ],
   "source": [
    "for i in reversed('naresh'):\n",
    "    print(i)"
   ]
  },
  {
   "cell_type": "code",
   "execution_count": 8,
   "id": "d9db6c68-9e89-4261-80e6-3c8d24d4ddda",
   "metadata": {},
   "outputs": [
    {
     "data": {
      "text/plain": [
       "[30, 20, 10, 2, 1]"
      ]
     },
     "execution_count": 8,
     "metadata": {},
     "output_type": "execute_result"
    }
   ],
   "source": [
    "sorted([1,10,2,20,30],reverse=True)"
   ]
  },
  {
   "cell_type": "markdown",
   "id": "31d408a3-96c2-49a1-bbb9-fb00b2c4f34a",
   "metadata": {},
   "source": [
    "**in**"
   ]
  },
  {
   "cell_type": "code",
   "execution_count": 9,
   "id": "af44ea87-d308-4661-96ce-6cdff8edf90d",
   "metadata": {},
   "outputs": [
    {
     "data": {
      "text/plain": [
       "True"
      ]
     },
     "execution_count": 9,
     "metadata": {},
     "output_type": "execute_result"
    }
   ],
   "source": [
    "str1='naresh'\n",
    "'n' in str1"
   ]
  },
  {
   "cell_type": "code",
   "execution_count": 10,
   "id": "a42e52c2-57da-4268-9498-a0a8f208a0e6",
   "metadata": {},
   "outputs": [
    {
     "data": {
      "text/plain": [
       "True"
      ]
     },
     "execution_count": 10,
     "metadata": {},
     "output_type": "execute_result"
    }
   ],
   "source": [
    "str1='naresh'\n",
    "\n",
    "'nn' not in str1"
   ]
  },
  {
   "cell_type": "code",
   "execution_count": 11,
   "id": "5b21f6f2-00b3-4c8b-894c-37892adb8d35",
   "metadata": {},
   "outputs": [
    {
     "name": "stdout",
     "output_type": "stream",
     "text": [
      "n\n",
      "a\n",
      "r\n",
      "e\n",
      "s\n",
      "h\n"
     ]
    }
   ],
   "source": [
    "for i in str1:\n",
    "    print(i)"
   ]
  },
  {
   "cell_type": "markdown",
   "id": "4b146907-6a6b-4cb8-88ac-d7bcb5243ffe",
   "metadata": {},
   "source": [
    "**Note**\n",
    "\n",
    "- in operator directly access the letters"
   ]
  },
  {
   "cell_type": "code",
   "execution_count": 15,
   "id": "56f5d1ac-6135-41d0-8c5e-675295b0a67c",
   "metadata": {},
   "outputs": [
    {
     "name": "stdout",
     "output_type": "stream",
     "text": [
      "2\n"
     ]
    }
   ],
   "source": [
    "#Q10 WAP ask the user count how many 'a' are present \n",
    "# str1='hi naresh how are you'\n",
    "# idea: counter wrapper\n",
    "# step 1: count=0\n",
    "# step 2: using the loop in operator iterate through given string\n",
    "# step 3: apply the if condition,whenever the letter equal to 'a'\n",
    "# step 4: count=count+1\n",
    "\n",
    "count=0\n",
    "str1='hi naresh how are you?'\n",
    "for i in str1:\n",
    "    if i=='a':\n",
    "        count=count+1\n",
    "print(count)"
   ]
  },
  {
   "cell_type": "code",
   "execution_count": 21,
   "id": "a97e0b6c-fd43-4306-8578-d33b032f7909",
   "metadata": {},
   "outputs": [
    {
     "name": "stdout",
     "output_type": "stream",
     "text": [
      "9\n"
     ]
    }
   ],
   "source": [
    "#Q2)Wap find how many vowels are there in same string\n",
    "# str1='hi naresh how are you'\n",
    "\n",
    "count = 0\n",
    "str1 = 'hai naresh how are you?'\n",
    "for i in str1:\n",
    "    if i in 'aeiou':\n",
    "        count += 1\n",
    "print(count)"
   ]
  },
  {
   "cell_type": "code",
   "execution_count": null,
   "id": "25193873-faf6-4944-ac7b-1bbc83126299",
   "metadata": {},
   "outputs": [],
   "source": [
    "#Q3) \n",
    "# str1='hi naresh how are you?'\n",
    "# repeated vowels are there\n",
    "# we dont want repeated vowels\n",
    "# we want unique vowels\n",
    "# count the vowels avoid the reputation: unique vowels\n",
    "\n",
    "# step 1 :count=0\n",
    "# step 2: take one more empty string: ex=s2=''\n",
    "# step 3: for loop\n",
    "# step 4:that letter should not available in s2\n",
    "# step 5: condition 2:vowel check condition\n",
    "# step 6: count=count+1\n",
    "# step 7: update the s2=s2+<letter>"
   ]
  },
  {
   "cell_type": "markdown",
   "id": "c0a865f3-6c8a-4a00-a669-5322810c6754",
   "metadata": {},
   "source": [
    "**How to update the empty string**"
   ]
  },
  {
   "cell_type": "code",
   "execution_count": 22,
   "id": "2f10a9e5-10fe-4ac5-97fe-a58d3a62947f",
   "metadata": {},
   "outputs": [
    {
     "data": {
      "text/plain": [
       "'python'"
      ]
     },
     "execution_count": 22,
     "metadata": {},
     "output_type": "execute_result"
    }
   ],
   "source": [
    "s1='python'\n",
    "s2=''\n",
    "for i in s1:\n",
    "    s2=s2+i\n",
    "\n",
    "s2"
   ]
  },
  {
   "cell_type": "markdown",
   "id": "dc33ec6d-13b3-429b-81bb-2c78500fab97",
   "metadata": {},
   "source": [
    "**Concatenation**"
   ]
  },
  {
   "cell_type": "code",
   "execution_count": 25,
   "id": "96f9f568-9798-4d2d-b1aa-5c3564f91e4f",
   "metadata": {},
   "outputs": [
    {
     "data": {
      "text/plain": [
       "'hellobye'"
      ]
     },
     "execution_count": 25,
     "metadata": {},
     "output_type": "execute_result"
    }
   ],
   "source": [
    "s1='hello'\n",
    "s2='bye'\n",
    "s1+s2"
   ]
  },
  {
   "cell_type": "code",
   "execution_count": 26,
   "id": "1f88376e-b51a-4920-8260-5c1bed641bb0",
   "metadata": {},
   "outputs": [
    {
     "data": {
      "text/plain": [
       "'hello bye'"
      ]
     },
     "execution_count": 26,
     "metadata": {},
     "output_type": "execute_result"
    }
   ],
   "source": [
    "s1='hello '\n",
    "s2='bye'\n",
    "s1+s2"
   ]
  },
  {
   "cell_type": "code",
   "execution_count": 27,
   "id": "99faf96b-a0e1-474b-9af6-518f51b20dcc",
   "metadata": {},
   "outputs": [
    {
     "data": {
      "text/plain": [
       "'hello bye'"
      ]
     },
     "execution_count": 27,
     "metadata": {},
     "output_type": "execute_result"
    }
   ],
   "source": [
    "s1='hello'\n",
    "s2=' bye'\n",
    "s1+s2"
   ]
  },
  {
   "cell_type": "code",
   "execution_count": 29,
   "id": "7bb009e7-8deb-44c7-9023-dcc00510c1dd",
   "metadata": {},
   "outputs": [
    {
     "data": {
      "text/plain": [
       "'hello bye'"
      ]
     },
     "execution_count": 29,
     "metadata": {},
     "output_type": "execute_result"
    }
   ],
   "source": [
    "s1='hello'\n",
    "s2=' '\n",
    "s3='bye'\n",
    "s1+s2+s3"
   ]
  },
  {
   "cell_type": "code",
   "execution_count": 30,
   "id": "79bd47c6-6da2-414b-967e-3a021058473e",
   "metadata": {},
   "outputs": [
    {
     "ename": "TypeError",
     "evalue": "can't multiply sequence by non-int of type 'str'",
     "output_type": "error",
     "traceback": [
      "\u001b[1;31m---------------------------------------------------------------------------\u001b[0m",
      "\u001b[1;31mTypeError\u001b[0m                                 Traceback (most recent call last)",
      "Cell \u001b[1;32mIn[30], line 4\u001b[0m\n\u001b[0;32m      2\u001b[0m s2\u001b[38;5;241m=\u001b[39m\u001b[38;5;124m'\u001b[39m\u001b[38;5;124m bye\u001b[39m\u001b[38;5;124m'\u001b[39m\n\u001b[0;32m      3\u001b[0m s1\u001b[38;5;241m+\u001b[39ms2\n\u001b[1;32m----> 4\u001b[0m s1\u001b[38;5;241m*\u001b[39ms2\n\u001b[0;32m      5\u001b[0m s1\u001b[38;5;241m/\u001b[39ms2\n\u001b[0;32m      6\u001b[0m s1\u001b[38;5;241m-\u001b[39ms2\n",
      "\u001b[1;31mTypeError\u001b[0m: can't multiply sequence by non-int of type 'str'"
     ]
    }
   ],
   "source": [
    "s1='hello'\n",
    "s2=' bye'\n",
    "s1+s2\n",
    "s1*s2\n",
    "s1/s2\n",
    "s1-s2"
   ]
  },
  {
   "cell_type": "markdown",
   "id": "4e825e43-1218-4897-817c-1332b5d93a78",
   "metadata": {},
   "source": [
    "**Index**"
   ]
  },
  {
   "cell_type": "markdown",
   "id": "0ae8821b-57c8-4788-b7d0-cf80fb628286",
   "metadata": {},
   "source": [
    "\n",
    "- index meaning a number attached to a letter\n",
    "- in python index starts with 0\n",
    "- we have 2 directions\n",
    "  - positive\n",
    "    - positive numbers starts with 0\n",
    "  - negative\n",
    "    - negative numbers starts with -1,applicable to last letter"
   ]
  },
  {
   "cell_type": "code",
   "execution_count": null,
   "id": "0a5c4444-2b9c-447d-88f9-526da52282d6",
   "metadata": {},
   "outputs": [],
   "source": [
    "s1='python'\n",
    "\n",
    "-6 -5 -4 -3 -2 -1 =====> negative\n",
    "p   y  t  h  o  n\n",
    "0   1  2  3  4  5 =====> positive\n"
   ]
  },
  {
   "cell_type": "code",
   "execution_count": 31,
   "id": "b1cb74d1-5221-43e4-8fba-8b5c808fc4c5",
   "metadata": {},
   "outputs": [
    {
     "data": {
      "text/plain": [
       "('p', 'y', 't', 'h', 'o', 'n')"
      ]
     },
     "execution_count": 31,
     "metadata": {},
     "output_type": "execute_result"
    }
   ],
   "source": [
    "s1='python'\n",
    "s1[0],s1[1],s1[2],s1[3],s1[4],s1[5]"
   ]
  },
  {
   "cell_type": "code",
   "execution_count": 32,
   "id": "e0ed53cf-be11-48c7-a460-51f0fce41182",
   "metadata": {},
   "outputs": [
    {
     "data": {
      "text/plain": [
       "('n', 'o', 'h', 't', 'y', 'p')"
      ]
     },
     "execution_count": 32,
     "metadata": {},
     "output_type": "execute_result"
    }
   ],
   "source": [
    "s1='python'\n",
    "s1[-1],s1[-2],s1[-3],s1[-4],s1[-5],s1[-6]"
   ]
  },
  {
   "cell_type": "code",
   "execution_count": null,
   "id": "c9d16c71-ce30-4738-9c1a-9b06984ec3fa",
   "metadata": {},
   "outputs": [],
   "source": [
    "**Mutable-immutable concept**\n",
    "\n",
    "- mutable: it can change\n",
    "  - we can change using indexing\n",
    "- ommutable: can not change \n",
    "  - we cannot change using indexing\n",
    "- Strings are immutable"
   ]
  },
  {
   "cell_type": "code",
   "execution_count": 2,
   "id": "55ec1511-3487-4cd0-8f1e-eaa6ed76dfcc",
   "metadata": {},
   "outputs": [
    {
     "data": {
      "text/plain": [
       "'l'"
      ]
     },
     "execution_count": 2,
     "metadata": {},
     "output_type": "execute_result"
    }
   ],
   "source": [
    "s='welcome' #weLcome\n",
    "# i want to replace 'l' with 'L'\n",
    "\n",
    "s[2]\n"
   ]
  },
  {
   "cell_type": "markdown",
   "id": "83356721-a1ad-4293-8304-204f0031db04",
   "metadata": {},
   "source": [
    "## Strings are Immutable"
   ]
  },
  {
   "cell_type": "code",
   "execution_count": 3,
   "id": "099375ee-ef03-4291-b80d-5927a05012c3",
   "metadata": {},
   "outputs": [
    {
     "data": {
      "text/plain": [
       "[1, 200, 3, 4]"
      ]
     },
     "execution_count": 3,
     "metadata": {},
     "output_type": "execute_result"
    }
   ],
   "source": [
    "l=[1,2,3,4] #2=200\n",
    "l[1]=200\n",
    "l"
   ]
  },
  {
   "cell_type": "code",
   "execution_count": null,
   "id": "6d1ced38-eb4c-45f9-9f07-31d53eb860b3",
   "metadata": {},
   "outputs": [],
   "source": [
    "s='welcome'\n",
    "s[2]='L'\n",
    "##############################\n",
    "l=[1,2,3,4]\n",
    "l[1]=200\n",
    "l"
   ]
  },
  {
   "cell_type": "markdown",
   "id": "2666ec15-a410-4bd5-bbdb-337407e14852",
   "metadata": {},
   "source": [
    "- range belongs to which family\n",
    "  - math family\n",
    "- inside range bracket what we need to provide\n",
    "  - numbers\n",
    "- how many numbers we need to provide\n",
    "  - number of letter:len(string)\n",
    "- how to access the letter using number\n",
    "  - by using index"
   ]
  },
  {
   "cell_type": "code",
   "execution_count": 4,
   "id": "613c7734-a488-47fe-b2b6-3f15e5b6a27e",
   "metadata": {},
   "outputs": [
    {
     "name": "stdout",
     "output_type": "stream",
     "text": [
      "w\n",
      "e\n",
      "l\n",
      "c\n",
      "o\n",
      "m\n",
      "e\n"
     ]
    }
   ],
   "source": [
    "#Q4) print each letter using for loop range\n",
    "s='welcome'\n",
    "for i  in s:\n",
    "    print(i)"
   ]
  },
  {
   "cell_type": "code",
   "execution_count": 6,
   "id": "c11c536e-3621-43af-86a9-fe3fde7de7dd",
   "metadata": {},
   "outputs": [
    {
     "name": "stdout",
     "output_type": "stream",
     "text": [
      "w\n",
      "e\n",
      "l\n",
      "c\n",
      "o\n",
      "m\n",
      "e\n"
     ]
    }
   ],
   "source": [
    "s='welcome'\n",
    "for i  in range(7):\n",
    "    print(s[i])"
   ]
  },
  {
   "cell_type": "code",
   "execution_count": 7,
   "id": "36deab2d-c8c8-405b-8e0a-028d3a5509a0",
   "metadata": {},
   "outputs": [
    {
     "name": "stdout",
     "output_type": "stream",
     "text": [
      "w\n",
      "e\n",
      "l\n",
      "c\n",
      "o\n",
      "m\n",
      "e\n",
      " \n",
      "t\n",
      "o\n",
      " \n",
      "n\n",
      "a\n",
      "r\n",
      "e\n",
      "s\n",
      "h\n",
      " \n",
      "i\n",
      "t\n"
     ]
    }
   ],
   "source": [
    "s='welcome to naresh it'\n",
    "n=len(s)\n",
    "for i  in range(n):\n",
    "    print(s[i])"
   ]
  },
  {
   "cell_type": "markdown",
   "id": "4353fe61-464c-442c-86c4-22482c3dd385",
   "metadata": {},
   "source": [
    "- **for-in** operator directly access the letter\n",
    "- **for-range** operator will access using index"
   ]
  },
  {
   "cell_type": "code",
   "execution_count": 12,
   "id": "ca8bf9ad-84b0-4456-a2fa-d6287c242efe",
   "metadata": {},
   "outputs": [
    {
     "name": "stdout",
     "output_type": "stream",
     "text": [
      "w\n",
      "e\n",
      "l\n",
      "c\n",
      "o\n",
      "m\n",
      "e\n",
      " \n",
      "t\n",
      "o\n",
      " \n",
      "n\n",
      "a\n",
      "r\n",
      "e\n",
      "s\n",
      "h\n",
      " \n",
      "i\n",
      "t\n"
     ]
    }
   ],
   "source": [
    "# using for-in operator\n",
    "s='welcome to naresh it'\n",
    "for i  in s:\n",
    "    print(i)"
   ]
  },
  {
   "cell_type": "code",
   "execution_count": 11,
   "id": "4ee085ef-5ba6-419c-8dac-b4a8d0d99984",
   "metadata": {},
   "outputs": [
    {
     "name": "stdout",
     "output_type": "stream",
     "text": [
      "w\n",
      "e\n",
      "l\n",
      "c\n",
      "o\n",
      "m\n",
      "e\n",
      " \n",
      "t\n",
      "o\n",
      " \n",
      "n\n",
      "a\n",
      "r\n",
      "e\n",
      "s\n",
      "h\n",
      " \n",
      "i\n",
      "t\n"
     ]
    }
   ],
   "source": [
    "# for range\n",
    "s='welcome to naresh it'\n",
    "n=len(s)\n",
    "for i  in range(n):\n",
    "    print(s[i])"
   ]
  },
  {
   "cell_type": "code",
   "execution_count": 15,
   "id": "3fef7ab8-8c94-4c1b-b775-44acd5ec4661",
   "metadata": {},
   "outputs": [
    {
     "name": "stdout",
     "output_type": "stream",
     "text": [
      "The positive index of w is 0\n",
      "The positive index of e is 1\n",
      "The positive index of l is 2\n",
      "The positive index of c is 3\n",
      "The positive index of o is 4\n",
      "The positive index of m is 5\n",
      "The positive index of e is 6\n"
     ]
    }
   ],
   "source": [
    "#Q5) Wap ask the user itterate using a string\n",
    "# string = welcome\n",
    "# print the positive index of w is 0\n",
    "#          \" \" \" \" \" \" \" \"    e is 1\n",
    "\n",
    "s='welcome'\n",
    "n=len(s)\n",
    "for i  in range(n):\n",
    "    print(f\"The positive index of {s[i]} is {i}\")"
   ]
  },
  {
   "cell_type": "code",
   "execution_count": 26,
   "id": "ee8ad082-8127-4709-a0f0-99fb18e52ac1",
   "metadata": {},
   "outputs": [
    {
     "name": "stdout",
     "output_type": "stream",
     "text": [
      "The negative index of w is -7\n",
      "The negative index of e is -6\n",
      "The negative index of l is -5\n",
      "The negative index of c is -4\n",
      "The negative index of o is -3\n",
      "The negative index of m is -2\n",
      "The negative index of e is -1\n"
     ]
    }
   ],
   "source": [
    "#Q5) Wap ask the user itterate using a string\n",
    "# string = welcome\n",
    "# print the negative index of w is 0\n",
    "#          \" \" \" \" \" \" \" \"    e is 1\n",
    "\n",
    "s='welcome'\n",
    "n=len(s)\n",
    "for i  in range(n):\n",
    "    print(f\"The negative index of {s[i]} is {i-n}\")"
   ]
  },
  {
   "cell_type": "code",
   "execution_count": 29,
   "id": "db7158eb-6c6c-4af8-9f77-7234d3a6391e",
   "metadata": {},
   "outputs": [
    {
     "name": "stdout",
     "output_type": "stream",
     "text": [
      "The negative index of w is -7 and and positive index is 0\n",
      "The negative index of e is -6 and and positive index is 1\n",
      "The negative index of l is -5 and and positive index is 2\n",
      "The negative index of c is -4 and and positive index is 3\n",
      "The negative index of o is -3 and and positive index is 4\n",
      "The negative index of m is -2 and and positive index is 5\n",
      "The negative index of e is -1 and and positive index is 6\n"
     ]
    }
   ],
   "source": [
    "#Q7) Wap ask the user itterate using a string\n",
    "# string = welcome\n",
    "# print the positive index of w is 0\n",
    "#          \" \" \" \" \" \" \" \"    e is 1\n",
    "# the positive index is 0 and the negative index is -7\n",
    "\n",
    "s='welcome'\n",
    "n=len(s)\n",
    "for i  in range(n):\n",
    "     print(f\"The negative index of {s[i]} is {i-n} and and positive index is {i}\")"
   ]
  },
  {
   "cell_type": "code",
   "execution_count": 37,
   "id": "df8b8405-945a-48b2-9d01-c0706578e9d1",
   "metadata": {},
   "outputs": [
    {
     "name": "stdout",
     "output_type": "stream",
     "text": [
      "The index of a is 1\n",
      "The index of a is 5\n",
      "The index of a is 15\n"
     ]
    }
   ],
   "source": [
    "#Q8) wap ask the user get the index of each 'a' in the given string\n",
    "\n",
    "s='hai naresh how are you?'\n",
    "n=len(s)\n",
    "for i in range(n):\n",
    "    if s[i]=='a':\n",
    "        print(f\"The index of {s[i]} is {i}\")"
   ]
  },
  {
   "cell_type": "code",
   "execution_count": 38,
   "id": "3204a2fc-b61d-4d59-802d-5f6875b0f25a",
   "metadata": {},
   "outputs": [
    {
     "name": "stdout",
     "output_type": "stream",
     "text": [
      "3\n"
     ]
    }
   ],
   "source": [
    "#Q9) wap ask the user get the count of number of 'a' in the given string using for range\n",
    "count=0\n",
    "s='hai naresh how are you?'\n",
    "n=len(s)\n",
    "for i in range(n):\n",
    "    if s[i]=='a':\n",
    "       count=count+1\n",
    "print(count)"
   ]
  },
  {
   "cell_type": "code",
   "execution_count": 41,
   "id": "fa0f19d2-a6b4-4c31-97ff-a0b06904ff3f",
   "metadata": {},
   "outputs": [
    {
     "name": "stdout",
     "output_type": "stream",
     "text": [
      "21\n"
     ]
    }
   ],
   "source": [
    "#Q10) wap ask the user get the sum of all the index number\n",
    "\n",
    "summ = 0\n",
    "s = 'hai naresh how are you?'\n",
    "n = len(s)\n",
    "for i in range(n):\n",
    "    if s[i] == 'a':\n",
    "        summ += i\n",
    "print(summ)"
   ]
  },
  {
   "cell_type": "code",
   "execution_count": 44,
   "id": "2b20df72-92ff-4e80-aa90-471eff43308e",
   "metadata": {},
   "outputs": [
    {
     "name": "stdout",
     "output_type": "stream",
     "text": [
      "a\n",
      "i\n",
      "a\n",
      "e\n",
      "o\n",
      "a\n",
      "e\n",
      "o\n",
      "u\n",
      "The number of vowels are: 9\n"
     ]
    }
   ],
   "source": [
    "#Q11) wap ask the user to get the vowels from a given string\n",
    "count=0\n",
    "s = 'hai naresh how are you?'\n",
    "n = len(s)\n",
    "for i in range(n):\n",
    "    if s[i] in 'aeiou':\n",
    "        print(s[i])\n",
    "        count=count+1\n",
    "print(\"The number of vowels are:\",count)"
   ]
  },
  {
   "cell_type": "code",
   "execution_count": 45,
   "id": "67097694-c4ce-4761-be97-6bfa6eb6bf51",
   "metadata": {},
   "outputs": [
    {
     "name": "stdout",
     "output_type": "stream",
     "text": [
      "a\n",
      "i\n",
      "e\n",
      "o\n",
      "u\n",
      "The number of vowels are: 5\n"
     ]
    }
   ],
   "source": [
    "#Q11) wap ask the user to get the unique vowels from a given string\n",
    "count=0\n",
    "s = 'hai naresh how are you?'\n",
    "s1=' '\n",
    "n = len(s)\n",
    "for i in range(n):\n",
    "    if s[i] not in s1:   # we are checking the letter is available in s1 or not (It should not available)\n",
    "        if s[i] in 'aeiou': # check condition\n",
    "            print(s[i])\n",
    "            s1=s1+s[i]      # update the s1\n",
    "            count=count+1\n",
    "print(\"The number of vowels are:\",count)"
   ]
  },
  {
   "cell_type": "code",
   "execution_count": 47,
   "id": "f769026b-3235-4748-bf40-c0596b2dd972",
   "metadata": {},
   "outputs": [
    {
     "name": "stdout",
     "output_type": "stream",
     "text": [
      "a\n",
      "i\n",
      "e\n",
      "o\n",
      "u\n",
      "The number of vowels are: 5\n"
     ]
    }
   ],
   "source": [
    "#Q11) wap ask the user to get the unique vowels from a given string (2nd way)\n",
    "count=0\n",
    "s = 'hai naresh how are you?'\n",
    "s1=' '\n",
    "n = len(s)\n",
    "for i in range(n):\n",
    "    if s[i] not in s1 and s[i] in 'aeiou':\n",
    "            print(s[i])\n",
    "            s1=s1+s[i]      # update the s1\n",
    "            count=count+1\n",
    "print(\"The number of vowels are:\",count)"
   ]
  },
  {
   "cell_type": "code",
   "execution_count": null,
   "id": "7c53eccb-9d5e-451e-8714-a3664ed69736",
   "metadata": {},
   "outputs": [],
   "source": [
    "# Q1) string1='ola ola ola'\n",
    "# ANSWER SHOULD BE 3\n",
    "\n",
    "# Q2) string1='hello hello hello how how how how are you'\n",
    "# What is the most repeated word: how\n",
    "\n",
    "# Q3) string1='hellooooo how aree u'\n",
    "# what is max length in hellooooo and min length of word in u\n",
    "\n",
    "#Q4) without using sorted sort the letters\n"
   ]
  },
  {
   "cell_type": "markdown",
   "id": "23398b12-c32f-443d-9287-d0d6f65f0191",
   "metadata": {},
   "source": [
    "**Slice**"
   ]
  },
  {
   "cell_type": "markdown",
   "id": "ec3fea49-05db-4ce7-b7cc-da58e53f0762",
   "metadata": {},
   "source": [
    "- we can cut into pieces\n",
    "- similar to range concept\n",
    "- in range we have taken staart,stop,step here also same"
   ]
  },
  {
   "cell_type": "code",
   "execution_count": null,
   "id": "3ee0d6a2-4cd6-4634-af96-fd5d945dddeb",
   "metadata": {},
   "outputs": [],
   "source": [
    "str1='hai how are you'"
   ]
  },
  {
   "cell_type": "code",
   "execution_count": null,
   "id": "55f0fca8-10f6-4968-860c-a1dad7e9980e",
   "metadata": {},
   "outputs": [],
   "source": [
    "-15 -14 -13 -12 -11 -10 -9 -8 -7 -6 -5 -4 -3 -2 -1\n",
    " h   a   i        h  o  w      a  r  e     y  o  u\n",
    " 0   1   2   3    4  5  6  7   8  9  10 11 12 13 14"
   ]
  },
  {
   "cell_type": "code",
   "execution_count": null,
   "id": "7ace8343-04d8-4cc7-9fa1-916e0769a924",
   "metadata": {},
   "outputs": [],
   "source": [
    "str1[start:stop:step]"
   ]
  },
  {
   "cell_type": "code",
   "execution_count": null,
   "id": "037412ae-304d-453e-9d48-2bb09d723628",
   "metadata": {},
   "outputs": [],
   "source": [
    "$Pattern - 1$\n",
    "\n",
    "**str1[start:]**\n",
    "- By default start value = start only\n",
    "- Last value nothing mentioned it will go till last = last only\n",
    "- step nothing mentioned means, It is a positive direction and increment by 1"
   ]
  },
  {
   "cell_type": "code",
   "execution_count": 1,
   "id": "a8653066-4d7f-4fd7-a6ee-2d957903ebe1",
   "metadata": {},
   "outputs": [
    {
     "data": {
      "text/plain": [
       "'ow are you'"
      ]
     },
     "execution_count": 1,
     "metadata": {},
     "output_type": "execute_result"
    }
   ],
   "source": [
    "#-15 -14 -13 -12 -11 -10 -9 -8 -7 -6 -5 -4 -3 -2 -1\n",
    "# h   a   i        h  o  w      a  r  e     y  o  u\n",
    "# 0   1   2   3    4  5  6  7   8  9  10 11 12 13 14\n",
    "str1='hai how are you'\n",
    "str1[5:]"
   ]
  },
  {
   "cell_type": "code",
   "execution_count": 2,
   "id": "e9ad345b-a4d0-484b-82f9-5e46d36bbc33",
   "metadata": {},
   "outputs": [
    {
     "data": {
      "text/plain": [
       "'ai how are you'"
      ]
     },
     "execution_count": 2,
     "metadata": {},
     "output_type": "execute_result"
    }
   ],
   "source": [
    "str1='hai how are you'\n",
    "str1[1:]"
   ]
  },
  {
   "cell_type": "code",
   "execution_count": 3,
   "id": "96d0fb11-7ee3-40d0-acc0-4056f3b0242a",
   "metadata": {},
   "outputs": [
    {
     "data": {
      "text/plain": [
       "'e you'"
      ]
     },
     "execution_count": 3,
     "metadata": {},
     "output_type": "execute_result"
    }
   ],
   "source": [
    "str1[-5:]"
   ]
  },
  {
   "cell_type": "markdown",
   "id": "95c2be44-510e-431f-bec2-411cc361d068",
   "metadata": {},
   "source": [
    "$Pattern - 2$\n",
    "\n",
    "**str1[start:stop]**\n",
    "\n",
    "- start value means by default start only\n",
    "- step is not mentioned positive direction\n",
    "- last=stop-1"
   ]
  },
  {
   "cell_type": "code",
   "execution_count": 4,
   "id": "0592c9bb-f23d-4f71-8bb6-22b509589664",
   "metadata": {},
   "outputs": [
    {
     "data": {
      "text/plain": [
       "'ow are yo'"
      ]
     },
     "execution_count": 4,
     "metadata": {},
     "output_type": "execute_result"
    }
   ],
   "source": [
    "#-15 -14 -13 -12 -11 -10 -9 -8 -7 -6 -5 -4 -3 -2 -1\n",
    "# h   a   i        h  o  w      a  r  e     y  o  u\n",
    "# 0   1   2   3    4  5  6  7   8  9  10 11 12 13 14\n",
    "str1='hai how are you'\n",
    "str1[5:14]"
   ]
  },
  {
   "cell_type": "code",
   "execution_count": 5,
   "id": "9b9ceac5-3337-406e-ba5e-b645555db5a6",
   "metadata": {},
   "outputs": [
    {
     "data": {
      "text/plain": [
       "'ai how '"
      ]
     },
     "execution_count": 5,
     "metadata": {},
     "output_type": "execute_result"
    }
   ],
   "source": [
    "str1='hai how are you'\n",
    "str1[-14:-7]"
   ]
  },
  {
   "cell_type": "code",
   "execution_count": 6,
   "id": "1c641670-a139-417e-96f3-ee0fcb5af58a",
   "metadata": {},
   "outputs": [
    {
     "data": {
      "text/plain": [
       "'e yo'"
      ]
     },
     "execution_count": 6,
     "metadata": {},
     "output_type": "execute_result"
    }
   ],
   "source": [
    "str1='hai how are you'\n",
    "str1[-5:14]"
   ]
  },
  {
   "cell_type": "code",
   "execution_count": 8,
   "id": "8a32ea21-5eff-4f0f-a25a-ee64c96c16de",
   "metadata": {},
   "outputs": [
    {
     "data": {
      "text/plain": [
       "'how are'"
      ]
     },
     "execution_count": 8,
     "metadata": {},
     "output_type": "execute_result"
    }
   ],
   "source": [
    "str1='hai how are you'\n",
    "str1[4:-4]"
   ]
  },
  {
   "cell_type": "code",
   "execution_count": 9,
   "id": "f002f6a6-b5e1-4c40-ba18-85b97fe950a8",
   "metadata": {},
   "outputs": [
    {
     "data": {
      "text/plain": [
       "'ow are you'"
      ]
     },
     "execution_count": 9,
     "metadata": {},
     "output_type": "execute_result"
    }
   ],
   "source": [
    "str1[5:500]"
   ]
  },
  {
   "cell_type": "markdown",
   "id": "1965767c-2f37-4486-b39a-c2ea9f3d2e33",
   "metadata": {},
   "source": [
    "**Truncation Behaviour**\n",
    "- whenever the string range is limited but we provide unlimited number\n",
    "-string will consider till the range we have\n",
    "- in the above example our range only 15 letters\n",
    "- we provided 500,then 500 will truncate till 15 letters only"
   ]
  },
  {
   "cell_type": "code",
   "execution_count": 10,
   "id": "57623fbd-784a-44df-8e00-46269cb1ae4e",
   "metadata": {},
   "outputs": [
    {
     "data": {
      "text/plain": [
       "'hai how are you'"
      ]
     },
     "execution_count": 10,
     "metadata": {},
     "output_type": "execute_result"
    }
   ],
   "source": [
    "str1[-500:500]"
   ]
  },
  {
   "cell_type": "code",
   "execution_count": 12,
   "id": "7bdf41e2-12d7-4cdb-ab06-b17f3f8115ef",
   "metadata": {},
   "outputs": [
    {
     "data": {
      "text/plain": [
       "'u'"
      ]
     },
     "execution_count": 12,
     "metadata": {},
     "output_type": "execute_result"
    }
   ],
   "source": [
    "str1[-1:500]"
   ]
  },
  {
   "cell_type": "code",
   "execution_count": 13,
   "id": "5cac7712-a287-473d-a96d-374946c4970f",
   "metadata": {},
   "outputs": [
    {
     "data": {
      "text/plain": [
       "''"
      ]
     },
     "execution_count": 13,
     "metadata": {},
     "output_type": "execute_result"
    }
   ],
   "source": [
    "str1[500:]"
   ]
  },
  {
   "cell_type": "code",
   "execution_count": 14,
   "id": "09c41d9d-6699-4096-a861-eecec03fbaa1",
   "metadata": {},
   "outputs": [
    {
     "data": {
      "text/plain": [
       "'ow are you'"
      ]
     },
     "execution_count": 14,
     "metadata": {},
     "output_type": "execute_result"
    }
   ],
   "source": [
    "str1[5:500]"
   ]
  },
  {
   "cell_type": "code",
   "execution_count": 15,
   "id": "677a5dbb-8769-4ab7-866c-4c19df0c34a1",
   "metadata": {},
   "outputs": [
    {
     "data": {
      "text/plain": [
       "''"
      ]
     },
     "execution_count": 15,
     "metadata": {},
     "output_type": "execute_result"
    }
   ],
   "source": [
    "str1[-500:-100]"
   ]
  },
  {
   "cell_type": "code",
   "execution_count": null,
   "id": "3b02d9d9-de33-46de-ac10-9313e418b752",
   "metadata": {},
   "outputs": [],
   "source": [
    "#y e s h w a n t h\n",
    "#0 1 2 3 4 5 6 7 8\n",
    "\n",
    "str2='yeshwanth'\n"
   ]
  },
  {
   "cell_type": "markdown",
   "id": "b6dc8252-47c6-4bb7-aa10-9a13b9ae4fe4",
   "metadata": {},
   "source": [
    "$Pattern - 3$\n",
    "\n",
    "**str1[start:stop:step]**\n",
    "\n",
    "- start value means start only\n",
    "- If step value is positive \n",
    "   - last value = stop -1\n",
    "- If step value is negative\n",
    "   - last value = stop +1"
   ]
  },
  {
   "cell_type": "code",
   "execution_count": null,
   "id": "96f4f224-b84c-417e-a287-d5475f03eddd",
   "metadata": {},
   "outputs": [],
   "source": [
    "#-15 -14 -13 -12 -11 -10 -9 -8 -7 -6 -5 -4 -3 -2 -1\n",
    "# h   a   i        h  o  w      a  r  e     y  o  u\n",
    "# 0   1   2   3    4  5  6  7   8  9  10 11 12 13 14"
   ]
  },
  {
   "cell_type": "code",
   "execution_count": 16,
   "id": "33e06dfe-4d5d-4477-b467-37f68fb69e84",
   "metadata": {},
   "outputs": [
    {
     "data": {
      "text/plain": [
       "'ihwaey'"
      ]
     },
     "execution_count": 16,
     "metadata": {},
     "output_type": "execute_result"
    }
   ],
   "source": [
    "str1[2:13:2]"
   ]
  },
  {
   "cell_type": "code",
   "execution_count": 18,
   "id": "4e06cae0-7b9a-414a-9337-a24318759b23",
   "metadata": {},
   "outputs": [
    {
     "data": {
      "text/plain": [
       "''"
      ]
     },
     "execution_count": 18,
     "metadata": {},
     "output_type": "execute_result"
    }
   ],
   "source": [
    "str1[2:13:-2]"
   ]
  },
  {
   "cell_type": "code",
   "execution_count": 19,
   "id": "8426321d-cff6-4f7a-ab36-4f63123fa3fe",
   "metadata": {},
   "outputs": [
    {
     "data": {
      "text/plain": [
       "''"
      ]
     },
     "execution_count": 19,
     "metadata": {},
     "output_type": "execute_result"
    }
   ],
   "source": [
    "str1[2:-13:-2]"
   ]
  },
  {
   "cell_type": "code",
   "execution_count": 20,
   "id": "d8a7e482-7dae-4710-b5bf-fb341373f04b",
   "metadata": {},
   "outputs": [
    {
     "data": {
      "text/plain": [
       "''"
      ]
     },
     "execution_count": 20,
     "metadata": {},
     "output_type": "execute_result"
    }
   ],
   "source": [
    "str1[2:-13:2]"
   ]
  },
  {
   "cell_type": "code",
   "execution_count": 21,
   "id": "a7a308e3-d2e8-4d8c-98bc-54b1eb4db427",
   "metadata": {},
   "outputs": [
    {
     "data": {
      "text/plain": [
       "''"
      ]
     },
     "execution_count": 21,
     "metadata": {},
     "output_type": "execute_result"
    }
   ],
   "source": [
    "str1[-2:13:2]"
   ]
  },
  {
   "cell_type": "code",
   "execution_count": 22,
   "id": "2325cb49-8a3d-4ab5-a8e7-7e3a510f2e11",
   "metadata": {},
   "outputs": [
    {
     "data": {
      "text/plain": [
       "''"
      ]
     },
     "execution_count": 22,
     "metadata": {},
     "output_type": "execute_result"
    }
   ],
   "source": [
    "str1[-2:-13:2]"
   ]
  },
  {
   "cell_type": "code",
   "execution_count": 23,
   "id": "5230ee19-7ed2-49f0-8683-f41d738fb943",
   "metadata": {},
   "outputs": [
    {
     "data": {
      "text/plain": [
       "'o r o '"
      ]
     },
     "execution_count": 23,
     "metadata": {},
     "output_type": "execute_result"
    }
   ],
   "source": [
    "str1[-2:-13:-2]"
   ]
  },
  {
   "cell_type": "code",
   "execution_count": 24,
   "id": "979dfd97-1e89-482e-89b4-3e0f26a4dd0a",
   "metadata": {},
   "outputs": [
    {
     "data": {
      "text/plain": [
       "''"
      ]
     },
     "execution_count": 24,
     "metadata": {},
     "output_type": "execute_result"
    }
   ],
   "source": [
    "str1[13:2:2]"
   ]
  },
  {
   "cell_type": "code",
   "execution_count": 25,
   "id": "13c7908e-d490-4457-8761-c9f70f50cde3",
   "metadata": {},
   "outputs": [
    {
     "data": {
      "text/plain": [
       "''"
      ]
     },
     "execution_count": 25,
     "metadata": {},
     "output_type": "execute_result"
    }
   ],
   "source": [
    "str1[-13:2:2]"
   ]
  },
  {
   "cell_type": "code",
   "execution_count": 26,
   "id": "b006cbb6-5b45-4331-b356-04b98b0a38dd",
   "metadata": {},
   "outputs": [
    {
     "data": {
      "text/plain": [
       "'ihwaey'"
      ]
     },
     "execution_count": 26,
     "metadata": {},
     "output_type": "execute_result"
    }
   ],
   "source": [
    "str1[-13:-2:2]"
   ]
  },
  {
   "cell_type": "code",
   "execution_count": 27,
   "id": "895469dc-e294-4686-b2d2-c220c337dc1b",
   "metadata": {},
   "outputs": [
    {
     "data": {
      "text/plain": [
       "''"
      ]
     },
     "execution_count": 27,
     "metadata": {},
     "output_type": "execute_result"
    }
   ],
   "source": [
    "str1[-13:-2:-2]"
   ]
  },
  {
   "cell_type": "code",
   "execution_count": 28,
   "id": "dc8ecbb2-dabe-4b1d-bce4-263b2626a378",
   "metadata": {},
   "outputs": [
    {
     "data": {
      "text/plain": [
       "''"
      ]
     },
     "execution_count": 28,
     "metadata": {},
     "output_type": "execute_result"
    }
   ],
   "source": [
    "str1[-13:2:-2]"
   ]
  },
  {
   "cell_type": "code",
   "execution_count": 29,
   "id": "da6c889a-cc35-46c0-9f4c-611fb19df156",
   "metadata": {},
   "outputs": [
    {
     "data": {
      "text/plain": [
       "''"
      ]
     },
     "execution_count": 29,
     "metadata": {},
     "output_type": "execute_result"
    }
   ],
   "source": [
    "str1[2:-13]"
   ]
  },
  {
   "cell_type": "code",
   "execution_count": 30,
   "id": "654f3a41-592d-4e6d-9e86-dfb1a6529e0a",
   "metadata": {},
   "outputs": [
    {
     "data": {
      "text/plain": [
       "'i'"
      ]
     },
     "execution_count": 30,
     "metadata": {},
     "output_type": "execute_result"
    }
   ],
   "source": [
    "str1[2:3:2]"
   ]
  },
  {
   "cell_type": "code",
   "execution_count": 31,
   "id": "5b5349a3-7c63-46eb-8f1c-3cb2deba99e9",
   "metadata": {},
   "outputs": [
    {
     "data": {
      "text/plain": [
       "''"
      ]
     },
     "execution_count": 31,
     "metadata": {},
     "output_type": "execute_result"
    }
   ],
   "source": [
    "str1[2:2]"
   ]
  },
  {
   "cell_type": "code",
   "execution_count": 32,
   "id": "e8b3ce85-edaa-4fe8-99c1-4c23cb924b87",
   "metadata": {},
   "outputs": [
    {
     "data": {
      "text/plain": [
       "'hai how are you'"
      ]
     },
     "execution_count": 32,
     "metadata": {},
     "output_type": "execute_result"
    }
   ],
   "source": [
    "str1[:]"
   ]
  },
  {
   "cell_type": "code",
   "execution_count": 33,
   "id": "3641eadc-25f4-4fc5-a7a5-ecdcae7a821e",
   "metadata": {},
   "outputs": [
    {
     "data": {
      "text/plain": [
       "'hai how are you'"
      ]
     },
     "execution_count": 33,
     "metadata": {},
     "output_type": "execute_result"
    }
   ],
   "source": [
    "str1[::]"
   ]
  },
  {
   "cell_type": "code",
   "execution_count": 34,
   "id": "d4ae510b-3621-4213-9673-5379df23fde0",
   "metadata": {},
   "outputs": [
    {
     "data": {
      "text/plain": [
       "'uoy era woh iah'"
      ]
     },
     "execution_count": 34,
     "metadata": {},
     "output_type": "execute_result"
    }
   ],
   "source": [
    "str1[::-1]"
   ]
  },
  {
   "cell_type": "code",
   "execution_count": 35,
   "id": "53b380eb-1a0d-49dc-b5b9-e88bdd70dd96",
   "metadata": {},
   "outputs": [
    {
     "data": {
      "text/plain": [
       "'uyeaw'"
      ]
     },
     "execution_count": 35,
     "metadata": {},
     "output_type": "execute_result"
    }
   ],
   "source": [
    "str1[:5:-2]"
   ]
  },
  {
   "cell_type": "code",
   "execution_count": null,
   "id": "63841229-dce3-44fd-b07e-38d70957d4dc",
   "metadata": {},
   "outputs": [],
   "source": [
    "#===========================Part 2========================\n",
    "#Methods"
   ]
  },
  {
   "cell_type": "markdown",
   "id": "89a4d840-14e8-4e64-bde5-17e221a52807",
   "metadata": {},
   "source": [
    "**Methods**\n",
    "\n",
    "- string lists tuple dictionary every data type has its own method\n",
    "- we already seen that packages have different methods\n",
    "- for example random package:randint method\n",
    "- Math package : sqrt\n",
    "- In the same way strings also have methods \n",
    "- In order to see the methods for the packages \n",
    "   - we are importing the package\n",
    "   - we are applying dir\n",
    "- In the similar way in order to see the methods of the string we need to apply dir only"
   ]
  },
  {
   "cell_type": "code",
   "execution_count": 36,
   "id": "3c900ca1-0855-4bc7-8275-71a17508b291",
   "metadata": {},
   "outputs": [
    {
     "data": {
      "text/plain": [
       "['__add__',\n",
       " '__class__',\n",
       " '__contains__',\n",
       " '__delattr__',\n",
       " '__dir__',\n",
       " '__doc__',\n",
       " '__eq__',\n",
       " '__format__',\n",
       " '__ge__',\n",
       " '__getattribute__',\n",
       " '__getitem__',\n",
       " '__getnewargs__',\n",
       " '__getstate__',\n",
       " '__gt__',\n",
       " '__hash__',\n",
       " '__init__',\n",
       " '__init_subclass__',\n",
       " '__iter__',\n",
       " '__le__',\n",
       " '__len__',\n",
       " '__lt__',\n",
       " '__mod__',\n",
       " '__mul__',\n",
       " '__ne__',\n",
       " '__new__',\n",
       " '__reduce__',\n",
       " '__reduce_ex__',\n",
       " '__repr__',\n",
       " '__rmod__',\n",
       " '__rmul__',\n",
       " '__setattr__',\n",
       " '__sizeof__',\n",
       " '__str__',\n",
       " '__subclasshook__',\n",
       " 'capitalize',\n",
       " 'casefold',\n",
       " 'center',\n",
       " 'count',\n",
       " 'encode',\n",
       " 'endswith',\n",
       " 'expandtabs',\n",
       " 'find',\n",
       " 'format',\n",
       " 'format_map',\n",
       " 'index',\n",
       " 'isalnum',\n",
       " 'isalpha',\n",
       " 'isascii',\n",
       " 'isdecimal',\n",
       " 'isdigit',\n",
       " 'isidentifier',\n",
       " 'islower',\n",
       " 'isnumeric',\n",
       " 'isprintable',\n",
       " 'isspace',\n",
       " 'istitle',\n",
       " 'isupper',\n",
       " 'join',\n",
       " 'ljust',\n",
       " 'lower',\n",
       " 'lstrip',\n",
       " 'maketrans',\n",
       " 'partition',\n",
       " 'removeprefix',\n",
       " 'removesuffix',\n",
       " 'replace',\n",
       " 'rfind',\n",
       " 'rindex',\n",
       " 'rjust',\n",
       " 'rpartition',\n",
       " 'rsplit',\n",
       " 'rstrip',\n",
       " 'split',\n",
       " 'splitlines',\n",
       " 'startswith',\n",
       " 'strip',\n",
       " 'swapcase',\n",
       " 'title',\n",
       " 'translate',\n",
       " 'upper',\n",
       " 'zfill']"
      ]
     },
     "execution_count": 36,
     "metadata": {},
     "output_type": "execute_result"
    }
   ],
   "source": [
    "dir('')"
   ]
  },
  {
   "cell_type": "code",
   "execution_count": 37,
   "id": "ec470822-b9ad-4222-8ea0-5ed9376fc686",
   "metadata": {},
   "outputs": [
    {
     "data": {
      "text/plain": [
       "['__add__',\n",
       " '__class__',\n",
       " '__contains__',\n",
       " '__delattr__',\n",
       " '__dir__',\n",
       " '__doc__',\n",
       " '__eq__',\n",
       " '__format__',\n",
       " '__ge__',\n",
       " '__getattribute__',\n",
       " '__getitem__',\n",
       " '__getnewargs__',\n",
       " '__getstate__',\n",
       " '__gt__',\n",
       " '__hash__',\n",
       " '__init__',\n",
       " '__init_subclass__',\n",
       " '__iter__',\n",
       " '__le__',\n",
       " '__len__',\n",
       " '__lt__',\n",
       " '__mod__',\n",
       " '__mul__',\n",
       " '__ne__',\n",
       " '__new__',\n",
       " '__reduce__',\n",
       " '__reduce_ex__',\n",
       " '__repr__',\n",
       " '__rmod__',\n",
       " '__rmul__',\n",
       " '__setattr__',\n",
       " '__sizeof__',\n",
       " '__str__',\n",
       " '__subclasshook__',\n",
       " 'capitalize',\n",
       " 'casefold',\n",
       " 'center',\n",
       " 'count',\n",
       " 'encode',\n",
       " 'endswith',\n",
       " 'expandtabs',\n",
       " 'find',\n",
       " 'format',\n",
       " 'format_map',\n",
       " 'index',\n",
       " 'isalnum',\n",
       " 'isalpha',\n",
       " 'isascii',\n",
       " 'isdecimal',\n",
       " 'isdigit',\n",
       " 'isidentifier',\n",
       " 'islower',\n",
       " 'isnumeric',\n",
       " 'isprintable',\n",
       " 'isspace',\n",
       " 'istitle',\n",
       " 'isupper',\n",
       " 'join',\n",
       " 'ljust',\n",
       " 'lower',\n",
       " 'lstrip',\n",
       " 'maketrans',\n",
       " 'partition',\n",
       " 'removeprefix',\n",
       " 'removesuffix',\n",
       " 'replace',\n",
       " 'rfind',\n",
       " 'rindex',\n",
       " 'rjust',\n",
       " 'rpartition',\n",
       " 'rsplit',\n",
       " 'rstrip',\n",
       " 'split',\n",
       " 'splitlines',\n",
       " 'startswith',\n",
       " 'strip',\n",
       " 'swapcase',\n",
       " 'title',\n",
       " 'translate',\n",
       " 'upper',\n",
       " 'zfill']"
      ]
     },
     "execution_count": 37,
     "metadata": {},
     "output_type": "execute_result"
    }
   ],
   "source": [
    "dir('hai')"
   ]
  },
  {
   "cell_type": "code",
   "execution_count": 38,
   "id": "00ff1890-83fb-4899-a786-8bec3cc148c4",
   "metadata": {},
   "outputs": [
    {
     "data": {
      "text/plain": [
       "['__add__',\n",
       " '__class__',\n",
       " '__contains__',\n",
       " '__delattr__',\n",
       " '__dir__',\n",
       " '__doc__',\n",
       " '__eq__',\n",
       " '__format__',\n",
       " '__ge__',\n",
       " '__getattribute__',\n",
       " '__getitem__',\n",
       " '__getnewargs__',\n",
       " '__getstate__',\n",
       " '__gt__',\n",
       " '__hash__',\n",
       " '__init__',\n",
       " '__init_subclass__',\n",
       " '__iter__',\n",
       " '__le__',\n",
       " '__len__',\n",
       " '__lt__',\n",
       " '__mod__',\n",
       " '__mul__',\n",
       " '__ne__',\n",
       " '__new__',\n",
       " '__reduce__',\n",
       " '__reduce_ex__',\n",
       " '__repr__',\n",
       " '__rmod__',\n",
       " '__rmul__',\n",
       " '__setattr__',\n",
       " '__sizeof__',\n",
       " '__str__',\n",
       " '__subclasshook__',\n",
       " 'capitalize',\n",
       " 'casefold',\n",
       " 'center',\n",
       " 'count',\n",
       " 'encode',\n",
       " 'endswith',\n",
       " 'expandtabs',\n",
       " 'find',\n",
       " 'format',\n",
       " 'format_map',\n",
       " 'index',\n",
       " 'isalnum',\n",
       " 'isalpha',\n",
       " 'isascii',\n",
       " 'isdecimal',\n",
       " 'isdigit',\n",
       " 'isidentifier',\n",
       " 'islower',\n",
       " 'isnumeric',\n",
       " 'isprintable',\n",
       " 'isspace',\n",
       " 'istitle',\n",
       " 'isupper',\n",
       " 'join',\n",
       " 'ljust',\n",
       " 'lower',\n",
       " 'lstrip',\n",
       " 'maketrans',\n",
       " 'partition',\n",
       " 'removeprefix',\n",
       " 'removesuffix',\n",
       " 'replace',\n",
       " 'rfind',\n",
       " 'rindex',\n",
       " 'rjust',\n",
       " 'rpartition',\n",
       " 'rsplit',\n",
       " 'rstrip',\n",
       " 'split',\n",
       " 'splitlines',\n",
       " 'startswith',\n",
       " 'strip',\n",
       " 'swapcase',\n",
       " 'title',\n",
       " 'translate',\n",
       " 'upper',\n",
       " 'zfill']"
      ]
     },
     "execution_count": 38,
     "metadata": {},
     "output_type": "execute_result"
    }
   ],
   "source": [
    "str1='apple'\n",
    "dir('')"
   ]
  },
  {
   "cell_type": "markdown",
   "id": "77fa13f6-bf03-4561-b524-e6314ee2adec",
   "metadata": {},
   "source": [
    "- lower\n",
    "- upper\n",
    "- capitalize\n",
    "- Title\n",
    "- casefold\n",
    "- center"
   ]
  },
  {
   "cell_type": "markdown",
   "id": "0ab0bf38-82d9-4dc4-af6c-067feadac3ea",
   "metadata": {},
   "source": [
    "**upper**"
   ]
  },
  {
   "cell_type": "code",
   "execution_count": 39,
   "id": "0ebcb328-ba4a-4fb9-a2ad-2a7c85de94ca",
   "metadata": {},
   "outputs": [],
   "source": [
    "str1 = 'hai how are you'\n"
   ]
  },
  {
   "cell_type": "code",
   "execution_count": 42,
   "id": "0d3e9410-f24c-435e-a5b2-6033befe0e57",
   "metadata": {},
   "outputs": [
    {
     "name": "stdout",
     "output_type": "stream",
     "text": [
      "Help on built-in function upper:\n",
      "\n",
      "upper() method of builtins.str instance\n",
      "    Return a copy of the string converted to uppercase.\n",
      "\n"
     ]
    }
   ],
   "source": [
    "help(str1.upper)"
   ]
  },
  {
   "cell_type": "code",
   "execution_count": 43,
   "id": "bed6ca26-f66d-4b7d-bb4a-abf9e3ae20ca",
   "metadata": {},
   "outputs": [
    {
     "data": {
      "text/plain": [
       "'HAI HOW ARE YOU'"
      ]
     },
     "execution_count": 43,
     "metadata": {},
     "output_type": "execute_result"
    }
   ],
   "source": [
    "str1.upper()"
   ]
  },
  {
   "cell_type": "code",
   "execution_count": 44,
   "id": "f9e3ef54-2323-4409-8ab8-f31873662091",
   "metadata": {},
   "outputs": [
    {
     "data": {
      "text/plain": [
       "'hai how are you'"
      ]
     },
     "execution_count": 44,
     "metadata": {},
     "output_type": "execute_result"
    }
   ],
   "source": [
    "str1.lower()"
   ]
  },
  {
   "cell_type": "code",
   "execution_count": 45,
   "id": "57875df6-3d07-4232-b7d1-c7ffec4f2a7b",
   "metadata": {},
   "outputs": [
    {
     "data": {
      "text/plain": [
       "'Hai how are you'"
      ]
     },
     "execution_count": 45,
     "metadata": {},
     "output_type": "execute_result"
    }
   ],
   "source": [
    "str1.capitalize()"
   ]
  },
  {
   "cell_type": "code",
   "execution_count": 46,
   "id": "fd49b9de-ae62-4082-adc7-0e8278e5fb62",
   "metadata": {},
   "outputs": [
    {
     "data": {
      "text/plain": [
       "'Hai How Are You'"
      ]
     },
     "execution_count": 46,
     "metadata": {},
     "output_type": "execute_result"
    }
   ],
   "source": [
    "str1.title()"
   ]
  },
  {
   "cell_type": "code",
   "execution_count": 47,
   "id": "c090b197-1148-4923-8460-693c17419a9b",
   "metadata": {},
   "outputs": [
    {
     "data": {
      "text/plain": [
       "'hai how are you'"
      ]
     },
     "execution_count": 47,
     "metadata": {},
     "output_type": "execute_result"
    }
   ],
   "source": [
    "str1.casefold()"
   ]
  },
  {
   "cell_type": "code",
   "execution_count": 49,
   "id": "dba199dc-1087-41d2-a8ba-f8e83386d119",
   "metadata": {},
   "outputs": [
    {
     "name": "stdout",
     "output_type": "stream",
     "text": [
      "Help on built-in function center:\n",
      "\n",
      "center(width, fillchar=' ', /) method of builtins.str instance\n",
      "    Return a centered string of length width.\n",
      "    \n",
      "    Padding is done using the specified fill character (default is a space).\n",
      "\n"
     ]
    }
   ],
   "source": [
    "help(str1.center)"
   ]
  },
  {
   "cell_type": "code",
   "execution_count": 52,
   "id": "68f15d91-72c0-4271-bd4c-95185b9c7ffc",
   "metadata": {},
   "outputs": [
    {
     "data": {
      "text/plain": [
       "'  hai how are you   '"
      ]
     },
     "execution_count": 52,
     "metadata": {},
     "output_type": "execute_result"
    }
   ],
   "source": [
    "str1.center(20)"
   ]
  },
  {
   "cell_type": "code",
   "execution_count": 54,
   "id": "ebf66f58-e67b-48b1-adb5-8caf4e510338",
   "metadata": {},
   "outputs": [
    {
     "data": {
      "text/plain": [
       "20"
      ]
     },
     "execution_count": 54,
     "metadata": {},
     "output_type": "execute_result"
    }
   ],
   "source": [
    "len(str1.center(20))"
   ]
  },
  {
   "cell_type": "markdown",
   "id": "31cd6366-0be5-4f45-91fe-644361f381f9",
   "metadata": {},
   "source": [
    "- center has 2 arguments\n",
    "  - width\n",
    "  - fill char\n",
    "- original string alread:15 letters\n",
    "- we want to create a new string with 20 letters\n",
    "- Remainig 5 letters by default empty\n",
    "- we can fill characters also"
   ]
  },
  {
   "cell_type": "code",
   "execution_count": 59,
   "id": "2915d066-dec1-48e7-86ff-ad99179cf525",
   "metadata": {},
   "outputs": [
    {
     "data": {
      "text/plain": [
       "'*****hai how are you******'"
      ]
     },
     "execution_count": 59,
     "metadata": {},
     "output_type": "execute_result"
    }
   ],
   "source": [
    "str1.center(26,'*')"
   ]
  },
  {
   "cell_type": "markdown",
   "id": "f81f36bd-492c-42c9-9710-e0bafce8787d",
   "metadata": {},
   "source": [
    "**advanced questions**"
   ]
  },
  {
   "cell_type": "code",
   "execution_count": 5,
   "id": "349bca7d-34fe-4ca7-90d4-06f89f36cd5e",
   "metadata": {},
   "outputs": [],
   "source": [
    "count=0\n",
    "for i in str1:\n",
    "    if i=='a':\n",
    "        count=count+1\n",
    "count=0"
   ]
  },
  {
   "cell_type": "code",
   "execution_count": 4,
   "id": "351a31b6-293b-4651-b44b-bae5976d1eca",
   "metadata": {},
   "outputs": [
    {
     "data": {
      "text/plain": [
       "2"
      ]
     },
     "execution_count": 4,
     "metadata": {},
     "output_type": "execute_result"
    }
   ],
   "source": [
    "str1='hai how are you'\n",
    "str1.count('a')"
   ]
  },
  {
   "cell_type": "code",
   "execution_count": 6,
   "id": "f654cce1-bfde-4ec1-b408-418d51138c85",
   "metadata": {},
   "outputs": [
    {
     "data": {
      "text/plain": [
       "3"
      ]
     },
     "execution_count": 6,
     "metadata": {},
     "output_type": "execute_result"
    }
   ],
   "source": [
    "str1='hai hai hai'\n",
    "str1.count('a')"
   ]
  },
  {
   "cell_type": "code",
   "execution_count": null,
   "id": "0ac43071-8997-4e5d-8332-9fdbc962f618",
   "metadata": {},
   "outputs": [],
   "source": [
    "- we want no of a from a specific index \n",
    "- we want no of a between two indexes"
   ]
  },
  {
   "cell_type": "code",
   "execution_count": 7,
   "id": "263befa2-8612-4cd7-b46c-eeab8833b1e5",
   "metadata": {},
   "outputs": [
    {
     "data": {
      "text/plain": [
       "1"
      ]
     },
     "execution_count": 7,
     "metadata": {},
     "output_type": "execute_result"
    }
   ],
   "source": [
    "#h  a  i   h  a  i   h  a  i\n",
    "#0  1  2 3 4  5  6 7 8  9  10\n",
    "str1='hai hai hai'\n",
    "str1.count('a')\n",
    "str1.count('a',6)"
   ]
  },
  {
   "cell_type": "code",
   "execution_count": 8,
   "id": "3227d1db-d824-498f-b8d6-e6235d8895eb",
   "metadata": {},
   "outputs": [
    {
     "data": {
      "text/plain": [
       "1"
      ]
     },
     "execution_count": 8,
     "metadata": {},
     "output_type": "execute_result"
    }
   ],
   "source": [
    "str1='hai hai hai'\n",
    "str1.count('a')\n",
    "str1.count('a',6)\n",
    "str1.count('a',4,8)"
   ]
  },
  {
   "cell_type": "code",
   "execution_count": 9,
   "id": "95ceb0cc-bb32-4602-b909-76ea7cbefab6",
   "metadata": {},
   "outputs": [
    {
     "data": {
      "text/plain": [
       "3"
      ]
     },
     "execution_count": 9,
     "metadata": {},
     "output_type": "execute_result"
    }
   ],
   "source": [
    "#level 1\n",
    "str1='ola ola ola'\n",
    "str1.count('ola')"
   ]
  },
  {
   "cell_type": "markdown",
   "id": "ffd6c983-c414-4c15-9c36-4589a0e5be47",
   "metadata": {},
   "source": [
    "**Window method**"
   ]
  },
  {
   "cell_type": "code",
   "execution_count": null,
   "id": "0697c4cc-17ef-4646-a725-7fff15ce0ee2",
   "metadata": {},
   "outputs": [],
   "source": [
    "str1[i:i+3]\n",
    "i=0   str1[0:3]\n",
    "i=1   str1[1:4]\n",
    "i=2"
   ]
  },
  {
   "cell_type": "code",
   "execution_count": 15,
   "id": "14488304-387b-4ccb-a1ed-45eff0d7812e",
   "metadata": {},
   "outputs": [
    {
     "name": "stdout",
     "output_type": "stream",
     "text": [
      "3\n"
     ]
    }
   ],
   "source": [
    "#level  2\n",
    "str1='ola ola ola'\n",
    "count=0\n",
    "for i in range(len(str1)):\n",
    "    if str1[i:i+3]=='ola':\n",
    "        count=count+1\n",
    "print(count)"
   ]
  },
  {
   "cell_type": "code",
   "execution_count": 16,
   "id": "e12124ea-e8a1-457b-be26-ba77c24be765",
   "metadata": {},
   "outputs": [
    {
     "data": {
      "text/plain": [
       "0"
      ]
     },
     "execution_count": 16,
     "metadata": {},
     "output_type": "execute_result"
    }
   ],
   "source": [
    "str1.count('z')"
   ]
  },
  {
   "cell_type": "markdown",
   "id": "18121370-69a4-4de7-9d68-b5c98e0ab186",
   "metadata": {},
   "source": [
    "**Replace**"
   ]
  },
  {
   "cell_type": "code",
   "execution_count": null,
   "id": "db8aa338-cfeb-4be2-9519-24ae9b6d6d00",
   "metadata": {},
   "outputs": [],
   "source": [
    "str1='welcome'\n",
    "# I want to replace 'l' with 'L'"
   ]
  },
  {
   "cell_type": "code",
   "execution_count": null,
   "id": "530df4c1-6bc0-4bb3-93cc-e69eca11c854",
   "metadata": {},
   "outputs": [],
   "source": [
    "# we know that strings are immutable\n",
    "# we can not use index operations also\n",
    "# slice and concatenation\n",
    "# divide welcome : we come\n",
    "# s1='we'\n",
    "# s2='come'\n",
    "# s1+'L'+s2"
   ]
  },
  {
   "cell_type": "code",
   "execution_count": 17,
   "id": "08ef92e3-0b34-444e-b1d5-aa1d03fa2e42",
   "metadata": {},
   "outputs": [
    {
     "name": "stdout",
     "output_type": "stream",
     "text": [
      "weLcome\n"
     ]
    }
   ],
   "source": [
    "str1 = 'welcome'\n",
    "s1 = str1[0:2]  \n",
    "s2 = str1[3:7]  \n",
    "result = s1 + 'L' + s2\n",
    "print(result)\n"
   ]
  },
  {
   "cell_type": "code",
   "execution_count": 19,
   "id": "f84182f3-461e-4365-b130-40e98182b3f0",
   "metadata": {},
   "outputs": [
    {
     "data": {
      "text/plain": [
       "'L'"
      ]
     },
     "execution_count": 19,
     "metadata": {},
     "output_type": "execute_result"
    }
   ],
   "source": [
    "chr(ord('l')-32)"
   ]
  },
  {
   "cell_type": "code",
   "execution_count": 20,
   "id": "7e2f51a1-8291-455e-90f6-8822ec51d131",
   "metadata": {},
   "outputs": [
    {
     "data": {
      "text/plain": [
       "'weLcome'"
      ]
     },
     "execution_count": 20,
     "metadata": {},
     "output_type": "execute_result"
    }
   ],
   "source": [
    "str1='welcome'\n",
    "str1.replace('l','L')"
   ]
  },
  {
   "cell_type": "code",
   "execution_count": 21,
   "id": "46656d5c-b22a-4117-8fc1-65b28f3ed0cc",
   "metadata": {},
   "outputs": [
    {
     "data": {
      "text/plain": [
       "'weLLcome'"
      ]
     },
     "execution_count": 21,
     "metadata": {},
     "output_type": "execute_result"
    }
   ],
   "source": [
    "str1='wellcome'\n",
    "str1.replace('l','L')"
   ]
  },
  {
   "cell_type": "markdown",
   "id": "49385187-953b-48c2-9b4f-06affe3124aa",
   "metadata": {},
   "source": [
    "- By default replace will change all the occurences\n",
    "- count=-1 is responsible for that\n",
    "- which means we can provide some count also,which how many I want to change\n",
    "- Give welllcome and change count=1 and count=2 and explore it"
   ]
  },
  {
   "cell_type": "code",
   "execution_count": 22,
   "id": "f3f339fd-91ac-4c4f-9e55-183e17526657",
   "metadata": {},
   "outputs": [
    {
     "data": {
      "text/plain": [
       "'weLllcome'"
      ]
     },
     "execution_count": 22,
     "metadata": {},
     "output_type": "execute_result"
    }
   ],
   "source": [
    "str1='welllcome'\n",
    "str1.replace('l','L',1) #old='l' , new='L' count=1\n",
    "\n",
    "# when we write count=1\n",
    "# it will change only one letter\n",
    "# that to first occurence only"
   ]
  },
  {
   "cell_type": "code",
   "execution_count": 26,
   "id": "a8c9a2d8-0739-490c-8476-29c33e1bc510",
   "metadata": {},
   "outputs": [
    {
     "data": {
      "text/plain": [
       "'resta$t'"
      ]
     },
     "execution_count": 26,
     "metadata": {},
     "output_type": "execute_result"
    }
   ],
   "source": [
    "# str1='restart'\n",
    "# i/p = 'resta$t'\n",
    "\n",
    "str1='restart'\n",
    "s1=str1[:1]\n",
    "s2=str1[1:]\n",
    "s3=s2.replace('r','$')\n",
    "s1+s3"
   ]
  },
  {
   "cell_type": "code",
   "execution_count": 28,
   "id": "ff757b3c-0a19-4a3b-ac28-654b2039a6ce",
   "metadata": {},
   "outputs": [
    {
     "data": {
      "text/plain": [
       "'resta$t'"
      ]
     },
     "execution_count": 28,
     "metadata": {},
     "output_type": "execute_result"
    }
   ],
   "source": [
    "str1='restart'\n",
    "str1[::-1].replace('r','$',1)[::-1]"
   ]
  },
  {
   "cell_type": "markdown",
   "id": "71403d36-c8a6-4eb8-a0be-023ffd91516f",
   "metadata": {},
   "source": [
    "**index-find**"
   ]
  },
  {
   "cell_type": "code",
   "execution_count": null,
   "id": "81325ba3-3e82-4765-8dad-03fba9fd564f",
   "metadata": {},
   "outputs": [],
   "source": [
    "- upper\n",
    "- lower\n",
    "- casefold\n",
    "- title\n",
    "- capitalize\n",
    "- count\n",
    "- replace\n",
    "- index-find\n",
    "- split\n",
    "- strip\n",
    "- startswith"
   ]
  },
  {
   "cell_type": "code",
   "execution_count": 29,
   "id": "60513a98-be03-488b-92c3-13aea38dd317",
   "metadata": {},
   "outputs": [
    {
     "data": {
      "text/plain": [
       "['__add__',\n",
       " '__class__',\n",
       " '__contains__',\n",
       " '__delattr__',\n",
       " '__dir__',\n",
       " '__doc__',\n",
       " '__eq__',\n",
       " '__format__',\n",
       " '__ge__',\n",
       " '__getattribute__',\n",
       " '__getitem__',\n",
       " '__getnewargs__',\n",
       " '__getstate__',\n",
       " '__gt__',\n",
       " '__hash__',\n",
       " '__init__',\n",
       " '__init_subclass__',\n",
       " '__iter__',\n",
       " '__le__',\n",
       " '__len__',\n",
       " '__lt__',\n",
       " '__mod__',\n",
       " '__mul__',\n",
       " '__ne__',\n",
       " '__new__',\n",
       " '__reduce__',\n",
       " '__reduce_ex__',\n",
       " '__repr__',\n",
       " '__rmod__',\n",
       " '__rmul__',\n",
       " '__setattr__',\n",
       " '__sizeof__',\n",
       " '__str__',\n",
       " '__subclasshook__',\n",
       " 'capitalize',\n",
       " 'casefold',\n",
       " 'center',\n",
       " 'count',\n",
       " 'encode',\n",
       " 'endswith',\n",
       " 'expandtabs',\n",
       " 'find',\n",
       " 'format',\n",
       " 'format_map',\n",
       " 'index',\n",
       " 'isalnum',\n",
       " 'isalpha',\n",
       " 'isascii',\n",
       " 'isdecimal',\n",
       " 'isdigit',\n",
       " 'isidentifier',\n",
       " 'islower',\n",
       " 'isnumeric',\n",
       " 'isprintable',\n",
       " 'isspace',\n",
       " 'istitle',\n",
       " 'isupper',\n",
       " 'join',\n",
       " 'ljust',\n",
       " 'lower',\n",
       " 'lstrip',\n",
       " 'maketrans',\n",
       " 'partition',\n",
       " 'removeprefix',\n",
       " 'removesuffix',\n",
       " 'replace',\n",
       " 'rfind',\n",
       " 'rindex',\n",
       " 'rjust',\n",
       " 'rpartition',\n",
       " 'rsplit',\n",
       " 'rstrip',\n",
       " 'split',\n",
       " 'splitlines',\n",
       " 'startswith',\n",
       " 'strip',\n",
       " 'swapcase',\n",
       " 'title',\n",
       " 'translate',\n",
       " 'upper',\n",
       " 'zfill']"
      ]
     },
     "execution_count": 29,
     "metadata": {},
     "output_type": "execute_result"
    }
   ],
   "source": [
    "dir('')"
   ]
  },
  {
   "cell_type": "code",
   "execution_count": null,
   "id": "d97c31e3-171c-44f0-b51b-3a9946a0e99d",
   "metadata": {},
   "outputs": [],
   "source": [
    "'isalnum',\n",
    " 'isalpha',\n",
    " 'isascii',\n",
    " 'isdecimal',\n",
    " 'isdigit',\n",
    " 'isidentifier',\n",
    " 'islower',\n",
    " 'isnumeric',\n",
    " 'isprintable',\n",
    " 'isspace',\n",
    " 'istitle',\n",
    " 'isupper',"
   ]
  },
  {
   "cell_type": "markdown",
   "id": "41971ce6-c5f2-4199-b2de-65ab7994ecd5",
   "metadata": {},
   "source": [
    "**Index**"
   ]
  },
  {
   "cell_type": "markdown",
   "id": "775b1f0c-4a4f-4866-bfc7-dbad0f534536",
   "metadata": {},
   "source": [
    "- index says that it will give the index of any letter in a given string\n",
    "- we already seen about count: Count will give how many letters are there in a string\n",
    "   - at what index you want to count\n",
    "   - between indexes also we can count the letters\n",
    "- index meaning it will provide the index\n",
    "- imagine that there same letters repeated\n",
    "- how can we find the next index"
   ]
  },
  {
   "cell_type": "code",
   "execution_count": 1,
   "id": "aa9bd636-de98-42f3-b280-a9afd923ec3a",
   "metadata": {},
   "outputs": [
    {
     "data": {
      "text/plain": [
       "1"
      ]
     },
     "execution_count": 1,
     "metadata": {},
     "output_type": "execute_result"
    }
   ],
   "source": [
    "#h a i h a i h a i\n",
    "#0 1 2 3 4 5 6 7 8 9 10\n",
    "str1= 'hai hai hai'\n",
    "str1.index('a')\n",
    "# Return the lowest index in S where substring sub is found,"
   ]
  },
  {
   "cell_type": "code",
   "execution_count": 2,
   "id": "507c1f53-2f8f-44e3-bd45-a920faf6f580",
   "metadata": {},
   "outputs": [
    {
     "data": {
      "text/plain": [
       "5"
      ]
     },
     "execution_count": 2,
     "metadata": {},
     "output_type": "execute_result"
    }
   ],
   "source": [
    "# I want to know next 'a' index after 3rd index\n",
    "str1= 'hai hai hai'\n",
    "str1.index('a',3)"
   ]
  },
  {
   "cell_type": "code",
   "execution_count": 3,
   "id": "1425274a-a30d-4ba2-bbac-d6dcc8d1412b",
   "metadata": {},
   "outputs": [
    {
     "data": {
      "text/plain": [
       "5"
      ]
     },
     "execution_count": 3,
     "metadata": {},
     "output_type": "execute_result"
    }
   ],
   "source": [
    "# I want to know 'a' index between 3rd and 7th index\n",
    "#h a i h a i h a i\n",
    "#0 1 2 3 4 5 6 7 8 9 10\n",
    "str1= 'hai hai hai'\n",
    "str1.index('a',3,7)"
   ]
  },
  {
   "cell_type": "code",
   "execution_count": 4,
   "id": "32aeb18e-ef6c-419c-8350-4080ce75d206",
   "metadata": {},
   "outputs": [
    {
     "data": {
      "text/plain": [
       "5"
      ]
     },
     "execution_count": 4,
     "metadata": {},
     "output_type": "execute_result"
    }
   ],
   "source": [
    "# I always a Return a lowest index only\n",
    "str1= 'hai hai hai'\n",
    "str1.index('a') # among all the indexes the lowset index is '1'\n",
    "str1= 'hai hai hai'\n",
    "str1.index('a',3) # after 3rd index the lowset index of a is '5'\n",
    "str1= 'hai hai hai'\n",
    "str1.index('a',3,7) # Between 3-7 index the lowset index is '5' only"
   ]
  },
  {
   "cell_type": "code",
   "execution_count": 5,
   "id": "cd940f76-4cdd-4f8e-a24f-2d0a5875a473",
   "metadata": {},
   "outputs": [
    {
     "data": {
      "text/plain": [
       "9"
      ]
     },
     "execution_count": 5,
     "metadata": {},
     "output_type": "execute_result"
    }
   ],
   "source": [
    "str1= 'hai hai hai'\n",
    "str1.index('a',-3,-1) # among all the indexes the lowset index is '1'"
   ]
  },
  {
   "cell_type": "code",
   "execution_count": 6,
   "id": "9e3f1e6b-3bf4-4202-a142-54253fb4a8c8",
   "metadata": {},
   "outputs": [
    {
     "data": {
      "text/plain": [
       "5"
      ]
     },
     "execution_count": 6,
     "metadata": {},
     "output_type": "execute_result"
    }
   ],
   "source": [
    "# -11 -10 -9 -8 -7 -6 -5 -4 -3 -2 -1\n",
    "# h a i h a i h a i\n",
    "# 0 1 2 3 4 5 6 7 8 9 10\n",
    "str1= 'hai hai hai'\n",
    "str1.index('a',-9,-4) # among all the indexes the lowset index is '1'"
   ]
  },
  {
   "cell_type": "code",
   "execution_count": 7,
   "id": "242df142-f00e-4a97-994e-3062b605aaf1",
   "metadata": {},
   "outputs": [
    {
     "ename": "ValueError",
     "evalue": "substring not found",
     "output_type": "error",
     "traceback": [
      "\u001b[1;31m---------------------------------------------------------------------------\u001b[0m",
      "\u001b[1;31mValueError\u001b[0m                                Traceback (most recent call last)",
      "Cell \u001b[1;32mIn[7], line 2\u001b[0m\n\u001b[0;32m      1\u001b[0m \u001b[38;5;28mstr\u001b[39m\u001b[38;5;241m=\u001b[39m\u001b[38;5;124m'\u001b[39m\u001b[38;5;124mhai hai hai\u001b[39m\u001b[38;5;124m'\u001b[39m\n\u001b[1;32m----> 2\u001b[0m \u001b[38;5;28mprint\u001b[39m(\u001b[38;5;28mstr\u001b[39m\u001b[38;5;241m.\u001b[39mindex(\u001b[38;5;124m'\u001b[39m\u001b[38;5;124ma\u001b[39m\u001b[38;5;124m'\u001b[39m,\u001b[38;5;241m-\u001b[39m\u001b[38;5;241m9\u001b[39m,\u001b[38;5;241m-\u001b[39m\u001b[38;5;241m6\u001b[39m))\n",
      "\u001b[1;31mValueError\u001b[0m: substring not found"
     ]
    }
   ],
   "source": [
    "str='hai hai hai'\n",
    "print(str.index('a',-9,-6))\n",
    "# Postive direction\n",
    "# start= start = -9\n",
    "# last =end-1 = -6-1= -7\n",
    "# -9 -8 -7\n",
    "# i h\n",
    "# there is no 'a'"
   ]
  },
  {
   "cell_type": "code",
   "execution_count": 8,
   "id": "d53bf5cc-c057-44fc-9ee4-5f31b4ce94c9",
   "metadata": {},
   "outputs": [
    {
     "name": "stdout",
     "output_type": "stream",
     "text": [
      "3\n",
      "2\n",
      "1\n"
     ]
    }
   ],
   "source": [
    "# -11 -10 -9 -8 -7 -6 -5 -4 -3 -2 -1\n",
    "# h a i h a i h a i\n",
    "# 0 1 2 3 4 5 6 7 8 9 10\n",
    "str1= 'hai hai hai'\n",
    "print(str1.count('a'))\n",
    "print(str1.count('a',3))\n",
    "print(str1.count('a',3,7))"
   ]
  },
  {
   "cell_type": "code",
   "execution_count": 9,
   "id": "a61d6fb6-418d-4509-a5a3-07e4e6439a4f",
   "metadata": {},
   "outputs": [
    {
     "name": "stdout",
     "output_type": "stream",
     "text": [
      "1\n",
      "5\n",
      "5\n"
     ]
    }
   ],
   "source": [
    "# -11 -10 -9 -8 -7 -6 -5 -4 -3 -2 -1\n",
    "# h a i h a i h a i\n",
    "# 0 1 2 3 4 5 6 7 8 9 10\n",
    "str1= 'hai hai hai'\n",
    "print(str1.index('a'))\n",
    "print(str1.index('a',3))\n",
    "print(str1.index('a',3,7))"
   ]
  },
  {
   "cell_type": "code",
   "execution_count": 11,
   "id": "60b12e98-0fc3-4c2c-b6a0-9a0f45151c8f",
   "metadata": {},
   "outputs": [
    {
     "name": "stdout",
     "output_type": "stream",
     "text": [
      "1\n",
      "5\n",
      "9\n"
     ]
    }
   ],
   "source": [
    "str1='hai hai hai'\n",
    "# I want to know all the indexes of 'a'\n",
    "for i in range(len(str1)):\n",
    " if str1[i]=='a':\n",
    "     print(i)"
   ]
  },
  {
   "cell_type": "code",
   "execution_count": 13,
   "id": "c8a3caaf-8d16-4d4e-a10c-7a6378d3af48",
   "metadata": {},
   "outputs": [
    {
     "name": "stdout",
     "output_type": "stream",
     "text": [
      "1\n",
      "5\n",
      "9\n",
      "13\n"
     ]
    }
   ],
   "source": [
    "# h a i h a i h a i hai\n",
    "# 0 1 2 3 4 5 6 7 8 9 10\n",
    "str1='hai hai hai hai'\n",
    "i1=str1.index('a')\n",
    "print(i1)\n",
    "i2=str1.index('a',i1+1)\n",
    "print(i2)\n",
    "i3=str1.index('a',i2+1)\n",
    "print(i3)\n",
    "i4=str1.index('a',i3+1)\n",
    "print(i4)"
   ]
  },
  {
   "cell_type": "code",
   "execution_count": 14,
   "id": "0ce1475d-106f-48fe-a67e-8fe3e56ec694",
   "metadata": {},
   "outputs": [
    {
     "name": "stdout",
     "output_type": "stream",
     "text": [
      "1\n",
      "5\n",
      "9\n",
      "13\n"
     ]
    },
    {
     "ename": "ValueError",
     "evalue": "substring not found",
     "output_type": "error",
     "traceback": [
      "\u001b[1;31m---------------------------------------------------------------------------\u001b[0m",
      "\u001b[1;31mValueError\u001b[0m                                Traceback (most recent call last)",
      "Cell \u001b[1;32mIn[14], line 13\u001b[0m\n\u001b[0;32m     11\u001b[0m i4\u001b[38;5;241m=\u001b[39m str1\u001b[38;5;241m.\u001b[39mindex(\u001b[38;5;124m'\u001b[39m\u001b[38;5;124ma\u001b[39m\u001b[38;5;124m'\u001b[39m,i3\u001b[38;5;241m+\u001b[39m\u001b[38;5;241m1\u001b[39m)\n\u001b[0;32m     12\u001b[0m \u001b[38;5;28mprint\u001b[39m(i4)\n\u001b[1;32m---> 13\u001b[0m i5\u001b[38;5;241m=\u001b[39m str1\u001b[38;5;241m.\u001b[39mindex(\u001b[38;5;124m'\u001b[39m\u001b[38;5;124ma\u001b[39m\u001b[38;5;124m'\u001b[39m,i4\u001b[38;5;241m+\u001b[39m\u001b[38;5;241m1\u001b[39m)\n\u001b[0;32m     14\u001b[0m \u001b[38;5;28mprint\u001b[39m(i5)\n",
      "\u001b[1;31mValueError\u001b[0m: substring not found"
     ]
    }
   ],
   "source": [
    "# Home work Implement above logic to get all the indexes\n",
    "# h a i h a i h a i hai\n",
    "# 0 1 2 3 4 5 6 7 8 9 10\n",
    "str1='hai hai hai hai'\n",
    "i1=str1.index('a')\n",
    "print(i1) # 1\n",
    "i2= str1.index('a',i1+1)\n",
    "print(i2) # 5\n",
    "i3= str1.index('a',i2+1)\n",
    "print(i3)\n",
    "i4= str1.index('a',i3+1)\n",
    "print(i4)\n",
    "i5= str1.index('a',i4+1)\n",
    "print(i5)"
   ]
  },
  {
   "cell_type": "markdown",
   "id": "1ba9ead7-bf28-4903-af0c-d3f1f12800d0",
   "metadata": {},
   "source": [
    "**Find**"
   ]
  },
  {
   "cell_type": "code",
   "execution_count": 15,
   "id": "4b84331b-0b1b-4496-84cb-7c7b1f2eed40",
   "metadata": {},
   "outputs": [
    {
     "name": "stdout",
     "output_type": "stream",
     "text": [
      "1\n",
      "5\n",
      "9\n",
      "13\n",
      "-1\n"
     ]
    }
   ],
   "source": [
    "str1='hai hai hai hai'\n",
    "i1=str1.find('a')\n",
    "print(i1) # 1\n",
    "i2= str1.find('a',i1+1)\n",
    "print(i2) # 5\n",
    "i3= str1.find('a',i2+1)\n",
    "print(i3)\n",
    "i4= str1.find('a',i3+1)\n",
    "print(i4)\n",
    "i5= str1.find('a',i4+1)\n",
    "print(i5)"
   ]
  },
  {
   "cell_type": "code",
   "execution_count": null,
   "id": "bbb07c34-d45b-4e3d-8f4c-a798ece88266",
   "metadata": {},
   "outputs": [],
   "source": [
    "str1.index() # Raises ValueError when the substring is not found.\n",
    "str1.find() # Return -1 on failure."
   ]
  },
  {
   "cell_type": "code",
   "execution_count": 17,
   "id": "7cd30672-b32a-4cae-a302-30b1b14972f3",
   "metadata": {},
   "outputs": [
    {
     "data": {
      "text/plain": [
       "0"
      ]
     },
     "execution_count": 17,
     "metadata": {},
     "output_type": "execute_result"
    }
   ],
   "source": [
    "str1='hai hai hai'\n",
    "str1.count('z')"
   ]
  },
  {
   "cell_type": "code",
   "execution_count": 18,
   "id": "a8fb5913-42df-4a9d-8afc-5ea700990b9a",
   "metadata": {},
   "outputs": [
    {
     "data": {
      "text/plain": [
       "'hai hai hai'"
      ]
     },
     "execution_count": 18,
     "metadata": {},
     "output_type": "execute_result"
    }
   ],
   "source": [
    "str1='hai hai hai'\n",
    "str1.replace('z','Z')"
   ]
  },
  {
   "cell_type": "markdown",
   "id": "03aa2cd7-0651-40da-a27c-e718dc4b59c1",
   "metadata": {},
   "source": [
    "- If substring not found\n",
    "- Count method will give zero\n",
    "- Replace method will give original string\n",
    "- Index will give sub string not found error\n",
    "- Find will give -1"
   ]
  },
  {
   "cell_type": "code",
   "execution_count": 20,
   "id": "70d7a1a4-3bea-462b-bf51-021644879f77",
   "metadata": {},
   "outputs": [],
   "source": [
    "str1='omkar.nallagoni@cognizant.com'\n",
    "# Fisrt name= omkar\n",
    "# second name= nallagoni\n",
    "# company name= cognizant\n",
    "str2='virat.kohli@rcb.com'\n",
    "str3='rohit.sharma@mi.com'\n",
    "str4='a.b@c.com'\n",
    "# Idea : find the triggers\n",
    "# For first name .\n",
    "# second name . and @\n",
    "# Compnay name @ and second .\n",
    "# i1= first dot index\n",
    "# i2= @ index\n",
    "# i3= second index"
   ]
  },
  {
   "cell_type": "code",
   "execution_count": 21,
   "id": "a9cd7d58-3e46-47d8-b160-e9b3bea9c248",
   "metadata": {},
   "outputs": [
    {
     "data": {
      "text/plain": [
       "('omkar', 'nallagoni', 'cognizant')"
      ]
     },
     "execution_count": 21,
     "metadata": {},
     "output_type": "execute_result"
    }
   ],
   "source": [
    "str1='omkar.nallagoni@cognizant.com'\n",
    "i1=str1.index('.')\n",
    "i2=str1.index('@')\n",
    "i3=str1.index('.',i1+1)\n",
    "first_name=str1[:i1]\n",
    "second_name=str1[i1+1:i2]\n",
    "cname=str1[i2+1:i3]\n",
    "first_name,second_name,cname"
   ]
  },
  {
   "cell_type": "markdown",
   "id": "05d6ea83-fdc9-4596-b453-242cc7b5fed4",
   "metadata": {},
   "source": [
    "- count\n",
    "- replace\n",
    "- find\n",
    "- index\n",
    "- upper/lower/casefold\n",
    "- capitalize\n",
    "- center\n",
    "- count\n",
    "- replace\n",
    "- index/find\n",
    "- start with is"
   ]
  },
  {
   "cell_type": "code",
   "execution_count": null,
   "id": "385624ee-a23e-4fe1-b7ff-a81e3ddb9552",
   "metadata": {},
   "outputs": [],
   "source": []
  }
 ],
 "metadata": {
  "kernelspec": {
   "display_name": "Python 3 (ipykernel)",
   "language": "python",
   "name": "python3"
  },
  "language_info": {
   "codemirror_mode": {
    "name": "ipython",
    "version": 3
   },
   "file_extension": ".py",
   "mimetype": "text/x-python",
   "name": "python",
   "nbconvert_exporter": "python",
   "pygments_lexer": "ipython3",
   "version": "3.11.7"
  }
 },
 "nbformat": 4,
 "nbformat_minor": 5
}
