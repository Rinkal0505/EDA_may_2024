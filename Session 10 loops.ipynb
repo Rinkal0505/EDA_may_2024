{
 "cells": [
  {
   "cell_type": "markdown",
   "id": "11d4c110-4e3b-4c71-8f8b-b69157116cfe",
   "metadata": {},
   "source": [
    "**LOOPS**\n",
    "\n",
    "- Iterate piece of code until the condition satisfy \n",
    "- We can run a code normally\n",
    "- We can run a code by using function wrapper\n",
    "- We can run the same code multiple times(Loops)\n",
    "- We can run a code using condition also(conditions)\n"
   ]
  },
  {
   "cell_type": "code",
   "execution_count": 1,
   "id": "8cf5ac19-64f1-4d6b-adda-2e9e3794440d",
   "metadata": {},
   "outputs": [
    {
     "name": "stdout",
     "output_type": "stream",
     "text": [
      "30\n"
     ]
    }
   ],
   "source": [
    "a=10\n",
    "b=20\n",
    "c=a+b\n",
    "print(c)"
   ]
  },
  {
   "cell_type": "code",
   "execution_count": 2,
   "id": "42a6b84a-2154-4162-b926-a43f0f1909b3",
   "metadata": {},
   "outputs": [
    {
     "name": "stdout",
     "output_type": "stream",
     "text": [
      "30\n"
     ]
    }
   ],
   "source": [
    "if True:\n",
    "    a=10\n",
    "    b=20\n",
    "    c=a+b\n",
    "    print(c)"
   ]
  },
  {
   "cell_type": "code",
   "execution_count": 3,
   "id": "f27b9a04-2d51-4156-ba20-c330c124bd6a",
   "metadata": {},
   "outputs": [
    {
     "name": "stdout",
     "output_type": "stream",
     "text": [
      "30\n"
     ]
    }
   ],
   "source": [
    "def add():\n",
    "    a=10\n",
    "    b=20\n",
    "    c=a+b\n",
    "    print(c)\n",
    "\n",
    "add()"
   ]
  },
  {
   "cell_type": "code",
   "execution_count": null,
   "id": "7fe9a433-082d-4f60-8def-458e415ebe56",
   "metadata": {},
   "outputs": [],
   "source": [
    "# 100 employees\n",
    "# ITR for them\n",
    "# create a fn\n",
    "\n",
    "salary=eval(input(\"Enter the salary:\"))\n",
    "tax_per=eval(input(\"Enter the tax_per:\"))\n",
    "tax_amount= salary*tax_per/100\n",
    "print(tax_amount)\n",
    "\n",
    "salary=eval(input(\"Enter the salary:\"))\n",
    "tax_per=eval(input(\"Enter the tax_per:\"))\n",
    "tax_amount= salary*tax_per/100\n",
    "print(tax_amount)\n",
    "\n",
    "salary=eval(input(\"Enter the salary:\"))\n",
    "tax_per=eval(input(\"Enter the tax_per:\"))\n",
    "tax_amount= salary*tax_per/100\n",
    "print(tax_amount)\n",
    "\n",
    "..................................\n",
    "\n",
    "# instead of writing this..."
   ]
  },
  {
   "cell_type": "code",
   "execution_count": 4,
   "id": "b1494c97-5d50-40f7-ae1b-ce451cc5b337",
   "metadata": {},
   "outputs": [
    {
     "name": "stdin",
     "output_type": "stream",
     "text": [
      "Enter the salary: 10000\n",
      "Enter the tax_per: 12\n"
     ]
    },
    {
     "name": "stdout",
     "output_type": "stream",
     "text": [
      "1200.0\n"
     ]
    }
   ],
   "source": [
    "def tax():\n",
    "    salary=eval(input(\"Enter the salary:\"))\n",
    "    tax_per=eval(input(\"Enter the tax_per:\"))\n",
    "    tax_amount= salary*tax_per/100\n",
    "    print(tax_amount)\n",
    "\n",
    "tax()"
   ]
  },
  {
   "cell_type": "code",
   "execution_count": null,
   "id": "f687bc12-4daf-46f0-8696-6a75051f6eaa",
   "metadata": {},
   "outputs": [],
   "source": [
    "ITR =========== tax"
   ]
  },
  {
   "cell_type": "markdown",
   "id": "11d1f9b5-b8ae-4a5d-a579-25f4d5fb6de9",
   "metadata": {},
   "source": [
    "**Types of Loops**\n",
    "- for loop\n",
    "- while loop\n",
    "- any loop\n",
    "     - initial pt to start the loop\n",
    "     - condition to stop the loop\n",
    "     - increment or decrement"
   ]
  },
  {
   "cell_type": "markdown",
   "id": "15419a75-a58d-40c6-a112-0722f0c52bc5",
   "metadata": {},
   "source": [
    "## For loop"
   ]
  },
  {
   "cell_type": "markdown",
   "id": "35c00b4c-d4a8-43d2-8313-aab66024e25f",
   "metadata": {},
   "source": [
    "$Pattern  - 1$"
   ]
  },
  {
   "cell_type": "markdown",
   "id": "241a2b8f-9197-4b00-9045-e4230222fd04",
   "metadata": {},
   "source": [
    "**range(stop)**"
   ]
  },
  {
   "cell_type": "code",
   "execution_count": null,
   "id": "eaf1ebea-200b-447f-858b-63fd052d39ec",
   "metadata": {},
   "outputs": [],
   "source": [
    "# syntax\n",
    "for i in range(<value>):\n",
    "    # start write your code"
   ]
  },
  {
   "cell_type": "markdown",
   "id": "a1939605-c0fd-45be-9313-63bffa6d2b97",
   "metadata": {},
   "source": [
    "- whenever you see the word range it belongs to math family\n",
    "- inside the range we need to provide one value\n",
    "- for eg: range(3)\n",
    "-If you provide only one value then the \n",
    "    - start value = 0\n",
    "    - increment = +1\n",
    "    - last = stop - 1\n",
    "- range(3)\n",
    "    - start value = 0\n",
    "    - increment = 1\n",
    "    - last = 3-1 = 2\n",
    "    - answers are : 0 1 2\n",
    "\n",
    "**Note**:In python the index always starts with 0"
   ]
  },
  {
   "cell_type": "code",
   "execution_count": 6,
   "id": "e42bbe00-f713-494a-b1f6-1f97e8b26f13",
   "metadata": {},
   "outputs": [
    {
     "name": "stdout",
     "output_type": "stream",
     "text": [
      "0\n",
      "1\n",
      "2\n"
     ]
    }
   ],
   "source": [
    "for i in range(3):\n",
    "    print(i)"
   ]
  },
  {
   "cell_type": "code",
   "execution_count": 8,
   "id": "3cc26dd8-754c-49be-8e3d-15717c90b38b",
   "metadata": {},
   "outputs": [
    {
     "name": "stdout",
     "output_type": "stream",
     "text": [
      "0\n",
      "1\n",
      "2\n",
      "3\n",
      "4\n"
     ]
    }
   ],
   "source": [
    "# how it works\n",
    "print(0)\n",
    "print(1)\n",
    "print(2)\n",
    "print(3)\n",
    "print(4)"
   ]
  },
  {
   "cell_type": "code",
   "execution_count": 9,
   "id": "30774900-53c3-435c-8f8e-3b145a467107",
   "metadata": {},
   "outputs": [
    {
     "name": "stdout",
     "output_type": "stream",
     "text": [
      "hello\n",
      "hello\n",
      "hello\n",
      "hello\n",
      "hello\n"
     ]
    }
   ],
   "source": [
    "# print hello 5 times\n",
    "for i in range(5):\n",
    "    print(\"hello\")"
   ]
  },
  {
   "cell_type": "code",
   "execution_count": 15,
   "id": "ddc040e1-0b7f-4ba1-9f8b-18b7ab5fe8b2",
   "metadata": {},
   "outputs": [
    {
     "name": "stdout",
     "output_type": "stream",
     "text": [
      "73 is Odd no\n",
      "28 is Even no\n",
      "61 is Odd no\n"
     ]
    }
   ],
   "source": [
    "# for eg \n",
    "# take a random no between 1-100\n",
    "# print it is a even no or odd no\n",
    "# you need to take 3 random numbers\n",
    "\n",
    "import random\n",
    "for i in range(3):\n",
    "    num = random.randint(1,100)\n",
    "    if num%2==0:\n",
    "        print(f\"{num} is Even no\")\n",
    "    else:\n",
    "        print(f\"{num} is Odd no\")"
   ]
  },
  {
   "cell_type": "code",
   "execution_count": 17,
   "id": "ab2d22dc-f9a1-4f8b-8293-85d84a97acca",
   "metadata": {},
   "outputs": [
    {
     "name": "stdout",
     "output_type": "stream",
     "text": [
      "0 1 2 3 4 "
     ]
    }
   ],
   "source": [
    "print(0,end=' ')\n",
    "print(1,end=' ')\n",
    "print(2,end=' ')\n",
    "print(3,end=' ')\n",
    "print(4,end=' ')"
   ]
  },
  {
   "cell_type": "code",
   "execution_count": 18,
   "id": "75257dd4-a04c-42bc-9c78-3175f645f922",
   "metadata": {},
   "outputs": [
    {
     "name": "stdout",
     "output_type": "stream",
     "text": [
      "0 1 2 3 4 5 6 7 8 9 "
     ]
    }
   ],
   "source": [
    "for i in range(10):\n",
    "    print(i,end=' ')"
   ]
  },
  {
   "cell_type": "markdown",
   "id": "e58c3102-c5e3-4142-ad0b-dd0dc2960760",
   "metadata": {},
   "source": [
    "$Pattern - 2$\n",
    "\n",
    "**range(start,stop)**\n",
    "\n",
    "- range(10,20)\n",
    "    - start value = 10\n",
    "    - increment = 1\n",
    "    - last = stop - 1\n",
    "    - ans = 10 11 12 13  14 15 16 17 18 19"
   ]
  },
  {
   "cell_type": "code",
   "execution_count": 21,
   "id": "68f7c68f-fe7f-4e69-93b7-a9d5695ab774",
   "metadata": {},
   "outputs": [
    {
     "name": "stdout",
     "output_type": "stream",
     "text": [
      "10 11 12 13 14 15 16 17 18 19 "
     ]
    }
   ],
   "source": [
    "for i in range(10,20):\n",
    "    print(i,end=' ')"
   ]
  },
  {
   "cell_type": "code",
   "execution_count": 22,
   "id": "4c4a9f5d-d82f-4e8e-900e-a6988b625be0",
   "metadata": {},
   "outputs": [
    {
     "name": "stdout",
     "output_type": "stream",
     "text": [
      "400 441 484 529 576 "
     ]
    }
   ],
   "source": [
    "# wap ask the user to print square of the no between 20 - 25\n",
    "\n",
    "for i in range(20,25):\n",
    "    print(i*i,end=' ')"
   ]
  },
  {
   "cell_type": "code",
   "execution_count": 24,
   "id": "314f39ab-22b4-4bb1-8493-133faeffdc53",
   "metadata": {},
   "outputs": [
    {
     "name": "stdout",
     "output_type": "stream",
     "text": [
      "10 is even no\n",
      "11 is odd no\n",
      "12 is even no\n",
      "13 is odd no\n",
      "14 is even no\n",
      "15 is odd no\n",
      "16 is even no\n",
      "17 is odd no\n",
      "18 is even no\n",
      "19 is odd no\n"
     ]
    }
   ],
   "source": [
    "for i in range(10,20):\n",
    "    if i%2==0:\n",
    "        print(f\"{i} is even no\")\n",
    "    else:\n",
    "        print(f\"{i} is odd no\")"
   ]
  },
  {
   "cell_type": "markdown",
   "id": "7664f741-7fec-4e6f-9b8c-108776e4909b",
   "metadata": {},
   "source": [
    "$Pattern - 3$\n",
    "\n",
    "**range(start,stop,step)**\n",
    "\n",
    "- start value = start values\n",
    "- step value\n",
    "   - positive step value\n",
    "       - if step value is positive:increment\n",
    "       - last = stop - 1\n",
    "   - negative step value\n",
    "       - if step value is negative:decrement\n",
    "       - last = stop + 1"
   ]
  },
  {
   "cell_type": "code",
   "execution_count": 25,
   "id": "403ecace-7ca5-498b-b47c-4a4478e063b2",
   "metadata": {},
   "outputs": [
    {
     "name": "stdout",
     "output_type": "stream",
     "text": [
      "2 4 6 8 10 12 14 16 18 "
     ]
    }
   ],
   "source": [
    "# case - 1\n",
    "for i in range(2,20,2):\n",
    "    print(i,end=' ')\n",
    "\n",
    "# start = 2\n",
    "# step = +ve 2\n",
    "# last = stop -1 = 20-1=19\n",
    "# 2 4 6 8 10 12 14 16 18"
   ]
  },
  {
   "cell_type": "code",
   "execution_count": 29,
   "id": "bc91ce0b-dd5d-4bcb-9354-5991d0213093",
   "metadata": {},
   "outputs": [],
   "source": [
    "# case - 2\n",
    "for i in range(2,20,-2):\n",
    "    print(i,end=' ')\n",
    "\n",
    "# start = 2\n",
    "# step = -ve 2\n",
    "# last = stop+1 = 20+1=21\n",
    "# not possible - no eeror no answer"
   ]
  },
  {
   "cell_type": "code",
   "execution_count": 30,
   "id": "2b5355da-a815-4c66-aebe-65cc793519d2",
   "metadata": {},
   "outputs": [
    {
     "name": "stdout",
     "output_type": "stream",
     "text": [
      "20 18 16 14 12 10 8 6 4 "
     ]
    }
   ],
   "source": [
    "# case - 3\n",
    "for i in range(20,2,-2):\n",
    "    print(i,end=' ')\n",
    "\n",
    "# start = 20\n",
    "# step = -ve 2\n",
    "# last = stop+1 = 2+1=3\n",
    "# 20 18 16 14 12 10 8 6 4 2"
   ]
  },
  {
   "cell_type": "code",
   "execution_count": 32,
   "id": "4192110e-2368-44a6-822b-edd2aedc26f7",
   "metadata": {},
   "outputs": [],
   "source": [
    "# case - 4\n",
    "for i in range(-20,2,-2):\n",
    "    print(i,end=' ')\n",
    "\n",
    "# start = -20\n",
    "# step = -ve 2\n",
    "# last = stop+1 = 2+1=3\n",
    "# not possible no answer"
   ]
  },
  {
   "cell_type": "code",
   "execution_count": 33,
   "id": "b5400a47-a8f8-42a7-9920-60f0ab8fed6b",
   "metadata": {},
   "outputs": [
    {
     "data": {
      "text/plain": [
       "range(-20, -3, -2)"
      ]
     },
     "execution_count": 33,
     "metadata": {},
     "output_type": "execute_result"
    }
   ],
   "source": [
    "range(3,20,2) #w\n",
    "range(3,20,-2)#f\n",
    "range(3,-20,2)#f\n",
    "range(3,-20,-2)#w\n",
    "range(-3,20,2)#w\n",
    "range(-3,-20,2)#f\n",
    "range(-3,20,-2)#f\n",
    "range(-3,-20,-2)#w\n",
    "range(20,3,2)#f\n",
    "range(20,3,-2)#w\n",
    "range(20,-3,-2)#w\n",
    "range(-20,-3,-2)#f"
   ]
  },
  {
   "cell_type": "code",
   "execution_count": 1,
   "id": "44a17f1d-d9c6-4a85-8a30-d019e55918b5",
   "metadata": {},
   "outputs": [
    {
     "name": "stdin",
     "output_type": "stream",
     "text": [
      "Enter the number 5\n"
     ]
    },
    {
     "name": "stdout",
     "output_type": "stream",
     "text": [
      "The square of the 5 is 25\n"
     ]
    },
    {
     "name": "stdin",
     "output_type": "stream",
     "text": [
      "Enter the number 3\n"
     ]
    },
    {
     "name": "stdout",
     "output_type": "stream",
     "text": [
      "The square of the 3 is 9\n"
     ]
    },
    {
     "name": "stdin",
     "output_type": "stream",
     "text": [
      "Enter the number 7\n"
     ]
    },
    {
     "name": "stdout",
     "output_type": "stream",
     "text": [
      "The square of the 7 is 49\n"
     ]
    }
   ],
   "source": [
    "#4q) wap ask the user enter a no 3 times find the square of the number\n",
    "\n",
    "for i in range(3):\n",
    "    num=eval(input(\"Enter the number\"))\n",
    "    square=num*num\n",
    "    print(f\"The square of the {num} is {square}\")"
   ]
  },
  {
   "cell_type": "code",
   "execution_count": 4,
   "id": "02221e4a-e4ad-4482-b7b7-7ee3655224d3",
   "metadata": {},
   "outputs": [
    {
     "name": "stdin",
     "output_type": "stream",
     "text": [
      "Enter the table which you want to see 14\n"
     ]
    },
    {
     "name": "stdout",
     "output_type": "stream",
     "text": [
      "14 x 1 = 14\n",
      "14 x 2 = 28\n",
      "14 x 3 = 42\n",
      "14 x 4 = 56\n",
      "14 x 5 = 70\n",
      "14 x 6 = 84\n",
      "14 x 7 = 98\n",
      "14 x 8 = 112\n",
      "14 x 9 = 126\n",
      "14 x 10 = 140\n"
     ]
    }
   ],
   "source": [
    "#5q) #print the 14th table\n",
    "\n",
    "# ans: 14*1=14\n",
    "#      14*2=28.....\n",
    "\n",
    "num=eval(input(\"Enter the table which you want to see\"))\n",
    "for i in range(1, 11):\n",
    "    print(f\"{num} x {i} = {num * i}\")"
   ]
  },
  {
   "cell_type": "code",
   "execution_count": 11,
   "id": "a307e571-7520-417a-a087-a4fae3b66a5d",
   "metadata": {},
   "outputs": [
    {
     "name": "stdout",
     "output_type": "stream",
     "text": [
      "The factors of 75 are: 1\n",
      "The factors of 75 are: 3\n",
      "The factors of 75 are: 5\n",
      "The factors of 75 are: 15\n",
      "The factors of 75 are: 25\n",
      "The factors of 75 are: 75\n"
     ]
    }
   ],
   "source": [
    "#6Q)Find the factors of 75\n",
    "# step 1=Iterate the loop=which numbers factor you want\n",
    "#step 2=apply if condition \n",
    "#     cond= divide the number with each i\n",
    "\n",
    "for i in range(1,76):\n",
    "    if 75 % i == 0:\n",
    "        print(f\"The factors of 75 are: {i}\")"
   ]
  },
  {
   "cell_type": "code",
   "execution_count": 12,
   "id": "880115a3-770a-42df-92df-757102cf20a4",
   "metadata": {},
   "outputs": [
    {
     "name": "stdin",
     "output_type": "stream",
     "text": [
      "Enter a number:  75\n"
     ]
    },
    {
     "name": "stdout",
     "output_type": "stream",
     "text": [
      "The factors of 75 are:\n",
      "1\n",
      "3\n",
      "5\n",
      "15\n",
      "25\n",
      "75\n"
     ]
    }
   ],
   "source": [
    "number = int(input(\"Enter a number: \"))\n",
    "\n",
    "print(\"The factors of\", number, \"are:\")\n",
    "\n",
    "for i in range(1, number + 1):\n",
    "    if number % i == 0:\n",
    "        print(i)"
   ]
  },
  {
   "cell_type": "markdown",
   "id": "19b00699-3b40-429d-a28d-d97e0c78b9d1",
   "metadata": {},
   "source": [
    "**Summation Wrapper**\n",
    "\n",
    "- Initially we need to keep sum=0\n",
    "- make sure that do not provide **sum**\n",
    "- Because sum is a keyword\n",
    "- inside for loop: summ=summ+i\n",
    "\n",
    "**syntax**\n",
    "summ=0\n",
    "\n",
    "for loop:\n",
    "    \n",
    "    many statements\n",
    "    \n",
    "    summ=summ+i\n"
   ]
  },
  {
   "cell_type": "code",
   "execution_count": null,
   "id": "f1f8902d-3ba4-4287-b995-8eb0aa6b541a",
   "metadata": {},
   "outputs": [],
   "source": [
    "#7Q)Write the sum of first 10 natural numbers\n",
    "# 1 to 10\n",
    "# 1+2+3+4+5+6+7+8+9+10=55"
   ]
  },
  {
   "cell_type": "code",
   "execution_count": 18,
   "id": "378fb458-a0b3-4261-b365-03bb1aaabfb9",
   "metadata": {},
   "outputs": [
    {
     "name": "stdout",
     "output_type": "stream",
     "text": [
      "1=0+1\n",
      "3=1+2\n",
      "6=3+3\n",
      "10=6+4\n",
      "15=10+5\n",
      "21=15+6\n",
      "28=21+7\n",
      "36=28+8\n",
      "45=36+9\n",
      "55=45+10\n"
     ]
    }
   ],
   "source": [
    "summ=0\n",
    "for i in range(10):\n",
    "    summ=summ+(i+1)\n",
    "    print(f\"{summ}={summ-(i+1)}+{i+1}\")"
   ]
  },
  {
   "cell_type": "code",
   "execution_count": 19,
   "id": "f11cbef2-4277-4757-87f1-c107e67c399e",
   "metadata": {},
   "outputs": [
    {
     "name": "stdout",
     "output_type": "stream",
     "text": [
      "55\n"
     ]
    }
   ],
   "source": [
    "summ=0\n",
    "for i in range(1,11):\n",
    "    summ=summ+i\n",
    "print(summ)"
   ]
  },
  {
   "cell_type": "markdown",
   "id": "cec0dccc-5b63-46cb-9758-7b5e3f800c01",
   "metadata": {},
   "source": [
    "**Note**\n",
    "\n",
    "- if we print answer from out of for loop last answer will print"
   ]
  },
  {
   "cell_type": "markdown",
   "id": "36459020-1d61-4f8f-99d2-9c21410c76c2",
   "metadata": {},
   "source": [
    "**Counter program**"
   ]
  },
  {
   "cell_type": "code",
   "execution_count": 21,
   "id": "becdfca3-babb-47fd-b718-ce845fc8acfd",
   "metadata": {},
   "outputs": [
    {
     "name": "stdin",
     "output_type": "stream",
     "text": [
      "Enter the number 10\n"
     ]
    },
    {
     "name": "stdout",
     "output_type": "stream",
     "text": [
      "5.5\n"
     ]
    }
   ],
   "source": [
    "#8Q)Average of first 10 numbers\n",
    "summ=0\n",
    "n=eval(input(\"Enter the number\"))\n",
    "for i in range(1, n+1):\n",
    "    summ=summ+i\n",
    "    average = summ/i\n",
    "print(average)"
   ]
  },
  {
   "cell_type": "markdown",
   "id": "e9c5dcf0-a5d3-4c07-8abd-c7d080c9b321",
   "metadata": {},
   "source": [
    "**Counter wrapper**\n",
    "- before for loop initialise with count = 0\n",
    "- under for loop count = count+1\n",
    "- counter always increase by 1 only"
   ]
  },
  {
   "cell_type": "code",
   "execution_count": null,
   "id": "2f955045-e65e-4811-bebc-7eedfde45c61",
   "metadata": {},
   "outputs": [],
   "source": [
    "#9Q) Find the number of divisor of 75\n",
    "# ans : 1,3,5,15,25,75\n",
    "# 6"
   ]
  },
  {
   "cell_type": "code",
   "execution_count": 26,
   "id": "00935de3-bee3-404e-be0c-3673c45a9254",
   "metadata": {},
   "outputs": [
    {
     "name": "stdin",
     "output_type": "stream",
     "text": [
      "Enter a number:  75\n"
     ]
    },
    {
     "name": "stdout",
     "output_type": "stream",
     "text": [
      "The number of divisor for 75 is 6\n"
     ]
    }
   ],
   "source": [
    "count=0\n",
    "number = int(input(\"Enter a number: \"))\n",
    "for i in range(1, number + 1):\n",
    "    if number % i == 0:\n",
    "        count=count+1\n",
    "\n",
    "print(f\"The number of divisor for {number} is {count}\")"
   ]
  },
  {
   "cell_type": "code",
   "execution_count": 33,
   "id": "978e7d9c-31ba-4ee1-88b8-e27da05fb144",
   "metadata": {},
   "outputs": [
    {
     "name": "stdin",
     "output_type": "stream",
     "text": [
      "Enter the number: 7\n"
     ]
    },
    {
     "name": "stdout",
     "output_type": "stream",
     "text": [
      "The 8 and 7 does not matches so you lost\n"
     ]
    },
    {
     "name": "stdin",
     "output_type": "stream",
     "text": [
      "Enter the number: 9\n"
     ]
    },
    {
     "name": "stdout",
     "output_type": "stream",
     "text": [
      "The 9 and 9 matches so you won\n"
     ]
    },
    {
     "name": "stdin",
     "output_type": "stream",
     "text": [
      "Enter the number: 8\n"
     ]
    },
    {
     "name": "stdout",
     "output_type": "stream",
     "text": [
      "The 2 and 8 does not matches so you lost\n"
     ]
    }
   ],
   "source": [
    "#10Q)get a random number between 1 to 10: num1\n",
    "#ask the user enter a number: num2\n",
    "# if num1==num2 then print won \n",
    "# else print fail\n",
    "\n",
    "# the same code give 3 chances\n",
    "\n",
    "import random\n",
    "for i in range(3):\n",
    "    num1=random.randint(1,10)\n",
    "    num2=eval(input(\"Enter the number:\"))\n",
    "    if num1 == num2:\n",
    "        print(f\"The {num1} and {num2} matches so you won\")\n",
    "    \n",
    "    else:\n",
    "        print(f\"The {num1} and {num2} does not matches so you lost\")"
   ]
  },
  {
   "cell_type": "code",
   "execution_count": 34,
   "id": "129b1b81-5905-4635-9a95-056b1e871f9b",
   "metadata": {},
   "outputs": [
    {
     "name": "stdin",
     "output_type": "stream",
     "text": [
      "Enter the number: 7\n"
     ]
    },
    {
     "name": "stdout",
     "output_type": "stream",
     "text": [
      "The 8 and 7 does not matches so you lost\n"
     ]
    },
    {
     "name": "stdin",
     "output_type": "stream",
     "text": [
      "Enter the number: 4\n"
     ]
    },
    {
     "name": "stdout",
     "output_type": "stream",
     "text": [
      "The 5 and 4 does not matches so you lost\n"
     ]
    },
    {
     "name": "stdin",
     "output_type": "stream",
     "text": [
      "Enter the number: 7\n"
     ]
    },
    {
     "name": "stdout",
     "output_type": "stream",
     "text": [
      "The 8 and 7 does not matches so you lost\n"
     ]
    }
   ],
   "source": [
    "# if you won code should stop\n",
    "import random\n",
    "for i in range(3):\n",
    "    num1=random.randint(1,10)\n",
    "    num2=eval(input(\"Enter the number:\"))\n",
    "    if num1 == num2:\n",
    "        print(f\"The {num1} and {num2} matches so you won\")\n",
    "        break\n",
    "    else:\n",
    "        print(f\"The {num1} and {num2} does not matches so you lost\")"
   ]
  },
  {
   "cell_type": "code",
   "execution_count": 4,
   "id": "753982ed-335f-442a-b003-098e49fb9fdb",
   "metadata": {},
   "outputs": [
    {
     "name": "stdin",
     "output_type": "stream",
     "text": [
      "Enter a random number: 4\n"
     ]
    },
    {
     "name": "stdout",
     "output_type": "stream",
     "text": [
      "4 is even no\n"
     ]
    },
    {
     "name": "stdin",
     "output_type": "stream",
     "text": [
      "Enter a random number: 3\n"
     ]
    },
    {
     "name": "stdout",
     "output_type": "stream",
     "text": [
      "3 is odd no\n"
     ]
    },
    {
     "name": "stdin",
     "output_type": "stream",
     "text": [
      "Enter a random number: 6\n"
     ]
    },
    {
     "name": "stdout",
     "output_type": "stream",
     "text": [
      "6 is even no\n"
     ]
    },
    {
     "name": "stdin",
     "output_type": "stream",
     "text": [
      "Enter a random number: 1\n"
     ]
    },
    {
     "name": "stdout",
     "output_type": "stream",
     "text": [
      "1 is odd no\n"
     ]
    },
    {
     "name": "stdin",
     "output_type": "stream",
     "text": [
      "Enter a random number: 9\n"
     ]
    },
    {
     "name": "stdout",
     "output_type": "stream",
     "text": [
      "9 is odd no\n",
      "The number of odd no is 3\n",
      "The number of even no is 2\n"
     ]
    }
   ],
   "source": [
    "#wap ask the user to enter 5 random numbers\n",
    "#get it is an even number or odd number\n",
    "#count how many even nos and odd nos are there\n",
    "\n",
    "evencount=0\n",
    "oddcount=0\n",
    "for i in range(5):\n",
    "    num=eval(input(\"Enter a random number:\"))\n",
    "    if num%2==0:\n",
    "        print(f\"{num} is even no\")\n",
    "        evencount=evencount+1\n",
    "    else:\n",
    "        print(f\"{num} is odd no\")\n",
    "        oddcount=oddcount+1\n",
    "print(f\"The number of odd no is {oddcount}\")\n",
    "print(f\"The number of even no is {evencount}\")\n",
    "\n"
   ]
  },
  {
   "cell_type": "code",
   "execution_count": 5,
   "id": "ae1033b3-7f17-4b8f-a1f3-1b50167673be",
   "metadata": {},
   "outputs": [
    {
     "name": "stdout",
     "output_type": "stream",
     "text": [
      "30 is even no\n",
      "68 is even no\n",
      "40 is even no\n",
      "89 is odd no\n",
      "61 is odd no\n",
      "The number of odd no is 2\n",
      "The number of even no is 3\n"
     ]
    }
   ],
   "source": [
    "import random\n",
    "evencount=0\n",
    "oddcount=0\n",
    "for i in range(5):\n",
    "    num=random.randint(1,100)\n",
    "    if num%2==0:\n",
    "        print(f\"{num} is even no\")\n",
    "        evencount=evencount+1\n",
    "    else:\n",
    "        print(f\"{num} is odd no\")\n",
    "        oddcount=oddcount+1\n",
    "print(f\"The number of odd no is {oddcount}\")\n",
    "print(f\"The number of even no is {evencount}\")"
   ]
  },
  {
   "cell_type": "code",
   "execution_count": 10,
   "id": "55779aa1-a194-462a-8ab3-d21c536adc0c",
   "metadata": {},
   "outputs": [
    {
     "name": "stdout",
     "output_type": "stream",
     "text": [
      "27 is odd no\n",
      "22 is even no\n",
      "73 is odd no\n",
      "56 is even no\n",
      "98 is even no\n",
      "The number of odd no is 2\n",
      "The number of even no is 3\n",
      "The sum of odd no is 2\n",
      "The sum of even no is 8\n"
     ]
    }
   ],
   "source": [
    "#wap ask the user to enter 5 random numbers\n",
    "#get it is an even number or odd number\n",
    "#count how many even nos and odd nos are there\n",
    "# summ of even no and odd no\n",
    "\n",
    "import random\n",
    "evencount=0\n",
    "oddcount=0\n",
    "evensumm=0\n",
    "oddsumm=0\n",
    "for i in range(5):\n",
    "    num=random.randint(1,100)\n",
    "    if num%2==0:\n",
    "        print(f\"{num} is even no\")\n",
    "        evencount=evencount+1\n",
    "        evensumm=evensumm+i\n",
    "    else:\n",
    "        print(f\"{num} is odd no\")\n",
    "        oddcount=oddcount+1\n",
    "        oddsumm=oddsumm+i\n",
    "        \n",
    "print(f\"The number of odd no is {oddcount}\")\n",
    "print(f\"The number of even no is {evencount}\")\n",
    "print(f\"The sum of odd no is {oddsumm}\")\n",
    "print(f\"The sum of even no is {evensumm}\")"
   ]
  },
  {
   "cell_type": "markdown",
   "id": "8290ea14-1345-42a8-8fd9-8c3b3ac60345",
   "metadata": {},
   "source": [
    "**in operator**"
   ]
  },
  {
   "cell_type": "code",
   "execution_count": 15,
   "id": "ae3300ca-be65-444c-aa89-34b6bead3a34",
   "metadata": {},
   "outputs": [
    {
     "data": {
      "text/plain": [
       "True"
      ]
     },
     "execution_count": 15,
     "metadata": {},
     "output_type": "execute_result"
    }
   ],
   "source": [
    "string1='python'\n",
    "'p' in string1\n",
    "'y' in string1\n",
    "'t' in string1"
   ]
  },
  {
   "cell_type": "code",
   "execution_count": 16,
   "id": "f5a56b57-1767-468f-a51a-11b61f60bcff",
   "metadata": {},
   "outputs": [
    {
     "name": "stdout",
     "output_type": "stream",
     "text": [
      "p\n",
      "y\n",
      "t\n",
      "h\n",
      "o\n",
      "n\n"
     ]
    }
   ],
   "source": [
    "for i in string1:\n",
    "    print(i)"
   ]
  },
  {
   "cell_type": "markdown",
   "id": "6f8cfc2d-60b4-401c-a3d4-305c3b7084d2",
   "metadata": {},
   "source": [
    "**Difference between in operator and range operator**"
   ]
  },
  {
   "cell_type": "markdown",
   "id": "c9b66a38-064d-4352-8a59-7b3e66da09be",
   "metadata": {},
   "source": [
    "- range belongs to math family\n",
    "- inside $range$ we need to keep numbers only\n",
    "- whenever if we want to itterate through a english letter\n",
    "- we need to choose $in$ operator\n",
    "- range means math operator\n",
    "- in means english\n"
   ]
  },
  {
   "cell_type": "code",
   "execution_count": 18,
   "id": "14536510-748f-4acf-999f-2a427996a096",
   "metadata": {},
   "outputs": [
    {
     "data": {
      "text/plain": [
       "True"
      ]
     },
     "execution_count": 18,
     "metadata": {},
     "output_type": "execute_result"
    }
   ],
   "source": [
    "'p'>'P'"
   ]
  },
  {
   "cell_type": "markdown",
   "id": "0eb6ee8e-4a1e-4239-9bfb-8585681a998b",
   "metadata": {},
   "source": [
    "- every english letter\n",
    "- every special character how machine will understand \n",
    "- Machine language always considered as number\n",
    "- Every non numeric assign a number\n",
    "- ASCII - American Standard Code for Information Interchange\n",
    "- A=65, a=97"
   ]
  },
  {
   "cell_type": "markdown",
   "id": "a8dd78f8-1df6-4532-a4d7-c71e18150e62",
   "metadata": {},
   "source": [
    "**ord-chr**"
   ]
  },
  {
   "cell_type": "code",
   "execution_count": null,
   "id": "4b7576e3-6eee-447f-888a-a04654ad0245",
   "metadata": {},
   "outputs": [],
   "source": [
    "A===65====0b1000001"
   ]
  },
  {
   "cell_type": "code",
   "execution_count": 20,
   "id": "cdf20c70-b7cd-4ba1-8d5d-fbb0050dddb1",
   "metadata": {},
   "outputs": [
    {
     "data": {
      "text/plain": [
       "(66, 98)"
      ]
     },
     "execution_count": 20,
     "metadata": {},
     "output_type": "execute_result"
    }
   ],
   "source": [
    "ord('B'),ord('b')"
   ]
  },
  {
   "cell_type": "code",
   "execution_count": 21,
   "id": "db2415d4-278f-44fb-83ba-4209af2c5bc1",
   "metadata": {},
   "outputs": [
    {
     "data": {
      "text/plain": [
       "(65, 97)"
      ]
     },
     "execution_count": 21,
     "metadata": {},
     "output_type": "execute_result"
    }
   ],
   "source": [
    "ord('A'),ord('a')"
   ]
  },
  {
   "cell_type": "code",
   "execution_count": 22,
   "id": "018436cb-23cf-4e21-bd0a-987379f42fcf",
   "metadata": {},
   "outputs": [
    {
     "data": {
      "text/plain": [
       "(112, 80)"
      ]
     },
     "execution_count": 22,
     "metadata": {},
     "output_type": "execute_result"
    }
   ],
   "source": [
    "ord('p'),ord('P')"
   ]
  },
  {
   "cell_type": "code",
   "execution_count": 23,
   "id": "281fec54-abc3-4d78-8d4b-2180a9b5bbfa",
   "metadata": {},
   "outputs": [
    {
     "data": {
      "text/plain": [
       "True"
      ]
     },
     "execution_count": 23,
     "metadata": {},
     "output_type": "execute_result"
    }
   ],
   "source": [
    "'p'>'P'  #112>80"
   ]
  },
  {
   "cell_type": "code",
   "execution_count": 25,
   "id": "45278e44-ba46-43bd-b008-db89ed2f9435",
   "metadata": {},
   "outputs": [
    {
     "data": {
      "text/plain": [
       "'p'"
      ]
     },
     "execution_count": 25,
     "metadata": {},
     "output_type": "execute_result"
    }
   ],
   "source": [
    "chr(112)"
   ]
  },
  {
   "cell_type": "code",
   "execution_count": 31,
   "id": "29a0d23f-c3bd-4971-a7f1-02a6f8cf69c3",
   "metadata": {},
   "outputs": [
    {
     "name": "stdout",
     "output_type": "stream",
     "text": [
      "The ASCII number for p is 112\n",
      "The ASCII number for y is 121\n",
      "The ASCII number for t is 116\n",
      "The ASCII number for h is 104\n",
      "The ASCII number for o is 111\n",
      "The ASCII number for n is 110\n"
     ]
    }
   ],
   "source": [
    "# I want string1: 'python'\n",
    "# print all ascii value numbers for 'python'\n",
    "\n",
    "for i in 'python':\n",
    "    print(f\"The ASCII number for {i} is {ord(i)}\")"
   ]
  },
  {
   "cell_type": "code",
   "execution_count": 34,
   "id": "41acfc62-ac54-4529-bd95-9bcefd679662",
   "metadata": {},
   "outputs": [
    {
     "name": "stdout",
     "output_type": "stream",
     "text": [
      "The summation is 674\n"
     ]
    }
   ],
   "source": [
    "# summ of all ascii numbers\n",
    "\n",
    "ascii_summ=0\n",
    "for i in 'python':\n",
    "    ascii_summ=ascii_summ+ord(i)\n",
    "print(f\"The summation is {ascii_summ}\")"
   ]
  },
  {
   "cell_type": "code",
   "execution_count": 35,
   "id": "91e15714-9b0d-4789-9076-67b4e3c4730d",
   "metadata": {},
   "outputs": [
    {
     "name": "stdout",
     "output_type": "stream",
     "text": [
      "A: 65\n",
      "B: 66\n",
      "C: 67\n",
      "D: 68\n",
      "E: 69\n",
      "F: 70\n",
      "G: 71\n",
      "H: 72\n",
      "I: 73\n",
      "J: 74\n",
      "K: 75\n",
      "L: 76\n",
      "M: 77\n",
      "N: 78\n",
      "O: 79\n",
      "P: 80\n",
      "Q: 81\n",
      "R: 82\n",
      "S: 83\n",
      "T: 84\n",
      "U: 85\n",
      "V: 86\n",
      "W: 87\n",
      "X: 88\n",
      "Y: 89\n",
      "Z: 90\n"
     ]
    }
   ],
   "source": [
    "# I want to know all ascii number from A-Z\n",
    "\n",
    "for char in range(ord('A'), ord('Z') + 1):\n",
    "    print(f\"{chr(char)}: {char}\")\n"
   ]
  },
  {
   "cell_type": "code",
   "execution_count": null,
   "id": "1506539e-d624-4bee-a92d-16fe07582359",
   "metadata": {},
   "outputs": [],
   "source": [
    "# package called string \n",
    "# import the package\n",
    "# apply the dir\n",
    "# there are some methods are there \n",
    "# in that one method will capital letter"
   ]
  },
  {
   "cell_type": "code",
   "execution_count": 36,
   "id": "5685e073-add4-413e-99d0-878a1d9327b3",
   "metadata": {},
   "outputs": [],
   "source": [
    "import string"
   ]
  },
  {
   "cell_type": "code",
   "execution_count": 37,
   "id": "75df9523-1b6d-472a-8cb4-1721331804f7",
   "metadata": {},
   "outputs": [
    {
     "data": {
      "text/plain": [
       "['Formatter',\n",
       " 'Template',\n",
       " '_ChainMap',\n",
       " '__all__',\n",
       " '__builtins__',\n",
       " '__cached__',\n",
       " '__doc__',\n",
       " '__file__',\n",
       " '__loader__',\n",
       " '__name__',\n",
       " '__package__',\n",
       " '__spec__',\n",
       " '_re',\n",
       " '_sentinel_dict',\n",
       " '_string',\n",
       " 'ascii_letters',\n",
       " 'ascii_lowercase',\n",
       " 'ascii_uppercase',\n",
       " 'capwords',\n",
       " 'digits',\n",
       " 'hexdigits',\n",
       " 'octdigits',\n",
       " 'printable',\n",
       " 'punctuation',\n",
       " 'whitespace']"
      ]
     },
     "execution_count": 37,
     "metadata": {},
     "output_type": "execute_result"
    }
   ],
   "source": [
    "dir(string)"
   ]
  },
  {
   "cell_type": "code",
   "execution_count": 42,
   "id": "aff5d319-7b5f-4ac1-9abe-30ff04a38bdd",
   "metadata": {},
   "outputs": [
    {
     "name": "stdout",
     "output_type": "stream",
     "text": [
      "Help on function capwords in module string:\n",
      "\n",
      "capwords(s, sep=None)\n",
      "    capwords(s [,sep]) -> string\n",
      "    \n",
      "    Split the argument into words using split, capitalize each\n",
      "    word using capitalize, and join the capitalized words using\n",
      "    join.  If the optional second argument sep is absent or None,\n",
      "    runs of whitespace characters are replaced by a single space\n",
      "    and leading and trailing whitespace are removed, otherwise\n",
      "    sep is used to split and join the words.\n",
      "\n"
     ]
    }
   ],
   "source": [
    "help(string.capwords)"
   ]
  },
  {
   "cell_type": "code",
   "execution_count": 45,
   "id": "6db2ffab-59df-452e-9729-8b18b99d87f1",
   "metadata": {},
   "outputs": [
    {
     "data": {
      "text/plain": [
       "'abcdefghijklmnopqrstuvwxyzABCDEFGHIJKLMNOPQRSTUVWXYZ'"
      ]
     },
     "execution_count": 45,
     "metadata": {},
     "output_type": "execute_result"
    }
   ],
   "source": [
    "(string.ascii_letters)"
   ]
  },
  {
   "cell_type": "code",
   "execution_count": 46,
   "id": "9cff3030-3e4d-4aca-b4f8-9628dc2f7ce2",
   "metadata": {},
   "outputs": [
    {
     "data": {
      "text/plain": [
       "'ABCDEFGHIJKLMNOPQRSTUVWXYZ'"
      ]
     },
     "execution_count": 46,
     "metadata": {},
     "output_type": "execute_result"
    }
   ],
   "source": [
    "(string.ascii_uppercase)"
   ]
  },
  {
   "cell_type": "code",
   "execution_count": 51,
   "id": "51fcc780-b769-4387-8389-04c2ed987797",
   "metadata": {},
   "outputs": [
    {
     "name": "stdout",
     "output_type": "stream",
     "text": [
      "The ASCII number for a is 97\n",
      "The ASCII number for b is 98\n",
      "The ASCII number for c is 99\n",
      "The ASCII number for d is 100\n",
      "The ASCII number for e is 101\n",
      "The ASCII number for f is 102\n",
      "The ASCII number for g is 103\n",
      "The ASCII number for h is 104\n",
      "The ASCII number for i is 105\n",
      "The ASCII number for j is 106\n",
      "The ASCII number for k is 107\n",
      "The ASCII number for l is 108\n",
      "The ASCII number for m is 109\n",
      "The ASCII number for n is 110\n",
      "The ASCII number for o is 111\n",
      "The ASCII number for p is 112\n",
      "The ASCII number for q is 113\n",
      "The ASCII number for r is 114\n",
      "The ASCII number for s is 115\n",
      "The ASCII number for t is 116\n",
      "The ASCII number for u is 117\n",
      "The ASCII number for v is 118\n",
      "The ASCII number for w is 119\n",
      "The ASCII number for x is 120\n",
      "The ASCII number for y is 121\n",
      "The ASCII number for z is 122\n",
      "The ASCII number for A is 65\n",
      "The ASCII number for B is 66\n",
      "The ASCII number for C is 67\n",
      "The ASCII number for D is 68\n",
      "The ASCII number for E is 69\n",
      "The ASCII number for F is 70\n",
      "The ASCII number for G is 71\n",
      "The ASCII number for H is 72\n",
      "The ASCII number for I is 73\n",
      "The ASCII number for J is 74\n",
      "The ASCII number for K is 75\n",
      "The ASCII number for L is 76\n",
      "The ASCII number for M is 77\n",
      "The ASCII number for N is 78\n",
      "The ASCII number for O is 79\n",
      "The ASCII number for P is 80\n",
      "The ASCII number for Q is 81\n",
      "The ASCII number for R is 82\n",
      "The ASCII number for S is 83\n",
      "The ASCII number for T is 84\n",
      "The ASCII number for U is 85\n",
      "The ASCII number for V is 86\n",
      "The ASCII number for W is 87\n",
      "The ASCII number for X is 88\n",
      "The ASCII number for Y is 89\n",
      "The ASCII number for Z is 90\n"
     ]
    }
   ],
   "source": [
    "import string\n",
    "for i in string.ascii_letters:\n",
    "     print(f\"The ASCII number for {i} is {ord(i)}\")"
   ]
  },
  {
   "cell_type": "code",
   "execution_count": 52,
   "id": "b2140aa1-45fc-45f9-882f-2c9695439270",
   "metadata": {},
   "outputs": [
    {
     "name": "stdout",
     "output_type": "stream",
     "text": [
      "The ASCII number for ! is 33\n",
      "The ASCII number for \" is 34\n",
      "The ASCII number for # is 35\n",
      "The ASCII number for $ is 36\n",
      "The ASCII number for % is 37\n",
      "The ASCII number for & is 38\n",
      "The ASCII number for ' is 39\n",
      "The ASCII number for ( is 40\n",
      "The ASCII number for ) is 41\n",
      "The ASCII number for * is 42\n",
      "The ASCII number for + is 43\n",
      "The ASCII number for , is 44\n",
      "The ASCII number for - is 45\n",
      "The ASCII number for . is 46\n",
      "The ASCII number for / is 47\n",
      "The ASCII number for : is 58\n",
      "The ASCII number for ; is 59\n",
      "The ASCII number for < is 60\n",
      "The ASCII number for = is 61\n",
      "The ASCII number for > is 62\n",
      "The ASCII number for ? is 63\n",
      "The ASCII number for @ is 64\n",
      "The ASCII number for [ is 91\n",
      "The ASCII number for \\ is 92\n",
      "The ASCII number for ] is 93\n",
      "The ASCII number for ^ is 94\n",
      "The ASCII number for _ is 95\n",
      "The ASCII number for ` is 96\n",
      "The ASCII number for { is 123\n",
      "The ASCII number for | is 124\n",
      "The ASCII number for } is 125\n",
      "The ASCII number for ~ is 126\n"
     ]
    }
   ],
   "source": [
    "import string\n",
    "for i in string.punctuation:\n",
    "     print(f\"The ASCII number for {i} is {ord(i)}\")"
   ]
  },
  {
   "cell_type": "code",
   "execution_count": 53,
   "id": "fba5d1b9-f880-4099-ad8c-61d1b5129208",
   "metadata": {},
   "outputs": [
    {
     "name": "stdout",
     "output_type": "stream",
     "text": [
      "The ASCII number for   is 32\n",
      "The ASCII number for \t is 9\n",
      "The ASCII number for \n",
      " is 10\n",
      " is 13CII number for \n",
      "The ASCII number for \u000b",
      " is 11\n",
      "The ASCII number for \f",
      " is 12\n"
     ]
    }
   ],
   "source": [
    "import string\n",
    "for i in string.whitespace:\n",
    "     print(f\"The ASCII number for {i} is {ord(i)}\")"
   ]
  },
  {
   "cell_type": "code",
   "execution_count": 54,
   "id": "386cd226-b4a4-4d35-a4ad-6d273363e549",
   "metadata": {},
   "outputs": [
    {
     "name": "stdout",
     "output_type": "stream",
     "text": [
      "The ASCII number for 0 is 48\n",
      "The ASCII number for 1 is 49\n",
      "The ASCII number for 2 is 50\n",
      "The ASCII number for 3 is 51\n",
      "The ASCII number for 4 is 52\n",
      "The ASCII number for 5 is 53\n",
      "The ASCII number for 6 is 54\n",
      "The ASCII number for 7 is 55\n",
      "The ASCII number for 8 is 56\n",
      "The ASCII number for 9 is 57\n",
      "The ASCII number for a is 97\n",
      "The ASCII number for b is 98\n",
      "The ASCII number for c is 99\n",
      "The ASCII number for d is 100\n",
      "The ASCII number for e is 101\n",
      "The ASCII number for f is 102\n",
      "The ASCII number for g is 103\n",
      "The ASCII number for h is 104\n",
      "The ASCII number for i is 105\n",
      "The ASCII number for j is 106\n",
      "The ASCII number for k is 107\n",
      "The ASCII number for l is 108\n",
      "The ASCII number for m is 109\n",
      "The ASCII number for n is 110\n",
      "The ASCII number for o is 111\n",
      "The ASCII number for p is 112\n",
      "The ASCII number for q is 113\n",
      "The ASCII number for r is 114\n",
      "The ASCII number for s is 115\n",
      "The ASCII number for t is 116\n",
      "The ASCII number for u is 117\n",
      "The ASCII number for v is 118\n",
      "The ASCII number for w is 119\n",
      "The ASCII number for x is 120\n",
      "The ASCII number for y is 121\n",
      "The ASCII number for z is 122\n",
      "The ASCII number for A is 65\n",
      "The ASCII number for B is 66\n",
      "The ASCII number for C is 67\n",
      "The ASCII number for D is 68\n",
      "The ASCII number for E is 69\n",
      "The ASCII number for F is 70\n",
      "The ASCII number for G is 71\n",
      "The ASCII number for H is 72\n",
      "The ASCII number for I is 73\n",
      "The ASCII number for J is 74\n",
      "The ASCII number for K is 75\n",
      "The ASCII number for L is 76\n",
      "The ASCII number for M is 77\n",
      "The ASCII number for N is 78\n",
      "The ASCII number for O is 79\n",
      "The ASCII number for P is 80\n",
      "The ASCII number for Q is 81\n",
      "The ASCII number for R is 82\n",
      "The ASCII number for S is 83\n",
      "The ASCII number for T is 84\n",
      "The ASCII number for U is 85\n",
      "The ASCII number for V is 86\n",
      "The ASCII number for W is 87\n",
      "The ASCII number for X is 88\n",
      "The ASCII number for Y is 89\n",
      "The ASCII number for Z is 90\n",
      "The ASCII number for ! is 33\n",
      "The ASCII number for \" is 34\n",
      "The ASCII number for # is 35\n",
      "The ASCII number for $ is 36\n",
      "The ASCII number for % is 37\n",
      "The ASCII number for & is 38\n",
      "The ASCII number for ' is 39\n",
      "The ASCII number for ( is 40\n",
      "The ASCII number for ) is 41\n",
      "The ASCII number for * is 42\n",
      "The ASCII number for + is 43\n",
      "The ASCII number for , is 44\n",
      "The ASCII number for - is 45\n",
      "The ASCII number for . is 46\n",
      "The ASCII number for / is 47\n",
      "The ASCII number for : is 58\n",
      "The ASCII number for ; is 59\n",
      "The ASCII number for < is 60\n",
      "The ASCII number for = is 61\n",
      "The ASCII number for > is 62\n",
      "The ASCII number for ? is 63\n",
      "The ASCII number for @ is 64\n",
      "The ASCII number for [ is 91\n",
      "The ASCII number for \\ is 92\n",
      "The ASCII number for ] is 93\n",
      "The ASCII number for ^ is 94\n",
      "The ASCII number for _ is 95\n",
      "The ASCII number for ` is 96\n",
      "The ASCII number for { is 123\n",
      "The ASCII number for | is 124\n",
      "The ASCII number for } is 125\n",
      "The ASCII number for ~ is 126\n",
      "The ASCII number for   is 32\n",
      "The ASCII number for \t is 9\n",
      "The ASCII number for \n",
      " is 10\n",
      " is 13CII number for \n",
      "The ASCII number for \u000b",
      " is 11\n",
      "The ASCII number for \f",
      " is 12\n"
     ]
    }
   ],
   "source": [
    "import string\n",
    "for i in string.printable:\n",
    "     print(f\"The ASCII number for {i} is {ord(i)}\")"
   ]
  },
  {
   "cell_type": "code",
   "execution_count": null,
   "id": "ab037c00-b726-4d94-986e-7c0fe6411f3f",
   "metadata": {},
   "outputs": [],
   "source": [
    "#a-z A-z\n",
    "#A=========== >65\n",
    "#Z=========== >90\n",
    "#a=========== >97\n",
    "#z=========== >122\n",
    "#! =========  >33\n",
    "#~ =========  >126"
   ]
  },
  {
   "cell_type": "code",
   "execution_count": 55,
   "id": "48beb0d0-8490-4ddf-a77b-621b1212a976",
   "metadata": {},
   "outputs": [
    {
     "name": "stdout",
     "output_type": "stream",
     "text": [
      "900 ΄==>901 ΅==>902 Ά==>903 ·==>904 Έ==>905 Ή==>906 Ί==>907 ΋==>908 Ό==>909 ΍==>910 Ύ==>911 Ώ==>912 ΐ==>913 Α==>914 Β==>915 Γ==>916 Δ==>917 Ε==>918 Ζ==>919 Η==>920 Θ==>921 Ι==>922 Κ==>923 Λ==>924 Μ==>925 Ν==>926 Ξ==>927 Ο==>928 Π==>929 Ρ==>930 ΢==>931 Σ==>932 Τ==>933 Υ==>934 Φ==>935 Χ==>936 Ψ==>937 Ω==>938 Ϊ==>939 Ϋ==>940 ά==>941 έ==>942 ή==>943 ί==>944 ΰ==>945 α==>946 β==>947 γ==>948 δ==>949 ε==>950 ζ==>951 η==>952 θ==>953 ι==>954 κ==>955 λ==>956 μ==>957 ν==>958 ξ==>959 ο==>960 π==>961 ρ==>962 ς==>963 σ==>964 τ==>965 υ==>966 φ==>967 χ==>968 ψ==>969 ω==>970 ϊ==>971 ϋ==>972 ό==>973 ύ==>974 ώ==>975 Ϗ==>976 ϐ==>977 ϑ==>978 ϒ==>979 ϓ==>980 ϔ==>981 ϕ==>982 ϖ==>983 ϗ==>984 Ϙ==>985 ϙ==>986 Ϛ==>987 ϛ==>988 Ϝ==>989 ϝ==>990 Ϟ==>991 ϟ==>992 Ϡ==>993 ϡ==>994 Ϣ==>995 ϣ==>996 Ϥ==>997 ϥ==>998 Ϧ==>999 ϧ==>"
     ]
    }
   ],
   "source": [
    "for i in range(900,1000):\n",
    "    print(i,chr(i),end='==>')"
   ]
  },
  {
   "cell_type": "code",
   "execution_count": 56,
   "id": "f4cf3a2d-2a6a-45dd-8453-15e89110b8fc",
   "metadata": {},
   "outputs": [
    {
     "name": "stdout",
     "output_type": "stream",
     "text": [
      "9000 ⌨==>9001 〈==>9002 〉==>9003 ⌫==>9004 ⌬==>9005 ⌭==>9006 ⌮==>9007 ⌯==>9008 ⌰==>9009 ⌱==>9010 ⌲==>9011 ⌳==>9012 ⌴==>9013 ⌵==>9014 ⌶==>9015 ⌷==>9016 ⌸==>9017 ⌹==>9018 ⌺==>9019 ⌻==>9020 ⌼==>9021 ⌽==>9022 ⌾==>9023 ⌿==>9024 ⍀==>9025 ⍁==>9026 ⍂==>9027 ⍃==>9028 ⍄==>9029 ⍅==>9030 ⍆==>9031 ⍇==>9032 ⍈==>9033 ⍉==>9034 ⍊==>9035 ⍋==>9036 ⍌==>9037 ⍍==>9038 ⍎==>9039 ⍏==>9040 ⍐==>9041 ⍑==>9042 ⍒==>9043 ⍓==>9044 ⍔==>9045 ⍕==>9046 ⍖==>9047 ⍗==>9048 ⍘==>9049 ⍙==>9050 ⍚==>9051 ⍛==>9052 ⍜==>9053 ⍝==>9054 ⍞==>9055 ⍟==>9056 ⍠==>9057 ⍡==>9058 ⍢==>9059 ⍣==>9060 ⍤==>9061 ⍥==>9062 ⍦==>9063 ⍧==>9064 ⍨==>9065 ⍩==>9066 ⍪==>9067 ⍫==>9068 ⍬==>9069 ⍭==>9070 ⍮==>9071 ⍯==>9072 ⍰==>9073 ⍱==>9074 ⍲==>9075 ⍳==>9076 ⍴==>9077 ⍵==>9078 ⍶==>9079 ⍷==>9080 ⍸==>9081 ⍹==>9082 ⍺==>9083 ⍻==>9084 ⍼==>9085 ⍽==>9086 ⍾==>9087 ⍿==>9088 ⎀==>9089 ⎁==>9090 ⎂==>9091 ⎃==>9092 ⎄==>9093 ⎅==>9094 ⎆==>9095 ⎇==>9096 ⎈==>9097 ⎉==>9098 ⎊==>9099 ⎋==>9100 ⎌==>9101 ⎍==>9102 ⎎==>9103 ⎏==>9104 ⎐==>9105 ⎑==>9106 ⎒==>9107 ⎓==>9108 ⎔==>9109 ⎕==>9110 ⎖==>9111 ⎗==>9112 ⎘==>9113 ⎙==>9114 ⎚==>9115 ⎛==>9116 ⎜==>9117 ⎝==>9118 ⎞==>9119 ⎟==>9120 ⎠==>9121 ⎡==>9122 ⎢==>9123 ⎣==>9124 ⎤==>9125 ⎥==>9126 ⎦==>9127 ⎧==>9128 ⎨==>9129 ⎩==>9130 ⎪==>9131 ⎫==>9132 ⎬==>9133 ⎭==>9134 ⎮==>9135 ⎯==>9136 ⎰==>9137 ⎱==>9138 ⎲==>9139 ⎳==>9140 ⎴==>9141 ⎵==>9142 ⎶==>9143 ⎷==>9144 ⎸==>9145 ⎹==>9146 ⎺==>9147 ⎻==>9148 ⎼==>9149 ⎽==>9150 ⎾==>9151 ⎿==>9152 ⏀==>9153 ⏁==>9154 ⏂==>9155 ⏃==>9156 ⏄==>9157 ⏅==>9158 ⏆==>9159 ⏇==>9160 ⏈==>9161 ⏉==>9162 ⏊==>9163 ⏋==>9164 ⏌==>9165 ⏍==>9166 ⏎==>9167 ⏏==>9168 ⏐==>9169 ⏑==>9170 ⏒==>9171 ⏓==>9172 ⏔==>9173 ⏕==>9174 ⏖==>9175 ⏗==>9176 ⏘==>9177 ⏙==>9178 ⏚==>9179 ⏛==>9180 ⏜==>9181 ⏝==>9182 ⏞==>9183 ⏟==>9184 ⏠==>9185 ⏡==>9186 ⏢==>9187 ⏣==>9188 ⏤==>9189 ⏥==>9190 ⏦==>9191 ⏧==>9192 ⏨==>9193 ⏩==>9194 ⏪==>9195 ⏫==>9196 ⏬==>9197 ⏭==>9198 ⏮==>9199 ⏯==>9200 ⏰==>9201 ⏱==>9202 ⏲==>9203 ⏳==>9204 ⏴==>9205 ⏵==>9206 ⏶==>9207 ⏷==>9208 ⏸==>9209 ⏹==>9210 ⏺==>9211 ⏻==>9212 ⏼==>9213 ⏽==>9214 ⏾==>9215 ⏿==>9216 ␀==>9217 ␁==>9218 ␂==>9219 ␃==>9220 ␄==>9221 ␅==>9222 ␆==>9223 ␇==>9224 ␈==>9225 ␉==>9226 ␊==>9227 ␋==>9228 ␌==>9229 ␍==>9230 ␎==>9231 ␏==>9232 ␐==>9233 ␑==>9234 ␒==>9235 ␓==>9236 ␔==>9237 ␕==>9238 ␖==>9239 ␗==>9240 ␘==>9241 ␙==>9242 ␚==>9243 ␛==>9244 ␜==>9245 ␝==>9246 ␞==>9247 ␟==>9248 ␠==>9249 ␡==>9250 ␢==>9251 ␣==>9252 ␤==>9253 ␥==>9254 ␦==>9255 ␧==>9256 ␨==>9257 ␩==>9258 ␪==>9259 ␫==>9260 ␬==>9261 ␭==>9262 ␮==>9263 ␯==>9264 ␰==>9265 ␱==>9266 ␲==>9267 ␳==>9268 ␴==>9269 ␵==>9270 ␶==>9271 ␷==>9272 ␸==>9273 ␹==>9274 ␺==>9275 ␻==>9276 ␼==>9277 ␽==>9278 ␾==>9279 ␿==>9280 ⑀==>9281 ⑁==>9282 ⑂==>9283 ⑃==>9284 ⑄==>9285 ⑅==>9286 ⑆==>9287 ⑇==>9288 ⑈==>9289 ⑉==>9290 ⑊==>9291 ⑋==>9292 ⑌==>9293 ⑍==>9294 ⑎==>9295 ⑏==>9296 ⑐==>9297 ⑑==>9298 ⑒==>9299 ⑓==>9300 ⑔==>9301 ⑕==>9302 ⑖==>9303 ⑗==>9304 ⑘==>9305 ⑙==>9306 ⑚==>9307 ⑛==>9308 ⑜==>9309 ⑝==>9310 ⑞==>9311 ⑟==>9312 ①==>9313 ②==>9314 ③==>9315 ④==>9316 ⑤==>9317 ⑥==>9318 ⑦==>9319 ⑧==>9320 ⑨==>9321 ⑩==>9322 ⑪==>9323 ⑫==>9324 ⑬==>9325 ⑭==>9326 ⑮==>9327 ⑯==>9328 ⑰==>9329 ⑱==>9330 ⑲==>9331 ⑳==>9332 ⑴==>9333 ⑵==>9334 ⑶==>9335 ⑷==>9336 ⑸==>9337 ⑹==>9338 ⑺==>9339 ⑻==>9340 ⑼==>9341 ⑽==>9342 ⑾==>9343 ⑿==>9344 ⒀==>9345 ⒁==>9346 ⒂==>9347 ⒃==>9348 ⒄==>9349 ⒅==>9350 ⒆==>9351 ⒇==>9352 ⒈==>9353 ⒉==>9354 ⒊==>9355 ⒋==>9356 ⒌==>9357 ⒍==>9358 ⒎==>9359 ⒏==>9360 ⒐==>9361 ⒑==>9362 ⒒==>9363 ⒓==>9364 ⒔==>9365 ⒕==>9366 ⒖==>9367 ⒗==>9368 ⒘==>9369 ⒙==>9370 ⒚==>9371 ⒛==>9372 ⒜==>9373 ⒝==>9374 ⒞==>9375 ⒟==>9376 ⒠==>9377 ⒡==>9378 ⒢==>9379 ⒣==>9380 ⒤==>9381 ⒥==>9382 ⒦==>9383 ⒧==>9384 ⒨==>9385 ⒩==>9386 ⒪==>9387 ⒫==>9388 ⒬==>9389 ⒭==>9390 ⒮==>9391 ⒯==>9392 ⒰==>9393 ⒱==>9394 ⒲==>9395 ⒳==>9396 ⒴==>9397 ⒵==>9398 Ⓐ==>9399 Ⓑ==>9400 Ⓒ==>9401 Ⓓ==>9402 Ⓔ==>9403 Ⓕ==>9404 Ⓖ==>9405 Ⓗ==>9406 Ⓘ==>9407 Ⓙ==>9408 Ⓚ==>9409 Ⓛ==>9410 Ⓜ==>9411 Ⓝ==>9412 Ⓞ==>9413 Ⓟ==>9414 Ⓠ==>9415 Ⓡ==>9416 Ⓢ==>9417 Ⓣ==>9418 Ⓤ==>9419 Ⓥ==>9420 Ⓦ==>9421 Ⓧ==>9422 Ⓨ==>9423 Ⓩ==>9424 ⓐ==>9425 ⓑ==>9426 ⓒ==>9427 ⓓ==>9428 ⓔ==>9429 ⓕ==>9430 ⓖ==>9431 ⓗ==>9432 ⓘ==>9433 ⓙ==>9434 ⓚ==>9435 ⓛ==>9436 ⓜ==>9437 ⓝ==>9438 ⓞ==>9439 ⓟ==>9440 ⓠ==>9441 ⓡ==>9442 ⓢ==>9443 ⓣ==>9444 ⓤ==>9445 ⓥ==>9446 ⓦ==>9447 ⓧ==>9448 ⓨ==>9449 ⓩ==>9450 ⓪==>9451 ⓫==>9452 ⓬==>9453 ⓭==>9454 ⓮==>9455 ⓯==>9456 ⓰==>9457 ⓱==>9458 ⓲==>9459 ⓳==>9460 ⓴==>9461 ⓵==>9462 ⓶==>9463 ⓷==>9464 ⓸==>9465 ⓹==>9466 ⓺==>9467 ⓻==>9468 ⓼==>9469 ⓽==>9470 ⓾==>9471 ⓿==>9472 ─==>9473 ━==>9474 │==>9475 ┃==>9476 ┄==>9477 ┅==>9478 ┆==>9479 ┇==>9480 ┈==>9481 ┉==>9482 ┊==>9483 ┋==>9484 ┌==>9485 ┍==>9486 ┎==>9487 ┏==>9488 ┐==>9489 ┑==>9490 ┒==>9491 ┓==>9492 └==>9493 ┕==>9494 ┖==>9495 ┗==>9496 ┘==>9497 ┙==>9498 ┚==>9499 ┛==>9500 ├==>9501 ┝==>9502 ┞==>9503 ┟==>9504 ┠==>9505 ┡==>9506 ┢==>9507 ┣==>9508 ┤==>9509 ┥==>9510 ┦==>9511 ┧==>9512 ┨==>9513 ┩==>9514 ┪==>9515 ┫==>9516 ┬==>9517 ┭==>9518 ┮==>9519 ┯==>9520 ┰==>9521 ┱==>9522 ┲==>9523 ┳==>9524 ┴==>9525 ┵==>9526 ┶==>9527 ┷==>9528 ┸==>9529 ┹==>9530 ┺==>9531 ┻==>9532 ┼==>9533 ┽==>9534 ┾==>9535 ┿==>9536 ╀==>9537 ╁==>9538 ╂==>9539 ╃==>9540 ╄==>9541 ╅==>9542 ╆==>9543 ╇==>9544 ╈==>9545 ╉==>9546 ╊==>9547 ╋==>9548 ╌==>9549 ╍==>9550 ╎==>9551 ╏==>9552 ═==>9553 ║==>9554 ╒==>9555 ╓==>9556 ╔==>9557 ╕==>9558 ╖==>9559 ╗==>9560 ╘==>9561 ╙==>9562 ╚==>9563 ╛==>9564 ╜==>9565 ╝==>9566 ╞==>9567 ╟==>9568 ╠==>9569 ╡==>9570 ╢==>9571 ╣==>9572 ╤==>9573 ╥==>9574 ╦==>9575 ╧==>9576 ╨==>9577 ╩==>9578 ╪==>9579 ╫==>9580 ╬==>9581 ╭==>9582 ╮==>9583 ╯==>9584 ╰==>9585 ╱==>9586 ╲==>9587 ╳==>9588 ╴==>9589 ╵==>9590 ╶==>9591 ╷==>9592 ╸==>9593 ╹==>9594 ╺==>9595 ╻==>9596 ╼==>9597 ╽==>9598 ╾==>9599 ╿==>9600 ▀==>9601 ▁==>9602 ▂==>9603 ▃==>9604 ▄==>9605 ▅==>9606 ▆==>9607 ▇==>9608 █==>9609 ▉==>9610 ▊==>9611 ▋==>9612 ▌==>9613 ▍==>9614 ▎==>9615 ▏==>9616 ▐==>9617 ░==>9618 ▒==>9619 ▓==>9620 ▔==>9621 ▕==>9622 ▖==>9623 ▗==>9624 ▘==>9625 ▙==>9626 ▚==>9627 ▛==>9628 ▜==>9629 ▝==>9630 ▞==>9631 ▟==>9632 ■==>9633 □==>9634 ▢==>9635 ▣==>9636 ▤==>9637 ▥==>9638 ▦==>9639 ▧==>9640 ▨==>9641 ▩==>9642 ▪==>9643 ▫==>9644 ▬==>9645 ▭==>9646 ▮==>9647 ▯==>9648 ▰==>9649 ▱==>9650 ▲==>9651 △==>9652 ▴==>9653 ▵==>9654 ▶==>9655 ▷==>9656 ▸==>9657 ▹==>9658 ►==>9659 ▻==>9660 ▼==>9661 ▽==>9662 ▾==>9663 ▿==>9664 ◀==>9665 ◁==>9666 ◂==>9667 ◃==>9668 ◄==>9669 ◅==>9670 ◆==>9671 ◇==>9672 ◈==>9673 ◉==>9674 ◊==>9675 ○==>9676 ◌==>9677 ◍==>9678 ◎==>9679 ●==>9680 ◐==>9681 ◑==>9682 ◒==>9683 ◓==>9684 ◔==>9685 ◕==>9686 ◖==>9687 ◗==>9688 ◘==>9689 ◙==>9690 ◚==>9691 ◛==>9692 ◜==>9693 ◝==>9694 ◞==>9695 ◟==>9696 ◠==>9697 ◡==>9698 ◢==>9699 ◣==>9700 ◤==>9701 ◥==>9702 ◦==>9703 ◧==>9704 ◨==>9705 ◩==>9706 ◪==>9707 ◫==>9708 ◬==>9709 ◭==>9710 ◮==>9711 ◯==>9712 ◰==>9713 ◱==>9714 ◲==>9715 ◳==>9716 ◴==>9717 ◵==>9718 ◶==>9719 ◷==>9720 ◸==>9721 ◹==>9722 ◺==>9723 ◻==>9724 ◼==>9725 ◽==>9726 ◾==>9727 ◿==>9728 ☀==>9729 ☁==>9730 ☂==>9731 ☃==>9732 ☄==>9733 ★==>9734 ☆==>9735 ☇==>9736 ☈==>9737 ☉==>9738 ☊==>9739 ☋==>9740 ☌==>9741 ☍==>9742 ☎==>9743 ☏==>9744 ☐==>9745 ☑==>9746 ☒==>9747 ☓==>9748 ☔==>9749 ☕==>9750 ☖==>9751 ☗==>9752 ☘==>9753 ☙==>9754 ☚==>9755 ☛==>9756 ☜==>9757 ☝==>9758 ☞==>9759 ☟==>9760 ☠==>9761 ☡==>9762 ☢==>9763 ☣==>9764 ☤==>9765 ☥==>9766 ☦==>9767 ☧==>9768 ☨==>9769 ☩==>9770 ☪==>9771 ☫==>9772 ☬==>9773 ☭==>9774 ☮==>9775 ☯==>9776 ☰==>9777 ☱==>9778 ☲==>9779 ☳==>9780 ☴==>9781 ☵==>9782 ☶==>9783 ☷==>9784 ☸==>9785 ☹==>9786 ☺==>9787 ☻==>9788 ☼==>9789 ☽==>9790 ☾==>9791 ☿==>9792 ♀==>9793 ♁==>9794 ♂==>9795 ♃==>9796 ♄==>9797 ♅==>9798 ♆==>9799 ♇==>9800 ♈==>9801 ♉==>9802 ♊==>9803 ♋==>9804 ♌==>9805 ♍==>9806 ♎==>9807 ♏==>9808 ♐==>9809 ♑==>9810 ♒==>9811 ♓==>9812 ♔==>9813 ♕==>9814 ♖==>9815 ♗==>9816 ♘==>9817 ♙==>9818 ♚==>9819 ♛==>9820 ♜==>9821 ♝==>9822 ♞==>9823 ♟==>9824 ♠==>9825 ♡==>9826 ♢==>9827 ♣==>9828 ♤==>9829 ♥==>9830 ♦==>9831 ♧==>9832 ♨==>9833 ♩==>9834 ♪==>9835 ♫==>9836 ♬==>9837 ♭==>9838 ♮==>9839 ♯==>9840 ♰==>9841 ♱==>9842 ♲==>9843 ♳==>9844 ♴==>9845 ♵==>9846 ♶==>9847 ♷==>9848 ♸==>9849 ♹==>9850 ♺==>9851 ♻==>9852 ♼==>9853 ♽==>9854 ♾==>9855 ♿==>9856 ⚀==>9857 ⚁==>9858 ⚂==>9859 ⚃==>9860 ⚄==>9861 ⚅==>9862 ⚆==>9863 ⚇==>9864 ⚈==>9865 ⚉==>9866 ⚊==>9867 ⚋==>9868 ⚌==>9869 ⚍==>9870 ⚎==>9871 ⚏==>9872 ⚐==>9873 ⚑==>9874 ⚒==>9875 ⚓==>9876 ⚔==>9877 ⚕==>9878 ⚖==>9879 ⚗==>9880 ⚘==>9881 ⚙==>9882 ⚚==>9883 ⚛==>9884 ⚜==>9885 ⚝==>9886 ⚞==>9887 ⚟==>9888 ⚠==>9889 ⚡==>9890 ⚢==>9891 ⚣==>9892 ⚤==>9893 ⚥==>9894 ⚦==>9895 ⚧==>9896 ⚨==>9897 ⚩==>9898 ⚪==>9899 ⚫==>9900 ⚬==>9901 ⚭==>9902 ⚮==>9903 ⚯==>9904 ⚰==>9905 ⚱==>9906 ⚲==>9907 ⚳==>9908 ⚴==>9909 ⚵==>9910 ⚶==>9911 ⚷==>9912 ⚸==>9913 ⚹==>9914 ⚺==>9915 ⚻==>9916 ⚼==>9917 ⚽==>9918 ⚾==>9919 ⚿==>9920 ⛀==>9921 ⛁==>9922 ⛂==>9923 ⛃==>9924 ⛄==>9925 ⛅==>9926 ⛆==>9927 ⛇==>9928 ⛈==>9929 ⛉==>9930 ⛊==>9931 ⛋==>9932 ⛌==>9933 ⛍==>9934 ⛎==>9935 ⛏==>9936 ⛐==>9937 ⛑==>9938 ⛒==>9939 ⛓==>9940 ⛔==>9941 ⛕==>9942 ⛖==>9943 ⛗==>9944 ⛘==>9945 ⛙==>9946 ⛚==>9947 ⛛==>9948 ⛜==>9949 ⛝==>9950 ⛞==>9951 ⛟==>9952 ⛠==>9953 ⛡==>9954 ⛢==>9955 ⛣==>9956 ⛤==>9957 ⛥==>9958 ⛦==>9959 ⛧==>9960 ⛨==>9961 ⛩==>9962 ⛪==>9963 ⛫==>9964 ⛬==>9965 ⛭==>9966 ⛮==>9967 ⛯==>9968 ⛰==>9969 ⛱==>9970 ⛲==>9971 ⛳==>9972 ⛴==>9973 ⛵==>9974 ⛶==>9975 ⛷==>9976 ⛸==>9977 ⛹==>9978 ⛺==>9979 ⛻==>9980 ⛼==>9981 ⛽==>9982 ⛾==>9983 ⛿==>9984 ✀==>9985 ✁==>9986 ✂==>9987 ✃==>9988 ✄==>9989 ✅==>9990 ✆==>9991 ✇==>9992 ✈==>9993 ✉==>9994 ✊==>9995 ✋==>9996 ✌==>9997 ✍==>9998 ✎==>9999 ✏==>"
     ]
    }
   ],
   "source": [
    "for i in range(9000,10000):\n",
    "    print(i,chr(i),end='==>')"
   ]
  },
  {
   "cell_type": "code",
   "execution_count": 57,
   "id": "3b78de3e-e49f-49c8-ad0c-7d528afdef18",
   "metadata": {},
   "outputs": [
    {
     "name": "stdout",
     "output_type": "stream",
     "text": [
      "3078 ఆ==>3079 ఇ==>3080 ఈ==>3081 ఉ==>3082 ఊ==>3083 ఋ==>3084 ఌ==>3085 ఍==>3086 ఎ==>3087 ఏ==>3088 ఐ==>3089 ఑==>3090 ఒ==>3091 ఓ==>3092 ఔ==>3093 క==>3094 ఖ==>3095 గ==>3096 ఘ==>3097 ఙ==>3098 చ==>3099 ఛ==>3100 జ==>3101 ఝ==>3102 ఞ==>3103 ట==>3104 ఠ==>3105 డ==>3106 ఢ==>3107 ణ==>3108 త==>3109 థ==>3110 ద==>3111 ధ==>3112 న==>3113 ఩==>3114 ప==>3115 ఫ==>3116 బ==>3117 భ==>3118 మ==>3119 య==>3120 ర==>3121 ఱ==>3122 ల==>3123 ళ==>3124 ఴ==>3125 వ==>3126 శ==>3127 ష==>3128 స==>3129 హ==>3130 ఺==>3131 ఻==>3132 ఼==>3133 ఽ==>3134 ా==>3135 ి==>3136 ీ==>3137 ు==>3138 ూ==>3139 ృ==>3140 ౄ==>3141 ౅==>3142 ె==>3143 ే==>3144 ై==>3145 ౉==>3146 ొ==>3147 ో==>3148 ౌ==>3149 ్==>3150 ౎==>3151 ౏==>3152 ౐==>3153 ౑==>3154 ౒==>3155 ౓==>3156 ౔==>3157 ౕ==>3158 ౖ==>3159 ౗==>3160 ౘ==>3161 ౙ==>3162 ౚ==>3163 ౛==>3164 ౜==>3165 ౝ==>3166 ౞==>3167 ౟==>3168 ౠ==>3169 ౡ==>3170 ౢ==>3171 ౣ==>3172 ౤==>3173 ౥==>3174 ౦==>3175 ౧==>3176 ౨==>3177 ౩==>"
     ]
    }
   ],
   "source": [
    "for i in range(3078,3178):\n",
    "    print(i,chr(i),end='==>')"
   ]
  },
  {
   "cell_type": "code",
   "execution_count": 58,
   "id": "2998a833-e11b-40aa-98ec-b0b2ecf8c350",
   "metadata": {},
   "outputs": [
    {
     "name": "stdout",
     "output_type": "stream",
     "text": [
      "4000 ྠ==>4001 ྡ==>4002 ྡྷ==>4003 ྣ==>4004 ྤ==>4005 ྥ==>4006 ྦ==>4007 ྦྷ==>4008 ྨ==>4009 ྩ==>4010 ྪ==>4011 ྫ==>4012 ྫྷ==>4013 ྭ==>4014 ྮ==>4015 ྯ==>4016 ྰ==>4017 ྱ==>4018 ྲ==>4019 ླ==>4020 ྴ==>4021 ྵ==>4022 ྶ==>4023 ྷ==>4024 ྸ==>4025 ྐྵ==>4026 ྺ==>4027 ྻ==>4028 ྼ==>4029 ྽==>4030 ྾==>4031 ྿==>4032 ࿀==>4033 ࿁==>4034 ࿂==>4035 ࿃==>4036 ࿄==>4037 ࿅==>4038 ࿆==>4039 ࿇==>4040 ࿈==>4041 ࿉==>4042 ࿊==>4043 ࿋==>4044 ࿌==>4045 ࿍==>4046 ࿎==>4047 ࿏==>4048 ࿐==>4049 ࿑==>4050 ࿒==>4051 ࿓==>4052 ࿔==>4053 ࿕==>4054 ࿖==>4055 ࿗==>4056 ࿘==>4057 ࿙==>4058 ࿚==>4059 ࿛==>4060 ࿜==>4061 ࿝==>4062 ࿞==>4063 ࿟==>4064 ࿠==>4065 ࿡==>4066 ࿢==>4067 ࿣==>4068 ࿤==>4069 ࿥==>4070 ࿦==>4071 ࿧==>4072 ࿨==>4073 ࿩==>4074 ࿪==>4075 ࿫==>4076 ࿬==>4077 ࿭==>4078 ࿮==>4079 ࿯==>4080 ࿰==>4081 ࿱==>4082 ࿲==>4083 ࿳==>4084 ࿴==>4085 ࿵==>4086 ࿶==>4087 ࿷==>4088 ࿸==>4089 ࿹==>4090 ࿺==>4091 ࿻==>4092 ࿼==>4093 ࿽==>4094 ࿾==>4095 ࿿==>4096 က==>4097 ခ==>4098 ဂ==>4099 ဃ==>4100 င==>4101 စ==>4102 ဆ==>4103 ဇ==>4104 ဈ==>4105 ဉ==>4106 ည==>4107 ဋ==>4108 ဌ==>4109 ဍ==>4110 ဎ==>4111 ဏ==>4112 တ==>4113 ထ==>4114 ဒ==>4115 ဓ==>4116 န==>4117 ပ==>4118 ဖ==>4119 ဗ==>4120 ဘ==>4121 မ==>4122 ယ==>4123 ရ==>4124 လ==>4125 ဝ==>4126 သ==>4127 ဟ==>4128 ဠ==>4129 အ==>4130 ဢ==>4131 ဣ==>4132 ဤ==>4133 ဥ==>4134 ဦ==>4135 ဧ==>4136 ဨ==>4137 ဩ==>4138 ဪ==>4139 ါ==>4140 ာ==>4141 ိ==>4142 ီ==>4143 ု==>4144 ူ==>4145 ေ==>4146 ဲ==>4147 ဳ==>4148 ဴ==>4149 ဵ==>4150 ံ==>4151 ့==>4152 း==>4153 ္==>4154 ်==>4155 ျ==>4156 ြ==>4157 ွ==>4158 ှ==>4159 ဿ==>4160 ၀==>4161 ၁==>4162 ၂==>4163 ၃==>4164 ၄==>4165 ၅==>4166 ၆==>4167 ၇==>4168 ၈==>4169 ၉==>4170 ၊==>4171 ။==>4172 ၌==>4173 ၍==>4174 ၎==>4175 ၏==>4176 ၐ==>4177 ၑ==>4178 ၒ==>4179 ၓ==>4180 ၔ==>4181 ၕ==>4182 ၖ==>4183 ၗ==>4184 ၘ==>4185 ၙ==>4186 ၚ==>4187 ၛ==>4188 ၜ==>4189 ၝ==>4190 ၞ==>4191 ၟ==>4192 ၠ==>4193 ၡ==>4194 ၢ==>4195 ၣ==>4196 ၤ==>4197 ၥ==>4198 ၦ==>4199 ၧ==>4200 ၨ==>4201 ၩ==>4202 ၪ==>4203 ၫ==>4204 ၬ==>4205 ၭ==>4206 ၮ==>4207 ၯ==>4208 ၰ==>4209 ၱ==>4210 ၲ==>4211 ၳ==>4212 ၴ==>4213 ၵ==>4214 ၶ==>4215 ၷ==>4216 ၸ==>4217 ၹ==>4218 ၺ==>4219 ၻ==>4220 ၼ==>4221 ၽ==>4222 ၾ==>4223 ၿ==>4224 ႀ==>4225 ႁ==>4226 ႂ==>4227 ႃ==>4228 ႄ==>4229 ႅ==>4230 ႆ==>4231 ႇ==>4232 ႈ==>4233 ႉ==>4234 ႊ==>4235 ႋ==>4236 ႌ==>4237 ႍ==>4238 ႎ==>4239 ႏ==>4240 ႐==>4241 ႑==>4242 ႒==>4243 ႓==>4244 ႔==>4245 ႕==>4246 ႖==>4247 ႗==>4248 ႘==>4249 ႙==>4250 ႚ==>4251 ႛ==>4252 ႜ==>4253 ႝ==>4254 ႞==>4255 ႟==>4256 Ⴀ==>4257 Ⴁ==>4258 Ⴂ==>4259 Ⴃ==>4260 Ⴄ==>4261 Ⴅ==>4262 Ⴆ==>4263 Ⴇ==>4264 Ⴈ==>4265 Ⴉ==>4266 Ⴊ==>4267 Ⴋ==>4268 Ⴌ==>4269 Ⴍ==>4270 Ⴎ==>4271 Ⴏ==>4272 Ⴐ==>4273 Ⴑ==>4274 Ⴒ==>4275 Ⴓ==>4276 Ⴔ==>4277 Ⴕ==>4278 Ⴖ==>4279 Ⴗ==>4280 Ⴘ==>4281 Ⴙ==>4282 Ⴚ==>4283 Ⴛ==>4284 Ⴜ==>4285 Ⴝ==>4286 Ⴞ==>4287 Ⴟ==>4288 Ⴠ==>4289 Ⴡ==>4290 Ⴢ==>4291 Ⴣ==>4292 Ⴤ==>4293 Ⴥ==>4294 ჆==>4295 Ⴧ==>4296 ჈==>4297 ჉==>4298 ჊==>4299 ჋==>4300 ჌==>4301 Ⴭ==>4302 ჎==>4303 ჏==>4304 ა==>4305 ბ==>4306 გ==>4307 დ==>4308 ე==>4309 ვ==>4310 ზ==>4311 თ==>4312 ი==>4313 კ==>4314 ლ==>4315 მ==>4316 ნ==>4317 ო==>4318 პ==>4319 ჟ==>4320 რ==>4321 ს==>4322 ტ==>4323 უ==>4324 ფ==>4325 ქ==>4326 ღ==>4327 ყ==>4328 შ==>4329 ჩ==>4330 ც==>4331 ძ==>4332 წ==>4333 ჭ==>4334 ხ==>4335 ჯ==>4336 ჰ==>4337 ჱ==>4338 ჲ==>4339 ჳ==>4340 ჴ==>4341 ჵ==>4342 ჶ==>4343 ჷ==>4344 ჸ==>4345 ჹ==>4346 ჺ==>4347 ჻==>4348 ჼ==>4349 ჽ==>4350 ჾ==>4351 ჿ==>4352 ᄀ==>4353 ᄁ==>4354 ᄂ==>4355 ᄃ==>4356 ᄄ==>4357 ᄅ==>4358 ᄆ==>4359 ᄇ==>4360 ᄈ==>4361 ᄉ==>4362 ᄊ==>4363 ᄋ==>4364 ᄌ==>4365 ᄍ==>4366 ᄎ==>4367 ᄏ==>4368 ᄐ==>4369 ᄑ==>4370 ᄒ==>4371 ᄓ==>4372 ᄔ==>4373 ᄕ==>4374 ᄖ==>4375 ᄗ==>4376 ᄘ==>4377 ᄙ==>4378 ᄚ==>4379 ᄛ==>4380 ᄜ==>4381 ᄝ==>4382 ᄞ==>4383 ᄟ==>4384 ᄠ==>4385 ᄡ==>4386 ᄢ==>4387 ᄣ==>4388 ᄤ==>4389 ᄥ==>4390 ᄦ==>4391 ᄧ==>4392 ᄨ==>4393 ᄩ==>4394 ᄪ==>4395 ᄫ==>4396 ᄬ==>4397 ᄭ==>4398 ᄮ==>4399 ᄯ==>4400 ᄰ==>4401 ᄱ==>4402 ᄲ==>4403 ᄳ==>4404 ᄴ==>4405 ᄵ==>4406 ᄶ==>4407 ᄷ==>4408 ᄸ==>4409 ᄹ==>4410 ᄺ==>4411 ᄻ==>4412 ᄼ==>4413 ᄽ==>4414 ᄾ==>4415 ᄿ==>4416 ᅀ==>4417 ᅁ==>4418 ᅂ==>4419 ᅃ==>4420 ᅄ==>4421 ᅅ==>4422 ᅆ==>4423 ᅇ==>4424 ᅈ==>4425 ᅉ==>4426 ᅊ==>4427 ᅋ==>4428 ᅌ==>4429 ᅍ==>4430 ᅎ==>4431 ᅏ==>4432 ᅐ==>4433 ᅑ==>4434 ᅒ==>4435 ᅓ==>4436 ᅔ==>4437 ᅕ==>4438 ᅖ==>4439 ᅗ==>4440 ᅘ==>4441 ᅙ==>4442 ᅚ==>4443 ᅛ==>4444 ᅜ==>4445 ᅝ==>4446 ᅞ==>4447 ᅟ==>4448 ᅠ==>4449 ᅡ==>4450 ᅢ==>4451 ᅣ==>4452 ᅤ==>4453 ᅥ==>4454 ᅦ==>4455 ᅧ==>4456 ᅨ==>4457 ᅩ==>4458 ᅪ==>4459 ᅫ==>4460 ᅬ==>4461 ᅭ==>4462 ᅮ==>4463 ᅯ==>4464 ᅰ==>4465 ᅱ==>4466 ᅲ==>4467 ᅳ==>4468 ᅴ==>4469 ᅵ==>4470 ᅶ==>4471 ᅷ==>4472 ᅸ==>4473 ᅹ==>4474 ᅺ==>4475 ᅻ==>4476 ᅼ==>4477 ᅽ==>4478 ᅾ==>4479 ᅿ==>4480 ᆀ==>4481 ᆁ==>4482 ᆂ==>4483 ᆃ==>4484 ᆄ==>4485 ᆅ==>4486 ᆆ==>4487 ᆇ==>4488 ᆈ==>4489 ᆉ==>4490 ᆊ==>4491 ᆋ==>4492 ᆌ==>4493 ᆍ==>4494 ᆎ==>4495 ᆏ==>4496 ᆐ==>4497 ᆑ==>4498 ᆒ==>4499 ᆓ==>4500 ᆔ==>4501 ᆕ==>4502 ᆖ==>4503 ᆗ==>4504 ᆘ==>4505 ᆙ==>4506 ᆚ==>4507 ᆛ==>4508 ᆜ==>4509 ᆝ==>4510 ᆞ==>4511 ᆟ==>4512 ᆠ==>4513 ᆡ==>4514 ᆢ==>4515 ᆣ==>4516 ᆤ==>4517 ᆥ==>4518 ᆦ==>4519 ᆧ==>4520 ᆨ==>4521 ᆩ==>4522 ᆪ==>4523 ᆫ==>4524 ᆬ==>4525 ᆭ==>4526 ᆮ==>4527 ᆯ==>4528 ᆰ==>4529 ᆱ==>4530 ᆲ==>4531 ᆳ==>4532 ᆴ==>4533 ᆵ==>4534 ᆶ==>4535 ᆷ==>4536 ᆸ==>4537 ᆹ==>4538 ᆺ==>4539 ᆻ==>4540 ᆼ==>4541 ᆽ==>4542 ᆾ==>4543 ᆿ==>4544 ᇀ==>4545 ᇁ==>4546 ᇂ==>4547 ᇃ==>4548 ᇄ==>4549 ᇅ==>4550 ᇆ==>4551 ᇇ==>4552 ᇈ==>4553 ᇉ==>4554 ᇊ==>4555 ᇋ==>4556 ᇌ==>4557 ᇍ==>4558 ᇎ==>4559 ᇏ==>4560 ᇐ==>4561 ᇑ==>4562 ᇒ==>4563 ᇓ==>4564 ᇔ==>4565 ᇕ==>4566 ᇖ==>4567 ᇗ==>4568 ᇘ==>4569 ᇙ==>4570 ᇚ==>4571 ᇛ==>4572 ᇜ==>4573 ᇝ==>4574 ᇞ==>4575 ᇟ==>4576 ᇠ==>4577 ᇡ==>4578 ᇢ==>4579 ᇣ==>4580 ᇤ==>4581 ᇥ==>4582 ᇦ==>4583 ᇧ==>4584 ᇨ==>4585 ᇩ==>4586 ᇪ==>4587 ᇫ==>4588 ᇬ==>4589 ᇭ==>4590 ᇮ==>4591 ᇯ==>4592 ᇰ==>4593 ᇱ==>4594 ᇲ==>4595 ᇳ==>4596 ᇴ==>4597 ᇵ==>4598 ᇶ==>4599 ᇷ==>4600 ᇸ==>4601 ᇹ==>4602 ᇺ==>4603 ᇻ==>4604 ᇼ==>4605 ᇽ==>4606 ᇾ==>4607 ᇿ==>4608 ሀ==>4609 ሁ==>4610 ሂ==>4611 ሃ==>4612 ሄ==>4613 ህ==>4614 ሆ==>4615 ሇ==>4616 ለ==>4617 ሉ==>4618 ሊ==>4619 ላ==>4620 ሌ==>4621 ል==>4622 ሎ==>4623 ሏ==>4624 ሐ==>4625 ሑ==>4626 ሒ==>4627 ሓ==>4628 ሔ==>4629 ሕ==>4630 ሖ==>4631 ሗ==>4632 መ==>4633 ሙ==>4634 ሚ==>4635 ማ==>4636 ሜ==>4637 ም==>4638 ሞ==>4639 ሟ==>4640 ሠ==>4641 ሡ==>4642 ሢ==>4643 ሣ==>4644 ሤ==>4645 ሥ==>4646 ሦ==>4647 ሧ==>4648 ረ==>4649 ሩ==>4650 ሪ==>4651 ራ==>4652 ሬ==>4653 ር==>4654 ሮ==>4655 ሯ==>4656 ሰ==>4657 ሱ==>4658 ሲ==>4659 ሳ==>4660 ሴ==>4661 ስ==>4662 ሶ==>4663 ሷ==>4664 ሸ==>4665 ሹ==>4666 ሺ==>4667 ሻ==>4668 ሼ==>4669 ሽ==>4670 ሾ==>4671 ሿ==>4672 ቀ==>4673 ቁ==>4674 ቂ==>4675 ቃ==>4676 ቄ==>4677 ቅ==>4678 ቆ==>4679 ቇ==>4680 ቈ==>4681 ቉==>4682 ቊ==>4683 ቋ==>4684 ቌ==>4685 ቍ==>4686 ቎==>4687 ቏==>4688 ቐ==>4689 ቑ==>4690 ቒ==>4691 ቓ==>4692 ቔ==>4693 ቕ==>4694 ቖ==>4695 ቗==>4696 ቘ==>4697 ቙==>4698 ቚ==>4699 ቛ==>4700 ቜ==>4701 ቝ==>4702 ቞==>4703 ቟==>4704 በ==>4705 ቡ==>4706 ቢ==>4707 ባ==>4708 ቤ==>4709 ብ==>4710 ቦ==>4711 ቧ==>4712 ቨ==>4713 ቩ==>4714 ቪ==>4715 ቫ==>4716 ቬ==>4717 ቭ==>4718 ቮ==>4719 ቯ==>4720 ተ==>4721 ቱ==>4722 ቲ==>4723 ታ==>4724 ቴ==>4725 ት==>4726 ቶ==>4727 ቷ==>4728 ቸ==>4729 ቹ==>4730 ቺ==>4731 ቻ==>4732 ቼ==>4733 ች==>4734 ቾ==>4735 ቿ==>4736 ኀ==>4737 ኁ==>4738 ኂ==>4739 ኃ==>4740 ኄ==>4741 ኅ==>4742 ኆ==>4743 ኇ==>4744 ኈ==>4745 ኉==>4746 ኊ==>4747 ኋ==>4748 ኌ==>4749 ኍ==>4750 ኎==>4751 ኏==>4752 ነ==>4753 ኑ==>4754 ኒ==>4755 ና==>4756 ኔ==>4757 ን==>4758 ኖ==>4759 ኗ==>4760 ኘ==>4761 ኙ==>4762 ኚ==>4763 ኛ==>4764 ኜ==>4765 ኝ==>4766 ኞ==>4767 ኟ==>4768 አ==>4769 ኡ==>4770 ኢ==>4771 ኣ==>4772 ኤ==>4773 እ==>4774 ኦ==>4775 ኧ==>4776 ከ==>4777 ኩ==>4778 ኪ==>4779 ካ==>4780 ኬ==>4781 ክ==>4782 ኮ==>4783 ኯ==>4784 ኰ==>4785 ኱==>4786 ኲ==>4787 ኳ==>4788 ኴ==>4789 ኵ==>4790 ኶==>4791 ኷==>4792 ኸ==>4793 ኹ==>4794 ኺ==>4795 ኻ==>4796 ኼ==>4797 ኽ==>4798 ኾ==>4799 ኿==>4800 ዀ==>4801 ዁==>4802 ዂ==>4803 ዃ==>4804 ዄ==>4805 ዅ==>4806 ዆==>4807 ዇==>4808 ወ==>4809 ዉ==>4810 ዊ==>4811 ዋ==>4812 ዌ==>4813 ው==>4814 ዎ==>4815 ዏ==>4816 ዐ==>4817 ዑ==>4818 ዒ==>4819 ዓ==>4820 ዔ==>4821 ዕ==>4822 ዖ==>4823 ዗==>4824 ዘ==>4825 ዙ==>4826 ዚ==>4827 ዛ==>4828 ዜ==>4829 ዝ==>4830 ዞ==>4831 ዟ==>4832 ዠ==>4833 ዡ==>4834 ዢ==>4835 ዣ==>4836 ዤ==>4837 ዥ==>4838 ዦ==>4839 ዧ==>4840 የ==>4841 ዩ==>4842 ዪ==>4843 ያ==>4844 ዬ==>4845 ይ==>4846 ዮ==>4847 ዯ==>4848 ደ==>4849 ዱ==>4850 ዲ==>4851 ዳ==>4852 ዴ==>4853 ድ==>4854 ዶ==>4855 ዷ==>4856 ዸ==>4857 ዹ==>4858 ዺ==>4859 ዻ==>4860 ዼ==>4861 ዽ==>4862 ዾ==>4863 ዿ==>4864 ጀ==>4865 ጁ==>4866 ጂ==>4867 ጃ==>4868 ጄ==>4869 ጅ==>4870 ጆ==>4871 ጇ==>4872 ገ==>4873 ጉ==>4874 ጊ==>4875 ጋ==>4876 ጌ==>4877 ግ==>4878 ጎ==>4879 ጏ==>4880 ጐ==>4881 ጑==>4882 ጒ==>4883 ጓ==>4884 ጔ==>4885 ጕ==>4886 ጖==>4887 ጗==>4888 ጘ==>4889 ጙ==>4890 ጚ==>4891 ጛ==>4892 ጜ==>4893 ጝ==>4894 ጞ==>4895 ጟ==>4896 ጠ==>4897 ጡ==>4898 ጢ==>4899 ጣ==>4900 ጤ==>4901 ጥ==>4902 ጦ==>4903 ጧ==>4904 ጨ==>4905 ጩ==>4906 ጪ==>4907 ጫ==>4908 ጬ==>4909 ጭ==>4910 ጮ==>4911 ጯ==>4912 ጰ==>4913 ጱ==>4914 ጲ==>4915 ጳ==>4916 ጴ==>4917 ጵ==>4918 ጶ==>4919 ጷ==>4920 ጸ==>4921 ጹ==>4922 ጺ==>4923 ጻ==>4924 ጼ==>4925 ጽ==>4926 ጾ==>4927 ጿ==>4928 ፀ==>4929 ፁ==>4930 ፂ==>4931 ፃ==>4932 ፄ==>4933 ፅ==>4934 ፆ==>4935 ፇ==>4936 ፈ==>4937 ፉ==>4938 ፊ==>4939 ፋ==>4940 ፌ==>4941 ፍ==>4942 ፎ==>4943 ፏ==>4944 ፐ==>4945 ፑ==>4946 ፒ==>4947 ፓ==>4948 ፔ==>4949 ፕ==>4950 ፖ==>4951 ፗ==>4952 ፘ==>4953 ፙ==>4954 ፚ==>4955 ፛==>4956 ፜==>4957 ፝==>4958 ፞==>4959 ፟==>4960 ፠==>4961 ፡==>4962 ።==>4963 ፣==>4964 ፤==>4965 ፥==>4966 ፦==>4967 ፧==>4968 ፨==>4969 ፩==>4970 ፪==>4971 ፫==>4972 ፬==>4973 ፭==>4974 ፮==>4975 ፯==>4976 ፰==>4977 ፱==>4978 ፲==>4979 ፳==>4980 ፴==>4981 ፵==>4982 ፶==>4983 ፷==>4984 ፸==>4985 ፹==>4986 ፺==>4987 ፻==>4988 ፼==>4989 ፽==>4990 ፾==>4991 ፿==>4992 ᎀ==>4993 ᎁ==>4994 ᎂ==>4995 ᎃ==>4996 ᎄ==>4997 ᎅ==>4998 ᎆ==>4999 ᎇ==>"
     ]
    }
   ],
   "source": [
    "for i in range(4000,5000):\n",
    "    print(i,chr(i),end='==>')"
   ]
  },
  {
   "cell_type": "code",
   "execution_count": null,
   "id": "9e2eea6d-266e-4099-b54d-ad623f5da4b7",
   "metadata": {},
   "outputs": [],
   "source": []
  }
 ],
 "metadata": {
  "kernelspec": {
   "display_name": "Python 3 (ipykernel)",
   "language": "python",
   "name": "python3"
  },
  "language_info": {
   "codemirror_mode": {
    "name": "ipython",
    "version": 3
   },
   "file_extension": ".py",
   "mimetype": "text/x-python",
   "name": "python",
   "nbconvert_exporter": "python",
   "pygments_lexer": "ipython3",
   "version": "3.11.7"
  }
 },
 "nbformat": 4,
 "nbformat_minor": 5
}
