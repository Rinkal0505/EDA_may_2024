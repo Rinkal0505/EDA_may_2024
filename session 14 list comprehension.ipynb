{
 "cells": [
  {
   "cell_type": "markdown",
   "id": "6ef73170-89f4-4af0-a6df-2ca5553c2d96",
   "metadata": {},
   "source": [
    "**List Comprehension**\n",
    "\n",
    "- We can store the output values by using append operations\n",
    "- We are taking empty list and we are iterating through elements from a given list\n",
    "- the result we are appending in a new list"
   ]
  },
  {
   "cell_type": "code",
   "execution_count": 3,
   "id": "9b0bb667-48e3-4d51-90a5-75ecb4ee4b2c",
   "metadata": {},
   "outputs": [
    {
     "data": {
      "text/plain": [
       "[0, 1, 4, 9, 16, 25, 36, 49, 64, 81]"
      ]
     },
     "execution_count": 3,
     "metadata": {},
     "output_type": "execute_result"
    }
   ],
   "source": [
    "square_list=[]\n",
    "for i in range(10):\n",
    "    square_list.append(i*i)\n",
    "square_list"
   ]
  },
  {
   "cell_type": "markdown",
   "id": "0caf21cc-1043-49ad-ae86-be2399ee7bc8",
   "metadata": {},
   "source": [
    "- There are almost 3 lines are in the process\n",
    "- The three line we can make into a single line\n",
    "- This is called as **list comprehension**"
   ]
  },
  {
   "cell_type": "markdown",
   "id": "bd6aa09e-f0f6-4f8b-9e83-133adab1e3c9",
   "metadata": {},
   "source": [
    "$Pattern - 1$"
   ]
  },
  {
   "cell_type": "markdown",
   "id": "68f24cc8-d68b-47cd-87d8-9ff8aaa32dd3",
   "metadata": {},
   "source": [
    "**only for loop**"
   ]
  },
  {
   "cell_type": "code",
   "execution_count": null,
   "id": "cf97492e-3337-40c7-a577-bc0f1025a577",
   "metadata": {},
   "outputs": [],
   "source": [
    "#syntax\n",
    "\n",
    "[<Output>   <for loop>]"
   ]
  },
  {
   "cell_type": "code",
   "execution_count": 7,
   "id": "06b6643e-c8c8-4ac1-9805-d95aed296a33",
   "metadata": {},
   "outputs": [
    {
     "data": {
      "text/plain": [
       "[0, 1, 4, 9, 16, 25, 36, 49, 64, 81]"
      ]
     },
     "execution_count": 7,
     "metadata": {},
     "output_type": "execute_result"
    }
   ],
   "source": [
    "square_list=[]\n",
    "for i in range(10):\n",
    "    square_list.append(i*i)\n",
    "square_list\n",
    "\n",
    "#Q1) What is the output? i*i\n",
    "#Q2) What is the output list name? square_list\n",
    "#Q3) What is the for loop? for i in range(10)\n",
    "#Q4) syntax ? [<Output>   <for loop>]\n",
    "sq_list=[i*i  for i in range(10)]"
   ]
  },
  {
   "cell_type": "code",
   "execution_count": 10,
   "id": "6b3535a6-4adb-497e-9937-aa556b64c135",
   "metadata": {},
   "outputs": [
    {
     "data": {
      "text/plain": [
       "['HYD', 'MUMBAI', 'CHENNAI', 'BLR']"
      ]
     },
     "execution_count": 10,
     "metadata": {},
     "output_type": "execute_result"
    }
   ],
   "source": [
    "#Q2)l1=['hyd','mumbai','chennai','blr']\n",
    "# ans= ['Hyd','Mumbai']\n",
    "# we want lements which are having first letter capital\n",
    "\n",
    "l1=['Hyd','Mumbai','Chennai','blr']\n",
    "ans=[i.upper() for i in l1]\n",
    "ans"
   ]
  },
  {
   "cell_type": "code",
   "execution_count": 13,
   "id": "17ba6367-e462-490b-8a3b-6c4924265a2f",
   "metadata": {},
   "outputs": [
    {
     "data": {
      "text/plain": [
       "['hyd', 'mumbai', 'chennai', 'blr']"
      ]
     },
     "execution_count": 13,
     "metadata": {},
     "output_type": "execute_result"
    }
   ],
   "source": [
    "#Q3)l2=['Hyd','Mumbai','Chennai','Blr']\n",
    "# ans= ['hyd','mumbai']\n",
    "# we want lements which are having first letter small\n",
    "\n",
    "l2=['Hyd','Mumbai','Chennai','blr']\n",
    "ans=[i.lower() for i in l2]\n",
    "ans"
   ]
  },
  {
   "cell_type": "code",
   "execution_count": 15,
   "id": "944ec3f6-34dc-4a23-b6b9-abd7d90a2aa9",
   "metadata": {},
   "outputs": [
    {
     "data": {
      "text/plain": [
       "([0, 1, 2, 3], 6)"
      ]
     },
     "execution_count": 15,
     "metadata": {},
     "output_type": "execute_result"
    }
   ],
   "source": [
    "#Q4) l2=['Hyd','Mumbai','Chennai','Blr']\n",
    "# sum of the indexes of all elements\n",
    "\n",
    "l2=['Hyd','Mumbai','Chennai','Blr']\n",
    "id_list=[i for i in range(len(l2))]\n",
    "id_list,sum(id_list)"
   ]
  },
  {
   "cell_type": "code",
   "execution_count": 16,
   "id": "c44e7e08-8711-49f7-bbe1-2debebf76871",
   "metadata": {},
   "outputs": [
    {
     "data": {
      "text/plain": [
       "([0, 1, 2, 3], 6)"
      ]
     },
     "execution_count": 16,
     "metadata": {},
     "output_type": "execute_result"
    }
   ],
   "source": [
    "l2=['Hyd','Mumbai','Chennai','Blr']\n",
    "id_list=[l2.index(i) for i in l2]\n",
    "id_list,sum(id_list)"
   ]
  },
  {
   "cell_type": "markdown",
   "id": "b00991eb-26f5-4d3d-b61a-8bb35b20e512",
   "metadata": {},
   "source": [
    "- making empty list will not works in List comprehension\n",
    "- Initializations will not work in List comprehension\n",
    "- assignment operations also not works"
   ]
  },
  {
   "cell_type": "markdown",
   "id": "91644da0-e565-4728-bb34-d29bae484d93",
   "metadata": {},
   "source": [
    "$Pattern - 2$"
   ]
  },
  {
   "cell_type": "markdown",
   "id": "4ab515f1-806b-4580-802e-6bf65ad44399",
   "metadata": {},
   "source": [
    "**for loop - if condition**"
   ]
  },
  {
   "cell_type": "code",
   "execution_count": null,
   "id": "ab2631e8-23e4-4c53-a661-558f0eec76ad",
   "metadata": {},
   "outputs": [],
   "source": [
    "# syntax\n",
    "[<Output> <for loop> <ifcondition>]"
   ]
  },
  {
   "cell_type": "code",
   "execution_count": null,
   "id": "9a8495bc-6bd5-420a-a29f-29b00e12e156",
   "metadata": {},
   "outputs": [],
   "source": [
    "# Q4)l1=['Hyd','Mumbai','Chennai','blr']\n",
    "# ans=['Mumbai','Chennai']\n",
    "# we want lements which are len of element >4\n",
    "l1=['Hyd','Mumbai','Chennai','blr']\n",
    "ans=[]\n",
    "for i in l1:\n",
    " if len(i)>4:\n",
    "     ans.append(i)\n",
    "ans\n",
    "\n",
    "#Q1) What is the output : i\n",
    "#Q2) What is the if condition : if len(i)>4\n",
    "#Q3) What is the for loop: for i in l1\n",
    "# [<Output> <for loop> <ifcondition>]"
   ]
  },
  {
   "cell_type": "code",
   "execution_count": 19,
   "id": "e3528f0e-07b1-49da-a639-9fce8883e8c9",
   "metadata": {},
   "outputs": [
    {
     "name": "stdout",
     "output_type": "stream",
     "text": [
      "['Mumbai', 'Chennai']\n"
     ]
    }
   ],
   "source": [
    "l1 = ['Hyd', 'Mumbai', 'Chennai', 'blr']\n",
    "op = [i for i in l1 if len(i) > 4]\n",
    "print(op)"
   ]
  },
  {
   "cell_type": "code",
   "execution_count": null,
   "id": "2bcc211e-dd23-4f18-819d-e1e7e92c99fe",
   "metadata": {},
   "outputs": [],
   "source": [
    "# Q3)l1=['Hyd','Mum#bai','Chen#nai','blr']\n",
    "#  ans=['Mum#bai'',Chen#nai']  \n",
    "#  we want lements which are having '#'\n",
    "\n",
    "# Q4)l1=['hyd','mumbai','chennai','blr']\n",
    "#  ans= ['Hyd','Mumbai','Chennai','Blr']\n",
    "#  we want lements which are len of element >4\n",
    "\n",
    "# Q5)l1=['Hyd','Mumbai','chennai','blr']\n",
    "#  ans= ['Hyd','Mumbai']\n",
    "#  we want lements which are having first letter capital\n",
    "\n",
    "# Q6)l1=['Hyd','Mum#bai','Chen#nai','blr']\n",
    "#  ans_#=['Mum#bai'',Chen#nai']  \n",
    "#  ans_without_#=['Hyd'','blr']\n",
    "#  we want lements which are having '#'\n",
    "\n",
    "# Q7) ask the user get 5 numbers randomly\n",
    "#     even_list and odd_list\n",
    "#     even numbers should append at even_list\n",
    "#     odd number should append at odd_list\n",
    "\n",
    "# Q8) str='hello hai how are you'\n",
    "# Maximum len of word using split and max method\n",
    "# sum of all the indexes of the maximum len of word using append\n",
    "\n",
    "# Q9) str1='virat.kohli@rcb.com, Rohit.sharma@mi.co, KL.Rahul@lucknow.com'\n",
    "# Firstname=[]  second name=[]  cname =[]\n",
    "# append first name should be in first name list\n",
    "#        second name shoul be in second name list\n",
    "#        thirs name will be in thirs name list\n",
    "\n",
    "# 10 )\n",
    "#  You have two lists\n",
    "# qns=['What is capital of India',\n",
    "       'Who is PM of india',\n",
    "        'Who is ICT ODI captian']\n",
    "# ans = ['Delhi','Modi','Rohit']\n",
    "\n",
    "# For i in qns:\n",
    "#     print(i)\n",
    "#     ans= delhi\n",
    "#      index should match\n",
    "#      delhi  modi\n",
    "#      marks= marks+1\n",
    "# print the total marks"
   ]
  },
  {
   "cell_type": "code",
   "execution_count": 20,
   "id": "657a5d28-1cf8-4722-87c8-8ddd3d1f3633",
   "metadata": {},
   "outputs": [
    {
     "name": "stdout",
     "output_type": "stream",
     "text": [
      "['Mum#bai', 'Chen#nai']\n"
     ]
    }
   ],
   "source": [
    "l1 = ['Hyd', 'Mum#bai', 'Chen#nai', 'blr']\n",
    "ans = [i for i in l1 if '#' in i]\n",
    "print(ans)"
   ]
  },
  {
   "cell_type": "code",
   "execution_count": 21,
   "id": "a93590d8-7bf4-41bd-8aa4-a425896bcf91",
   "metadata": {},
   "outputs": [
    {
     "name": "stdout",
     "output_type": "stream",
     "text": [
      "ans_#= ['Mum#bai', 'Chen#nai']\n",
      "ans_without_#= ['Hyd', 'blr']\n"
     ]
    }
   ],
   "source": [
    "l1 = ['Hyd', 'Mum#bai', 'Chen#nai', 'blr']\n",
    "with_has = [i for i in l1 if '#' in i]\n",
    "without_has = [i for i in l1 if '#' not in i]\n",
    "\n",
    "print(\"ans_#=\", with_has)\n",
    "print(\"ans_without_#=\", without_has)"
   ]
  },
  {
   "cell_type": "code",
   "execution_count": 23,
   "id": "40dbf657-8d4f-4bbe-b0f9-c952a6ec14f4",
   "metadata": {},
   "outputs": [
    {
     "name": "stdout",
     "output_type": "stream",
     "text": [
      "Firstname = ['virat', 'Rohit', 'KL']\n",
      "Secondname = ['kohli', 'sharma', 'Rahul']\n",
      "cname = ['rcb', 'mi', 'lucknow']\n"
     ]
    }
   ],
   "source": [
    "# Q9) str1='virat.kohli@rcb.com, Rohit.sharma@mi.co, KL.Rahul@lucknow.com'\n",
    "# Firstname=[]  second name=[]  cname =[]\n",
    "# append first name should be in first name list\n",
    "#        second name shoul be in second name list\n",
    "#        thirs name will be in thirs name list\n",
    "\n",
    "str1 = 'virat.kohli@rcb.com, Rohit.sharma@mi.co, KL.Rahul@lucknow.com'\n",
    "email_list = str1.split(', ')\n",
    "\n",
    "Firstname = [email.split('@')[0].split('.')[0] for email in email_list]\n",
    "Secondname = [email.split('@')[0].split('.')[1] for email in email_list]\n",
    "cname = [email.split('@')[1].split('.')[0] for email in email_list]\n",
    "\n",
    "print(\"Firstname =\", Firstname)\n",
    "print(\"Secondname =\", Secondname)\n",
    "print(\"cname =\", cname)\n"
   ]
  },
  {
   "cell_type": "code",
   "execution_count": 24,
   "id": "003b327b-18a2-45fc-8500-1e074ae7eebc",
   "metadata": {},
   "outputs": [
    {
     "name": "stdout",
     "output_type": "stream",
     "text": [
      "['Hyd', 'Mumbai', 'Chennai']\n"
     ]
    }
   ],
   "source": [
    "l1 = ['Hyd', 'Mumbai', 'Chennai', 'blr']\n",
    "ans = [i for i in l1 if i.istitle()]\n",
    "print(ans)"
   ]
  },
  {
   "cell_type": "code",
   "execution_count": 31,
   "id": "7371dca5-7250-4e2d-9363-2e4a71ef66ac",
   "metadata": {},
   "outputs": [
    {
     "data": {
      "text/plain": [
       "['virat', ' Rohit', ' KL']"
      ]
     },
     "execution_count": 31,
     "metadata": {},
     "output_type": "execute_result"
    }
   ],
   "source": [
    "str1 = 'virat.kohli@rcb.com, Rohit.sharma@mi.co, KL.Rahul@lucknow.com'\n",
    "list1=str1.split(',')\n",
    "f_name=[]\n",
    "for i in list1:\n",
    "    f_name.append(i[:i.index('.')])\n",
    "f_name"
   ]
  },
  {
   "cell_type": "code",
   "execution_count": 33,
   "id": "759c558a-5ed0-4461-96e7-413c66e7b2df",
   "metadata": {},
   "outputs": [
    {
     "name": "stdout",
     "output_type": "stream",
     "text": [
      "['kohli', 'sharma', 'Rahul']\n"
     ]
    }
   ],
   "source": [
    "str1 = 'virat.kohli@rcb.com, Rohit.sharma@mi.co, KL.Rahul@lucknow.com'\n",
    "list1 = str1.split(', ')\n",
    "s_name = []\n",
    "for i in list1:\n",
    "    name_part = i[:i.index('@')]\n",
    "    last_name = name_part.split('.')[-1]\n",
    "    s_name.append(last_name)\n",
    "print(s_name)\n"
   ]
  },
  {
   "cell_type": "markdown",
   "id": "e9c31969-0c3d-47b3-87d5-830a62617dd8",
   "metadata": {},
   "source": [
    "$Pattern − 3$"
   ]
  },
  {
   "cell_type": "markdown",
   "id": "4a7a333f-8fa7-45e6-b588-280e6fe153f0",
   "metadata": {},
   "source": [
    "**if-else**"
   ]
  },
  {
   "cell_type": "code",
   "execution_count": null,
   "id": "bff4df4d-0d45-42a7-bf57-fa5670486f6f",
   "metadata": {},
   "outputs": [],
   "source": [
    "[<output> <forloop>] : for loop\n",
    "[<output> <forloop> <if condition>]: for-if\n",
    "[<if_output> <if> <else> <else_output> <for>] : if-else"
   ]
  },
  {
   "cell_type": "markdown",
   "id": "79754314-b4e9-4ed2-9243-6526b3183a44",
   "metadata": {},
   "source": [
    "**even-odd**"
   ]
  },
  {
   "cell_type": "code",
   "execution_count": 1,
   "id": "bccbdebf-818f-44f2-885f-14714690b55c",
   "metadata": {},
   "outputs": [],
   "source": [
    "even_list,odd_list=[],[]\n",
    "for i in range(1,20):\n",
    "     if i%2==0:\n",
    "         even_list.append(f\"even:{i}\")\n",
    "     else:\n",
    "         odd_list.append(f\"odd:{i}\")\n"
   ]
  },
  {
   "cell_type": "code",
   "execution_count": 2,
   "id": "f803d71a-a953-4e10-aaff-852c4128fe26",
   "metadata": {},
   "outputs": [
    {
     "data": {
      "text/plain": [
       "(['even:2',\n",
       "  'even:4',\n",
       "  'even:6',\n",
       "  'even:8',\n",
       "  'even:10',\n",
       "  'even:12',\n",
       "  'even:14',\n",
       "  'even:16',\n",
       "  'even:18'],\n",
       " ['odd:1',\n",
       "  'odd:3',\n",
       "  'odd:5',\n",
       "  'odd:7',\n",
       "  'odd:9',\n",
       "  'odd:11',\n",
       "  'odd:13',\n",
       "  'odd:15',\n",
       "  'odd:17',\n",
       "  'odd:19'])"
      ]
     },
     "execution_count": 2,
     "metadata": {},
     "output_type": "execute_result"
    }
   ],
   "source": [
    "even_list,odd_list"
   ]
  },
  {
   "cell_type": "code",
   "execution_count": 4,
   "id": "dddd8457-c80d-40b9-b12e-2cc60aaa52f2",
   "metadata": {},
   "outputs": [
    {
     "data": {
      "text/plain": [
       "['odd:1',\n",
       " 'even:2',\n",
       " 'odd:3',\n",
       " 'even:4',\n",
       " 'odd:5',\n",
       " 'even:6',\n",
       " 'odd:7',\n",
       " 'even:8',\n",
       " 'odd:9',\n",
       " 'even:10',\n",
       " 'odd:11',\n",
       " 'even:12',\n",
       " 'odd:13',\n",
       " 'even:14',\n",
       " 'odd:15',\n",
       " 'even:16',\n",
       " 'odd:17',\n",
       " 'even:18',\n",
       " 'odd:19']"
      ]
     },
     "execution_count": 4,
     "metadata": {},
     "output_type": "execute_result"
    }
   ],
   "source": [
    "op_list=[]\n",
    "for i in range(1,20):\n",
    "     if i%2==0:\n",
    "         op_list.append(f\"even:{i}\")\n",
    "     else:\n",
    "         op_list.append(f\"odd:{i}\")\n",
    "op_list\n",
    "#[<if_op> <if_con> <else> <else_op> <for_loop>]\n",
    "[f\"even:{i}\" if i%2==0 else f\"odd:{i}\" for i in range(1,20)]\n"
   ]
  },
  {
   "cell_type": "code",
   "execution_count": null,
   "id": "55e632bc-c2d6-4f8b-9fb9-0b00ba4f47a9",
   "metadata": {},
   "outputs": [],
   "source": []
  }
 ],
 "metadata": {
  "kernelspec": {
   "display_name": "Python 3 (ipykernel)",
   "language": "python",
   "name": "python3"
  },
  "language_info": {
   "codemirror_mode": {
    "name": "ipython",
    "version": 3
   },
   "file_extension": ".py",
   "mimetype": "text/x-python",
   "name": "python",
   "nbconvert_exporter": "python",
   "pygments_lexer": "ipython3",
   "version": "3.11.7"
  }
 },
 "nbformat": 4,
 "nbformat_minor": 5
}
