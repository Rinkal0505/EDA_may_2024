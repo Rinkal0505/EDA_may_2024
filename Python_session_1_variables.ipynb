{
 "cells": [
  {
   "cell_type": "markdown",
   "id": "04688e17-e577-4c2a-abcc-f6dca2f3c247",
   "metadata": {},
   "source": [
    "## Variables"
   ]
  },
  {
   "cell_type": "markdown",
   "id": "afae2c57-7479-441f-aff8-6688468d4ac7",
   "metadata": {},
   "source": [
    "- Variables are used to store the value \n",
    "\n",
    "- and the values can be changed "
   ]
  },
  {
   "cell_type": "code",
   "execution_count": 3,
   "id": "a54658a7-305b-401f-8172-54698c77b9f3",
   "metadata": {},
   "outputs": [
    {
     "data": {
      "text/plain": [
       "100"
      ]
     },
     "execution_count": 3,
     "metadata": {},
     "output_type": "execute_result"
    }
   ],
   "source": [
    "number = 100 # value 100 stored in a variable called number\n",
    "number"
   ]
  },
  {
   "cell_type": "code",
   "execution_count": 4,
   "id": "8489320c-6555-4b08-82ec-b649c5533240",
   "metadata": {},
   "outputs": [
    {
     "data": {
      "text/plain": [
       "200"
      ]
     },
     "execution_count": 4,
     "metadata": {},
     "output_type": "execute_result"
    }
   ],
   "source": [
    "number = 200 # value 200 stored in a variable called number\n",
    "number"
   ]
  },
  {
   "cell_type": "markdown",
   "id": "8415af38-b8dd-4dfe-8707-fd00abd081f3",
   "metadata": {},
   "source": [
    "**NOTE**\n",
    "\n",
    "- python is a step by step process\n",
    "\n",
    "- python will take last output as the latest value\n",
    "\n",
    "- in above code we are using same variable as number\n",
    "\n",
    "- but number value change 2 times\n",
    "\n",
    "- 1st tym :100 \n",
    "\n",
    "- 2nd tym:200\n",
    "\n",
    "- latest value:200"
   ]
  },
  {
   "cell_type": "code",
   "execution_count": 5,
   "id": "e67364c7-5152-4953-9413-eaf01191ebd2",
   "metadata": {},
   "outputs": [
    {
     "data": {
      "text/plain": [
       "200"
      ]
     },
     "execution_count": 5,
     "metadata": {},
     "output_type": "execute_result"
    }
   ],
   "source": [
    "NUMBER = 200\n",
    "NUMBER"
   ]
  },
  {
   "cell_type": "code",
   "execution_count": 6,
   "id": "8701093a-1b1c-47a4-83b9-6455ba36e51b",
   "metadata": {},
   "outputs": [
    {
     "data": {
      "text/plain": [
       "(200, 200)"
      ]
     },
     "execution_count": 6,
     "metadata": {},
     "output_type": "execute_result"
    }
   ],
   "source": [
    "number,NUMBER"
   ]
  },
  {
   "cell_type": "code",
   "execution_count": 7,
   "id": "0831afd7-c479-4326-9a95-3bebeb28af8b",
   "metadata": {},
   "outputs": [
    {
     "data": {
      "text/plain": [
       "300"
      ]
     },
     "execution_count": 7,
     "metadata": {},
     "output_type": "execute_result"
    }
   ],
   "source": [
    "NUMber = 300\n",
    "NUMber"
   ]
  },
  {
   "cell_type": "code",
   "execution_count": 8,
   "id": "fb4dc2c0-9645-4d6f-823d-2e4e68eedbd4",
   "metadata": {},
   "outputs": [
    {
     "data": {
      "text/plain": [
       "400"
      ]
     },
     "execution_count": 8,
     "metadata": {},
     "output_type": "execute_result"
    }
   ],
   "source": [
    "number123 = 400\n",
    "number123"
   ]
  },
  {
   "cell_type": "code",
   "execution_count": 9,
   "id": "1116e1a7-d098-49b4-820b-95d44f5d7d41",
   "metadata": {},
   "outputs": [
    {
     "ename": "SyntaxError",
     "evalue": "invalid decimal literal (1181908654.py, line 1)",
     "output_type": "error",
     "traceback": [
      "\u001b[1;36m  Cell \u001b[1;32mIn[9], line 1\u001b[1;36m\u001b[0m\n\u001b[1;33m    123number=500\u001b[0m\n\u001b[1;37m      ^\u001b[0m\n\u001b[1;31mSyntaxError\u001b[0m\u001b[1;31m:\u001b[0m invalid decimal literal\n"
     ]
    }
   ],
   "source": [
    "123number=500\n",
    "123number"
   ]
  },
  {
   "cell_type": "code",
   "execution_count": 10,
   "id": "6b265029-1907-48f6-94b1-2a9d64aefc7b",
   "metadata": {},
   "outputs": [
    {
     "ename": "SyntaxError",
     "evalue": "cannot assign to expression here. Maybe you meant '==' instead of '='? (1823274275.py, line 1)",
     "output_type": "error",
     "traceback": [
      "\u001b[1;36m  Cell \u001b[1;32mIn[10], line 1\u001b[1;36m\u001b[0m\n\u001b[1;33m    numb%er=600\u001b[0m\n\u001b[1;37m    ^\u001b[0m\n\u001b[1;31mSyntaxError\u001b[0m\u001b[1;31m:\u001b[0m cannot assign to expression here. Maybe you meant '==' instead of '='?\n"
     ]
    }
   ],
   "source": [
    "numb%er=600\n",
    "numb%er"
   ]
  },
  {
   "cell_type": "code",
   "execution_count": 11,
   "id": "705a08db-239a-46b3-b618-402230322a31",
   "metadata": {},
   "outputs": [
    {
     "ename": "SyntaxError",
     "evalue": "invalid syntax (354014665.py, line 1)",
     "output_type": "error",
     "traceback": [
      "\u001b[1;36m  Cell \u001b[1;32mIn[11], line 1\u001b[1;36m\u001b[0m\n\u001b[1;33m    number one =800\u001b[0m\n\u001b[1;37m           ^\u001b[0m\n\u001b[1;31mSyntaxError\u001b[0m\u001b[1;31m:\u001b[0m invalid syntax\n"
     ]
    }
   ],
   "source": [
    "number one =800\n",
    "number one"
   ]
  },
  {
   "cell_type": "code",
   "execution_count": 12,
   "id": "7fe49c42-5e96-47dd-a8b4-17660eda599f",
   "metadata": {},
   "outputs": [
    {
     "data": {
      "text/plain": [
       "100"
      ]
     },
     "execution_count": 12,
     "metadata": {},
     "output_type": "execute_result"
    }
   ],
   "source": [
    "number_one =100\n",
    "number_one"
   ]
  },
  {
   "cell_type": "code",
   "execution_count": 14,
   "id": "97ab1319-5ea7-4f7e-9094-9e5a2ed6cdc2",
   "metadata": {},
   "outputs": [
    {
     "data": {
      "text/plain": [
       "1000"
      ]
     },
     "execution_count": 14,
     "metadata": {},
     "output_type": "execute_result"
    }
   ],
   "source": [
    "_ = 1000\n",
    "_"
   ]
  },
  {
   "cell_type": "code",
   "execution_count": 15,
   "id": "8e455679-86cc-479e-82a0-55d703f3a0ae",
   "metadata": {},
   "outputs": [
    {
     "data": {
      "text/plain": [
       "(100, 200)"
      ]
     },
     "execution_count": 15,
     "metadata": {},
     "output_type": "execute_result"
    }
   ],
   "source": [
    "n1 = 100,200\n",
    "n1"
   ]
  },
  {
   "cell_type": "code",
   "execution_count": 16,
   "id": "a6333c72-2ae9-4364-b40c-0b9c8096404b",
   "metadata": {},
   "outputs": [
    {
     "ename": "TypeError",
     "evalue": "cannot unpack non-iterable int object",
     "output_type": "error",
     "traceback": [
      "\u001b[1;31m---------------------------------------------------------------------------\u001b[0m",
      "\u001b[1;31mTypeError\u001b[0m                                 Traceback (most recent call last)",
      "Cell \u001b[1;32mIn[16], line 1\u001b[0m\n\u001b[1;32m----> 1\u001b[0m n2,n3 \u001b[38;5;241m=\u001b[39m \u001b[38;5;241m200\u001b[39m\n",
      "\u001b[1;31mTypeError\u001b[0m: cannot unpack non-iterable int object"
     ]
    }
   ],
   "source": [
    "n2,n3 = 200"
   ]
  },
  {
   "cell_type": "code",
   "execution_count": 18,
   "id": "7165c8e1-7298-4f3f-834a-9f69001c4ff9",
   "metadata": {},
   "outputs": [
    {
     "name": "stdout",
     "output_type": "stream",
     "text": [
      "300\n",
      "400\n"
     ]
    }
   ],
   "source": [
    "n4,n5 = 300,400\n",
    "print(n4)\n",
    "print(n5)"
   ]
  },
  {
   "cell_type": "markdown",
   "id": "9976171d-8f43-4991-8e1c-31df8ce076ad",
   "metadata": {},
   "source": [
    "number=200\n",
    "\n",
    "NUMBER=300  \n",
    "\n",
    "NUMBer=400 \n",
    "\n",
    "number123=500\n",
    "\n",
    "123number=600\n",
    "\n",
    "num%er=700\n",
    "\n",
    "number one=800\n",
    "\n",
    "number_one=900\n",
    "\n",
    "_=1000\n",
    "\n",
    "n1=100,200\n",
    "\n",
    "n1,n2=100\n",
    "\n",
    "n1,n2=100,200"
   ]
  },
  {
   "cell_type": "markdown",
   "id": "848e9f0e-58ce-406a-8e72-8c688c5be206",
   "metadata": {},
   "source": [
    "## MUST KEEP IN MIND\n",
    "\n",
    "- Python variables are case sensitive\n",
    "- Variables can be declared as capital letters\n",
    "- variables can be declared as small letters\n",
    "- variables cannot start with numbers\n",
    "- Numbers can be suffix of the variables\n",
    "- Variables cannot have special characters except **underscore**\n",
    "- Variables donnot have space betwwen them\n",
    "- only underscore is possible\n",
    "- keywords or reserved words cannot be used as variables\n",
    "- two values can be assign to a single variable\n",
    "- 2 values can be assigned to a single value\n",
    "- one value cannot be assigned"
   ]
  },
  {
   "cell_type": "markdown",
   "id": "aa5594ba-b826-41e9-87ef-f3ce6767ada9",
   "metadata": {},
   "source": [
    "## KEYWORDS\n",
    "\n",
    "- while\n",
    "- else\n",
    "- elif\n",
    "- for\n",
    "- True\n",
    "- False    "
   ]
  },
  {
   "cell_type": "code",
   "execution_count": null,
   "id": "6100c7f3-bb49-4be7-80ab-becad0b2dc6e",
   "metadata": {},
   "outputs": [],
   "source": []
  }
 ],
 "metadata": {
  "kernelspec": {
   "display_name": "Python 3 (ipykernel)",
   "language": "python",
   "name": "python3"
  },
  "language_info": {
   "codemirror_mode": {
    "name": "ipython",
    "version": 3
   },
   "file_extension": ".py",
   "mimetype": "text/x-python",
   "name": "python",
   "nbconvert_exporter": "python",
   "pygments_lexer": "ipython3",
   "version": "3.11.7"
  }
 },
 "nbformat": 4,
 "nbformat_minor": 5
}
