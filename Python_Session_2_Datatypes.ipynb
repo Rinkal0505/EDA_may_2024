{
 "cells": [
  {
   "cell_type": "markdown",
   "id": "68c01dfe-bfd0-455f-a9bb-9697b7c7ed8b",
   "metadata": {},
   "source": [
    "## DATATYPES\n",
    "\n",
    "- In python type declare not required\n",
    "- Python will automatically takes the type based on provided value\n",
    "- We have many datatypes available\n",
    "- The main data types are:\n",
    "  - integer\n",
    "  - float\n",
    "  - Boolean\n",
    "  - String\n",
    "- \n"
   ]
  },
  {
   "cell_type": "markdown",
   "id": "32c0a66f-3fa4-48c4-b263-4e193c62e9e0",
   "metadata": {},
   "source": [
    "**Integer**"
   ]
  },
  {
   "cell_type": "code",
   "execution_count": 2,
   "id": "472418cd-604d-4826-a6fb-6b755197b804",
   "metadata": {},
   "outputs": [
    {
     "data": {
      "text/plain": [
       "int"
      ]
     },
     "execution_count": 2,
     "metadata": {},
     "output_type": "execute_result"
    }
   ],
   "source": [
    "n = 100\n",
    "type(n)"
   ]
  },
  {
   "cell_type": "markdown",
   "id": "e426d7ca-4cac-4b84-954d-c9a15e413ad6",
   "metadata": {},
   "source": [
    "**TYPE OF REPRESENTATION**\n",
    "\n",
    "- binary representation\n",
    "- octa representation\n",
    "- hexa representation"
   ]
  },
  {
   "cell_type": "markdown",
   "id": "740fb590-e9cf-4ad6-a213-a609a4553bc4",
   "metadata": {},
   "source": [
    "**BINARY**\n",
    "\n",
    "- bi means 2\n",
    "- so it requires 2 digits\n",
    "- Generally we have 0 1 2 3 4 5 6 7 8 9\n",
    "- so it will represent 0 & 1\n",
    "- representation is 0b10,0b01111\n",
    "- wrong representation is 0b102,0b007"
   ]
  },
  {
   "cell_type": "code",
   "execution_count": 1,
   "id": "e4ec7edc-c319-418e-a363-dbd14464a19d",
   "metadata": {},
   "outputs": [],
   "source": [
    "import os"
   ]
  },
  {
   "cell_type": "code",
   "execution_count": 3,
   "id": "e96fcae6-f80f-4483-a520-849c554ad34b",
   "metadata": {},
   "outputs": [
    {
     "data": {
      "text/plain": [
       "'C:\\\\Users\\\\HP\\\\Documents\\\\Python'"
      ]
     },
     "execution_count": 3,
     "metadata": {},
     "output_type": "execute_result"
    }
   ],
   "source": [
    "os.getcwd()\n",
    "\n",
    "# get current working directory it will give the path where our python file located"
   ]
  },
  {
   "cell_type": "code",
   "execution_count": null,
   "id": "72224007-5ff4-4aa5-976e-077dab89fe44",
   "metadata": {},
   "outputs": [],
   "source": [
    "4    2     1      num\n",
    "0    0     0       0\n",
    "0    0     1       1 \n",
    "0    1     0       2\n",
    "0    1     1       3\n",
    "1    0     0       4\n",
    "1    0     1       5\n",
    "1    1     0       6\n",
    "1    1     1       7"
   ]
  },
  {
   "cell_type": "code",
   "execution_count": null,
   "id": "b4c9b2e2-d824-43fc-8456-3c0e4ed78a89",
   "metadata": {},
   "outputs": [],
   "source": [
    "8    4    2     1      num\n",
    "0    0    0     0       0\n",
    "0    0    0     1       1 \n",
    "0    0    1     0       2\n",
    "0    0    1     1       3\n",
    "0    1    0     0       4\n",
    "0    1    0     1       5\n",
    "0    1    1     0       6\n",
    "0    1    1     1       7\n",
    "1    0    0     0       8\n",
    "1    0    0     1       9\n",
    "1    0    1     0      10\n",
    "1    0    1     1      11\n",
    "1    1    0     0      12\n",
    "1    1    0     1      13\n",
    "1    1    1     0      14\n",
    "1    1    1     1      15"
   ]
  },
  {
   "cell_type": "code",
   "execution_count": 4,
   "id": "72c7fdb5-ae4c-4974-b62a-3e18d6076f00",
   "metadata": {},
   "outputs": [
    {
     "data": {
      "text/plain": [
       "29"
      ]
     },
     "execution_count": 4,
     "metadata": {},
     "output_type": "execute_result"
    }
   ],
   "source": [
    "0b11101"
   ]
  },
  {
   "cell_type": "code",
   "execution_count": 5,
   "id": "c0426d16-75fd-4d5e-8652-0100e18b3625",
   "metadata": {},
   "outputs": [
    {
     "data": {
      "text/plain": [
       "59"
      ]
     },
     "execution_count": 5,
     "metadata": {},
     "output_type": "execute_result"
    }
   ],
   "source": [
    "0b111011"
   ]
  },
  {
   "cell_type": "markdown",
   "id": "4c44b463-4921-4391-a4fe-74635fbee5b7",
   "metadata": {},
   "source": [
    "**OCTA**"
   ]
  },
  {
   "cell_type": "markdown",
   "id": "9f3c8d1a-c646-4bea-8269-d55deca45c02",
   "metadata": {},
   "source": [
    "- octa means 8\n",
    "- so it requires 8 digits\n",
    "- Generally we have 0 1 2 3 4 5 6 7 8 9\n",
    "- so it will represent 0 1 2 3 4 5 6 7\n",
    "- representation is 0o123,0O012345,0o7654321\n",
    "- wrong representation is 0b108 , 0o987"
   ]
  },
  {
   "cell_type": "code",
   "execution_count": 9,
   "id": "aacbff83-d079-45b0-b95f-a8d0bbc05be5",
   "metadata": {},
   "outputs": [
    {
     "data": {
      "text/plain": [
       "83"
      ]
     },
     "execution_count": 9,
     "metadata": {},
     "output_type": "execute_result"
    }
   ],
   "source": [
    "0o123"
   ]
  },
  {
   "cell_type": "code",
   "execution_count": 11,
   "id": "9afe992a-3181-4b9f-88d3-27c9c6edfea8",
   "metadata": {},
   "outputs": [
    {
     "data": {
      "text/plain": [
       "668"
      ]
     },
     "execution_count": 11,
     "metadata": {},
     "output_type": "execute_result"
    }
   ],
   "source": [
    "0o1234"
   ]
  },
  {
   "cell_type": "markdown",
   "id": "ed096f3b-f923-4e6a-8a50-1c5857fcb4bb",
   "metadata": {},
   "source": [
    "**HEXA**"
   ]
  },
  {
   "cell_type": "markdown",
   "id": "b9700a98-adee-420a-9715-d7400df64964",
   "metadata": {},
   "source": [
    "- Hexa means 16\n",
    "- so it requires 16 digits\n",
    "- Generally we have 0 1 2 3 4 5 6 7 8 9 A(10) B(11) C(12) D(13) E(14) F(15)\n",
    "- so it will represent 0-9 & A-F\n",
    "- representation is 0xF9,0X0123abc,0xabc\n",
    "- wrong representation is 0xGH , 0xABCDEFG"
   ]
  },
  {
   "cell_type": "code",
   "execution_count": 13,
   "id": "09338ba7-7501-4c5e-8288-67a5fe6f3b16",
   "metadata": {},
   "outputs": [
    {
     "data": {
      "text/plain": [
       "2748"
      ]
     },
     "execution_count": 13,
     "metadata": {},
     "output_type": "execute_result"
    }
   ],
   "source": [
    "0xabc"
   ]
  },
  {
   "cell_type": "code",
   "execution_count": 15,
   "id": "ab1dbf84-f025-4973-990e-1f3582510ecf",
   "metadata": {},
   "outputs": [
    {
     "data": {
      "text/plain": [
       "4671"
      ]
     },
     "execution_count": 15,
     "metadata": {},
     "output_type": "execute_result"
    }
   ],
   "source": [
    "0x123F"
   ]
  },
  {
   "cell_type": "markdown",
   "id": "6e264bb3-a021-48b9-b005-634f058f72c0",
   "metadata": {},
   "source": [
    "**FLOAT**"
   ]
  },
  {
   "cell_type": "code",
   "execution_count": 16,
   "id": "02f244ea-4082-40e9-880b-49c588fb7f51",
   "metadata": {},
   "outputs": [
    {
     "data": {
      "text/plain": [
       "float"
      ]
     },
     "execution_count": 16,
     "metadata": {},
     "output_type": "execute_result"
    }
   ],
   "source": [
    "n1=100.5\n",
    "type(n1)"
   ]
  },
  {
   "cell_type": "code",
   "execution_count": 17,
   "id": "fe9bfcb8-d24b-4319-a4a6-ce939879b904",
   "metadata": {},
   "outputs": [
    {
     "data": {
      "text/plain": [
       "int"
      ]
     },
     "execution_count": 17,
     "metadata": {},
     "output_type": "execute_result"
    }
   ],
   "source": [
    "n2 = 1005\n",
    "type(n2)"
   ]
  },
  {
   "cell_type": "code",
   "execution_count": 18,
   "id": "87003a35-e5a3-42ea-a9cd-5c033f77ede5",
   "metadata": {},
   "outputs": [
    {
     "data": {
      "text/plain": [
       "(10.0, 100.0, 1000.0, 10000.0)"
      ]
     },
     "execution_count": 18,
     "metadata": {},
     "output_type": "execute_result"
    }
   ],
   "source": [
    "1e1,1e2,1e3,1e4\n",
    "\n",
    "# kep=k*10^p"
   ]
  },
  {
   "cell_type": "code",
   "execution_count": 19,
   "id": "23cf53cb-921d-48bf-9ac3-b1c785492c06",
   "metadata": {},
   "outputs": [
    {
     "data": {
      "text/plain": [
       "24000.0"
      ]
     },
     "execution_count": 19,
     "metadata": {},
     "output_type": "execute_result"
    }
   ],
   "source": [
    "24e3\n",
    "# 24*10^3"
   ]
  },
  {
   "cell_type": "code",
   "execution_count": 21,
   "id": "dad9cc5c-9513-44b2-962d-c58180584844",
   "metadata": {},
   "outputs": [
    {
     "data": {
      "text/plain": [
       "(10.0, 100.0, 1000.0, 10000.0)"
      ]
     },
     "execution_count": 21,
     "metadata": {},
     "output_type": "execute_result"
    }
   ],
   "source": [
    "1e+1, 1e+2 ,1e+3, 1e+4"
   ]
  },
  {
   "cell_type": "code",
   "execution_count": 22,
   "id": "2c7b2054-580e-4db2-ab73-db26dbb7418c",
   "metadata": {},
   "outputs": [
    {
     "data": {
      "text/plain": [
       "(0.1, 0.01, 0.001, 0.0001)"
      ]
     },
     "execution_count": 22,
     "metadata": {},
     "output_type": "execute_result"
    }
   ],
   "source": [
    "1e-1, 1e-2,1e-3,1e-4"
   ]
  },
  {
   "cell_type": "code",
   "execution_count": 23,
   "id": "0990d19e-2a22-4700-a691-bb9a03392e01",
   "metadata": {},
   "outputs": [
    {
     "data": {
      "text/plain": [
       "0.024"
      ]
     },
     "execution_count": 23,
     "metadata": {},
     "output_type": "execute_result"
    }
   ],
   "source": [
    "24e-3\n",
    "\n",
    "#24/1000"
   ]
  },
  {
   "cell_type": "markdown",
   "id": "062fcc87-ffdb-471f-8822-40889f384bcd",
   "metadata": {},
   "source": [
    "- positive signs means multiply\n",
    "- negative signs means divide"
   ]
  },
  {
   "cell_type": "markdown",
   "id": "6746548d-0255-4b3d-b00a-34d4c3ac3d7e",
   "metadata": {},
   "source": [
    "**STRINGS**"
   ]
  },
  {
   "cell_type": "markdown",
   "id": "e32c0f0a-37e1-4e63-81f5-d6bcc734f21f",
   "metadata": {},
   "source": [
    "- Strings are used to represent the english charactersgenerally\n",
    "- Strings will represent in \n",
    "   - single quotes''\n",
    "   - double quotes\"\"\n",
    "   - triple quotes"
   ]
  },
  {
   "cell_type": "code",
   "execution_count": 24,
   "id": "7ee85a62-08eb-4ad7-8bc0-7e214b33fa9b",
   "metadata": {},
   "outputs": [
    {
     "data": {
      "text/plain": [
       "str"
      ]
     },
     "execution_count": 24,
     "metadata": {},
     "output_type": "execute_result"
    }
   ],
   "source": [
    "name='Rinkal'\n",
    "type(name)"
   ]
  },
  {
   "cell_type": "code",
   "execution_count": 26,
   "id": "2ee8076f-c006-4d4d-baff-a7e50a47ef62",
   "metadata": {},
   "outputs": [
    {
     "data": {
      "text/plain": [
       "str"
      ]
     },
     "execution_count": 26,
     "metadata": {},
     "output_type": "execute_result"
    }
   ],
   "source": [
    "name1=\"Rinkal\"\n",
    "type(name1)"
   ]
  },
  {
   "cell_type": "code",
   "execution_count": 27,
   "id": "57ba6692-2406-4388-97f4-7a5e705f78bd",
   "metadata": {},
   "outputs": [
    {
     "data": {
      "text/plain": [
       "str"
      ]
     },
     "execution_count": 27,
     "metadata": {},
     "output_type": "execute_result"
    }
   ],
   "source": [
    "name2='10'\n",
    "type(name2)"
   ]
  },
  {
   "cell_type": "code",
   "execution_count": 28,
   "id": "237a9c34-6d71-4f4f-84b0-9af8b5a900c7",
   "metadata": {},
   "outputs": [
    {
     "data": {
      "text/plain": [
       "str"
      ]
     },
     "execution_count": 28,
     "metadata": {},
     "output_type": "execute_result"
    }
   ],
   "source": [
    "email_id='naresh@123'\n",
    "type(email_id)"
   ]
  },
  {
   "cell_type": "markdown",
   "id": "a2157b25-30a3-41ef-80b7-be7f3d5623ab",
   "metadata": {},
   "source": [
    "**RED COLOUR MEANS STRINGS**\n",
    "\n",
    "**GREEN COLOUR MEANS KEYWORDS**\n",
    "\n",
    "**BLACK COLOUR MEANS VARIABLES**"
   ]
  },
  {
   "cell_type": "code",
   "execution_count": 32,
   "id": "5e82b253-4a85-4b99-880d-01037b30e5b4",
   "metadata": {},
   "outputs": [],
   "source": [
    "name3='python'\n",
    "name4=\"python\""
   ]
  },
  {
   "cell_type": "code",
   "execution_count": 33,
   "id": "42eac722-a741-4dd5-80af-5c297c2e1526",
   "metadata": {},
   "outputs": [
    {
     "data": {
      "text/plain": [
       "'python'"
      ]
     },
     "execution_count": 33,
     "metadata": {},
     "output_type": "execute_result"
    }
   ],
   "source": [
    "name3"
   ]
  },
  {
   "cell_type": "code",
   "execution_count": 34,
   "id": "a215e00e-3ccf-454b-81be-8e0603814f2b",
   "metadata": {},
   "outputs": [
    {
     "data": {
      "text/plain": [
       "'python'"
      ]
     },
     "execution_count": 34,
     "metadata": {},
     "output_type": "execute_result"
    }
   ],
   "source": [
    "name4"
   ]
  },
  {
   "cell_type": "markdown",
   "id": "69dbf837-9e70-466c-91d9-a7c5f1d463dd",
   "metadata": {},
   "source": [
    "\n",
    "- output always in single quotes"
   ]
  },
  {
   "cell_type": "code",
   "execution_count": 36,
   "id": "f006298a-c48f-4af1-8b12-7502b4005a28",
   "metadata": {},
   "outputs": [
    {
     "name": "stdout",
     "output_type": "stream",
     "text": [
      "python\n"
     ]
    }
   ],
   "source": [
    "print(name3)"
   ]
  },
  {
   "cell_type": "markdown",
   "id": "f96c6d61-6ec6-48fe-99ce-e88a1394a520",
   "metadata": {},
   "source": [
    "- whenever you print quotes will not visible"
   ]
  },
  {
   "cell_type": "code",
   "execution_count": 38,
   "id": "e213839d-1e4f-48ef-ab36-d161e4a6ea4a",
   "metadata": {},
   "outputs": [
    {
     "name": "stdout",
     "output_type": "stream",
     "text": [
      "I like 'PYTHON'\n"
     ]
    }
   ],
   "source": [
    "name5= \"I like 'PYTHON'\"\n",
    "print(name5)"
   ]
  },
  {
   "cell_type": "code",
   "execution_count": 40,
   "id": "818c99a6-6bc2-46c0-be6e-3910b0e9cf2d",
   "metadata": {},
   "outputs": [
    {
     "name": "stdout",
     "output_type": "stream",
     "text": [
      "I like \"python\"\n"
     ]
    }
   ],
   "source": [
    "str='I like \"python\"'\n",
    "print(str)"
   ]
  },
  {
   "cell_type": "markdown",
   "id": "3270c8ca-813a-48e7-a4b6-c61c3dc0b32b",
   "metadata": {},
   "source": [
    "**NOTE**\n",
    " - Entire string in \"\"\n",
    " - HIighlited word in '' \n",
    "\n",
    "- AGAIN VICE VERSA"
   ]
  },
  {
   "cell_type": "markdown",
   "id": "3c839624-49ac-4e63-a7e8-5ac4babbe2ff",
   "metadata": {},
   "source": [
    "**TRIPLE QUOTES**\n",
    "\n",
    "- Triple quotes is not used for coding\n",
    "- Triple quotes is used to provide the information to the user\n",
    "- In order to provide the info in Jupyter notebook we will use **MARKDOWN**\n",
    "- In **VS CODE** & **PYCHARM** there are no markdown option\n",
    "- So we use to write the information in triple quotes\n",
    "- The entire process is called **DOC STRING**"
   ]
  },
  {
   "cell_type": "code",
   "execution_count": 41,
   "id": "1cd9f1d1-2e0c-459d-aa5a-62448e91b96c",
   "metadata": {},
   "outputs": [
    {
     "data": {
      "text/plain": [
       "'\\nHELLO\\nThis is a python code\\n'"
      ]
     },
     "execution_count": 41,
     "metadata": {},
     "output_type": "execute_result"
    }
   ],
   "source": [
    "\"\"\"\n",
    "HELLO\n",
    "This is a python code\n",
    "\"\"\""
   ]
  },
  {
   "cell_type": "markdown",
   "id": "0e64d3d3-fec8-427b-adaa-2c44004868a2",
   "metadata": {},
   "source": [
    "**BOOLEAN**"
   ]
  },
  {
   "cell_type": "code",
   "execution_count": 42,
   "id": "d002fe31-261b-4b35-aa51-c3d1bd012b0a",
   "metadata": {},
   "outputs": [
    {
     "data": {
      "text/plain": [
       "bool"
      ]
     },
     "execution_count": 42,
     "metadata": {},
     "output_type": "execute_result"
    }
   ],
   "source": [
    "value= True\n",
    "type(value)\n"
   ]
  },
  {
   "cell_type": "code",
   "execution_count": 44,
   "id": "84138943-79b7-4bda-996f-d5cc68857313",
   "metadata": {},
   "outputs": [
    {
     "data": {
      "text/plain": [
       "bool"
      ]
     },
     "execution_count": 44,
     "metadata": {},
     "output_type": "execute_result"
    }
   ],
   "source": [
    "value1 =False\n",
    "type(value1)"
   ]
  },
  {
   "cell_type": "code",
   "execution_count": 45,
   "id": "589cf4d3-d425-41cd-b46d-e74cb1e271dc",
   "metadata": {},
   "outputs": [],
   "source": [
    "true = \"TRUE\"\n",
    "false=False\n",
    "\n",
    "# true and false are variables\n",
    "# type true is String\n",
    "# type false is boolean"
   ]
  },
  {
   "cell_type": "code",
   "execution_count": 3,
   "id": "b9f9bae3-183e-456c-a069-b67c0aed3381",
   "metadata": {},
   "outputs": [
    {
     "ename": "NameError",
     "evalue": "name 'true' is not defined",
     "output_type": "error",
     "traceback": [
      "\u001b[1;31m---------------------------------------------------------------------------\u001b[0m",
      "\u001b[1;31mNameError\u001b[0m                                 Traceback (most recent call last)",
      "Cell \u001b[1;32mIn[3], line 1\u001b[0m\n\u001b[1;32m----> 1\u001b[0m \u001b[38;5;28mtype\u001b[39m(true)\n",
      "\u001b[1;31mNameError\u001b[0m: name 'true' is not defined"
     ]
    }
   ],
   "source": [
    "type(true)"
   ]
  },
  {
   "cell_type": "code",
   "execution_count": 2,
   "id": "0e06ae70-44f6-49cb-9109-ba929b458b89",
   "metadata": {},
   "outputs": [
    {
     "data": {
      "text/plain": [
       "bool"
      ]
     },
     "execution_count": 2,
     "metadata": {},
     "output_type": "execute_result"
    }
   ],
   "source": [
    "type(False)"
   ]
  },
  {
   "cell_type": "code",
   "execution_count": null,
   "id": "88768e43-86e6-4a55-84de-14e3b851e0d2",
   "metadata": {},
   "outputs": [],
   "source": []
  }
 ],
 "metadata": {
  "kernelspec": {
   "display_name": "Python 3 (ipykernel)",
   "language": "python",
   "name": "python3"
  },
  "language_info": {
   "codemirror_mode": {
    "name": "ipython",
    "version": 3
   },
   "file_extension": ".py",
   "mimetype": "text/x-python",
   "name": "python",
   "nbconvert_exporter": "python",
   "pygments_lexer": "ipython3",
   "version": "3.11.7"
  }
 },
 "nbformat": 4,
 "nbformat_minor": 5
}
