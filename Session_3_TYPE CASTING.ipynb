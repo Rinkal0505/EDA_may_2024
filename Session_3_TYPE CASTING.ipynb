{
 "cells": [
  {
   "cell_type": "code",
   "execution_count": null,
   "id": "9f1352e7-1951-4845-8094-635abdd743bd",
   "metadata": {},
   "outputs": [],
   "source": [
    "true=True\n",
    "\n",
    "# true is variable\n",
    "# True is boolean value"
   ]
  },
  {
   "cell_type": "code",
   "execution_count": 1,
   "id": "e5de47ed-7e13-4d7a-8a6e-5570cedb3cb0",
   "metadata": {},
   "outputs": [
    {
     "ename": "NameError",
     "evalue": "name 'true' is not defined",
     "output_type": "error",
     "traceback": [
      "\u001b[1;31m---------------------------------------------------------------------------\u001b[0m",
      "\u001b[1;31mNameError\u001b[0m                                 Traceback (most recent call last)",
      "Cell \u001b[1;32mIn[1], line 1\u001b[0m\n\u001b[1;32m----> 1\u001b[0m true\n",
      "\u001b[1;31mNameError\u001b[0m: name 'true' is not defined"
     ]
    }
   ],
   "source": [
    "true"
   ]
  },
  {
   "cell_type": "code",
   "execution_count": null,
   "id": "5f0bc3b1-5bd9-4e39-9677-67fce6bd8306",
   "metadata": {},
   "outputs": [],
   "source": [
    "name 'true' is not defined\n",
    "name 'hyd' is not defined"
   ]
  },
  {
   "cell_type": "markdown",
   "id": "5e14bf24-f35d-4f03-862f-f249961700a4",
   "metadata": {},
   "source": [
    "## COVERED SO FAR\n",
    "\n",
    "- integer datatype : int\n",
    "- float datatype :float\n",
    "- String datatype : str\n",
    "-boolean datatype : bool\n"
   ]
  },
  {
   "cell_type": "markdown",
   "id": "08dae26b-0648-43dd-a8fd-ab16167d6a54",
   "metadata": {},
   "source": [
    "**TYPE CASTING**\n",
    "\n",
    "- Convert one datat to another data is called type casting\n",
    "- which means we want to convert\n",
    "- integer type to all other(float,str,bool) datatypes\n",
    "- float type to all other(int,str,bool) datatypes\n",
    "- string type to all other (float,int,bool)datatypes\n",
    "- bool type to all other(float,str,int) datatypes"
   ]
  },
  {
   "cell_type": "markdown",
   "id": "fe49676c-8112-4c01-a2fe-9d9349c55d92",
   "metadata": {},
   "source": [
    "**INTEGER TO OTHER DATATYPES**"
   ]
  },
  {
   "cell_type": "markdown",
   "id": "62d1c279-4d84-4aed-b80c-634d235a7470",
   "metadata": {},
   "source": [
    "$int-float$   # $ will change the text style"
   ]
  },
  {
   "cell_type": "code",
   "execution_count": 3,
   "id": "9e6886f1-f50d-4368-82ab-f4d4362f6b4e",
   "metadata": {},
   "outputs": [
    {
     "data": {
      "text/plain": [
       "int"
      ]
     },
     "execution_count": 3,
     "metadata": {},
     "output_type": "execute_result"
    }
   ],
   "source": [
    "num=100\n",
    "type(num)"
   ]
  },
  {
   "cell_type": "code",
   "execution_count": 5,
   "id": "45c05d99-a6be-4a99-bb87-5c4bdb30a563",
   "metadata": {},
   "outputs": [
    {
     "data": {
      "text/plain": [
       "float"
      ]
     },
     "execution_count": 5,
     "metadata": {},
     "output_type": "execute_result"
    }
   ],
   "source": [
    "float_num=float(num)\n",
    "type(float_num)"
   ]
  },
  {
   "cell_type": "code",
   "execution_count": 6,
   "id": "e6d1c777-006f-4f3b-9b01-fad2bf527115",
   "metadata": {},
   "outputs": [
    {
     "data": {
      "text/plain": [
       "str"
      ]
     },
     "execution_count": 6,
     "metadata": {},
     "output_type": "execute_result"
    }
   ],
   "source": [
    "str_num=str(num)\n",
    "type(str_num)"
   ]
  },
  {
   "cell_type": "code",
   "execution_count": 7,
   "id": "2efbab21-f421-4ef8-93d1-2cc362c2797c",
   "metadata": {},
   "outputs": [
    {
     "data": {
      "text/plain": [
       "'100'"
      ]
     },
     "execution_count": 7,
     "metadata": {},
     "output_type": "execute_result"
    }
   ],
   "source": [
    "str_num"
   ]
  },
  {
   "cell_type": "code",
   "execution_count": 8,
   "id": "81459c9d-4be3-4951-915a-76ee1c5010d9",
   "metadata": {},
   "outputs": [
    {
     "data": {
      "text/plain": [
       "bool"
      ]
     },
     "execution_count": 8,
     "metadata": {},
     "output_type": "execute_result"
    }
   ],
   "source": [
    "bool_num=bool(num)\n",
    "type(bool_num)"
   ]
  },
  {
   "cell_type": "code",
   "execution_count": 9,
   "id": "1e5acc17-5c37-447a-9eb3-29c3f345053d",
   "metadata": {},
   "outputs": [
    {
     "data": {
      "text/plain": [
       "True"
      ]
     },
     "execution_count": 9,
     "metadata": {},
     "output_type": "execute_result"
    }
   ],
   "source": [
    "bool_num"
   ]
  },
  {
   "cell_type": "code",
   "execution_count": 10,
   "id": "b8b72b37-f88b-47ad-bcaf-6b3ab3371c1a",
   "metadata": {},
   "outputs": [
    {
     "data": {
      "text/plain": [
       "True"
      ]
     },
     "execution_count": 10,
     "metadata": {},
     "output_type": "execute_result"
    }
   ],
   "source": [
    "bool(num)"
   ]
  },
  {
   "cell_type": "code",
   "execution_count": 11,
   "id": "cd5ef03d-a4cc-4497-b847-d81ea4245e31",
   "metadata": {},
   "outputs": [
    {
     "data": {
      "text/plain": [
       "(200.0, '200', True)"
      ]
     },
     "execution_count": 11,
     "metadata": {},
     "output_type": "execute_result"
    }
   ],
   "source": [
    "float(200),str(200),bool(200)"
   ]
  },
  {
   "cell_type": "code",
   "execution_count": 12,
   "id": "97a8110e-669d-4a73-abb8-b79aeff261a7",
   "metadata": {},
   "outputs": [
    {
     "data": {
      "text/plain": [
       "(-200.0, '-200', True)"
      ]
     },
     "execution_count": 12,
     "metadata": {},
     "output_type": "execute_result"
    }
   ],
   "source": [
    "float(-200),str(-200),bool(-200)"
   ]
  },
  {
   "cell_type": "code",
   "execution_count": 13,
   "id": "e22fad96-ecd0-4347-9998-87d37d6d46e1",
   "metadata": {},
   "outputs": [
    {
     "data": {
      "text/plain": [
       "False"
      ]
     },
     "execution_count": 13,
     "metadata": {},
     "output_type": "execute_result"
    }
   ],
   "source": [
    "# when integer of boolean conversation become false\n",
    "\n",
    "bool(0)"
   ]
  },
  {
   "cell_type": "markdown",
   "id": "38cba58d-7578-4d5b-9793-6560085ce403",
   "metadata": {},
   "source": [
    "**NOTE**\n",
    "- Integer = 0 (bool conversation becomes False)\n",
    "- Otherwise for every +ve or every -ve no it becomes true only "
   ]
  },
  {
   "cell_type": "code",
   "execution_count": 14,
   "id": "f3128719-3d69-43a0-bcb2-51e33ecd36de",
   "metadata": {},
   "outputs": [
    {
     "data": {
      "text/plain": [
       "False"
      ]
     },
     "execution_count": 14,
     "metadata": {},
     "output_type": "execute_result"
    }
   ],
   "source": [
    "bool()"
   ]
  },
  {
   "cell_type": "markdown",
   "id": "696e5cc1-4127-4bc9-93b9-f6f2055cedda",
   "metadata": {},
   "source": [
    "**FLOAT TO OTHER DATATYPES**"
   ]
  },
  {
   "cell_type": "code",
   "execution_count": 16,
   "id": "e6d8d92d-12e3-49c8-be1a-03be7acb5021",
   "metadata": {},
   "outputs": [
    {
     "data": {
      "text/plain": [
       "(200, '200.5', True)"
      ]
     },
     "execution_count": 16,
     "metadata": {},
     "output_type": "execute_result"
    }
   ],
   "source": [
    "int(200.5),str(200.5),bool(200.5)"
   ]
  },
  {
   "cell_type": "markdown",
   "id": "6655c5c4-bb19-467c-b6f9-973a180ea1d2",
   "metadata": {},
   "source": [
    "**STRING TO OTHER DATATYPES**"
   ]
  },
  {
   "cell_type": "code",
   "execution_count": 24,
   "id": "049cb3a7-88fc-43d5-ad1e-a531f689d19c",
   "metadata": {},
   "outputs": [],
   "source": [
    "# case 1\n",
    "str='apple'\n",
    "# case 2\n",
    "str1='10'\n",
    "#case 3\n",
    "str2='10.5'"
   ]
  },
  {
   "cell_type": "code",
   "execution_count": 17,
   "id": "72fe8265-09b8-4f25-b503-af11d3c68c75",
   "metadata": {},
   "outputs": [
    {
     "ename": "ValueError",
     "evalue": "invalid literal for int() with base 10: 'apple'",
     "output_type": "error",
     "traceback": [
      "\u001b[1;31m---------------------------------------------------------------------------\u001b[0m",
      "\u001b[1;31mValueError\u001b[0m                                Traceback (most recent call last)",
      "Cell \u001b[1;32mIn[17], line 1\u001b[0m\n\u001b[1;32m----> 1\u001b[0m \u001b[38;5;28mint\u001b[39m(\u001b[38;5;124m'\u001b[39m\u001b[38;5;124mapple\u001b[39m\u001b[38;5;124m'\u001b[39m)\n",
      "\u001b[1;31mValueError\u001b[0m: invalid literal for int() with base 10: 'apple'"
     ]
    }
   ],
   "source": [
    "int('apple')"
   ]
  },
  {
   "cell_type": "code",
   "execution_count": 18,
   "id": "d54e689f-9c57-45dc-bd1e-39d23334267e",
   "metadata": {},
   "outputs": [
    {
     "ename": "ValueError",
     "evalue": "could not convert string to float: 'apple'",
     "output_type": "error",
     "traceback": [
      "\u001b[1;31m---------------------------------------------------------------------------\u001b[0m",
      "\u001b[1;31mValueError\u001b[0m                                Traceback (most recent call last)",
      "Cell \u001b[1;32mIn[18], line 1\u001b[0m\n\u001b[1;32m----> 1\u001b[0m \u001b[38;5;28mfloat\u001b[39m(\u001b[38;5;124m'\u001b[39m\u001b[38;5;124mapple\u001b[39m\u001b[38;5;124m'\u001b[39m)\n",
      "\u001b[1;31mValueError\u001b[0m: could not convert string to float: 'apple'"
     ]
    }
   ],
   "source": [
    "float('apple')"
   ]
  },
  {
   "cell_type": "code",
   "execution_count": 19,
   "id": "676df15c-de08-4e5e-8f64-5a1e3aef5c83",
   "metadata": {},
   "outputs": [
    {
     "data": {
      "text/plain": [
       "True"
      ]
     },
     "execution_count": 19,
     "metadata": {},
     "output_type": "execute_result"
    }
   ],
   "source": [
    "bool('apple')"
   ]
  },
  {
   "cell_type": "code",
   "execution_count": 20,
   "id": "9d82dd61-51ec-458e-bc3a-6e19154d66ae",
   "metadata": {},
   "outputs": [
    {
     "data": {
      "text/plain": [
       "10"
      ]
     },
     "execution_count": 20,
     "metadata": {},
     "output_type": "execute_result"
    }
   ],
   "source": [
    "int('10')"
   ]
  },
  {
   "cell_type": "code",
   "execution_count": 21,
   "id": "1e93f209-d5c3-45b9-9673-7b81531c1d9d",
   "metadata": {},
   "outputs": [
    {
     "data": {
      "text/plain": [
       "10.0"
      ]
     },
     "execution_count": 21,
     "metadata": {},
     "output_type": "execute_result"
    }
   ],
   "source": [
    "float('10')"
   ]
  },
  {
   "cell_type": "code",
   "execution_count": 22,
   "id": "1b1c63fe-cfe1-4935-a935-d3648f4a1321",
   "metadata": {},
   "outputs": [
    {
     "data": {
      "text/plain": [
       "True"
      ]
     },
     "execution_count": 22,
     "metadata": {},
     "output_type": "execute_result"
    }
   ],
   "source": [
    "bool('10')"
   ]
  },
  {
   "cell_type": "code",
   "execution_count": 25,
   "id": "ac004e70-9e6d-4582-8140-6b1c3c57e87a",
   "metadata": {},
   "outputs": [
    {
     "ename": "ValueError",
     "evalue": "invalid literal for int() with base 10: '10.5'",
     "output_type": "error",
     "traceback": [
      "\u001b[1;31m---------------------------------------------------------------------------\u001b[0m",
      "\u001b[1;31mValueError\u001b[0m                                Traceback (most recent call last)",
      "Cell \u001b[1;32mIn[25], line 1\u001b[0m\n\u001b[1;32m----> 1\u001b[0m \u001b[38;5;28mint\u001b[39m(\u001b[38;5;124m'\u001b[39m\u001b[38;5;124m10.5\u001b[39m\u001b[38;5;124m'\u001b[39m)\n",
      "\u001b[1;31mValueError\u001b[0m: invalid literal for int() with base 10: '10.5'"
     ]
    }
   ],
   "source": [
    "int('10.5')"
   ]
  },
  {
   "cell_type": "code",
   "execution_count": 26,
   "id": "37df2745-724d-491a-beb3-ed4cfe80e60f",
   "metadata": {},
   "outputs": [
    {
     "data": {
      "text/plain": [
       "10.5"
      ]
     },
     "execution_count": 26,
     "metadata": {},
     "output_type": "execute_result"
    }
   ],
   "source": [
    "float('10.5')"
   ]
  },
  {
   "cell_type": "code",
   "execution_count": 27,
   "id": "8101a1cb-2271-4386-adb1-c6101fbe6944",
   "metadata": {},
   "outputs": [
    {
     "data": {
      "text/plain": [
       "True"
      ]
     },
     "execution_count": 27,
     "metadata": {},
     "output_type": "execute_result"
    }
   ],
   "source": [
    "bool('10.5')"
   ]
  },
  {
   "cell_type": "code",
   "execution_count": null,
   "id": "80b11b67-fcce-49ab-8197-d733e12a9eaa",
   "metadata": {},
   "outputs": [],
   "source": [
    "int('10') #pass\n",
    "int('10.5') #fail\n",
    "float('10') #pass\n",
    "float('10.5') #pass"
   ]
  },
  {
   "cell_type": "markdown",
   "id": "85fc115a-f85d-4013-bcbf-66f5d2948083",
   "metadata": {},
   "source": [
    "- Float is the boss\n",
    "- Float of any value either it is integer or in string format\n",
    "- or float in strings format will work\n",
    "- But integer will works only for integer in string format\n",
    "- Integer type casting fails for float in string format"
   ]
  },
  {
   "cell_type": "code",
   "execution_count": 29,
   "id": "53a0c392-d865-47c8-b8e9-174fc97f8f73",
   "metadata": {},
   "outputs": [
    {
     "data": {
      "text/plain": [
       "True"
      ]
     },
     "execution_count": 29,
     "metadata": {},
     "output_type": "execute_result"
    }
   ],
   "source": [
    "bool('0')"
   ]
  },
  {
   "cell_type": "code",
   "execution_count": 30,
   "id": "6882c251-80a2-40a3-b86f-3902c33a588d",
   "metadata": {},
   "outputs": [
    {
     "data": {
      "text/plain": [
       "False"
      ]
     },
     "execution_count": 30,
     "metadata": {},
     "output_type": "execute_result"
    }
   ],
   "source": [
    "bool('')"
   ]
  },
  {
   "cell_type": "markdown",
   "id": "e8f187e7-facc-4caa-8bd9-34b0314019dc",
   "metadata": {},
   "source": [
    "**NOTE**\n",
    "- Something is there - **TRUE**\n",
    "- Nothing is there or empty - **FALSE** (either 0 or empty string)"
   ]
  },
  {
   "cell_type": "markdown",
   "id": "2f81c230-672b-4b4a-9fc6-6883bf3c9743",
   "metadata": {},
   "source": [
    "**BOOLEAN TO OTHER DATATYPES**"
   ]
  },
  {
   "cell_type": "code",
   "execution_count": 31,
   "id": "5bff47ea-9fe8-45e5-a6b4-429e5053e6a4",
   "metadata": {},
   "outputs": [
    {
     "data": {
      "text/plain": [
       "1"
      ]
     },
     "execution_count": 31,
     "metadata": {},
     "output_type": "execute_result"
    }
   ],
   "source": [
    "int(True)"
   ]
  },
  {
   "cell_type": "code",
   "execution_count": 33,
   "id": "bf0a59de-32df-4d50-b1e8-6569f75f7f56",
   "metadata": {},
   "outputs": [
    {
     "data": {
      "text/plain": [
       "1.0"
      ]
     },
     "execution_count": 33,
     "metadata": {},
     "output_type": "execute_result"
    }
   ],
   "source": [
    "float(True)"
   ]
  },
  {
   "cell_type": "code",
   "execution_count": 2,
   "id": "f30c8014-4c1b-4c97-8edd-16ea51637002",
   "metadata": {},
   "outputs": [
    {
     "data": {
      "text/plain": [
       "'True'"
      ]
     },
     "execution_count": 2,
     "metadata": {},
     "output_type": "execute_result"
    }
   ],
   "source": [
    "str(True)"
   ]
  },
  {
   "cell_type": "code",
   "execution_count": 3,
   "id": "90a2e1d5-dbcb-4deb-919d-c2b8a78bef85",
   "metadata": {},
   "outputs": [
    {
     "data": {
      "text/plain": [
       "'False'"
      ]
     },
     "execution_count": 3,
     "metadata": {},
     "output_type": "execute_result"
    }
   ],
   "source": [
    "str(False)"
   ]
  },
  {
   "cell_type": "code",
   "execution_count": 1,
   "id": "3b8e7c91-7b35-498e-b917-e4bbe1292fe2",
   "metadata": {},
   "outputs": [
    {
     "data": {
      "text/plain": [
       "('100', 100.0, True)"
      ]
     },
     "execution_count": 1,
     "metadata": {},
     "output_type": "execute_result"
    }
   ],
   "source": [
    "# Integer to other\n",
    "\n",
    "str(100),float(100),bool(100)"
   ]
  },
  {
   "cell_type": "code",
   "execution_count": 4,
   "id": "af0b16c1-7d54-4bb0-85e4-227e610ed321",
   "metadata": {},
   "outputs": [
    {
     "data": {
      "text/plain": [
       "('100.5', 100, False)"
      ]
     },
     "execution_count": 4,
     "metadata": {},
     "output_type": "execute_result"
    }
   ],
   "source": [
    "# Float to other\n",
    "\n",
    "str(100.5),int(100.5),bool(0)"
   ]
  },
  {
   "cell_type": "code",
   "execution_count": null,
   "id": "4fc76a5e-62a6-4d46-9f87-f865f8efc04e",
   "metadata": {},
   "outputs": [],
   "source": []
  }
 ],
 "metadata": {
  "kernelspec": {
   "display_name": "Python 3 (ipykernel)",
   "language": "python",
   "name": "python3"
  },
  "language_info": {
   "codemirror_mode": {
    "name": "ipython",
    "version": 3
   },
   "file_extension": ".py",
   "mimetype": "text/x-python",
   "name": "python",
   "nbconvert_exporter": "python",
   "pygments_lexer": "ipython3",
   "version": "3.11.7"
  }
 },
 "nbformat": 4,
 "nbformat_minor": 5
}
