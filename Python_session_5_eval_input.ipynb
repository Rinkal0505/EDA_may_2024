{
 "cells": [
  {
   "cell_type": "code",
   "execution_count": 1,
   "id": "f2575ab1-b6a4-465c-b366-d881129bae78",
   "metadata": {},
   "outputs": [],
   "source": [
    "num1=100\n",
    "num2=200\n",
    "add=num1+num2"
   ]
  },
  {
   "cell_type": "markdown",
   "id": "6a1745a7-5379-44f4-8e1d-7b58b560d2fe",
   "metadata": {},
   "source": [
    "$input$\n",
    "\n",
    "- input keyword is used to take the values from the user\n"
   ]
  },
  {
   "cell_type": "code",
   "execution_count": 2,
   "id": "2fdc3123-2b4e-40c3-958e-5a6ae096e74a",
   "metadata": {},
   "outputs": [
    {
     "name": "stdin",
     "output_type": "stream",
     "text": [
      " 100\n"
     ]
    },
    {
     "data": {
      "text/plain": [
       "'100'"
      ]
     },
     "execution_count": 2,
     "metadata": {},
     "output_type": "execute_result"
    }
   ],
   "source": [
    "input()"
   ]
  },
  {
   "cell_type": "code",
   "execution_count": 3,
   "id": "500f5dc8-eca0-4862-b474-3a33efb4b2b1",
   "metadata": {},
   "outputs": [
    {
     "name": "stdin",
     "output_type": "stream",
     "text": [
      " python\n"
     ]
    },
    {
     "data": {
      "text/plain": [
       "'python'"
      ]
     },
     "execution_count": 3,
     "metadata": {},
     "output_type": "execute_result"
    }
   ],
   "source": [
    "input()"
   ]
  },
  {
   "cell_type": "code",
   "execution_count": 4,
   "id": "4d56e70d-1579-4ffb-9a1a-94273d92bf32",
   "metadata": {},
   "outputs": [
    {
     "name": "stdin",
     "output_type": "stream",
     "text": [
      "enter the number: 100\n"
     ]
    },
    {
     "data": {
      "text/plain": [
       "'100'"
      ]
     },
     "execution_count": 4,
     "metadata": {},
     "output_type": "execute_result"
    }
   ],
   "source": [
    "input(\"enter the number:\")"
   ]
  },
  {
   "cell_type": "code",
   "execution_count": 5,
   "id": "ada32cc6-4634-47f4-8a0a-613c31bdcc61",
   "metadata": {},
   "outputs": [
    {
     "name": "stdin",
     "output_type": "stream",
     "text": [
      " 13\n",
      " 144\n"
     ]
    },
    {
     "data": {
      "text/plain": [
       "'144'"
      ]
     },
     "execution_count": 5,
     "metadata": {},
     "output_type": "execute_result"
    }
   ],
   "source": [
    "input()\n",
    "input()"
   ]
  },
  {
   "cell_type": "code",
   "execution_count": 6,
   "id": "fd8aee5c-ce04-4c03-8246-2662a6a7d2de",
   "metadata": {},
   "outputs": [
    {
     "name": "stdin",
     "output_type": "stream",
     "text": [
      " 45\n",
      " 54\n"
     ]
    },
    {
     "data": {
      "text/plain": [
       "('45', '54')"
      ]
     },
     "execution_count": 6,
     "metadata": {},
     "output_type": "execute_result"
    }
   ],
   "source": [
    "input(),input()"
   ]
  },
  {
   "cell_type": "code",
   "execution_count": 7,
   "id": "24bff570-4f22-48d8-99cb-aa61671be12f",
   "metadata": {},
   "outputs": [
    {
     "name": "stdin",
     "output_type": "stream",
     "text": [
      " 34\n",
      " 45\n",
      " 76\n"
     ]
    },
    {
     "data": {
      "text/plain": [
       "('45', '76')"
      ]
     },
     "execution_count": 7,
     "metadata": {},
     "output_type": "execute_result"
    }
   ],
   "source": [
    "input()\n",
    "input(),input()"
   ]
  },
  {
   "cell_type": "code",
   "execution_count": 8,
   "id": "e593f9bb-98ca-4830-96e7-4a8ca5ee73a6",
   "metadata": {},
   "outputs": [
    {
     "name": "stdin",
     "output_type": "stream",
     "text": [
      " 12,23\n"
     ]
    },
    {
     "data": {
      "text/plain": [
       "'12,23'"
      ]
     },
     "execution_count": 8,
     "metadata": {},
     "output_type": "execute_result"
    }
   ],
   "source": [
    "input()"
   ]
  },
  {
   "cell_type": "code",
   "execution_count": 9,
   "id": "0fbec0aa-cc2f-4083-824c-87555edf041f",
   "metadata": {},
   "outputs": [
    {
     "name": "stdin",
     "output_type": "stream",
     "text": [
      "enter the number 1: 45\n",
      "enter the number 2: 56\n",
      "enter the number 3: 65\n"
     ]
    },
    {
     "data": {
      "text/plain": [
       "'65'"
      ]
     },
     "execution_count": 9,
     "metadata": {},
     "output_type": "execute_result"
    }
   ],
   "source": [
    "input(\"enter the number 1:\")\n",
    "input(\"enter the number 2:\")\n",
    "input(\"enter the number 3:\")"
   ]
  },
  {
   "cell_type": "code",
   "execution_count": 10,
   "id": "685f0f4c-4f69-49ae-8bcc-cc30e7f843ab",
   "metadata": {},
   "outputs": [
    {
     "name": "stdin",
     "output_type": "stream",
     "text": [
      "enter the number1: 100\n",
      "enter the number2: 200\n"
     ]
    }
   ],
   "source": [
    "num1=input(\"enter the number1:\")\n",
    "num2=input(\"enter the number2:\")"
   ]
  },
  {
   "cell_type": "code",
   "execution_count": 11,
   "id": "9a253831-c471-4bb0-86a0-6e54e1b361ce",
   "metadata": {},
   "outputs": [
    {
     "data": {
      "text/plain": [
       "'100200'"
      ]
     },
     "execution_count": 11,
     "metadata": {},
     "output_type": "execute_result"
    }
   ],
   "source": [
    "num1+num2"
   ]
  },
  {
   "cell_type": "markdown",
   "id": "170c0c19-7c3e-48c9-a124-58fb144e2670",
   "metadata": {},
   "source": [
    "**NOTE**\n",
    "- input always give the string datatype only\n",
    "- in order to perform math calculations we need to convert into numerical format either integer or float"
   ]
  },
  {
   "cell_type": "code",
   "execution_count": 12,
   "id": "0dca6e8e-645a-42ac-94d5-db4720feff70",
   "metadata": {},
   "outputs": [
    {
     "name": "stdin",
     "output_type": "stream",
     "text": [
      " 100\n"
     ]
    },
    {
     "data": {
      "text/plain": [
       "'100'"
      ]
     },
     "execution_count": 12,
     "metadata": {},
     "output_type": "execute_result"
    }
   ],
   "source": [
    "input()"
   ]
  },
  {
   "cell_type": "code",
   "execution_count": 13,
   "id": "4ece9cf3-ff6a-4946-9a9e-5a3507fcb829",
   "metadata": {},
   "outputs": [
    {
     "name": "stdin",
     "output_type": "stream",
     "text": [
      "Enter the number 45\n"
     ]
    },
    {
     "data": {
      "text/plain": [
       "'45'"
      ]
     },
     "execution_count": 13,
     "metadata": {},
     "output_type": "execute_result"
    }
   ],
   "source": [
    "input(\"Enter the number\")"
   ]
  },
  {
   "cell_type": "code",
   "execution_count": 14,
   "id": "fccfaa28-26dd-4dfc-a3b5-6620bc44d6f3",
   "metadata": {},
   "outputs": [
    {
     "name": "stdin",
     "output_type": "stream",
     "text": [
      "Enter the number 34\n"
     ]
    }
   ],
   "source": [
    "a=input(\"Enter the number\")"
   ]
  },
  {
   "cell_type": "code",
   "execution_count": 15,
   "id": "946423fd-fac7-4519-869d-b97245b22852",
   "metadata": {},
   "outputs": [
    {
     "name": "stdin",
     "output_type": "stream",
     "text": [
      "enter the number1: 34\n",
      "enter the number2: 12\n"
     ]
    },
    {
     "data": {
      "text/plain": [
       "'3412'"
      ]
     },
     "execution_count": 15,
     "metadata": {},
     "output_type": "execute_result"
    }
   ],
   "source": [
    "num1=input(\"enter the number1:\")\n",
    "num2=input(\"enter the number2:\")\n",
    "num1+num2"
   ]
  },
  {
   "cell_type": "code",
   "execution_count": 16,
   "id": "e1c1293c-cff3-4080-bfb8-4598fcdd3e0d",
   "metadata": {},
   "outputs": [
    {
     "name": "stdin",
     "output_type": "stream",
     "text": [
      "enter the number1: 34\n",
      "enter the number2: 12\n"
     ]
    },
    {
     "data": {
      "text/plain": [
       "46"
      ]
     },
     "execution_count": 16,
     "metadata": {},
     "output_type": "execute_result"
    }
   ],
   "source": [
    "num1=int(input(\"enter the number1:\"))\n",
    "num2=int(input(\"enter the number2:\"))\n",
    "num1+num2"
   ]
  },
  {
   "cell_type": "code",
   "execution_count": 17,
   "id": "fb0c8987-a6b2-4e45-8980-c8f24a11cdb9",
   "metadata": {},
   "outputs": [
    {
     "name": "stdin",
     "output_type": "stream",
     "text": [
      "enter the number1: 100\n",
      "enter the number2: 200\n"
     ]
    },
    {
     "name": "stdout",
     "output_type": "stream",
     "text": [
      "the addition of 100 and 200 is 300\n"
     ]
    }
   ],
   "source": [
    "num1=int(input(\"enter the number1:\"))\n",
    "num2=int(input(\"enter the number2:\"))\n",
    "add=num1+num2\n",
    "print(f\"the addition of {num1} and {num2} is {add}\")"
   ]
  },
  {
   "cell_type": "code",
   "execution_count": 18,
   "id": "34a6d7ea-3847-41dc-b208-58049c525261",
   "metadata": {},
   "outputs": [
    {
     "name": "stdin",
     "output_type": "stream",
     "text": [
      "enter the number1: 200\n",
      "enter the number2: 300\n"
     ]
    },
    {
     "data": {
      "text/plain": [
       "500"
      ]
     },
     "execution_count": 18,
     "metadata": {},
     "output_type": "execute_result"
    }
   ],
   "source": [
    "num1=input(\"enter the number1:\")\n",
    "num2=input(\"enter the number2:\")\n",
    "int(num1)+int(num2)"
   ]
  },
  {
   "cell_type": "markdown",
   "id": "0d5137d2-0945-4ca9-8a7c-585147d3321d",
   "metadata": {},
   "source": [
    "## EVAL INPUT"
   ]
  },
  {
   "cell_type": "markdown",
   "id": "8242477f-95bc-4082-95f4-7bbcf331dc4c",
   "metadata": {},
   "source": [
    "- eval means evaluate\n",
    "- what ever the number we eneter,eval will convert to corresponding data type"
   ]
  },
  {
   "cell_type": "code",
   "execution_count": 19,
   "id": "c330f5b9-9c69-4e3e-a86b-533a6241ff5b",
   "metadata": {},
   "outputs": [
    {
     "name": "stdin",
     "output_type": "stream",
     "text": [
      " 100\n"
     ]
    },
    {
     "data": {
      "text/plain": [
       "100"
      ]
     },
     "execution_count": 19,
     "metadata": {},
     "output_type": "execute_result"
    }
   ],
   "source": [
    "eval(input())"
   ]
  },
  {
   "cell_type": "code",
   "execution_count": 20,
   "id": "83daddc4-8163-46ad-9c95-5e64692c6551",
   "metadata": {},
   "outputs": [
    {
     "name": "stdin",
     "output_type": "stream",
     "text": [
      " 100.5\n"
     ]
    },
    {
     "data": {
      "text/plain": [
       "100.5"
      ]
     },
     "execution_count": 20,
     "metadata": {},
     "output_type": "execute_result"
    }
   ],
   "source": [
    "eval(input())"
   ]
  },
  {
   "cell_type": "code",
   "execution_count": 21,
   "id": "c4a0aa07-0d94-4c89-9f0c-2c85e3f08f33",
   "metadata": {},
   "outputs": [
    {
     "name": "stdin",
     "output_type": "stream",
     "text": [
      " python\n"
     ]
    },
    {
     "ename": "NameError",
     "evalue": "name 'python' is not defined",
     "output_type": "error",
     "traceback": [
      "\u001b[1;31m---------------------------------------------------------------------------\u001b[0m",
      "\u001b[1;31mNameError\u001b[0m                                 Traceback (most recent call last)",
      "Cell \u001b[1;32mIn[21], line 1\u001b[0m\n\u001b[1;32m----> 1\u001b[0m \u001b[38;5;28meval\u001b[39m(\u001b[38;5;28minput\u001b[39m())\n",
      "File \u001b[1;32m<string>:1\u001b[0m\n",
      "\u001b[1;31mNameError\u001b[0m: name 'python' is not defined"
     ]
    }
   ],
   "source": [
    "eval(input())"
   ]
  },
  {
   "cell_type": "code",
   "execution_count": 23,
   "id": "6b08cb66-ce02-4eef-a7a2-7d9261970781",
   "metadata": {},
   "outputs": [
    {
     "name": "stdin",
     "output_type": "stream",
     "text": [
      "enter the number1: 30.5\n",
      "enter the number2: 45.6\n"
     ]
    },
    {
     "name": "stdout",
     "output_type": "stream",
     "text": [
      "the addition of 30.5 and 45.6 is 76.1\n"
     ]
    }
   ],
   "source": [
    "num1=eval(input(\"enter the number1:\"))\n",
    "num2=eval(input(\"enter the number2:\"))\n",
    "add=num1+num2\n",
    "print(f\"the addition of {num1} and {num2} is {add}\")"
   ]
  },
  {
   "cell_type": "code",
   "execution_count": 24,
   "id": "222f6441-5c92-41ca-948c-f6e5c0e6380f",
   "metadata": {},
   "outputs": [
    {
     "name": "stdin",
     "output_type": "stream",
     "text": [
      "enter the number1: 100\n",
      "enter the number2: 200\n"
     ]
    },
    {
     "name": "stdout",
     "output_type": "stream",
     "text": [
      "the addition of 100 and 200 is 300\n"
     ]
    }
   ],
   "source": [
    "num1=eval(input(\"enter the number1:\"))\n",
    "num2=eval(input(\"enter the number2:\"))\n",
    "add=num1+num2\n",
    "print(f\"the addition of {num1} and {num2} is {add}\")"
   ]
  },
  {
   "cell_type": "code",
   "execution_count": 25,
   "id": "e62eb49c-9ec3-4580-9448-9bddca377a34",
   "metadata": {},
   "outputs": [
    {
     "name": "stdin",
     "output_type": "stream",
     "text": [
      "enter the number1: 100\n",
      "enter the number2: 100.7\n"
     ]
    },
    {
     "name": "stdout",
     "output_type": "stream",
     "text": [
      "the addition of 100 and 100.7 is 200.7\n"
     ]
    }
   ],
   "source": [
    "num1=eval(input(\"enter the number1:\"))\n",
    "num2=eval(input(\"enter the number2:\"))\n",
    "add=num1+num2\n",
    "print(f\"the addition of {num1} and {num2} is {add}\")"
   ]
  },
  {
   "cell_type": "code",
   "execution_count": 26,
   "id": "b030438a-a1a7-4ec4-b33e-1b0639d81322",
   "metadata": {},
   "outputs": [],
   "source": [
    "# Write a program as a user enter 3 numbers calculate the average\n",
    "# wap as a user enter the 2 numbers find subtraction,add,mul,div\n",
    "# wap as a user enter radius value and find the area of the circle\n",
    "# wap ask the user how much bill amount,how much tip you want to pay in% and calculate total bill\n",
    "# wap as a user bill amount in $ and print the bill amount in  rs,ask the user 1$ = ?\n",
    "# wap ask the user enter the base and height calculate the area of triangle\n",
    "# wap ask the user enter length and breadth calculate area of the triangle"
   ]
  },
  {
   "cell_type": "code",
   "execution_count": 27,
   "id": "f7e339c8-a8e0-4d23-9467-76bfb0a8248a",
   "metadata": {},
   "outputs": [
    {
     "name": "stdin",
     "output_type": "stream",
     "text": [
      "enter the number1: 10\n",
      "enter the number2: 20\n",
      "enter the number3: 30\n"
     ]
    },
    {
     "name": "stdout",
     "output_type": "stream",
     "text": [
      "the addition of 10  20 and 30 is 60\n",
      "the avg of 3 numbers is :20.0\n"
     ]
    }
   ],
   "source": [
    "# Write a program as a user enter 3 numbers calculate the average\n",
    "num1=eval(input(\"enter the number1:\"))\n",
    "num2=eval(input(\"enter the number2:\"))\n",
    "num3=eval(input(\"enter the number3:\"))\n",
    "add=num1+num2+num3\n",
    "avg=add/3\n",
    "print(f\"the addition of {num1}  {num2} and {num3} is {add}\")\n",
    "print(\"the avg of 3 numbers is :{}\".format(avg))"
   ]
  },
  {
   "cell_type": "code",
   "execution_count": 29,
   "id": "0ee12f02-c10a-40e1-beef-102865d72433",
   "metadata": {},
   "outputs": [
    {
     "name": "stdin",
     "output_type": "stream",
     "text": [
      "enter the number1: 30\n",
      "enter the number2: 40\n"
     ]
    },
    {
     "name": "stdout",
     "output_type": "stream",
     "text": [
      "the addition of 30 and 40 is 70\n",
      "the subtraction of 30 and 40 is 10\n",
      "the product of 30 and 40 is 1200\n",
      "the division  of 30 and 40 is 0.75\n"
     ]
    }
   ],
   "source": [
    "# wap as a user enter the 2 numbers find subtraction,add,mul,div\n",
    "\n",
    "num1=eval(input(\"enter the number1:\"))\n",
    "num2=eval(input(\"enter the number2:\"))\n",
    "add=num1+num2\n",
    "sub=num2-num1\n",
    "mul=num1*num2\n",
    "div=num1/num2\n",
    "print(f\"the addition of {num1} and {num2} is {add}\")\n",
    "print(f\"the subtraction of {num1} and {num2} is {sub}\")\n",
    "print(f\"the product of {num1} and {num2} is {mul}\")\n",
    "print(f\"the division  of {num1} and {num2} is {div}\")"
   ]
  },
  {
   "cell_type": "code",
   "execution_count": 30,
   "id": "8b65cf39-98fc-464b-bca0-f00e26d284cb",
   "metadata": {},
   "outputs": [
    {
     "name": "stdin",
     "output_type": "stream",
     "text": [
      "Enter the radius value: 2\n",
      "Enter the pie value: 3.14\n"
     ]
    },
    {
     "name": "stdout",
     "output_type": "stream",
     "text": [
      "the area of the circle is:12.56\n"
     ]
    }
   ],
   "source": [
    "# wap as a user enter radius value and find the area of the circle\n",
    "\n",
    "radius=eval(input(\"Enter the radius value:\"))\n",
    "pie_value=eval(input(\"Enter the pie value:\"))\n",
    "area=pie_value*radius*radius\n",
    "print(\"the area of the circle is:{}\".format(area))"
   ]
  },
  {
   "cell_type": "code",
   "execution_count": null,
   "id": "8a661a6a-83a5-437b-9ec0-a2ae59ba0962",
   "metadata": {},
   "outputs": [],
   "source": []
  }
 ],
 "metadata": {
  "kernelspec": {
   "display_name": "Python 3 (ipykernel)",
   "language": "python",
   "name": "python3"
  },
  "language_info": {
   "codemirror_mode": {
    "name": "ipython",
    "version": 3
   },
   "file_extension": ".py",
   "mimetype": "text/x-python",
   "name": "python",
   "nbconvert_exporter": "python",
   "pygments_lexer": "ipython3",
   "version": "3.11.7"
  }
 },
 "nbformat": 4,
 "nbformat_minor": 5
}
