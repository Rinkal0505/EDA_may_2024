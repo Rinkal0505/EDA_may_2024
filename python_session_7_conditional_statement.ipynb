{
 "cells": [
  {
   "cell_type": "markdown",
   "id": "2eb2ee05-6358-45ca-80a3-e8febe189239",
   "metadata": {},
   "source": [
    "**Conditional statements**"
   ]
  },
  {
   "cell_type": "markdown",
   "id": "6625d76d-0e1d-49c2-86db-3d76a777085f",
   "metadata": {},
   "source": [
    "- Conditional statements means we want to run the code lines based on condition\n",
    "- if rain comes I will not go to school otherwise I will go to movie\n",
    "- Rain is there will effect one process \n",
    "- Rain is not there it will affect another process\n",
    "- if statements,elif statements,else statements"
   ]
  },
  {
   "cell_type": "markdown",
   "id": "7e7d47ca-1b4a-468e-ba22-bca0927cb1ec",
   "metadata": {},
   "source": [
    "**if statement**"
   ]
  },
  {
   "cell_type": "code",
   "execution_count": null,
   "id": "43978e06-fcae-4e2e-bcee-d40ebe38557e",
   "metadata": {},
   "outputs": [],
   "source": [
    "# syntax\n",
    "\n",
    "if <condition>:\n",
    "    <statement/code 1>\n",
    "    <statement/code 2>..............."
   ]
  },
  {
   "cell_type": "markdown",
   "id": "f1cf0297-c170-44f8-90cf-13e8ba2ed5ef",
   "metadata": {},
   "source": [
    "- whenever any line starts with **keyword(green colour)** which is in green colour at the end of the line we have **colon(:)**\n",
    "- whenever we have **:** the next line starts with some **gap**\n",
    "- this gap is called **Indentation**\n",
    "- how many lines we are maintaining gap (indentation) that all are under 1 area"
   ]
  },
  {
   "cell_type": "markdown",
   "id": "7833fbe6-ed3c-49d8-9ab9-799e3d5015b2",
   "metadata": {},
   "source": [
    "- if is a conditional statement it will check the condition is true or false\n",
    "- if the condition is true then only it will enter inside the if area\n",
    "- and execute those line\n",
    "- if the condition is false then it will not enter inside the if area\n",
    "- it will not execute those code lines"
   ]
  },
  {
   "cell_type": "code",
   "execution_count": 1,
   "id": "5dbdb7e4-ac57-4e36-af09-bb82c752ebbf",
   "metadata": {},
   "outputs": [
    {
     "data": {
      "text/plain": [
       "True"
      ]
     },
     "execution_count": 1,
     "metadata": {},
     "output_type": "execute_result"
    }
   ],
   "source": [
    "100>10"
   ]
  },
  {
   "cell_type": "code",
   "execution_count": 2,
   "id": "71e60828-af74-4558-869a-8544019f0dc2",
   "metadata": {},
   "outputs": [
    {
     "name": "stdout",
     "output_type": "stream",
     "text": [
      "hello\n"
     ]
    }
   ],
   "source": [
    "if 100>10:                                # if true:\n",
    "    print(\"hello\")"
   ]
  },
  {
   "cell_type": "code",
   "execution_count": 3,
   "id": "4c53eae7-01ad-4ef3-a711-710415119f62",
   "metadata": {},
   "outputs": [
    {
     "ename": "IndentationError",
     "evalue": "expected an indented block after 'if' statement on line 1 (1165322301.py, line 2)",
     "output_type": "error",
     "traceback": [
      "\u001b[1;36m  Cell \u001b[1;32mIn[3], line 2\u001b[1;36m\u001b[0m\n\u001b[1;33m    print(\"hello\")\u001b[0m\n\u001b[1;37m    ^\u001b[0m\n\u001b[1;31mIndentationError\u001b[0m\u001b[1;31m:\u001b[0m expected an indented block after 'if' statement on line 1\n"
     ]
    }
   ],
   "source": [
    "if 100>10:                                # if true:\n",
    "print(\"hello\")"
   ]
  },
  {
   "cell_type": "code",
   "execution_count": 4,
   "id": "0438e4af-ba36-4169-9d41-cc79469e50f1",
   "metadata": {},
   "outputs": [
    {
     "ename": "SyntaxError",
     "evalue": "expected ':' (2122392718.py, line 1)",
     "output_type": "error",
     "traceback": [
      "\u001b[1;36m  Cell \u001b[1;32mIn[4], line 1\u001b[1;36m\u001b[0m\n\u001b[1;33m    if 100>10                               # if true:\u001b[0m\n\u001b[1;37m                                            ^\u001b[0m\n\u001b[1;31mSyntaxError\u001b[0m\u001b[1;31m:\u001b[0m expected ':'\n"
     ]
    }
   ],
   "source": [
    "if 100>10                               # if true:\n",
    "print(\"hello\")"
   ]
  },
  {
   "cell_type": "markdown",
   "id": "5b47809a-9b21-4df1-be3f-1b9e3c30eff4",
   "metadata": {},
   "source": [
    "## MISTAKES\n",
    "  \n",
    "**MISTAKE NO 1**\n",
    "  \n",
    "- forgetting the indentation\n",
    "\n",
    "### solution 1\n",
    "\n",
    " Q-  if 100>10:                              \n",
    "     print(\"hello\")\n",
    "\n",
    " A-  if 100>10:\n",
    "        print(\"hello\")   **press enter tab**\n",
    "\n",
    "- Indentation require 4 spaces\n",
    "\n",
    "### solution 2\n",
    "\n",
    " if 100>10:print(\"hello\")\n",
    "\n",
    " if 100>10:\n",
    "    print(\"hello\") **press enter near colon**\n",
    "\n",
    "**MISTAKE NO 2**\n",
    "\n",
    "- forgetting the colon\n",
    "\n",
    "**MISTAKE NO 3**\n",
    "\n",
    "- forgetting the condition\n",
    "\n",
    "**MISTAKE NO 4**\n",
    "\n",
    "- forgetting brackets\n",
    "\n",
    "**MISTAKE NO 5**\n",
    "\n",
    "- never assign a print statement variable\n",
    "- we are using print to see the answers\n",
    "\n",
    "**MISTAKE NO 6**\n",
    "\n",
    "- all type of syntax errors and spelling mistakes\n"
   ]
  },
  {
   "cell_type": "code",
   "execution_count": 9,
   "id": "e76da51a-7a50-4502-989a-16eeb4d790d5",
   "metadata": {},
   "outputs": [
    {
     "name": "stdout",
     "output_type": "stream",
     "text": [
      "good morning\n",
      "hello\n",
      "okay\n",
      "bye\n"
     ]
    }
   ],
   "source": [
    "if 100>10:\n",
    "    print(\"good morning\")\n",
    "    print('hello')\n",
    "#######################################    \n",
    "print(\"okay\")\n",
    "print(\"bye\")\n",
    "\n",
    "# step 1 = 100>10 if true\n",
    "# step 2 = execute print statements hello and gud mrng\n",
    "# step 3 = execute other 2 statements that is outside of if area"
   ]
  },
  {
   "cell_type": "code",
   "execution_count": 10,
   "id": "bb432ef0-dff1-46a0-b7d9-39977898fdb6",
   "metadata": {},
   "outputs": [
    {
     "name": "stdout",
     "output_type": "stream",
     "text": [
      "good morning\n",
      "hello\n",
      "okay\n",
      "bye\n"
     ]
    }
   ],
   "source": [
    "if 100>10:\n",
    "    print(\"good morning\")\n",
    "    print('hello')\n",
    "    print(\"okay\")\n",
    "    print(\"bye\")"
   ]
  },
  {
   "cell_type": "code",
   "execution_count": 12,
   "id": "d93f83fd-7a42-454c-a011-4881a29ef876",
   "metadata": {},
   "outputs": [
    {
     "name": "stdout",
     "output_type": "stream",
     "text": [
      "10\n",
      "20\n",
      "good morning\n",
      "hello\n",
      "okay\n",
      "bye\n"
     ]
    }
   ],
   "source": [
    "print(10)\n",
    "print(20)\n",
    "###############################\n",
    "if 100>10:\n",
    "    print(\"good morning\")\n",
    "    print('hello')\n",
    "################################    \n",
    "print(\"okay\")\n",
    "print(\"bye\")"
   ]
  },
  {
   "cell_type": "code",
   "execution_count": 13,
   "id": "61f7bd98-1262-436a-8f7b-7294a47c4366",
   "metadata": {},
   "outputs": [
    {
     "name": "stdout",
     "output_type": "stream",
     "text": [
      "10\n",
      "20\n",
      "good morning\n",
      "hello\n",
      "okay\n",
      "bye\n"
     ]
    }
   ],
   "source": [
    "print(10)\n",
    "print(20)\n",
    "###############################\n",
    "if 100>10:\n",
    "    print(\"good morning\")\n",
    "print('hello')\n",
    "################################    \n",
    "print(\"okay\")\n",
    "print(\"bye\")"
   ]
  },
  {
   "cell_type": "code",
   "execution_count": 14,
   "id": "8582a0d9-c2f7-4937-98ca-e03de6397547",
   "metadata": {},
   "outputs": [
    {
     "ename": "IndentationError",
     "evalue": "expected an indented block after 'if' statement on line 4 (1008977159.py, line 5)",
     "output_type": "error",
     "traceback": [
      "\u001b[1;36m  Cell \u001b[1;32mIn[14], line 5\u001b[1;36m\u001b[0m\n\u001b[1;33m    print(\"good morning\")\u001b[0m\n\u001b[1;37m    ^\u001b[0m\n\u001b[1;31mIndentationError\u001b[0m\u001b[1;31m:\u001b[0m expected an indented block after 'if' statement on line 4\n"
     ]
    }
   ],
   "source": [
    "print(10)\n",
    "print(20)\n",
    "###############################\n",
    "if 100>10:\n",
    "print(\"good morning\")\n",
    "print('hello')\n",
    "################################    \n",
    "print(\"okay\")\n",
    "print(\"bye\")"
   ]
  },
  {
   "cell_type": "code",
   "execution_count": 15,
   "id": "dabb85ce-5eae-41a0-b02b-a6415a129c72",
   "metadata": {},
   "outputs": [
    {
     "ename": "IndentationError",
     "evalue": "unexpected indent (3238711711.py, line 8)",
     "output_type": "error",
     "traceback": [
      "\u001b[1;36m  Cell \u001b[1;32mIn[15], line 8\u001b[1;36m\u001b[0m\n\u001b[1;33m    print(\"okay\")\u001b[0m\n\u001b[1;37m    ^\u001b[0m\n\u001b[1;31mIndentationError\u001b[0m\u001b[1;31m:\u001b[0m unexpected indent\n"
     ]
    }
   ],
   "source": [
    "print(10)\n",
    "print(20)\n",
    "###############################\n",
    "if 100>10:\n",
    "    print(\"good morning\")\n",
    "print('hello')\n",
    "################################    \n",
    "    print(\"okay\")\n",
    "print(\"bye\")"
   ]
  },
  {
   "cell_type": "code",
   "execution_count": 16,
   "id": "2c721f0f-a37b-4111-b53f-5cf11cd212ef",
   "metadata": {},
   "outputs": [
    {
     "name": "stdout",
     "output_type": "stream",
     "text": [
      "10\n",
      "good morning\n",
      "hello\n",
      "okay\n",
      "bye\n"
     ]
    }
   ],
   "source": [
    "print(10)\n",
    "if True:\n",
    "    print(\"good morning\")\n",
    "    print('hello')\n",
    "print(\"okay\")\n",
    "print(\"bye\")"
   ]
  },
  {
   "cell_type": "code",
   "execution_count": 17,
   "id": "cc39f1e4-47ec-403f-b4c5-b0f85a65a43e",
   "metadata": {},
   "outputs": [
    {
     "name": "stdout",
     "output_type": "stream",
     "text": [
      "10\n",
      "okay\n",
      "bye\n"
     ]
    }
   ],
   "source": [
    "print(10)\n",
    "if False:\n",
    "    print(\"good morning\")\n",
    "    print('hello')\n",
    "print(\"okay\")\n",
    "print(\"bye\")"
   ]
  },
  {
   "cell_type": "code",
   "execution_count": 18,
   "id": "6b55cd83-ed62-48d7-99a2-5595e8a644c0",
   "metadata": {},
   "outputs": [
    {
     "name": "stdout",
     "output_type": "stream",
     "text": [
      "10\n",
      "okay\n",
      "bye\n"
     ]
    }
   ],
   "source": [
    "print(10)\n",
    "if 100<10:\n",
    "    print(\"good morning\")\n",
    "    print('hello')\n",
    "print(\"okay\")\n",
    "print(\"bye\")"
   ]
  },
  {
   "cell_type": "code",
   "execution_count": 19,
   "id": "2174ed8b-b15c-445b-b2f8-4774e2011c9b",
   "metadata": {},
   "outputs": [
    {
     "name": "stdout",
     "output_type": "stream",
     "text": [
      "10\n",
      "good morning\n",
      "hello\n",
      "okay\n",
      "bye\n"
     ]
    }
   ],
   "source": [
    "print(10)\n",
    "if 100:\n",
    "    print(\"good morning\")\n",
    "    print('hello')\n",
    "print(\"okay\")\n",
    "print(\"bye\")"
   ]
  },
  {
   "cell_type": "code",
   "execution_count": 20,
   "id": "d2f62197-8291-4b2a-94d2-b54dbdd80802",
   "metadata": {},
   "outputs": [
    {
     "data": {
      "text/plain": [
       "True"
      ]
     },
     "execution_count": 20,
     "metadata": {},
     "output_type": "execute_result"
    }
   ],
   "source": [
    "bool(100)"
   ]
  },
  {
   "cell_type": "code",
   "execution_count": 21,
   "id": "1260585f-9cb3-4473-a9a3-fac1baba871d",
   "metadata": {},
   "outputs": [
    {
     "name": "stdout",
     "output_type": "stream",
     "text": [
      "10\n",
      "okay\n",
      "bye\n"
     ]
    }
   ],
   "source": [
    "print(10)\n",
    "if 0:\n",
    "    print(\"good morning\")\n",
    "    print('hello')\n",
    "print(\"okay\")\n",
    "print(\"bye\")"
   ]
  },
  {
   "cell_type": "code",
   "execution_count": 22,
   "id": "f3cd5405-f5f1-4e65-8b32-8b1fbd4bc509",
   "metadata": {},
   "outputs": [
    {
     "name": "stdout",
     "output_type": "stream",
     "text": [
      "10\n",
      "okay\n",
      "bye\n"
     ]
    }
   ],
   "source": [
    "print(10)\n",
    "if 0.0:\n",
    "    print(\"good morning\")\n",
    "    print('hello')\n",
    "print(\"okay\")\n",
    "print(\"bye\")"
   ]
  },
  {
   "cell_type": "code",
   "execution_count": 23,
   "id": "4c2e7c78-f882-4972-95e0-520a8c75211a",
   "metadata": {},
   "outputs": [
    {
     "name": "stdout",
     "output_type": "stream",
     "text": [
      "10\n",
      "good morning\n",
      "hello\n",
      "okay\n",
      "bye\n"
     ]
    }
   ],
   "source": [
    "print(10)\n",
    "if 'hello':\n",
    "    print(\"good morning\")\n",
    "    print('hello')\n",
    "print(\"okay\")\n",
    "print(\"bye\")"
   ]
  },
  {
   "cell_type": "code",
   "execution_count": 25,
   "id": "dd51d638-445b-4bff-a2e5-948536f1fef7",
   "metadata": {},
   "outputs": [
    {
     "data": {
      "text/plain": [
       "True"
      ]
     },
     "execution_count": 25,
     "metadata": {},
     "output_type": "execute_result"
    }
   ],
   "source": [
    "bool('hello')"
   ]
  },
  {
   "cell_type": "markdown",
   "id": "41134205-8fc6-459d-b453-1d87c8c8ff4f",
   "metadata": {},
   "source": [
    "**if-else**\n",
    "\n",
    "- if requires condition \n",
    "- if that condition is true it will execute if block\n",
    "- otherwise it can directly go to else block\n",
    "- else block does not require any condition\n"
   ]
  },
  {
   "cell_type": "code",
   "execution_count": null,
   "id": "7a3bbbe9-1a28-470f-b06f-c4b40194772f",
   "metadata": {},
   "outputs": [],
   "source": [
    "# syntax\n",
    "\n",
    "if<condition>:\n",
    "    <codeline1>\n",
    "    <codeline2>\n",
    "else:\n",
    "    <code line>\n",
    "    "
   ]
  },
  {
   "cell_type": "code",
   "execution_count": 26,
   "id": "24b977af-9a25-437e-9611-39b5d5ee3746",
   "metadata": {},
   "outputs": [
    {
     "name": "stdout",
     "output_type": "stream",
     "text": [
      "Good morning\n",
      "Welcome to python class\n"
     ]
    }
   ],
   "source": [
    "if 100>10:\n",
    "    print(\"Good morning\")\n",
    "    print(\"Welcome to python class\")\n",
    "else:\n",
    "    print(\"Today class is off because of rain\")"
   ]
  },
  {
   "cell_type": "code",
   "execution_count": 27,
   "id": "e878fd10-0d7f-4c2b-8bfc-94d339ab9306",
   "metadata": {},
   "outputs": [
    {
     "name": "stdout",
     "output_type": "stream",
     "text": [
      "Today class is off because of rain\n"
     ]
    }
   ],
   "source": [
    "if 100<10:\n",
    "    print(\"Good morning\")\n",
    "    print(\"Welcome to python class\")\n",
    "else:\n",
    "    print(\"Today class is off because of rain\")"
   ]
  },
  {
   "cell_type": "code",
   "execution_count": 28,
   "id": "a566f5ec-6619-4d42-9184-c546c449999b",
   "metadata": {},
   "outputs": [
    {
     "name": "stdout",
     "output_type": "stream",
     "text": [
      "hello\n",
      "Good morning\n",
      "Welcome to python class\n"
     ]
    }
   ],
   "source": [
    "print(\"hello\")\n",
    "if 100>10:\n",
    "    print(\"Good morning\")\n",
    "    print(\"Welcome to python class\")\n",
    "else:\n",
    "    print(\"Today class is off because of rain\")"
   ]
  },
  {
   "cell_type": "code",
   "execution_count": 29,
   "id": "adb05ba7-d96a-4131-acf8-4ada2e85294f",
   "metadata": {},
   "outputs": [
    {
     "name": "stdout",
     "output_type": "stream",
     "text": [
      "hello\n",
      "Today class is off because of rain\n"
     ]
    }
   ],
   "source": [
    "print(\"hello\")\n",
    "if 100<10:\n",
    "    print(\"Good morning\")\n",
    "    print(\"Welcome to python class\")\n",
    "else:\n",
    "    print(\"Today class is off because of rain\")"
   ]
  },
  {
   "cell_type": "code",
   "execution_count": 30,
   "id": "9371bac5-49ef-4023-b157-aa54d429f0de",
   "metadata": {},
   "outputs": [
    {
     "ename": "SyntaxError",
     "evalue": "invalid syntax (2105116087.py, line 5)",
     "output_type": "error",
     "traceback": [
      "\u001b[1;36m  Cell \u001b[1;32mIn[30], line 5\u001b[1;36m\u001b[0m\n\u001b[1;33m    else:\u001b[0m\n\u001b[1;37m    ^\u001b[0m\n\u001b[1;31mSyntaxError\u001b[0m\u001b[1;31m:\u001b[0m invalid syntax\n"
     ]
    }
   ],
   "source": [
    "print(\"hello\")\n",
    "if 100>10:\n",
    "    print(\"Good morning\")\n",
    "print(\"Welcome to python class\")\n",
    "else:\n",
    "    print(\"Today class is off because of rain\")\n",
    "print(\"Thank you\")"
   ]
  },
  {
   "cell_type": "code",
   "execution_count": 32,
   "id": "0428902d-50f4-47de-b4f7-8c88b0247369",
   "metadata": {},
   "outputs": [
    {
     "name": "stdout",
     "output_type": "stream",
     "text": [
      "10\n",
      "0\n",
      "10\n",
      "0.0\n"
     ]
    },
    {
     "ename": "ZeroDivisionError",
     "evalue": "division by zero",
     "output_type": "error",
     "traceback": [
      "\u001b[1;31m---------------------------------------------------------------------------\u001b[0m",
      "\u001b[1;31mZeroDivisionError\u001b[0m                         Traceback (most recent call last)",
      "Cell \u001b[1;32mIn[32], line 10\u001b[0m\n\u001b[0;32m      8\u001b[0m d\u001b[38;5;241m=\u001b[39mb\u001b[38;5;241m/\u001b[39ma\n\u001b[0;32m      9\u001b[0m \u001b[38;5;28mprint\u001b[39m(d)    \u001b[38;5;66;03m# 0/10=0\u001b[39;00m\n\u001b[1;32m---> 10\u001b[0m e\u001b[38;5;241m=\u001b[39ma\u001b[38;5;241m/\u001b[39mb\n\u001b[0;32m     11\u001b[0m \u001b[38;5;28mprint\u001b[39m(e)\n",
      "\u001b[1;31mZeroDivisionError\u001b[0m: division by zero"
     ]
    }
   ],
   "source": [
    "if True:\n",
    "    a=10\n",
    "    b=0\n",
    "    print(a)    # 10\n",
    "    print(b)    # 0\n",
    "    c=a+b\n",
    "    print(c)    # 10+0=10\n",
    "    d=b/a\n",
    "    print(d)    # 0/10=0\n",
    "    e=a/b\n",
    "    print(e)    # 10/0   means error"
   ]
  },
  {
   "cell_type": "code",
   "execution_count": 33,
   "id": "4c58c10c-bdfa-475c-8f95-ace352edd7f6",
   "metadata": {},
   "outputs": [
    {
     "data": {
      "text/plain": [
       "1.25"
      ]
     },
     "execution_count": 33,
     "metadata": {},
     "output_type": "execute_result"
    }
   ],
   "source": [
    "5/4   # normal division"
   ]
  },
  {
   "cell_type": "code",
   "execution_count": 34,
   "id": "72f56533-52b0-4219-ae97-c4ef4a6253a3",
   "metadata": {},
   "outputs": [
    {
     "data": {
      "text/plain": [
       "1"
      ]
     },
     "execution_count": 34,
     "metadata": {},
     "output_type": "execute_result"
    }
   ],
   "source": [
    "5//4  # floor division"
   ]
  },
  {
   "cell_type": "code",
   "execution_count": 35,
   "id": "b72ee206-853d-4126-81a6-38dfbee28cbe",
   "metadata": {},
   "outputs": [
    {
     "data": {
      "text/plain": [
       "1"
      ]
     },
     "execution_count": 35,
     "metadata": {},
     "output_type": "execute_result"
    }
   ],
   "source": [
    "# modulus operator\n",
    "\n",
    "5%4   # reminder"
   ]
  },
  {
   "cell_type": "code",
   "execution_count": 37,
   "id": "e86c0dbc-c7f0-4215-b05d-9e8912473a0c",
   "metadata": {},
   "outputs": [
    {
     "name": "stdin",
     "output_type": "stream",
     "text": [
      "Enter the number 23\n"
     ]
    },
    {
     "name": "stdout",
     "output_type": "stream",
     "text": [
      "The no is odd\n"
     ]
    }
   ],
   "source": [
    "# wap ask the user enter a no \n",
    "# find if it is a even no or odd no\n",
    "\n",
    "num=eval(input(\"Enter the number\"))\n",
    "if num%2==0:\n",
    "    print(\"The no is even\")\n",
    "else:\n",
    "    print(\"The no is odd\")"
   ]
  },
  {
   "cell_type": "code",
   "execution_count": 9,
   "id": "6fdbb055-d467-447a-a948-bb50fe9eb292",
   "metadata": {},
   "outputs": [
    {
     "name": "stdin",
     "output_type": "stream",
     "text": [
      "Enter the number 30\n",
      "Enter the number 300\n"
     ]
    },
    {
     "name": "stdout",
     "output_type": "stream",
     "text": [
      "The 77 is odd\n"
     ]
    }
   ],
   "source": [
    "# wap ask the user enter a no \n",
    "# find if it is a even no or odd no\n",
    "\n",
    "import random\n",
    "start=eval(input(\"Enter the number\"))\n",
    "end=eval(input(\"Enter the number\"))\n",
    "num=random.randint(start,end)\n",
    "if num%2==0:\n",
    "    print(f\"The {num} is even\")\n",
    "else:\n",
    "    print(f\"The {num} is odd\")"
   ]
  },
  {
   "cell_type": "code",
   "execution_count": 10,
   "id": "9cab966a-b1c7-4115-b7a5-8097ce3f030b",
   "metadata": {},
   "outputs": [
    {
     "name": "stdout",
     "output_type": "stream",
     "text": [
      "The 75 is odd\n"
     ]
    }
   ],
   "source": [
    "import random\n",
    "num=random.randint(1,100)\n",
    "if num%2==0:\n",
    "    print(f\"The {num} is even\")\n",
    "else:\n",
    "    print(f\"The {num} is odd\")"
   ]
  },
  {
   "cell_type": "markdown",
   "id": "88d08c6e-464f-4375-8b17-bf32248df200",
   "metadata": {},
   "source": [
    "- we are providing values means hard coding \n",
    "- so our code should be always generic without hard codings"
   ]
  },
  {
   "cell_type": "code",
   "execution_count": 19,
   "id": "27518bad-55c1-4636-86b4-a2ebee6e2e9d",
   "metadata": {},
   "outputs": [
    {
     "name": "stdin",
     "output_type": "stream",
     "text": [
      "Enter the distance 78\n"
     ]
    },
    {
     "name": "stdout",
     "output_type": "stream",
     "text": [
      "Good news your charge is applicable for only remaining of 25\n",
      "The remaining distance is 53\n"
     ]
    },
    {
     "name": "stdin",
     "output_type": "stream",
     "text": [
      "Enter the charge 13\n"
     ]
    },
    {
     "name": "stdout",
     "output_type": "stream",
     "text": [
      "The total cost is 689\n"
     ]
    }
   ],
   "source": [
    "# wap ask the user enter the distance\n",
    "# if distance greater than 25kms then enter the charge and print the total cost\n",
    "# otherwise print free ride\n",
    "\n",
    "distance=eval(input(\"Enter the distance\"))\n",
    "cutoff_distance=25\n",
    "if distance>=25:\n",
    "    print(\"Good news your charge is applicable for only remaining of 25\")\n",
    "    chargeable_distance= distance - cutoff_distance\n",
    "    print(\"The remaining distance is {}\".format(chargeable_distance))\n",
    "    charge=eval(input(\"Enter the charge\"))\n",
    "    total_cost=charge*chargeable_distance\n",
    "    print(\"The total cost is {}\".format(total_cost))\n",
    "else:\n",
    "    print(\"Free ride\")"
   ]
  },
  {
   "cell_type": "code",
   "execution_count": 32,
   "id": "5318eb06-0d39-4cca-bad6-677644ab37a4",
   "metadata": {},
   "outputs": [
    {
     "name": "stdin",
     "output_type": "stream",
     "text": [
      "Enter the course: python\n",
      "Enter the institute name naresh it\n"
     ]
    },
    {
     "name": "stdout",
     "output_type": "stream",
     "text": [
      "You are a bad student\n"
     ]
    }
   ],
   "source": [
    "# wap ask the user enter the course \n",
    "# ask the user enter the institute\n",
    "# if the course is equal to data science\n",
    "# institute equal to naresh it then you are good\n",
    "# otherwise you are bad\n",
    "\n",
    "\n",
    "course=input(\"Enter the course:\")\n",
    "institute=input(\"Enter the institute name\")\n",
    "if course=='data science' and institute=='naresh IT':\n",
    "    print(\"You are a good student\")\n",
    "else:\n",
    "    print(\"You are a bad student\")"
   ]
  },
  {
   "cell_type": "code",
   "execution_count": 34,
   "id": "c5169a1a-696b-4548-bb4a-05ba2226d490",
   "metadata": {},
   "outputs": [
    {
     "name": "stdin",
     "output_type": "stream",
     "text": [
      "Enter the course: python\n",
      "Enter the institute name naresh IT\n"
     ]
    },
    {
     "name": "stdout",
     "output_type": "stream",
     "text": [
      "You are a good student\n"
     ]
    }
   ],
   "source": [
    "course=input(\"Enter the course:\")\n",
    "institute=input(\"Enter the institute name\")\n",
    "if course=='data science' or institute=='naresh IT':\n",
    "    print(\"You are a good student\")\n",
    "else:\n",
    "    print(\"You are a bad student\")"
   ]
  },
  {
   "cell_type": "markdown",
   "id": "b7918cec-ff20-4d15-b07c-256898f1236e",
   "metadata": {},
   "source": [
    "- and operation means both conditions need to be satisfied\n",
    "- or operation means any one is satisfied means both are satisfied"
   ]
  },
  {
   "cell_type": "code",
   "execution_count": 45,
   "id": "ba61b2f1-04d4-4de0-8173-0d154dd276b3",
   "metadata": {},
   "outputs": [
    {
     "name": "stdin",
     "output_type": "stream",
     "text": [
      "Enter the number 2: 3\n"
     ]
    },
    {
     "name": "stdout",
     "output_type": "stream",
     "text": [
      "So sad 1 and 3 does not matched\n",
      "YOU LOST\n"
     ]
    }
   ],
   "source": [
    "# wap ask the user enter a random no btwn 1-10 ,treat this as num 1\n",
    "# ask the user enter another no from keyboard,treat this as num 2\n",
    "# if num1 = num2 \n",
    "    # print you won\n",
    "# otherwise \n",
    "#      print you lost\n",
    "\n",
    "import random\n",
    "num1=random.randint(1,10)\n",
    "num2=eval(input(\"Enter the number 2:\"))\n",
    "if num1==num2:\n",
    "    print(f\"Congratulation {num1} and {num2} matched\")\n",
    "    print(\"YOU WON\")\n",
    "else:\n",
    "    print(f\"So sad {num1} and {num2} does not matched\")\n",
    "    print(\"YOU LOST\")"
   ]
  },
  {
   "cell_type": "markdown",
   "id": "e9d5d331-e461-4dfc-9ba6-d370b95ded7f",
   "metadata": {},
   "source": [
    "- till now we have learnt one condition problem\n",
    "- that means if the condition is true we get 1 answer \n",
    "- if condition is false we get 1 answer\n",
    "- how about we have more than 1 condition\n",
    "- at that time we can use **if-elif-else** conditions\n",
    "- 2 conditions means 3 results\n",
    "- if has 1 condition\n",
    "- elif has 1 condition\n",
    "- if both are false the result is in else"
   ]
  },
  {
   "cell_type": "code",
   "execution_count": null,
   "id": "81da51f4-aaf9-4ade-9285-e55079c61784",
   "metadata": {},
   "outputs": [],
   "source": [
    "# syntax\n",
    "\n",
    "if<condition>:\n",
    "    ----------\n",
    "    ----------\n",
    "elif<condition>:\n",
    "    ----------\n",
    "    ----------\n",
    "else:\n",
    "    ----------\n",
    "    ----------"
   ]
  },
  {
   "cell_type": "code",
   "execution_count": 50,
   "id": "e41ac375-5a33-4757-ae9f-da2d09295942",
   "metadata": {},
   "outputs": [
    {
     "name": "stdin",
     "output_type": "stream",
     "text": [
      "Enter a number: 100\n"
     ]
    },
    {
     "name": "stdout",
     "output_type": "stream",
     "text": [
      "Enter a valid no\n"
     ]
    }
   ],
   "source": [
    "# wap ask the user to enter no\n",
    "# if no is 1 print one\n",
    "# if no is 2 print two\n",
    "# if no is 3 print three\n",
    "# otherwise print enter a valid number\n",
    "\n",
    "num=eval(input(\"Enter a number:\"))\n",
    "if num==1:\n",
    "    print(\"One\")\n",
    "elif num==2:\n",
    "    print(\"Two\")\n",
    "elif num==3:\n",
    "    print(\"Three\")\n",
    "else:\n",
    "    print(\"Enter a valid no\")"
   ]
  },
  {
   "cell_type": "code",
   "execution_count": 51,
   "id": "92ae07fe-a190-4c60-81c4-095bf3854930",
   "metadata": {},
   "outputs": [
    {
     "name": "stdin",
     "output_type": "stream",
     "text": [
      "Enter a number: 1\n"
     ]
    },
    {
     "name": "stdout",
     "output_type": "stream",
     "text": [
      "One\n"
     ]
    }
   ],
   "source": [
    "num=eval(input(\"Enter a number:\"))\n",
    "if num==1:print(\"One\")\n",
    "elif num==2:print(\"Two\")\n",
    "elif num==3:print(\"Three\")\n",
    "else:print(\"Enter a valid no\")"
   ]
  },
  {
   "cell_type": "code",
   "execution_count": 55,
   "id": "62f80a9d-0872-4248-aad0-15c1979ae0b0",
   "metadata": {},
   "outputs": [
    {
     "name": "stdin",
     "output_type": "stream",
     "text": [
      "Enter the number -8\n"
     ]
    },
    {
     "name": "stdout",
     "output_type": "stream",
     "text": [
      "Negative number\n"
     ]
    }
   ],
   "source": [
    "# wap ask the user enter a number if the no is greater than 0 \n",
    "# print positive\n",
    "# if the no is less than 0 \n",
    "# print negative\n",
    "# otherwise print 0\n",
    "\n",
    "num=eval(input(\"Enter the number\"))\n",
    "if num>=0:\n",
    "    print(\"Positive number\")\n",
    "elif num<=0:\n",
    "    print(\"Negative number\")\n",
    "else:\n",
    "    print(\"The no is neither positive nor negative it is 0\")"
   ]
  },
  {
   "cell_type": "code",
   "execution_count": 56,
   "id": "e737e7e6-6b64-4e0a-a28e-996c1fa82f76",
   "metadata": {},
   "outputs": [
    {
     "name": "stdin",
     "output_type": "stream",
     "text": [
      "Enter the percentage 87\n"
     ]
    },
    {
     "name": "stdout",
     "output_type": "stream",
     "text": [
      "You have scored B grade\n"
     ]
    }
   ],
   "source": [
    "# wap ask the user enter the percentage of mark if % greater than 90\n",
    "# print 'A'\n",
    "# if % is b/w 75-90\n",
    "# print 'B'\n",
    "# if % is b/w 50-75\n",
    "# print 'C'\n",
    "# if % is b/w 35-50\n",
    "# print 'D'\n",
    "# if % is less than 35 print fail\n",
    "\n",
    "percentage=eval(input(\"Enter the percentage\"))\n",
    "if percentage>=90:\n",
    "    print(\"You have scored A grade\")\n",
    "elif percentage>=75 and percentage<=90:\n",
    "    print(\"You have scored B grade\")\n",
    "elif percentage>=50 and percentage<=75:\n",
    "    print(\"You have scored C grade\")\n",
    "elif percentage>=35 and percentage<=50:\n",
    "    print(\"You have scored D grade\")\n",
    "else:\n",
    "    print(\"FAIL\")"
   ]
  },
  {
   "cell_type": "code",
   "execution_count": 58,
   "id": "eb6a42c0-898b-43d2-80c7-195b5fd61d1b",
   "metadata": {},
   "outputs": [
    {
     "name": "stdin",
     "output_type": "stream",
     "text": [
      "Enter the percentage 65\n"
     ]
    },
    {
     "name": "stdout",
     "output_type": "stream",
     "text": [
      "You have scored C grade\n"
     ]
    }
   ],
   "source": [
    "percentage=eval(input(\"Enter the percentage\"))\n",
    "if percentage>=90:\n",
    "    print(\"You have scored A grade\")\n",
    "elif percentage>=75:\n",
    "    print(\"You have scored B grade\")\n",
    "elif percentage>=50:\n",
    "    print(\"You have scored C grade\")\n",
    "elif percentage>=35:\n",
    "    print(\"You have scored D grade\")\n",
    "else:\n",
    "    print(\"FAIL\")"
   ]
  },
  {
   "cell_type": "code",
   "execution_count": 63,
   "id": "d1812ae6-a733-40a7-b9b4-2a0c7ea0f523",
   "metadata": {},
   "outputs": [
    {
     "name": "stdin",
     "output_type": "stream",
     "text": [
      "Enter the age 14\n"
     ]
    },
    {
     "name": "stdout",
     "output_type": "stream",
     "text": [
      "kid\n"
     ]
    }
   ],
   "source": [
    "# wap ask the user enter the age\n",
    "# greater than 100 you are lucky\n",
    "# if the age is > 75 print old age\n",
    "# if the age is  50 to 75 print senior citizen\n",
    "# if the age is 30-50 print middle age\n",
    "# if the age is 15-30 print young age\n",
    "# if the age is < 15 print kid\n",
    "\n",
    "age=eval(input(\"Enter the age\"))\n",
    "if age>=100:\n",
    "    print(\"You are lucky\")\n",
    "elif age>=75:\n",
    "    print(\"Old age\")\n",
    "elif age>=50:\n",
    "    print(\"Senior citizen\")\n",
    "elif age>=30:\n",
    "    print(\"middle age\")\n",
    "elif age>=15:\n",
    "    print(\"young age\")\n",
    "else:\n",
    "    print(\"kid\")"
   ]
  },
  {
   "cell_type": "code",
   "execution_count": 4,
   "id": "31e46bad-e3d3-4f99-a4eb-260430e01854",
   "metadata": {},
   "outputs": [
    {
     "name": "stdin",
     "output_type": "stream",
     "text": [
      "Enter the number 1: 40\n",
      "Enter the number 2: 30\n",
      "Enter the number between 1-4: 3\n"
     ]
    },
    {
     "name": "stdout",
     "output_type": "stream",
     "text": [
      "enter operation 3 for subtraction:\n",
      "The difference of 2 no is 10\n"
     ]
    }
   ],
   "source": [
    "# wap ask the user to enter 2 numbers\n",
    "# num1 \n",
    "# num2\n",
    "# you need to print\n",
    "# enter operation 1 for addition\n",
    "# enter operation 2 for multi\n",
    "# enter oper 3 for sub\n",
    "# enter oper 4 for div\n",
    "# enter the operation between 1-4\n",
    "# if operation equal to 1 then add\n",
    "# if operation equal to 2 then mul\n",
    "# if operation equal to 3 then sub\n",
    "# if operation equal to 1 then div\n",
    "# otherwise print valid no\n",
    "\n",
    "num1= eval(input(\"Enter the number 1:\"))\n",
    "num2= eval(input(\"Enter the number 2:\"))\n",
    "operation=eval(input(\"Enter the number between 1-4:\"))\n",
    "if operation==1:\n",
    "    print(\"entered operation 1 is for addition:\")\n",
    "    add=num1+num2\n",
    "    print(\"The addition of 2 no is {}\".format(add))\n",
    "elif operation==2:\n",
    "    print(\"entered operation 2 is for multiplication:\")\n",
    "    multi=num1*num2\n",
    "    print(\"The product of 2 no is {}\".format(multi))\n",
    "elif operation==3:\n",
    "    print(\"entered operation 3 is for subtraction:\")\n",
    "    sub=num1-num2\n",
    "    print(\"The difference of 2 no is {}\".format(sub))\n",
    "elif operation==4:\n",
    "    print(\"entered operation 4 is for division:\")\n",
    "    div=num1/num2\n",
    "    print(\"The division of 2 no is {}\".format(div))\n",
    "else:\n",
    "    print(\"Enter a valid no\")"
   ]
  },
  {
   "cell_type": "code",
   "execution_count": 5,
   "id": "3d950146-63ae-4f48-89e1-0f504e3da2f4",
   "metadata": {},
   "outputs": [
    {
     "name": "stdin",
     "output_type": "stream",
     "text": [
      "Enter the gender: male\n",
      "Enter the age: 56\n"
     ]
    },
    {
     "name": "stdout",
     "output_type": "stream",
     "text": [
      "middle age\n"
     ]
    }
   ],
   "source": [
    "# ask the user enter the gender \n",
    "# if gender = male \n",
    "#     ask the user enter age\n",
    "#     if the age greater than 60 print senior citizen\n",
    "#     if 30-60:middle age\n",
    "#     if 15-30:young man\n",
    "#     otherwise print boy\n",
    "# elif gender = female\n",
    "#     ask the user enter age\n",
    "#     if the age greater than 60 print senior citizen\n",
    "#     if 30-60:middle age\n",
    "#     if 15-30:young girl\n",
    "#     otherwise print girl\n",
    "# else :\n",
    "#     print enter valid gender\n",
    "\n",
    "\n",
    "gender=input(\"Enter the gender:\")\n",
    "if gender=='male':\n",
    "    age=eval(input(\"Enter the age:\"))\n",
    "    if age>=60:\n",
    "        print(\"Senior Citizen\")\n",
    "    elif age>=30:\n",
    "        print(\"middle age\")\n",
    "    elif age>=15:\n",
    "        print(\"young man\")\n",
    "    else:\n",
    "        print(\"Boy\")\n",
    "elif gender=='female':\n",
    "    age=eval(input(\"Enter the age:\"))\n",
    "    if age>=60:\n",
    "        print(\"Senior Citizen\")\n",
    "    elif age>=30:\n",
    "        print(\"middle age\")\n",
    "    elif age>=15:\n",
    "        print(\"young woman\")\n",
    "    else:\n",
    "        print(\"girl\")\n",
    "else:\n",
    "    print(\"Enter valid gender\")\n"
   ]
  },
  {
   "cell_type": "code",
   "execution_count": 6,
   "id": "6641d893-46a9-457c-9a59-f428ad7e48a3",
   "metadata": {},
   "outputs": [
    {
     "name": "stdin",
     "output_type": "stream",
     "text": [
      "Enter the number: 8\n"
     ]
    },
    {
     "name": "stdout",
     "output_type": "stream",
     "text": [
      "positive no\n"
     ]
    }
   ],
   "source": [
    "# wap ask the user enter a number \n",
    "# if that number greater than or equal to \n",
    "#      if number = 0\n",
    "#         print zero\n",
    "#      else\n",
    "#          print positive\n",
    "# else\n",
    "#      print negative\n",
    "\n",
    "num = eval(input(\"Enter the number:\"))\n",
    "if num>=0:\n",
    "    if num == 0:\n",
    "        print(\"Zero\")\n",
    "    else:\n",
    "        print(\"positive no\")\n",
    "else:\n",
    "    print(\"negative no\")"
   ]
  },
  {
   "cell_type": "code",
   "execution_count": 3,
   "id": "15c90c94-af75-4ceb-9f65-86352878ea8f",
   "metadata": {},
   "outputs": [
    {
     "name": "stdin",
     "output_type": "stream",
     "text": [
      "Enter number 1: 56\n",
      "Enter number 2: 45\n",
      "Enter number 3: 34\n"
     ]
    },
    {
     "name": "stdout",
     "output_type": "stream",
     "text": [
      "The max value is number 1 : 56\n"
     ]
    }
   ],
   "source": [
    "# take 3 numbers\n",
    "# num1   num2     num3\n",
    "# FIND THE MAX VALUE\n",
    "\n",
    "num1=eval(input(\"Enter number 1:\"))\n",
    "num2=eval(input(\"Enter number 2:\"))\n",
    "num3=eval(input(\"Enter number 3:\"))\n",
    "if num1>num2 and num1>num3:\n",
    "    print(\"The max value is number 1 : {}\".format(num1))\n",
    "elif num2>num1 and num2>num3:\n",
    "    print(\"The max value is number 2 : {}\".format(num2))\n",
    "else:\n",
    "    print(\"The max value is number 3 : {}\".format(num3))"
   ]
  },
  {
   "cell_type": "code",
   "execution_count": null,
   "id": "9c6b084a-51cb-4f69-b86c-c64ec18404bd",
   "metadata": {},
   "outputs": [],
   "source": []
  }
 ],
 "metadata": {
  "kernelspec": {
   "display_name": "Python 3 (ipykernel)",
   "language": "python",
   "name": "python3"
  },
  "language_info": {
   "codemirror_mode": {
    "name": "ipython",
    "version": 3
   },
   "file_extension": ".py",
   "mimetype": "text/x-python",
   "name": "python",
   "nbconvert_exporter": "python",
   "pygments_lexer": "ipython3",
   "version": "3.11.7"
  }
 },
 "nbformat": 4,
 "nbformat_minor": 5
}
