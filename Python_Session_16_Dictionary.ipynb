{
 "cells": [
  {
   "cell_type": "markdown",
   "id": "9b3825f7-7fb1-45b7-85d4-84e066a3e2be",
   "metadata": {
    "id": "25fd81eb-a66a-4b22-b009-e0a8066a97f1"
   },
   "source": [
    "**Dictionary**\n",
    "\n",
    "\n",
    "- We already seen many Data types\n",
    "\n",
    "- String\n",
    "\n",
    "- List\n",
    "\n",
    "- Tuple\n",
    "\n",
    "- Set\n",
    "\n",
    "- Dictionary\n",
    "\n",
    "- int float bool complex\n",
    "\n",
    "- range\n",
    "\n",
    "- bytes\n",
    "- eval is not a data type"
   ]
  },
  {
   "cell_type": "code",
   "execution_count": 2,
   "id": "fb3062e0-fa19-4202-b517-94c12be530ca",
   "metadata": {
    "id": "fb3062e0-fa19-4202-b517-94c12be530ca"
   },
   "outputs": [],
   "source": [
    "# By using lambda list reduce\n",
    "\n",
    "str=b'hello'"
   ]
  },
  {
   "cell_type": "code",
   "execution_count": 3,
   "id": "6b021efe-29a2-400a-8470-3f676897b757",
   "metadata": {
    "id": "6b021efe-29a2-400a-8470-3f676897b757"
   },
   "outputs": [
    {
     "ename": "NameError",
     "evalue": "name 'key' is not defined",
     "output_type": "error",
     "traceback": [
      "\u001b[1;31m---------------------------------------------------------------------------\u001b[0m",
      "\u001b[1;31mNameError\u001b[0m                                 Traceback (most recent call last)",
      "Cell \u001b[1;32mIn[3], line 5\u001b[0m\n\u001b[0;32m      3\u001b[0m \u001b[38;5;28mtuple\u001b[39m\u001b[38;5;241m=\u001b[39m()\n\u001b[0;32m      4\u001b[0m \u001b[38;5;28mset\u001b[39m\u001b[38;5;241m=\u001b[39m{}\n\u001b[1;32m----> 5\u001b[0m dictionary\u001b[38;5;241m=\u001b[39m{key:value}\n",
      "\u001b[1;31mNameError\u001b[0m: name 'key' is not defined"
     ]
    }
   ],
   "source": [
    "string=''\n",
    "list=[]\n",
    "tuple=()\n",
    "set={}\n",
    "dictionary={key:value}"
   ]
  },
  {
   "cell_type": "code",
   "execution_count": null,
   "id": "1ea4a706-5bb6-4efa-9b00-ab6bc71f6f82",
   "metadata": {
    "id": "1ea4a706-5bb6-4efa-9b00-ab6bc71f6f82"
   },
   "outputs": [],
   "source": [
    "names=['Ramesh','Suresh','Satish']\n",
    "age=[20,25,30]\n",
    "# Print\n",
    "# Ramesh age is 20"
   ]
  },
  {
   "cell_type": "markdown",
   "id": "96d8cab8-6c3e-489a-a787-aba1d1984e81",
   "metadata": {
    "id": "96d8cab8-6c3e-489a-a787-aba1d1984e81"
   },
   "source": [
    "**zip**"
   ]
  },
  {
   "cell_type": "code",
   "execution_count": null,
   "id": "59a8c6ac-c57f-4825-b91a-92ec63f7284a",
   "metadata": {
    "id": "59a8c6ac-c57f-4825-b91a-92ec63f7284a",
    "outputId": "adab9a8e-2835-42fd-c672-343e8366cdda"
   },
   "outputs": [],
   "source": [
    "names=['Ramesh','Suresh','Satish']\n",
    "age=[20,25,30]\n",
    "\n",
    "for i,j in zip(names,age):\n",
    "    print(i,j)"
   ]
  },
  {
   "cell_type": "code",
   "execution_count": null,
   "id": "2e21eaf4-69ba-4439-b565-7a0ff05e34a3",
   "metadata": {
    "id": "2e21eaf4-69ba-4439-b565-7a0ff05e34a3",
    "outputId": "8c5abc2d-ffa1-4364-f78f-2da305d72659"
   },
   "outputs": [],
   "source": [
    "list(zip(names,age))"
   ]
  },
  {
   "cell_type": "code",
   "execution_count": null,
   "id": "57acefd6-d961-4afb-91b7-c0df55ea54e7",
   "metadata": {
    "id": "57acefd6-d961-4afb-91b7-c0df55ea54e7"
   },
   "outputs": [],
   "source": [
    "#dict1={<key>:<value>}\n",
    "#names=['Ramesh','Suresh','Satish']\n",
    "#age=[20,25,30]\n",
    "#'Ramesh'  is  the key ====== 20 its related value\n",
    "dict1={'Ramesh':20,'Suresh':25,'Satish':30}"
   ]
  },
  {
   "cell_type": "code",
   "execution_count": 4,
   "id": "5b481523-6a57-4687-b9ab-1a15286fc316",
   "metadata": {
    "id": "5b481523-6a57-4687-b9ab-1a15286fc316",
    "outputId": "2b3721d0-553d-498d-9ddd-0b76a7ed3a2e"
   },
   "outputs": [
    {
     "data": {
      "text/plain": [
       "dict"
      ]
     },
     "execution_count": 4,
     "metadata": {},
     "output_type": "execute_result"
    }
   ],
   "source": [
    "dict1={'Ramesh':20,'Suresh':25,'Satish':30}\n",
    "type(dict1)"
   ]
  },
  {
   "cell_type": "code",
   "execution_count": null,
   "id": "4c923611-c187-41f4-af7c-bbbc96998b52",
   "metadata": {
    "id": "4c923611-c187-41f4-af7c-bbbc96998b52"
   },
   "outputs": [],
   "source": [
    "#If the list are of different length?\n",
    "#if both lists are different lenght\n",
    "#zip will not work"
   ]
  },
  {
   "cell_type": "markdown",
   "id": "eb6fce22-0f6f-4b0b-9e51-85ddc13f79d0",
   "metadata": {
    "id": "eb6fce22-0f6f-4b0b-9e51-85ddc13f79d0"
   },
   "source": [
    "- intialization\n",
    "\n",
    "- type\n",
    "\n",
    "- max\n",
    "\n",
    "- min\n",
    "\n",
    "- len\n",
    "\n",
    "- reversed\n",
    "\n",
    "- sorted\n",
    "\n",
    "- in\n",
    "\n",
    "- index\n",
    "\n",
    "- mutable\n",
    "\n",
    "- concate\n",
    "\n",
    "- slicing\n",
    "\n",
    "- methods"
   ]
  },
  {
   "cell_type": "markdown",
   "id": "130e1137-5f20-4615-871e-e6c158c226e1",
   "metadata": {
    "id": "130e1137-5f20-4615-871e-e6c158c226e1"
   },
   "source": [
    "**Create all type of dictionaries**"
   ]
  },
  {
   "cell_type": "code",
   "execution_count": null,
   "id": "da323986-e827-4a99-9cf8-5b4897a7dd1e",
   "metadata": {
    "id": "da323986-e827-4a99-9cf8-5b4897a7dd1e"
   },
   "outputs": [],
   "source": [
    "d1={'Manish':25,'Shubam':20,'Govindh':15}\n",
    "d2={'Manish':'25','Shubam':'20','Govindh':'15'}\n",
    "d3={25:'Manish',20:'Shubam',15:'Govindh'}\n",
    "d4={25:50}\n",
    "d5={'Fruites':['Apple','Cherry']}\n",
    "d6={['Apple','Cherry']:'Fruites'}\n",
    "d7={('Apple','Cherry'):'Fruites'}\n",
    "d8={'Ajay':25,'Ajay':30}\n",
    "d9={25:'Ajay',30:'Ajay'}\n",
    "d10={'Fruites':{'Mango':25}}"
   ]
  },
  {
   "cell_type": "code",
   "execution_count": 5,
   "id": "e777beac-cf13-4a4f-9d7c-584eb346c46e",
   "metadata": {
    "id": "e777beac-cf13-4a4f-9d7c-584eb346c46e",
    "outputId": "6710f5e4-518d-469e-aa53-979eaf7bf2a2"
   },
   "outputs": [
    {
     "data": {
      "text/plain": [
       "{'Manish': 25, 'Shubam': 20, 'Govindh': 15}"
      ]
     },
     "execution_count": 5,
     "metadata": {},
     "output_type": "execute_result"
    }
   ],
   "source": [
    "d1={'Manish':25,'Shubam':20,'Govindh':15}\n",
    "d1"
   ]
  },
  {
   "cell_type": "code",
   "execution_count": 6,
   "id": "d806defa-b6c7-4df4-be7c-f6038eabf660",
   "metadata": {
    "id": "d806defa-b6c7-4df4-be7c-f6038eabf660",
    "outputId": "a302a836-94c2-489b-d538-3b17b3ebd783"
   },
   "outputs": [
    {
     "data": {
      "text/plain": [
       "{'Manish': '25', 'Shubam': '20', 'Govindh': '15'}"
      ]
     },
     "execution_count": 6,
     "metadata": {},
     "output_type": "execute_result"
    }
   ],
   "source": [
    "d2={'Manish':'25','Shubam':'20','Govindh':'15'}\n",
    "d2"
   ]
  },
  {
   "cell_type": "code",
   "execution_count": 7,
   "id": "5d2122e5-8452-4eb8-966c-c524927ec7a5",
   "metadata": {
    "id": "5d2122e5-8452-4eb8-966c-c524927ec7a5",
    "outputId": "537a85a9-4261-4499-eb78-f2d1300ad3dc"
   },
   "outputs": [
    {
     "data": {
      "text/plain": [
       "{25: 'Manish', 20: 'Shubam', 15: 'Govindh'}"
      ]
     },
     "execution_count": 7,
     "metadata": {},
     "output_type": "execute_result"
    }
   ],
   "source": [
    "d3={25:'Manish',20:'Shubam',15:'Govindh'}\n",
    "d3"
   ]
  },
  {
   "cell_type": "code",
   "execution_count": 8,
   "id": "fd94a941-e66a-4653-9134-fb3135ffca59",
   "metadata": {
    "id": "fd94a941-e66a-4653-9134-fb3135ffca59"
   },
   "outputs": [],
   "source": [
    "d4={25:50}"
   ]
  },
  {
   "cell_type": "code",
   "execution_count": 9,
   "id": "a7db6373-0c4a-4066-8c79-73508e692507",
   "metadata": {
    "id": "a7db6373-0c4a-4066-8c79-73508e692507",
    "outputId": "b8dc1a06-070b-4999-a9f0-c6f10a5dc404"
   },
   "outputs": [
    {
     "data": {
      "text/plain": [
       "{'Fruites': ['Apple', 'Cherry']}"
      ]
     },
     "execution_count": 9,
     "metadata": {},
     "output_type": "execute_result"
    }
   ],
   "source": [
    "d5={'Fruites':['Apple','Cherry']}\n",
    "d5"
   ]
  },
  {
   "cell_type": "code",
   "execution_count": 10,
   "id": "4e6aa5d3-0d27-4ec1-a446-690c3ebbf5da",
   "metadata": {
    "id": "4e6aa5d3-0d27-4ec1-a446-690c3ebbf5da",
    "outputId": "2a9919bc-63e7-42a8-e65a-415f574d1489"
   },
   "outputs": [
    {
     "ename": "TypeError",
     "evalue": "unhashable type: 'list'",
     "output_type": "error",
     "traceback": [
      "\u001b[1;31m---------------------------------------------------------------------------\u001b[0m",
      "\u001b[1;31mTypeError\u001b[0m                                 Traceback (most recent call last)",
      "Cell \u001b[1;32mIn[10], line 1\u001b[0m\n\u001b[1;32m----> 1\u001b[0m d6\u001b[38;5;241m=\u001b[39m{[\u001b[38;5;124m'\u001b[39m\u001b[38;5;124mApple\u001b[39m\u001b[38;5;124m'\u001b[39m,\u001b[38;5;124m'\u001b[39m\u001b[38;5;124mCherry\u001b[39m\u001b[38;5;124m'\u001b[39m]:\u001b[38;5;124m'\u001b[39m\u001b[38;5;124mFruites\u001b[39m\u001b[38;5;124m'\u001b[39m}\n\u001b[0;32m      2\u001b[0m d6\n",
      "\u001b[1;31mTypeError\u001b[0m: unhashable type: 'list'"
     ]
    }
   ],
   "source": [
    "d6={['Apple','Cherry']:'Fruites'}\n",
    "d6"
   ]
  },
  {
   "cell_type": "code",
   "execution_count": 11,
   "id": "a80be764-18b9-4650-84e0-01a8b0318504",
   "metadata": {
    "id": "a80be764-18b9-4650-84e0-01a8b0318504",
    "outputId": "c36d79a6-643d-49d5-a009-d5f7b67405d0"
   },
   "outputs": [
    {
     "data": {
      "text/plain": [
       "{('Apple', 'Cherry'): 'Fruites'}"
      ]
     },
     "execution_count": 11,
     "metadata": {},
     "output_type": "execute_result"
    }
   ],
   "source": [
    "d7={('Apple','Cherry'):'Fruites'}\n",
    "d7"
   ]
  },
  {
   "cell_type": "code",
   "execution_count": 12,
   "id": "ec352a92-5c3f-44df-aa18-4ba3c57ef941",
   "metadata": {
    "id": "ec352a92-5c3f-44df-aa18-4ba3c57ef941",
    "outputId": "7e948fc3-7dac-4cb8-ad6a-a4a88031c778"
   },
   "outputs": [
    {
     "data": {
      "text/plain": [
       "{'Ajay': 30}"
      ]
     },
     "execution_count": 12,
     "metadata": {},
     "output_type": "execute_result"
    }
   ],
   "source": [
    "d8={'Ajay':25,'Ajay':30}\n",
    "d8"
   ]
  },
  {
   "cell_type": "code",
   "execution_count": 13,
   "id": "aa555aa9-1b25-4757-9de5-f1f757015b97",
   "metadata": {
    "id": "aa555aa9-1b25-4757-9de5-f1f757015b97",
    "outputId": "bfeae264-ac76-429a-c2b2-ffec86b700d7"
   },
   "outputs": [
    {
     "data": {
      "text/plain": [
       "{25: 'Ajay', 30: 'Ajay'}"
      ]
     },
     "execution_count": 13,
     "metadata": {},
     "output_type": "execute_result"
    }
   ],
   "source": [
    "d9={25:'Ajay',30:'Ajay'}\n",
    "d9"
   ]
  },
  {
   "cell_type": "markdown",
   "id": "a64c5392-8724-493f-96bf-bd07fa4e1df7",
   "metadata": {
    "id": "a64c5392-8724-493f-96bf-bd07fa4e1df7"
   },
   "source": [
    "- **keys are important**\n",
    "\n",
    "- Keys have only latest value\n",
    "\n",
    "- No duplicate keys\n",
    "\n",
    "- Keys should be only one\n",
    "\n",
    "- Values can be duplicate\n",
    "\n",
    "- which means different keys can have same value\n",
    "\n",
    "- List can not be a key, Because lists are mutable\n",
    "\n",
    "- tuple can be a key, Because tuple are immutable"
   ]
  },
  {
   "cell_type": "code",
   "execution_count": null,
   "id": "a729b458-ae19-41cd-8a17-cefffb011bdc",
   "metadata": {
    "id": "a729b458-ae19-41cd-8a17-cefffb011bdc"
   },
   "outputs": [],
   "source": [
    "d1={'Manish':25,'Shubam':20,'Govindh':15} # 'Shubam'\n",
    "d2={'Manish':'25','Shubam':'20','Govindh':'15'}  # 'Shubam'\n",
    "d3={25:'Manish',20:'Shubam',15:'Govindh'}  # 25\n",
    "d4={'Manish':25,'Shubam':'20','Govindh':15} # 'Shubal'\n",
    "d5={25:'Manish','20':'Shubam',15:'Govindh'} # Error\n",
    "d6={'Manish':20,'Shubam':20,'Govindh':20} # 'Shubam'\n",
    "d7={20:'Manish',20:'Shubam',20:'Govindh'} # 20"
   ]
  },
  {
   "cell_type": "code",
   "execution_count": 14,
   "id": "577ab2cf-a458-49ae-809f-6551db7afc5b",
   "metadata": {
    "id": "577ab2cf-a458-49ae-809f-6551db7afc5b",
    "outputId": "d02a9fd8-3ee3-49d8-c0b8-ec6331e1b091"
   },
   "outputs": [
    {
     "data": {
      "text/plain": [
       "'Shubam'"
      ]
     },
     "execution_count": 14,
     "metadata": {},
     "output_type": "execute_result"
    }
   ],
   "source": [
    "d1={'Manish':25,'Shubam':20,'Govindh':15}\n",
    "max(d1)\n",
    "\n",
    "# Operations apply on keys\n",
    "# Keys are important"
   ]
  },
  {
   "cell_type": "code",
   "execution_count": 15,
   "id": "0c772002-f4f7-4ff2-9f8a-53a1c9d1e33b",
   "metadata": {
    "id": "0c772002-f4f7-4ff2-9f8a-53a1c9d1e33b",
    "outputId": "8fce74c0-7f73-4981-a347-4822bca43f3b"
   },
   "outputs": [
    {
     "data": {
      "text/plain": [
       "'Shubam'"
      ]
     },
     "execution_count": 15,
     "metadata": {},
     "output_type": "execute_result"
    }
   ],
   "source": [
    "d2={'Manish':'25','Shubam':'20','Govindh':'15'}\n",
    "max(d2)"
   ]
  },
  {
   "cell_type": "code",
   "execution_count": 16,
   "id": "9c3437e7-422a-4794-a3a9-913c50628ed2",
   "metadata": {
    "id": "9c3437e7-422a-4794-a3a9-913c50628ed2",
    "outputId": "c23a0513-bdaf-4e24-e8e0-1600c293df95"
   },
   "outputs": [
    {
     "data": {
      "text/plain": [
       "25"
      ]
     },
     "execution_count": 16,
     "metadata": {},
     "output_type": "execute_result"
    }
   ],
   "source": [
    "d3={25:'Manish',20:'Shubam',15:'Govindh'}\n",
    "max(d3)"
   ]
  },
  {
   "cell_type": "code",
   "execution_count": 17,
   "id": "fef665e8-d680-4ffd-a939-7cd3814615dd",
   "metadata": {
    "id": "fef665e8-d680-4ffd-a939-7cd3814615dd",
    "outputId": "c6981c18-b2cc-471a-dd90-7abfbb70b5e6"
   },
   "outputs": [
    {
     "data": {
      "text/plain": [
       "'Shubam'"
      ]
     },
     "execution_count": 17,
     "metadata": {},
     "output_type": "execute_result"
    }
   ],
   "source": [
    "d4={'Manish':25,'Shubam':'20','Govindh':15}\n",
    "max(d4)"
   ]
  },
  {
   "cell_type": "code",
   "execution_count": 18,
   "id": "8cd9523b-929f-4bae-8fa6-84ff8341bd37",
   "metadata": {
    "id": "8cd9523b-929f-4bae-8fa6-84ff8341bd37",
    "outputId": "ccab0177-745b-421e-f8d1-1897f9e9e467"
   },
   "outputs": [
    {
     "ename": "TypeError",
     "evalue": "'>' not supported between instances of 'int' and 'str'",
     "output_type": "error",
     "traceback": [
      "\u001b[1;31m---------------------------------------------------------------------------\u001b[0m",
      "\u001b[1;31mTypeError\u001b[0m                                 Traceback (most recent call last)",
      "Cell \u001b[1;32mIn[18], line 2\u001b[0m\n\u001b[0;32m      1\u001b[0m l\u001b[38;5;241m=\u001b[39m[\u001b[38;5;124m'\u001b[39m\u001b[38;5;124mA\u001b[39m\u001b[38;5;124m'\u001b[39m,\u001b[38;5;241m2\u001b[39m]\n\u001b[1;32m----> 2\u001b[0m \u001b[38;5;28mmax\u001b[39m(l)\n",
      "\u001b[1;31mTypeError\u001b[0m: '>' not supported between instances of 'int' and 'str'"
     ]
    }
   ],
   "source": [
    "l=['A',2]\n",
    "max(l)"
   ]
  },
  {
   "cell_type": "code",
   "execution_count": 19,
   "id": "b6f76deb-3d6d-48d7-bcf1-679d8503640f",
   "metadata": {
    "id": "b6f76deb-3d6d-48d7-bcf1-679d8503640f",
    "outputId": "4e943916-17ab-4933-9d8e-38440e4ee92d"
   },
   "outputs": [
    {
     "ename": "TypeError",
     "evalue": "'>' not supported between instances of 'str' and 'int'",
     "output_type": "error",
     "traceback": [
      "\u001b[1;31m---------------------------------------------------------------------------\u001b[0m",
      "\u001b[1;31mTypeError\u001b[0m                                 Traceback (most recent call last)",
      "Cell \u001b[1;32mIn[19], line 2\u001b[0m\n\u001b[0;32m      1\u001b[0m d5\u001b[38;5;241m=\u001b[39m{\u001b[38;5;241m25\u001b[39m:\u001b[38;5;124m'\u001b[39m\u001b[38;5;124mManish\u001b[39m\u001b[38;5;124m'\u001b[39m,\u001b[38;5;124m'\u001b[39m\u001b[38;5;124m20\u001b[39m\u001b[38;5;124m'\u001b[39m:\u001b[38;5;124m'\u001b[39m\u001b[38;5;124mShubam\u001b[39m\u001b[38;5;124m'\u001b[39m,\u001b[38;5;241m15\u001b[39m:\u001b[38;5;124m'\u001b[39m\u001b[38;5;124mGovindh\u001b[39m\u001b[38;5;124m'\u001b[39m}\n\u001b[1;32m----> 2\u001b[0m \u001b[38;5;28mmax\u001b[39m(d5)\n",
      "\u001b[1;31mTypeError\u001b[0m: '>' not supported between instances of 'str' and 'int'"
     ]
    }
   ],
   "source": [
    "d5={25:'Manish','20':'Shubam',15:'Govindh'}\n",
    "max(d5)"
   ]
  },
  {
   "cell_type": "code",
   "execution_count": 20,
   "id": "d0c1d6e6-4417-4ad0-9a30-a5e727674444",
   "metadata": {
    "id": "d0c1d6e6-4417-4ad0-9a30-a5e727674444",
    "outputId": "3c3d397b-991a-4b7e-f32f-d7a50d7be8a4"
   },
   "outputs": [
    {
     "data": {
      "text/plain": [
       "20"
      ]
     },
     "execution_count": 20,
     "metadata": {},
     "output_type": "execute_result"
    }
   ],
   "source": [
    "d7={20:'Manish',20:'Shubam',20:'Govindh'}\n",
    "max(d7)"
   ]
  },
  {
   "cell_type": "code",
   "execution_count": 21,
   "id": "f03cb7a1-4641-4f41-a28b-872c7ad01b32",
   "metadata": {
    "id": "f03cb7a1-4641-4f41-a28b-872c7ad01b32",
    "outputId": "2a3ce0af-0a83-4ca3-8315-37aa6a17c4eb"
   },
   "outputs": [
    {
     "data": {
      "text/plain": [
       "{20: 'Govindh'}"
      ]
     },
     "execution_count": 21,
     "metadata": {},
     "output_type": "execute_result"
    }
   ],
   "source": [
    "d7={20:'Manish',20:'Shubam',20:'Govindh'}\n",
    "d7"
   ]
  },
  {
   "cell_type": "code",
   "execution_count": 22,
   "id": "bde92690-16a1-430f-992d-382b14b8cbd1",
   "metadata": {
    "id": "bde92690-16a1-430f-992d-382b14b8cbd1",
    "outputId": "9049fe19-66ed-4e7f-a741-39f60290b453"
   },
   "outputs": [
    {
     "data": {
      "text/plain": [
       "'Shubam'"
      ]
     },
     "execution_count": 22,
     "metadata": {},
     "output_type": "execute_result"
    }
   ],
   "source": [
    "d4={'Manish':25, 'Shubam': '20', 'Govindh':15}\n",
    "max(d4)"
   ]
  },
  {
   "cell_type": "markdown",
   "id": "4fd38107-0b27-4807-9d6c-b7feb038005d",
   "metadata": {
    "id": "4fd38107-0b27-4807-9d6c-b7feb038005d"
   },
   "source": [
    "**reversed**\n",
    "\n",
    "- you might have think dictionary will reverse\n",
    "\n",
    "- when you apply reveresd , then you got to know\n",
    "\n",
    "- only keys will come in reverse"
   ]
  },
  {
   "cell_type": "code",
   "execution_count": 1,
   "id": "79a64b77-5fe7-424f-81a2-5a80c1bc728c",
   "metadata": {
    "id": "79a64b77-5fe7-424f-81a2-5a80c1bc728c",
    "outputId": "8719a4fa-a350-43d9-e7c4-9c558f281f2a"
   },
   "outputs": [
    {
     "data": {
      "text/plain": [
       "['Govindh', 'Shubam', 'Manish']"
      ]
     },
     "execution_count": 1,
     "metadata": {},
     "output_type": "execute_result"
    }
   ],
   "source": [
    "d1={'Manish':25,'Shubam':20,'Govindh':15}\n",
    "list(reversed(d1))"
   ]
  },
  {
   "cell_type": "code",
   "execution_count": 2,
   "id": "cb3ea339-7164-4abf-a658-52f2f58feeaa",
   "metadata": {
    "id": "cb3ea339-7164-4abf-a658-52f2f58feeaa",
    "outputId": "3faadbd3-314c-4605-9c64-cb91dcbb29f8"
   },
   "outputs": [
    {
     "data": {
      "text/plain": [
       "['Govindh', 'Manish', 'Shubam']"
      ]
     },
     "execution_count": 2,
     "metadata": {},
     "output_type": "execute_result"
    }
   ],
   "source": [
    "d1={'Manish':25,'Shubam':20,'Govindh':15}\n",
    "list(sorted(d1))"
   ]
  },
  {
   "cell_type": "code",
   "execution_count": 3,
   "id": "8137360d-d677-45f5-a780-d50f180d03df",
   "metadata": {
    "id": "8137360d-d677-45f5-a780-d50f180d03df",
    "outputId": "b735f3a5-b9e0-499a-866b-7ca69a7ca100"
   },
   "outputs": [
    {
     "data": {
      "text/plain": [
       "['Shubam', 'Manish', 'Govindh']"
      ]
     },
     "execution_count": 3,
     "metadata": {},
     "output_type": "execute_result"
    }
   ],
   "source": [
    "d1={'Manish':25,'Shubam':20,'Govindh':15}\n",
    "list(sorted(d1,reverse=True))"
   ]
  },
  {
   "cell_type": "code",
   "execution_count": 26,
   "id": "b249b5cd-8e1d-4150-8396-e7d0ec5c7766",
   "metadata": {
    "id": "b249b5cd-8e1d-4150-8396-e7d0ec5c7766",
    "outputId": "7e955d9a-4256-4297-8db5-f042ac24e1f7"
   },
   "outputs": [
    {
     "name": "stdout",
     "output_type": "stream",
     "text": [
      "Manish\n",
      "Shubam\n",
      "Govindh\n"
     ]
    }
   ],
   "source": [
    "d1={'Manish':25,'Shubam':20,'Govindh':15}\n",
    "for i in d1:\n",
    "    print(i)\n"
   ]
  },
  {
   "cell_type": "code",
   "execution_count": null,
   "id": "422df1d9-fff6-416f-b377-280c5c68d883",
   "metadata": {
    "id": "422df1d9-fff6-416f-b377-280c5c68d883",
    "outputId": "49f5f17d-6d23-48d8-cbaf-0822500e4041"
   },
   "outputs": [],
   "source": [
    "'Manish' in d1"
   ]
  },
  {
   "cell_type": "markdown",
   "id": "c78b8446-6f3c-491e-b5d7-f5b4f621560c",
   "metadata": {
    "id": "c78b8446-6f3c-491e-b5d7-f5b4f621560c"
   },
   "source": [
    "**Index**"
   ]
  },
  {
   "cell_type": "code",
   "execution_count": null,
   "id": "2c1dabbc-a157-47fa-9f96-cbd0296389ce",
   "metadata": {
    "id": "2c1dabbc-a157-47fa-9f96-cbd0296389ce",
    "outputId": "19dd6859-38c0-4c86-87cd-2269cd6b2ead"
   },
   "outputs": [],
   "source": [
    "d1={'Manish':25,'Shubam':20,'Govindh':15}\n",
    "# If you want retrive the values\n",
    "# Python will never give  'Manish':25\n",
    "d1[0]"
   ]
  },
  {
   "cell_type": "code",
   "execution_count": 4,
   "id": "31ac3fa7-23ba-444a-aa1c-453d1ead140a",
   "metadata": {
    "id": "31ac3fa7-23ba-444a-aa1c-453d1ead140a",
    "outputId": "9cc85355-c695-4b6a-cd36-a35e70fdbab9"
   },
   "outputs": [
    {
     "data": {
      "text/plain": [
       "25"
      ]
     },
     "execution_count": 4,
     "metadata": {},
     "output_type": "execute_result"
    }
   ],
   "source": [
    "d1['Manish']"
   ]
  },
  {
   "cell_type": "code",
   "execution_count": 5,
   "id": "b73a0e8d-4622-4387-8591-fd6a143eb95b",
   "metadata": {
    "id": "b73a0e8d-4622-4387-8591-fd6a143eb95b",
    "outputId": "3eb2cf63-c899-47af-b071-069ad982eaec"
   },
   "outputs": [
    {
     "ename": "NameError",
     "evalue": "name 'i' is not defined",
     "output_type": "error",
     "traceback": [
      "\u001b[1;31m---------------------------------------------------------------------------\u001b[0m",
      "\u001b[1;31mNameError\u001b[0m                                 Traceback (most recent call last)",
      "Cell \u001b[1;32mIn[5], line 9\u001b[0m\n\u001b[0;32m      6\u001b[0m d1[\u001b[38;5;124m'\u001b[39m\u001b[38;5;124mShubam\u001b[39m\u001b[38;5;124m'\u001b[39m]\n\u001b[0;32m      7\u001b[0m d1[\u001b[38;5;124m'\u001b[39m\u001b[38;5;124mGovindh\u001b[39m\u001b[38;5;124m'\u001b[39m]\n\u001b[1;32m----> 9\u001b[0m d1[i]\n",
      "\u001b[1;31mNameError\u001b[0m: name 'i' is not defined"
     ]
    }
   ],
   "source": [
    "d1={'Manish':25,'Shubam':20,'Govindh':15}\n",
    "# Dictionary is a key:value pair\n",
    "# We can not use index number directly\n",
    "# whenever you want to call a value, we will use key\n",
    "d1['Manish']\n",
    "d1['Shubam']\n",
    "d1['Govindh']\n",
    "\n",
    "d1[i]"
   ]
  },
  {
   "cell_type": "code",
   "execution_count": 6,
   "id": "7e18b98f-b5f7-436e-89a3-215e0ec39906",
   "metadata": {
    "id": "7e18b98f-b5f7-436e-89a3-215e0ec39906",
    "outputId": "730c6d2b-0b74-49fa-8681-2f9b051971df"
   },
   "outputs": [
    {
     "name": "stdout",
     "output_type": "stream",
     "text": [
      "Manish has age 25\n",
      "Shubam has age 20\n",
      "Govindh has age 15\n"
     ]
    }
   ],
   "source": [
    "d1={'Manish':25,'Shubam':20,'Govindh':15}\n",
    "for i in d1:\n",
    "    print(f\"{i} has age {d1[i]}\")"
   ]
  },
  {
   "cell_type": "code",
   "execution_count": 7,
   "id": "d2c78414-7776-432a-86a2-9119e4f7eb59",
   "metadata": {
    "id": "d2c78414-7776-432a-86a2-9119e4f7eb59",
    "outputId": "cb9d2810-9522-4fb6-8705-8acb7d9fe806"
   },
   "outputs": [
    {
     "name": "stdout",
     "output_type": "stream",
     "text": [
      "Vignesh has age 20\n",
      "Mohit has age 25\n",
      "Nagesh has age 30\n"
     ]
    }
   ],
   "source": [
    "names=['Vignesh','Mohit','Nagesh']\n",
    "age=[20,25,30]\n",
    "for i,j in zip(names,age):\n",
    "    print(f\"{i} has age {j}\")"
   ]
  },
  {
   "cell_type": "markdown",
   "id": "77e2da5a-ecb5-4808-9cd0-de019dd21512",
   "metadata": {
    "id": "77e2da5a-ecb5-4808-9cd0-de019dd21512"
   },
   "source": [
    "**Dictionary to list**"
   ]
  },
  {
   "cell_type": "code",
   "execution_count": 8,
   "id": "b34cb8a2-7c44-4dcb-880b-f4de57b98b30",
   "metadata": {
    "id": "b34cb8a2-7c44-4dcb-880b-f4de57b98b30",
    "outputId": "bedeae32-f1e9-4eec-cc7e-5f1f9e8a97c6"
   },
   "outputs": [
    {
     "data": {
      "text/plain": [
       "[25, 20, 15]"
      ]
     },
     "execution_count": 8,
     "metadata": {},
     "output_type": "execute_result"
    }
   ],
   "source": [
    "d1={'Manish':25,'Shubam':20,'Govindh':15}\n",
    "keys,values=[],[]\n",
    "for i in d1:\n",
    "    keys.append(i)\n",
    "    values.append(d1[i])\n",
    "values"
   ]
  },
  {
   "cell_type": "code",
   "execution_count": 9,
   "id": "f2276727-5bcc-447a-a585-e4665350b80c",
   "metadata": {
    "id": "f2276727-5bcc-447a-a585-e4665350b80c"
   },
   "outputs": [],
   "source": [
    "keys=[i for i in d1]\n",
    "values=[d1[i] for i in d1]"
   ]
  },
  {
   "cell_type": "markdown",
   "id": "41cb0e39-d1fa-47e9-b76c-a0ac6ab79fa5",
   "metadata": {
    "id": "41cb0e39-d1fa-47e9-b76c-a0ac6ab79fa5"
   },
   "source": [
    "**How to create a empty list**"
   ]
  },
  {
   "cell_type": "code",
   "execution_count": 10,
   "id": "71b79bf3-c09b-425d-abbb-9ed974089a03",
   "metadata": {
    "id": "71b79bf3-c09b-425d-abbb-9ed974089a03",
    "outputId": "36273a7c-a9cb-4ba8-f014-34005a8c3cdb"
   },
   "outputs": [
    {
     "data": {
      "text/plain": [
       "[20]"
      ]
     },
     "execution_count": 10,
     "metadata": {},
     "output_type": "execute_result"
    }
   ],
   "source": [
    "l=[]\n",
    "l.append(20)\n",
    "l"
   ]
  },
  {
   "cell_type": "markdown",
   "id": "1447ee87-21df-4947-9c72-46059556d5d9",
   "metadata": {
    "id": "1447ee87-21df-4947-9c72-46059556d5d9"
   },
   "source": [
    "**empty string**"
   ]
  },
  {
   "cell_type": "code",
   "execution_count": 11,
   "id": "75705a3a-c180-4d6a-91d4-139c2afd622f",
   "metadata": {
    "id": "75705a3a-c180-4d6a-91d4-139c2afd622f",
    "outputId": "8c472fcd-31fe-4c25-9e20-6e55dcc7e4a2"
   },
   "outputs": [
    {
     "data": {
      "text/plain": [
       "'a'"
      ]
     },
     "execution_count": 11,
     "metadata": {},
     "output_type": "execute_result"
    }
   ],
   "source": [
    "s=''\n",
    "s=s+'a'\n",
    "s"
   ]
  },
  {
   "cell_type": "markdown",
   "id": "fc9d3888-d994-4dd5-b0fd-46b2482967c2",
   "metadata": {
    "id": "fc9d3888-d994-4dd5-b0fd-46b2482967c2"
   },
   "source": [
    "**empty dictionary**"
   ]
  },
  {
   "cell_type": "code",
   "execution_count": 12,
   "id": "6956b49b-b7a8-4b92-8880-dd46d9830d30",
   "metadata": {
    "id": "6956b49b-b7a8-4b92-8880-dd46d9830d30"
   },
   "outputs": [
    {
     "ename": "SyntaxError",
     "evalue": "invalid syntax (2448235941.py, line 2)",
     "output_type": "error",
     "traceback": [
      "\u001b[1;36m  Cell \u001b[1;32mIn[12], line 2\u001b[1;36m\u001b[0m\n\u001b[1;33m    d[<key>]=<value>\u001b[0m\n\u001b[1;37m      ^\u001b[0m\n\u001b[1;31mSyntaxError\u001b[0m\u001b[1;31m:\u001b[0m invalid syntax\n"
     ]
    }
   ],
   "source": [
    "d={}\n",
    "d[<key>]=<value>"
   ]
  },
  {
   "cell_type": "code",
   "execution_count": null,
   "id": "7ab8ea82-dc66-4d3f-afbd-9ae55befc8a6",
   "metadata": {
    "id": "7ab8ea82-dc66-4d3f-afbd-9ae55befc8a6",
    "outputId": "6aa3ad2c-38cc-483b-b9d0-194a1636d96e"
   },
   "outputs": [],
   "source": [
    "d={}\n",
    "d['Vignesh']=20\n",
    "d['Mohit']=25\n",
    "d['Nagesh']=30\n",
    "#d[i]=j"
   ]
  },
  {
   "cell_type": "code",
   "execution_count": 13,
   "id": "ef308d8e-29ce-4355-8eb8-18cb5e22a3b5",
   "metadata": {
    "id": "ef308d8e-29ce-4355-8eb8-18cb5e22a3b5",
    "outputId": "ea71c857-2d85-4b44-cec0-04f85557d472"
   },
   "outputs": [
    {
     "data": {
      "text/plain": [
       "{'Vignesh': 20, 'Mohit': 25, 'Nagesh': 30}"
      ]
     },
     "execution_count": 13,
     "metadata": {},
     "output_type": "execute_result"
    }
   ],
   "source": [
    "names=['Vignesh','Mohit','Nagesh']\n",
    "age=[20,25,30]\n",
    "NAMES={}\n",
    "for i,j in zip(names,age):\n",
    "    NAMES[i]=j\n",
    "NAMES"
   ]
  },
  {
   "cell_type": "markdown",
   "id": "c3763309-8b60-454a-bf12-8d1cf89c4746",
   "metadata": {
    "id": "c3763309-8b60-454a-bf12-8d1cf89c4746"
   },
   "source": [
    "**string to list**"
   ]
  },
  {
   "cell_type": "code",
   "execution_count": 14,
   "id": "4c42c74f-dc00-4973-8fce-187cdc6f845a",
   "metadata": {
    "id": "4c42c74f-dc00-4973-8fce-187cdc6f845a",
    "outputId": "2e49fa90-8e33-49b4-fd73-907f9ab61b64"
   },
   "outputs": [
    {
     "data": {
      "text/plain": [
       "['hello', 'hai', 'hai', 'how', 'how', 'are', 'you']"
      ]
     },
     "execution_count": 14,
     "metadata": {},
     "output_type": "execute_result"
    }
   ],
   "source": [
    "s='hello hai hai how how are you'\n",
    "s.split()"
   ]
  },
  {
   "cell_type": "markdown",
   "id": "54bde46a-1880-4928-815f-0106e3d12201",
   "metadata": {
    "id": "54bde46a-1880-4928-815f-0106e3d12201"
   },
   "source": [
    "**Word frequency**"
   ]
  },
  {
   "cell_type": "code",
   "execution_count": 15,
   "id": "39fb35a1-3133-4516-99be-2ff5b370347d",
   "metadata": {
    "id": "39fb35a1-3133-4516-99be-2ff5b370347d",
    "outputId": "4853875b-d5b1-425d-8de6-72ecb1ddfdc0"
   },
   "outputs": [
    {
     "data": {
      "text/plain": [
       "{'hello': 1, 'hai': 2, 'how': 2, 'are': 1, 'you': 1}"
      ]
     },
     "execution_count": 15,
     "metadata": {},
     "output_type": "execute_result"
    }
   ],
   "source": [
    "# i/p: s='hello hai hai how how are you'\n",
    "#o/p:{'hello':1,'hai':2,'how':2,'are':1,'you':2}\n",
    "# idea\n",
    "# step-1: split the string: List of words\n",
    "# step-2: Iterate using the list\n",
    "#         each word will come apply the count\n",
    "#         word key, count become value\n",
    "#step-3: Make a dictionary\n",
    "\n",
    "s='hello hai hai how how are you'\n",
    "words_list=s.split()\n",
    "words_list\n",
    "dict1={}\n",
    "for word in words_list:\n",
    "    dict1[word]=s.count(word)\n",
    "dict1"
   ]
  },
  {
   "cell_type": "code",
   "execution_count": 16,
   "id": "cbfe1808-cd03-4067-a2cf-e08ae8918427",
   "metadata": {
    "id": "cbfe1808-cd03-4067-a2cf-e08ae8918427"
   },
   "outputs": [
    {
     "data": {
      "text/plain": [
       "{'Data': 68, 'science': 115}"
      ]
     },
     "execution_count": 16,
     "metadata": {},
     "output_type": "execute_result"
    }
   ],
   "source": [
    "string1=\"\"\"Data science is an interdisciplinary academic field that uses statistics,\n",
    "          scientific computing, scientific methods, processes, scientific visualization,\n",
    "          algorithms and systems to extract or extrapolate knowledge and insights from potentially noisy, structured, or unstructured data.\n",
    "         Data science also integrates domain knowledge from the underlying applicatin.Data science is multifaceted and can be described as a science,\n",
    "         a research paradigm, a research method, a discipline, a workflow, and a profession.\"\"\"\n",
    "\n",
    "#task -1: in the above sentence you need to remove a,an,is,the\n",
    "# task-2: Data first letter Ascii value: 68\n",
    "#         scince first letter Ascii value : 115\n",
    "\n",
    "{'Data':68,'science':115}"
   ]
  },
  {
   "cell_type": "markdown",
   "id": "bfbd53cb-f9e5-44f4-a247-18764556a4c3",
   "metadata": {
    "id": "bfbd53cb-f9e5-44f4-a247-18764556a4c3"
   },
   "source": [
    "**Mutable-immutable**\n",
    "\n",
    "- Change the elements using index\n",
    "\n",
    "- But In dictionary there is no index\n",
    "\n",
    "- In dictionary we wil change the value based on key only\n",
    "\n",
    "- instead of using the index, change the values using key\n",
    "\n",
    "- if it is change it is Mutable\n",
    "\n",
    "- if it is not change it is Immutable"
   ]
  },
  {
   "cell_type": "code",
   "execution_count": null,
   "id": "c3987c39-e4fe-47a1-9151-b7799f9ed268",
   "metadata": {
    "id": "c3987c39-e4fe-47a1-9151-b7799f9ed268",
    "outputId": "df9bf369-618c-40fa-d211-12ddeb1f538e"
   },
   "outputs": [],
   "source": [
    "d={'Vignesh': 20, 'Mohit': 25, 'Nagesh': 30}\n",
    "d['Nagesh']=22\n",
    "d"
   ]
  },
  {
   "cell_type": "markdown",
   "id": "5b2d31fb-a1f7-47f7-9210-366d71aebe78",
   "metadata": {
    "id": "5b2d31fb-a1f7-47f7-9210-366d71aebe78"
   },
   "source": [
    "- List and Dictionary are mutable\n",
    "\n",
    "- tuple and strings are immutable\n",
    "\n",
    "- Difference between list and Tuple"
   ]
  },
  {
   "cell_type": "code",
   "execution_count": 17,
   "id": "183e3277-fb7b-4301-86fb-3d7176144540",
   "metadata": {
    "id": "183e3277-fb7b-4301-86fb-3d7176144540",
    "outputId": "9861de8c-2f0d-4bd2-c33a-65cb36a5c198"
   },
   "outputs": [
    {
     "data": {
      "text/plain": [
       "'Mango'"
      ]
     },
     "execution_count": 17,
     "metadata": {},
     "output_type": "execute_result"
    }
   ],
   "source": [
    "d={'Fruites':['Mango']}\n",
    "d['Fruites'][0]"
   ]
  },
  {
   "cell_type": "code",
   "execution_count": 18,
   "id": "6bbff7a4-486e-4e13-a0a0-d895419a4d3f",
   "metadata": {
    "id": "6bbff7a4-486e-4e13-a0a0-d895419a4d3f",
    "outputId": "d4cbd902-a150-4dfd-e6f8-01875ae21532"
   },
   "outputs": [
    {
     "data": {
      "text/plain": [
       "{'Fruites': [{'Apple': ['Kashmir']}]}"
      ]
     },
     "execution_count": 18,
     "metadata": {},
     "output_type": "execute_result"
    }
   ],
   "source": [
    "d={'Fruites':[{'Apple':['Kashmir']}]}\n",
    "d"
   ]
  },
  {
   "cell_type": "code",
   "execution_count": 19,
   "id": "a4814b95-9a3c-43b6-be27-a61238af23fa",
   "metadata": {
    "id": "a4814b95-9a3c-43b6-be27-a61238af23fa",
    "outputId": "0b66ac19-5436-4cf5-b088-30a4335fd0d8"
   },
   "outputs": [
    {
     "data": {
      "text/plain": [
       "'Kashmir'"
      ]
     },
     "execution_count": 19,
     "metadata": {},
     "output_type": "execute_result"
    }
   ],
   "source": [
    "d['Fruites'][0]['Apple'][0]"
   ]
  },
  {
   "cell_type": "code",
   "execution_count": 20,
   "id": "83eca5a8-1373-4418-803a-dd01e893327c",
   "metadata": {
    "id": "83eca5a8-1373-4418-803a-dd01e893327c",
    "outputId": "06f5c08c-b456-4a80-caf3-52ecea6b3abb"
   },
   "outputs": [
    {
     "data": {
      "text/plain": [
       "{'Fruites': [{'Apple': {'Kashmir': ['India']}}]}"
      ]
     },
     "execution_count": 20,
     "metadata": {},
     "output_type": "execute_result"
    }
   ],
   "source": [
    "d={'Fruites':[\n",
    "    {'Apple':\n",
    "     {'Kashmir':\n",
    "      ['India']\n",
    "     }\n",
    "    }\n",
    "     ]\n",
    "  }\n",
    "d"
   ]
  },
  {
   "cell_type": "code",
   "execution_count": 21,
   "id": "01c3629c-9a94-41a9-baf2-5bc15c86080b",
   "metadata": {
    "id": "01c3629c-9a94-41a9-baf2-5bc15c86080b",
    "outputId": "7f2d6195-6b03-435b-a403-069d53974d84"
   },
   "outputs": [
    {
     "data": {
      "text/plain": [
       "'India'"
      ]
     },
     "execution_count": 21,
     "metadata": {},
     "output_type": "execute_result"
    }
   ],
   "source": [
    "d['Fruites'][0]['Apple']['Kashmir'][0]"
   ]
  },
  {
   "cell_type": "code",
   "execution_count": 22,
   "id": "a160a856-2d04-4bef-82fd-a0ff77a835ea",
   "metadata": {
    "id": "a160a856-2d04-4bef-82fd-a0ff77a835ea",
    "outputId": "7a3a40ff-86c3-4087-98ab-f53e9607c5cd"
   },
   "outputs": [
    {
     "data": {
      "text/plain": [
       "{'Fruites': {'Benganapalli': {'Mango': {'Nagpur': {'MH': {'Shivaji': {'Shambaji'}}}}}}}"
      ]
     },
     "execution_count": 22,
     "metadata": {},
     "output_type": "execute_result"
    }
   ],
   "source": [
    "d={'Fruites':{'Benganapalli':{'Mango':{'Nagpur':{'MH':{'Shivaji':{'Shambaji'}}}}}}}\n",
    "d"
   ]
  },
  {
   "cell_type": "code",
   "execution_count": 23,
   "id": "03d48ff2-1dbf-42fe-b6d7-2161cd05a140",
   "metadata": {
    "id": "03d48ff2-1dbf-42fe-b6d7-2161cd05a140",
    "outputId": "85efdcf7-7537-41e4-8f22-dc671389ba41"
   },
   "outputs": [
    {
     "data": {
      "text/plain": [
       "{'Shambaji'}"
      ]
     },
     "execution_count": 23,
     "metadata": {},
     "output_type": "execute_result"
    }
   ],
   "source": [
    "d['Fruites']['Benganapalli']['Mango']['Nagpur']['MH']['Shivaji']"
   ]
  },
  {
   "cell_type": "markdown",
   "id": "7a0a4b84-7f98-4303-a6a5-4a0801e5d643",
   "metadata": {
    "id": "2215c71a-9dba-4be0-9619-804208de8d63"
   },
   "source": [
    "**Dictionary Methods**"
   ]
  },
  {
   "cell_type": "code",
   "execution_count": 1,
   "id": "f9a16330-2c99-4d6d-acab-02c6f0b9e605",
   "metadata": {},
   "outputs": [
    {
     "data": {
      "text/plain": [
       "['__class__',\n",
       " '__class_getitem__',\n",
       " '__contains__',\n",
       " '__delattr__',\n",
       " '__delitem__',\n",
       " '__dir__',\n",
       " '__doc__',\n",
       " '__eq__',\n",
       " '__format__',\n",
       " '__ge__',\n",
       " '__getattribute__',\n",
       " '__getitem__',\n",
       " '__getstate__',\n",
       " '__gt__',\n",
       " '__hash__',\n",
       " '__init__',\n",
       " '__init_subclass__',\n",
       " '__ior__',\n",
       " '__iter__',\n",
       " '__le__',\n",
       " '__len__',\n",
       " '__lt__',\n",
       " '__ne__',\n",
       " '__new__',\n",
       " '__or__',\n",
       " '__reduce__',\n",
       " '__reduce_ex__',\n",
       " '__repr__',\n",
       " '__reversed__',\n",
       " '__ror__',\n",
       " '__setattr__',\n",
       " '__setitem__',\n",
       " '__sizeof__',\n",
       " '__str__',\n",
       " '__subclasshook__',\n",
       " 'clear',\n",
       " 'copy',\n",
       " 'fromkeys',\n",
       " 'get',\n",
       " 'items',\n",
       " 'keys',\n",
       " 'pop',\n",
       " 'popitem',\n",
       " 'setdefault',\n",
       " 'update',\n",
       " 'values']"
      ]
     },
     "execution_count": 1,
     "metadata": {},
     "output_type": "execute_result"
    }
   ],
   "source": [
    "dir('') # string methods\n",
    "dir([]) # list methods\n",
    "dir(()) # tuple methods\n",
    "dir({}) # Dictionary methods"
   ]
  },
  {
   "cell_type": "code",
   "execution_count": 2,
   "id": "48b170ee-889b-4220-a9ff-cf390b52c3be",
   "metadata": {},
   "outputs": [
    {
     "data": {
      "text/plain": [
       "{'Vignesh': 20, 'Mohit': 25, 'Nagesh': 30}"
      ]
     },
     "execution_count": 2,
     "metadata": {},
     "output_type": "execute_result"
    }
   ],
   "source": [
    "d={'Vignesh': 20, 'Mohit': 25, 'Nagesh': 30}\n",
    "d"
   ]
  },
  {
   "cell_type": "code",
   "execution_count": 3,
   "id": "e5e3a8b4-8f95-4c7b-9583-efb3678c1db1",
   "metadata": {},
   "outputs": [],
   "source": [
    "#<package>.<methodname>"
   ]
  },
  {
   "cell_type": "code",
   "execution_count": 4,
   "id": "eb7b930a-9e34-46a0-9c5e-d3330864ca13",
   "metadata": {},
   "outputs": [
    {
     "data": {
      "text/plain": [
       "dict_items([('Vignesh', 20), ('Mohit', 25), ('Nagesh', 30)])"
      ]
     },
     "execution_count": 4,
     "metadata": {},
     "output_type": "execute_result"
    }
   ],
   "source": [
    "d.items()"
   ]
  },
  {
   "cell_type": "code",
   "execution_count": 5,
   "id": "a0f402d8-b595-411c-85c2-ff670a3a2de4",
   "metadata": {},
   "outputs": [
    {
     "data": {
      "text/plain": [
       "dict_keys(['Vignesh', 'Mohit', 'Nagesh'])"
      ]
     },
     "execution_count": 5,
     "metadata": {},
     "output_type": "execute_result"
    }
   ],
   "source": [
    "d.keys()"
   ]
  },
  {
   "cell_type": "code",
   "execution_count": 6,
   "id": "7c7de220-4ded-48c6-a36b-6380767c3779",
   "metadata": {},
   "outputs": [
    {
     "data": {
      "text/plain": [
       "dict_values([20, 25, 30])"
      ]
     },
     "execution_count": 6,
     "metadata": {},
     "output_type": "execute_result"
    }
   ],
   "source": [
    "d.values()"
   ]
  },
  {
   "cell_type": "code",
   "execution_count": 8,
   "id": "18924f5e-0f54-4562-8609-b1688ac3e9f1",
   "metadata": {},
   "outputs": [
    {
     "name": "stdout",
     "output_type": "stream",
     "text": [
      "Vignesh 20\n",
      "Mohit 25\n",
      "Nagesh 30\n"
     ]
    },
    {
     "data": {
      "text/plain": [
       "(['Vignesh', 'Mohit', 'Nagesh'], [20, 25, 30])"
      ]
     },
     "execution_count": 8,
     "metadata": {},
     "output_type": "execute_result"
    }
   ],
   "source": [
    "# We already learn how to make a list from dictionary\n",
    "d={'Vignesh': 20, 'Mohit': 25, 'Nagesh': 30}\n",
    "keys,values=[],[]\n",
    "for i in d:\n",
    "    print(i,d[i])\n",
    "    keys.append(i)\n",
    "    values.append(d[i])\n",
    "keys,values"
   ]
  },
  {
   "cell_type": "code",
   "execution_count": 9,
   "id": "4775cb63-c47e-4e57-bdb3-1aeef14391e3",
   "metadata": {},
   "outputs": [
    {
     "data": {
      "text/plain": [
       "dict_keys(['Vignesh', 'Mohit', 'Nagesh'])"
      ]
     },
     "execution_count": 9,
     "metadata": {},
     "output_type": "execute_result"
    }
   ],
   "source": [
    "d.keys()"
   ]
  },
  {
   "cell_type": "code",
   "execution_count": 10,
   "id": "54995424-e79d-43b3-bd39-a0bb7279d4b9",
   "metadata": {},
   "outputs": [
    {
     "data": {
      "text/plain": [
       "dict_keys"
      ]
     },
     "execution_count": 10,
     "metadata": {},
     "output_type": "execute_result"
    }
   ],
   "source": [
    "type(d.keys())"
   ]
  },
  {
   "cell_type": "code",
   "execution_count": 11,
   "id": "73bad2e9-c655-4276-9364-803136c54571",
   "metadata": {},
   "outputs": [
    {
     "data": {
      "text/plain": [
       "(['Vignesh', 'Mohit', 'Nagesh'], [20, 25, 30])"
      ]
     },
     "execution_count": 11,
     "metadata": {},
     "output_type": "execute_result"
    }
   ],
   "source": [
    "d={'Vignesh': 20, 'Mohit': 25, 'Nagesh': 30}\n",
    "list(d.keys()),list(d.values())"
   ]
  },
  {
   "cell_type": "code",
   "execution_count": 12,
   "id": "b7bc22b2-d992-4ec6-bbfd-9cb29d1a0fda",
   "metadata": {},
   "outputs": [
    {
     "ename": "AttributeError",
     "evalue": "'dict_keys' object has no attribute 'append'",
     "output_type": "error",
     "traceback": [
      "\u001b[1;31m---------------------------------------------------------------------------\u001b[0m",
      "\u001b[1;31mAttributeError\u001b[0m                            Traceback (most recent call last)",
      "Cell \u001b[1;32mIn[12], line 1\u001b[0m\n\u001b[1;32m----> 1\u001b[0m d\u001b[38;5;241m.\u001b[39mkeys()\u001b[38;5;241m.\u001b[39mappend(\u001b[38;5;241m20\u001b[39m)\n",
      "\u001b[1;31mAttributeError\u001b[0m: 'dict_keys' object has no attribute 'append'"
     ]
    }
   ],
   "source": [
    "d.keys().append(20)"
   ]
  },
  {
   "cell_type": "markdown",
   "id": "83334e41-8b3e-4535-a116-027804bb4bc0",
   "metadata": {},
   "source": [
    "- Dictionary keys will give dictionary keys items in a list\n",
    "- It looks like a list , but it is not a list\n",
    "- Whcih means we can not apply list methods\n",
    "- So we need to convert into list type, by using list type casting"
   ]
  },
  {
   "cell_type": "code",
   "execution_count": 13,
   "id": "e84cbc3a-1e9d-49d8-95d4-abd35784eb2d",
   "metadata": {},
   "outputs": [
    {
     "data": {
      "text/plain": [
       "['__add__',\n",
       " '__args__',\n",
       " '__class__',\n",
       " '__class_getitem__',\n",
       " '__contains__',\n",
       " '__copy__',\n",
       " '__deepcopy__',\n",
       " '__delattr__',\n",
       " '__delitem__',\n",
       " '__dir__',\n",
       " '__doc__',\n",
       " '__eq__',\n",
       " '__format__',\n",
       " '__ge__',\n",
       " '__getattribute__',\n",
       " '__getitem__',\n",
       " '__getstate__',\n",
       " '__gt__',\n",
       " '__hash__',\n",
       " '__iadd__',\n",
       " '__imul__',\n",
       " '__init__',\n",
       " '__init_subclass__',\n",
       " '__iter__',\n",
       " '__le__',\n",
       " '__len__',\n",
       " '__lt__',\n",
       " '__mro_entries__',\n",
       " '__mul__',\n",
       " '__ne__',\n",
       " '__new__',\n",
       " '__origin__',\n",
       " '__parameters__',\n",
       " '__reduce__',\n",
       " '__reduce_ex__',\n",
       " '__repr__',\n",
       " '__reversed__',\n",
       " '__rmul__',\n",
       " '__setattr__',\n",
       " '__setitem__',\n",
       " '__sizeof__',\n",
       " '__str__',\n",
       " '__subclasshook__',\n",
       " '__typing_unpacked_tuple_args__',\n",
       " '__unpacked__',\n",
       " 'append',\n",
       " 'clear',\n",
       " 'copy',\n",
       " 'count',\n",
       " 'extend',\n",
       " 'index',\n",
       " 'insert',\n",
       " 'pop',\n",
       " 'remove',\n",
       " 'reverse',\n",
       " 'sort']"
      ]
     },
     "execution_count": 13,
     "metadata": {},
     "output_type": "execute_result"
    }
   ],
   "source": [
    "dir(list[d.keys()])"
   ]
  },
  {
   "cell_type": "code",
   "execution_count": null,
   "id": "436a6420-ea7e-4d0e-872f-b63d14d9d2f7",
   "metadata": {},
   "outputs": [],
   "source": []
  }
 ],
 "metadata": {
  "colab": {
   "provenance": []
  },
  "kernelspec": {
   "display_name": "Python 3 (ipykernel)",
   "language": "python",
   "name": "python3"
  },
  "language_info": {
   "codemirror_mode": {
    "name": "ipython",
    "version": 3
   },
   "file_extension": ".py",
   "mimetype": "text/x-python",
   "name": "python",
   "nbconvert_exporter": "python",
   "pygments_lexer": "ipython3",
   "version": "3.11.7"
  }
 },
 "nbformat": 4,
 "nbformat_minor": 5
}
