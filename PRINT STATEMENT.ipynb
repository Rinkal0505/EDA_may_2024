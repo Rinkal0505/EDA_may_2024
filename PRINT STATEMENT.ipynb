{
 "cells": [
  {
   "cell_type": "code",
   "execution_count": 1,
   "id": "c8a31528-3d7f-4117-9245-bff906e170e9",
   "metadata": {},
   "outputs": [
    {
     "name": "stdout",
     "output_type": "stream",
     "text": [
      "10\n"
     ]
    }
   ],
   "source": [
    "print(10)"
   ]
  },
  {
   "cell_type": "code",
   "execution_count": 2,
   "id": "d1c78605-7e37-4d43-a18c-3f3327ae250b",
   "metadata": {},
   "outputs": [
    {
     "name": "stdout",
     "output_type": "stream",
     "text": [
      "python\n"
     ]
    }
   ],
   "source": [
    "print('python')"
   ]
  },
  {
   "cell_type": "code",
   "execution_count": 3,
   "id": "4cc90e33-4b06-4833-8309-9096d65ffc55",
   "metadata": {},
   "outputs": [
    {
     "name": "stdout",
     "output_type": "stream",
     "text": [
      "10 20 30\n"
     ]
    }
   ],
   "source": [
    "print(10,20,30)"
   ]
  },
  {
   "cell_type": "code",
   "execution_count": 4,
   "id": "d8a25755-e98e-4c43-b389-43d84cc674a6",
   "metadata": {},
   "outputs": [
    {
     "name": "stdout",
     "output_type": "stream",
     "text": [
      "10 10.5 NareshIT True\n"
     ]
    }
   ],
   "source": [
    "print(10,10.5,'NareshIT',True)"
   ]
  },
  {
   "cell_type": "code",
   "execution_count": 5,
   "id": "62f4e49c-b045-4587-be56-2e1ff47aa1f2",
   "metadata": {},
   "outputs": [
    {
     "name": "stdout",
     "output_type": "stream",
     "text": [
      "10 20\n"
     ]
    }
   ],
   "source": [
    "n1=10\n",
    "n2=20\n",
    "print(n1,n2)"
   ]
  },
  {
   "cell_type": "code",
   "execution_count": 6,
   "id": "2eff27be-41c0-4b17-9223-7782ad6e66aa",
   "metadata": {},
   "outputs": [
    {
     "name": "stdout",
     "output_type": "stream",
     "text": [
      "10 23 30\n",
      "50\n",
      "78\n"
     ]
    }
   ],
   "source": [
    "print(10,23,30)\n",
    "print(50)\n",
    "print(78)"
   ]
  },
  {
   "cell_type": "code",
   "execution_count": 7,
   "id": "9dd343f2-7fa8-48ea-b455-d363101591cf",
   "metadata": {},
   "outputs": [
    {
     "data": {
      "text/plain": [
       "10"
      ]
     },
     "execution_count": 7,
     "metadata": {},
     "output_type": "execute_result"
    }
   ],
   "source": [
    "n1=10\n",
    "n1"
   ]
  },
  {
   "cell_type": "code",
   "execution_count": 12,
   "id": "ba592436-7982-457d-94f3-d361ae0aa9ef",
   "metadata": {},
   "outputs": [
    {
     "name": "stdout",
     "output_type": "stream",
     "text": [
      "The addition of 10 and 98 is 108\n"
     ]
    }
   ],
   "source": [
    "a=10\n",
    "b=98\n",
    "c=a+b\n",
    "c\n",
    "print(\"The addition of\", a , \"and\" ,b, \"is\" ,c)"
   ]
  },
  {
   "cell_type": "markdown",
   "id": "85316c9a-ed6e-4d88-9170-1d406dfb89f2",
   "metadata": {},
   "source": [
    "## FORMAT METHOD"
   ]
  },
  {
   "cell_type": "code",
   "execution_count": 14,
   "id": "72aeeeaa-4d00-4973-870c-2cc081d427b2",
   "metadata": {},
   "outputs": [
    {
     "name": "stdout",
     "output_type": "stream",
     "text": [
      "The addition of 10 and 98 is 108\n"
     ]
    }
   ],
   "source": [
    "a=10\n",
    "b=98\n",
    "c=a+b\n",
    "print(\"The addition of {} and {} is {}\".format(a,b,c))"
   ]
  },
  {
   "cell_type": "code",
   "execution_count": null,
   "id": "2ab5deeb-d419-4717-a22c-f2cfc3b526cd",
   "metadata": {},
   "outputs": [],
   "source": [
    "# read your name\n",
    "# read your age\n",
    "# read your city\n",
    "# My name is Rinkal,I am 22 years old Im from Hyderabad"
   ]
  },
  {
   "cell_type": "code",
   "execution_count": 15,
   "id": "1fa38a47-2db1-41b8-8ed7-873923f9924a",
   "metadata": {},
   "outputs": [
    {
     "name": "stdout",
     "output_type": "stream",
     "text": [
      "My name is Rinkal, I am 22 years old Im from Hyderabad\n"
     ]
    }
   ],
   "source": [
    "name='Rinkal'\n",
    "age=22\n",
    "city='Hyderabad'\n",
    "print(\"My name is {}, I am {} years old Im from {}\".format(name,age,city))"
   ]
  },
  {
   "cell_type": "code",
   "execution_count": 18,
   "id": "c3c8bd2e-4709-4cf7-9885-b3a731aeccae",
   "metadata": {},
   "outputs": [
    {
     "name": "stdout",
     "output_type": "stream",
     "text": [
      "The emp name is Rinkal,she is a Manager in the Tata company\n"
     ]
    }
   ],
   "source": [
    "emp_name ='Rinkal'\n",
    "emp_role='Manager'\n",
    "company='Tata'\n",
    "print(\"The emp name is {},she is a {} in the {} company\".format(emp_name,emp_role,company))"
   ]
  },
  {
   "cell_type": "markdown",
   "id": "56c077cf-7a93-4d90-beb7-dcaa3105b6e1",
   "metadata": {},
   "source": [
    "## F string method"
   ]
  },
  {
   "cell_type": "code",
   "execution_count": 20,
   "id": "a0271b52-2443-4375-9474-8b4613fd1af4",
   "metadata": {},
   "outputs": [
    {
     "name": "stdout",
     "output_type": "stream",
     "text": [
      "The addition of 10 and 98 is 108\n"
     ]
    }
   ],
   "source": [
    "a=10\n",
    "b=98\n",
    "c=a+b\n",
    "print(f\"The addition of {a} and {b} is {c}\")"
   ]
  },
  {
   "cell_type": "code",
   "execution_count": 23,
   "id": "f2b374d9-0437-48be-a233-4401647c463b",
   "metadata": {},
   "outputs": [
    {
     "name": "stdout",
     "output_type": "stream",
     "text": [
      "My name is Rinkal, I am 22 years old Im from Hyderabad\n"
     ]
    }
   ],
   "source": [
    "name='Rinkal'\n",
    "age=22\n",
    "city='Hyderabad'\n",
    "print(f\"My name is {'Rinkal'}, I am {22} years old Im from {'Hyderabad'}\")"
   ]
  },
  {
   "cell_type": "code",
   "execution_count": 24,
   "id": "55aa1b55-e595-43e7-9b85-3e30059542dc",
   "metadata": {},
   "outputs": [
    {
     "name": "stdout",
     "output_type": "stream",
     "text": [
      "The emp name is Rinkal,she is a manager in the Tata company\n"
     ]
    }
   ],
   "source": [
    "emp_name ='Rinkal'\n",
    "emp_role='Manager'\n",
    "company='Tata'\n",
    "print(f\"The emp name is {'Rinkal'},she is a {'manager'} in the {'Tata'} company\")"
   ]
  },
  {
   "cell_type": "code",
   "execution_count": null,
   "id": "c0b4db12-6135-4b05-9625-8ac8b5db16d9",
   "metadata": {},
   "outputs": [],
   "source": []
  }
 ],
 "metadata": {
  "kernelspec": {
   "display_name": "Python 3 (ipykernel)",
   "language": "python",
   "name": "python3"
  },
  "language_info": {
   "codemirror_mode": {
    "name": "ipython",
    "version": 3
   },
   "file_extension": ".py",
   "mimetype": "text/x-python",
   "name": "python",
   "nbconvert_exporter": "python",
   "pygments_lexer": "ipython3",
   "version": "3.11.7"
  }
 },
 "nbformat": 4,
 "nbformat_minor": 5
}
